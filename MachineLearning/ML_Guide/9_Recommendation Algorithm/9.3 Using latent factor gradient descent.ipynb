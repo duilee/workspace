{
 "cells": [
  {
   "cell_type": "markdown",
   "metadata": {},
   "source": [
    "### Matrix Decomposition using gradient descent"
   ]
  },
  {
   "cell_type": "code",
   "execution_count": 10,
   "metadata": {},
   "outputs": [
    {
     "name": "stdout",
     "output_type": "stream",
     "text": [
      "P: [[ 0.54144845 -0.2039188  -0.17605725]\n",
      " [-0.35765621  0.28846921 -0.76717957]\n",
      " [ 0.58160392 -0.25373563  0.10634637]\n",
      " [-0.08312346  0.48736931 -0.68671357]]\n",
      "Q: [[-0.1074724  -0.12801812  0.37792315]\n",
      " [-0.36663042 -0.05747607 -0.29261947]\n",
      " [ 0.01407125  0.19427174 -0.36687306]\n",
      " [ 0.38157457  0.30053024  0.16749811]\n",
      " [ 0.30028532 -0.22790929 -0.04096341]]\n"
     ]
    }
   ],
   "source": [
    "# initialize P and Q, which will be R = P * Q.T\n",
    "\n",
    "import numpy as np\n",
    "\n",
    "R = np.array([[4, np.NaN, np.NaN, 2, np.NaN ],\n",
    "              [np.NaN, 5, np.NaN, 3, 1 ],\n",
    "              [np.NaN, np.NaN, 3, 4, 4 ],\n",
    "              [5, 2, 1, 2, np.NaN ]])\n",
    "\n",
    "num_users, num_items = R.shape\n",
    "K=3\n",
    "\n",
    "# initialize P and Q, using normally distributed randomization\n",
    "np.random.seed(1)\n",
    "P = np.random.normal(scale=1./K, size=(num_users, K))\n",
    "Q = np.random.normal(scale=1./K, size=(num_items, K))\n",
    "print(\"P:\", P)\n",
    "print(\"Q:\", Q)"
   ]
  },
  {
   "cell_type": "code",
   "execution_count": 11,
   "metadata": {},
   "outputs": [
    {
     "data": {
      "text/plain": [
       "array([ 0.28846921, -0.25373563,  0.48736931])"
      ]
     },
     "execution_count": 11,
     "metadata": {},
     "output_type": "execute_result"
    }
   ],
   "source": [
    "P[[1,2,3], [1,1,1]]"
   ]
  },
  {
   "cell_type": "code",
   "execution_count": 12,
   "metadata": {},
   "outputs": [
    {
     "data": {
      "text/plain": [
       "-0.7671795656267608"
      ]
     },
     "execution_count": 12,
     "metadata": {},
     "output_type": "execute_result"
    }
   ],
   "source": [
    "P[1,2]"
   ]
  },
  {
   "cell_type": "markdown",
   "metadata": {},
   "source": [
    "### Cost function for R and P*Q.T, comparing only the nonzero values"
   ]
  },
  {
   "cell_type": "code",
   "execution_count": 13,
   "metadata": {},
   "outputs": [],
   "source": [
    "from sklearn.metrics import mean_squared_error\n",
    "\n",
    "def get_rmse(R, P, Q, non_zeros):\n",
    "    error = 0\n",
    "    full_pred_matrix = np.dot(P, Q.T)\n",
    "    \n",
    "    # get nonzero indexes and compute rmse\n",
    "    x_non_zero_ind = [non_zero[0] for non_zero in non_zeros]\n",
    "    y_non_zero_ind = [non_zero[1] for non_zero in non_zeros]\n",
    "    R_non_zeros = R[x_non_zero_ind, y_non_zero_ind]\n",
    "    full_pred_matrix_non_zeros = full_pred_matrix[x_non_zero_ind, y_non_zero_ind]\n",
    "    \n",
    "    mse = mean_squared_error(R_non_zeros, full_pred_matrix_non_zeros)\n",
    "    rmse = np.sqrt(mse)\n",
    "    \n",
    "    return rmse"
   ]
  },
  {
   "cell_type": "markdown",
   "metadata": {},
   "source": [
    "### Use gradient descent to calculate P, Q"
   ]
  },
  {
   "cell_type": "code",
   "execution_count": 15,
   "metadata": {},
   "outputs": [
    {
     "name": "stdout",
     "output_type": "stream",
     "text": [
      "### iteration step: 0 RMSE: 3.2388050277987723\n",
      "### iteration step: 50 RMSE: 0.4876723101369648\n",
      "### iteration step: 100 RMSE: 0.1564340384819247\n",
      "### iteration step: 150 RMSE: 0.07455141311978046\n",
      "### iteration step: 200 RMSE: 0.04325226798579314\n",
      "### iteration step: 250 RMSE: 0.029248328780878973\n",
      "### iteration step: 300 RMSE: 0.022621116143829466\n",
      "### iteration step: 350 RMSE: 0.019493636196525135\n",
      "### iteration step: 400 RMSE: 0.018022719092132704\n",
      "### iteration step: 450 RMSE: 0.01731968595344266\n",
      "### iteration step: 500 RMSE: 0.016973657887570753\n",
      "### iteration step: 550 RMSE: 0.016796804595895633\n",
      "### iteration step: 600 RMSE: 0.01670132290188466\n",
      "### iteration step: 650 RMSE: 0.01664473691247669\n",
      "### iteration step: 700 RMSE: 0.016605910068210026\n",
      "### iteration step: 750 RMSE: 0.016574200475705\n",
      "### iteration step: 800 RMSE: 0.01654431582921597\n",
      "### iteration step: 850 RMSE: 0.01651375177473524\n",
      "### iteration step: 900 RMSE: 0.01648146573819501\n",
      "### iteration step: 950 RMSE: 0.016447171683479155\n"
     ]
    }
   ],
   "source": [
    "non_zeros = [(i, j, R[i,j]) for i in range(num_users) for j in range(num_items) if R[i,j] >0]\n",
    "\n",
    "steps=1000\n",
    "learning_rate=0.01\n",
    "r_lambda=0.01\n",
    "\n",
    "for step in range(steps):\n",
    "    for i, j, r in non_zeros:\n",
    "        # get difference between actual and predicted value\n",
    "        eij = r-np.dot(P[i,:], Q[j,:].T)\n",
    "        # use SGD with regularization\n",
    "        P[i,:] = P[i,:] + learning_rate*(eij * Q[j, :] - r_lambda*P[i,:])\n",
    "        Q[j,:] = Q[j,:] + learning_rate*(eij * P[i, :] - r_lambda*Q[j,:])\n",
    "        \n",
    "    rmse = get_rmse(R, P, Q, non_zeros)\n",
    "    if (step % 50) == 0:\n",
    "        print('### iteration step:', step, \"RMSE:\", rmse)\n",
    "        "
   ]
  },
  {
   "cell_type": "code",
   "execution_count": 16,
   "metadata": {},
   "outputs": [
    {
     "name": "stdout",
     "output_type": "stream",
     "text": [
      "predicted Matrix:\n",
      " [[3.991 0.897 1.306 2.002 1.663]\n",
      " [6.696 4.978 0.979 2.981 1.003]\n",
      " [6.677 0.391 2.987 3.977 3.986]\n",
      " [4.968 2.005 1.006 2.017 1.14 ]]\n"
     ]
    }
   ],
   "source": [
    "pred_matrix = np.dot(P, Q.T)\n",
    "print(\"predicted Matrix:\\n\", np.round(pred_matrix, 3))"
   ]
  },
  {
   "cell_type": "markdown",
   "metadata": {},
   "source": [
    "### Using Matrix decomposition on collaborative filtering"
   ]
  },
  {
   "cell_type": "code",
   "execution_count": 17,
   "metadata": {},
   "outputs": [],
   "source": [
    "def matrix_factorization(R, K, steps=200, learning_rate=0.01, r_lambda=0.01):\n",
    "    num_users, num_items = R.shape\n",
    "    # initialize P and Q, using normally distributed randomization\n",
    "    np.random.seed(1)\n",
    "    P = np.random.normal(scale=1./K, size=(num_users, K))\n",
    "    Q = np.random.normal(scale=1./K, size=(num_items, K))\n",
    "    \n",
    "    break_count = 0\n",
    "    \n",
    "    non_zeros = [(i, j, R[i,j]) for i in range(num_users) for j in range(num_items) if R[i,j] >0]\n",
    "    \n",
    "    for step in range(steps):\n",
    "        for i, j, r in non_zeros:\n",
    "            # get difference between actual and predicted value\n",
    "            eij = r-np.dot(P[i,:], Q[j,:].T)\n",
    "            # use SGD with regularization\n",
    "            P[i,:] = P[i,:] + learning_rate*(eij * Q[j, :] - r_lambda*P[i,:])\n",
    "            Q[j,:] = Q[j,:] + learning_rate*(eij * P[i, :] - r_lambda*Q[j,:])\n",
    "\n",
    "        rmse = get_rmse(R, P, Q, non_zeros)\n",
    "        if (step % 10) == 0:\n",
    "            print('### iteration step:', step, \"RMSE:\", rmse)\n",
    "            \n",
    "    return P, Q\n",
    "    \n",
    "    "
   ]
  },
  {
   "cell_type": "code",
   "execution_count": 18,
   "metadata": {},
   "outputs": [],
   "source": [
    "import pandas as pd\n",
    "import numpy as np\n",
    "\n",
    "movies = pd.read_csv('./ml-latest-small/movies.csv')\n",
    "ratings = pd.read_csv('./ml-latest-small/ratings.csv')\n",
    "ratings = ratings[['userId', 'movieId', 'rating']]\n",
    "ratings_matrix = ratings.pivot_table('rating', index='userId', columns='movieId')\n",
    "\n",
    "# get movie titles for the column\n",
    "rating_movies = pd.merge(ratings, movies, on='movieId')\n",
    "ratings_matrix = rating_movies.pivot_table('rating', index='userId', columns='title')"
   ]
  },
  {
   "cell_type": "code",
   "execution_count": 19,
   "metadata": {},
   "outputs": [
    {
     "name": "stdout",
     "output_type": "stream",
     "text": [
      "### iteration step: 0 RMSE: 2.9023619751336867\n",
      "### iteration step: 10 RMSE: 0.7335768591017927\n",
      "### iteration step: 20 RMSE: 0.5115539026853442\n",
      "### iteration step: 30 RMSE: 0.37261628282537446\n",
      "### iteration step: 40 RMSE: 0.2960818299181014\n",
      "### iteration step: 50 RMSE: 0.2520353192341642\n",
      "### iteration step: 60 RMSE: 0.22487503275269854\n",
      "### iteration step: 70 RMSE: 0.20685455302331537\n",
      "### iteration step: 80 RMSE: 0.19413418783028685\n",
      "### iteration step: 90 RMSE: 0.18470082002720403\n",
      "### iteration step: 100 RMSE: 0.17742927527209104\n",
      "### iteration step: 110 RMSE: 0.17165226964707486\n",
      "### iteration step: 120 RMSE: 0.1669518194687172\n",
      "### iteration step: 130 RMSE: 0.16305292191997542\n",
      "### iteration step: 140 RMSE: 0.15976691929679643\n",
      "### iteration step: 150 RMSE: 0.1569598699945732\n",
      "### iteration step: 160 RMSE: 0.15453398186715428\n",
      "### iteration step: 170 RMSE: 0.15241618551077643\n",
      "### iteration step: 180 RMSE: 0.15055080739628307\n",
      "### iteration step: 190 RMSE: 0.1488947091323209\n"
     ]
    }
   ],
   "source": [
    "P, Q = matrix_factorization(ratings_matrix.values, K=50, steps=200, learning_rate=0.01, r_lambda=0.01)\n",
    "pred_matrix = np.dot(P, Q.T)"
   ]
  },
  {
   "cell_type": "code",
   "execution_count": 20,
   "metadata": {},
   "outputs": [
    {
     "data": {
      "text/html": [
       "<div>\n",
       "<style scoped>\n",
       "    .dataframe tbody tr th:only-of-type {\n",
       "        vertical-align: middle;\n",
       "    }\n",
       "\n",
       "    .dataframe tbody tr th {\n",
       "        vertical-align: top;\n",
       "    }\n",
       "\n",
       "    .dataframe thead th {\n",
       "        text-align: right;\n",
       "    }\n",
       "</style>\n",
       "<table border=\"1\" class=\"dataframe\">\n",
       "  <thead>\n",
       "    <tr style=\"text-align: right;\">\n",
       "      <th>title</th>\n",
       "      <th>'71 (2014)</th>\n",
       "      <th>'Hellboy': The Seeds of Creation (2004)</th>\n",
       "      <th>'Round Midnight (1986)</th>\n",
       "      <th>'Salem's Lot (2004)</th>\n",
       "      <th>'Til There Was You (1997)</th>\n",
       "      <th>'Tis the Season for Love (2015)</th>\n",
       "      <th>'burbs, The (1989)</th>\n",
       "      <th>'night Mother (1986)</th>\n",
       "      <th>(500) Days of Summer (2009)</th>\n",
       "      <th>*batteries not included (1987)</th>\n",
       "      <th>...</th>\n",
       "      <th>Zulu (2013)</th>\n",
       "      <th>[REC] (2007)</th>\n",
       "      <th>[REC]² (2009)</th>\n",
       "      <th>[REC]³ 3 Génesis (2012)</th>\n",
       "      <th>anohana: The Flower We Saw That Day - The Movie (2013)</th>\n",
       "      <th>eXistenZ (1999)</th>\n",
       "      <th>xXx (2002)</th>\n",
       "      <th>xXx: State of the Union (2005)</th>\n",
       "      <th>¡Three Amigos! (1986)</th>\n",
       "      <th>À nous la liberté (Freedom for Us) (1931)</th>\n",
       "    </tr>\n",
       "    <tr>\n",
       "      <th>userId</th>\n",
       "      <th></th>\n",
       "      <th></th>\n",
       "      <th></th>\n",
       "      <th></th>\n",
       "      <th></th>\n",
       "      <th></th>\n",
       "      <th></th>\n",
       "      <th></th>\n",
       "      <th></th>\n",
       "      <th></th>\n",
       "      <th></th>\n",
       "      <th></th>\n",
       "      <th></th>\n",
       "      <th></th>\n",
       "      <th></th>\n",
       "      <th></th>\n",
       "      <th></th>\n",
       "      <th></th>\n",
       "      <th></th>\n",
       "      <th></th>\n",
       "      <th></th>\n",
       "    </tr>\n",
       "  </thead>\n",
       "  <tbody>\n",
       "    <tr>\n",
       "      <td>1</td>\n",
       "      <td>3.055084</td>\n",
       "      <td>4.092018</td>\n",
       "      <td>3.564130</td>\n",
       "      <td>4.502167</td>\n",
       "      <td>3.981215</td>\n",
       "      <td>1.271694</td>\n",
       "      <td>3.603274</td>\n",
       "      <td>2.333266</td>\n",
       "      <td>5.091749</td>\n",
       "      <td>3.972454</td>\n",
       "      <td>...</td>\n",
       "      <td>1.402608</td>\n",
       "      <td>4.208382</td>\n",
       "      <td>3.705957</td>\n",
       "      <td>2.720514</td>\n",
       "      <td>2.787331</td>\n",
       "      <td>3.475076</td>\n",
       "      <td>3.253458</td>\n",
       "      <td>2.161087</td>\n",
       "      <td>4.010495</td>\n",
       "      <td>0.859474</td>\n",
       "    </tr>\n",
       "    <tr>\n",
       "      <td>2</td>\n",
       "      <td>3.170119</td>\n",
       "      <td>3.657992</td>\n",
       "      <td>3.308707</td>\n",
       "      <td>4.166521</td>\n",
       "      <td>4.311890</td>\n",
       "      <td>1.275469</td>\n",
       "      <td>4.237972</td>\n",
       "      <td>1.900366</td>\n",
       "      <td>3.392859</td>\n",
       "      <td>3.647421</td>\n",
       "      <td>...</td>\n",
       "      <td>0.973811</td>\n",
       "      <td>3.528264</td>\n",
       "      <td>3.361532</td>\n",
       "      <td>2.672535</td>\n",
       "      <td>2.404456</td>\n",
       "      <td>4.232789</td>\n",
       "      <td>2.911602</td>\n",
       "      <td>1.634576</td>\n",
       "      <td>4.135735</td>\n",
       "      <td>0.725684</td>\n",
       "    </tr>\n",
       "    <tr>\n",
       "      <td>3</td>\n",
       "      <td>2.307073</td>\n",
       "      <td>1.658853</td>\n",
       "      <td>1.443538</td>\n",
       "      <td>2.208859</td>\n",
       "      <td>2.229486</td>\n",
       "      <td>0.780760</td>\n",
       "      <td>1.997043</td>\n",
       "      <td>0.924908</td>\n",
       "      <td>2.970700</td>\n",
       "      <td>2.551446</td>\n",
       "      <td>...</td>\n",
       "      <td>0.520354</td>\n",
       "      <td>1.709494</td>\n",
       "      <td>2.281596</td>\n",
       "      <td>1.782833</td>\n",
       "      <td>1.635173</td>\n",
       "      <td>1.323276</td>\n",
       "      <td>2.887580</td>\n",
       "      <td>1.042618</td>\n",
       "      <td>2.293890</td>\n",
       "      <td>0.396941</td>\n",
       "    </tr>\n",
       "  </tbody>\n",
       "</table>\n",
       "<p>3 rows × 9719 columns</p>\n",
       "</div>"
      ],
      "text/plain": [
       "title   '71 (2014)  'Hellboy': The Seeds of Creation (2004)  \\\n",
       "userId                                                        \n",
       "1         3.055084                                 4.092018   \n",
       "2         3.170119                                 3.657992   \n",
       "3         2.307073                                 1.658853   \n",
       "\n",
       "title   'Round Midnight (1986)  'Salem's Lot (2004)  \\\n",
       "userId                                                \n",
       "1                     3.564130             4.502167   \n",
       "2                     3.308707             4.166521   \n",
       "3                     1.443538             2.208859   \n",
       "\n",
       "title   'Til There Was You (1997)  'Tis the Season for Love (2015)  \\\n",
       "userId                                                               \n",
       "1                        3.981215                         1.271694   \n",
       "2                        4.311890                         1.275469   \n",
       "3                        2.229486                         0.780760   \n",
       "\n",
       "title   'burbs, The (1989)  'night Mother (1986)  (500) Days of Summer (2009)  \\\n",
       "userId                                                                          \n",
       "1                 3.603274              2.333266                     5.091749   \n",
       "2                 4.237972              1.900366                     3.392859   \n",
       "3                 1.997043              0.924908                     2.970700   \n",
       "\n",
       "title   *batteries not included (1987)  ...  Zulu (2013)  [REC] (2007)  \\\n",
       "userId                                  ...                              \n",
       "1                             3.972454  ...     1.402608      4.208382   \n",
       "2                             3.647421  ...     0.973811      3.528264   \n",
       "3                             2.551446  ...     0.520354      1.709494   \n",
       "\n",
       "title   [REC]² (2009)  [REC]³ 3 Génesis (2012)  \\\n",
       "userId                                           \n",
       "1            3.705957                 2.720514   \n",
       "2            3.361532                 2.672535   \n",
       "3            2.281596                 1.782833   \n",
       "\n",
       "title   anohana: The Flower We Saw That Day - The Movie (2013)  \\\n",
       "userId                                                           \n",
       "1                                                2.787331        \n",
       "2                                                2.404456        \n",
       "3                                                1.635173        \n",
       "\n",
       "title   eXistenZ (1999)  xXx (2002)  xXx: State of the Union (2005)  \\\n",
       "userId                                                                \n",
       "1              3.475076    3.253458                        2.161087   \n",
       "2              4.232789    2.911602                        1.634576   \n",
       "3              1.323276    2.887580                        1.042618   \n",
       "\n",
       "title   ¡Three Amigos! (1986)  À nous la liberté (Freedom for Us) (1931)  \n",
       "userId                                                                    \n",
       "1                    4.010495                                   0.859474  \n",
       "2                    4.135735                                   0.725684  \n",
       "3                    2.293890                                   0.396941  \n",
       "\n",
       "[3 rows x 9719 columns]"
      ]
     },
     "execution_count": 20,
     "metadata": {},
     "output_type": "execute_result"
    }
   ],
   "source": [
    "ratings_pred_matrix = pd.DataFrame(data=pred_matrix, index=ratings_matrix.index, columns=ratings_matrix.columns)\n",
    "ratings_pred_matrix.head(3)"
   ]
  },
  {
   "cell_type": "code",
   "execution_count": 21,
   "metadata": {},
   "outputs": [],
   "source": [
    "def get_unseen_movies(ratings_matrix, userId):\n",
    "    # user_rating is a Series with movie title as index\n",
    "    user_rating = ratings_matrix.loc[userId, :]\n",
    "    \n",
    "    # if value > 0, the movie is already seen\n",
    "    already_seen = user_rating[user_rating > 0].index.tolist()\n",
    "    \n",
    "    movies_list = ratings_matrix.columns.tolist()\n",
    "    unseen_list = [movie for movie in movies_list if movie not in already_seen]\n",
    "    \n",
    "    return unseen_list"
   ]
  },
  {
   "cell_type": "code",
   "execution_count": 22,
   "metadata": {},
   "outputs": [],
   "source": [
    "def recomm_movie_by_userId(pred_df, userId, unseen_list, top_n=10):\n",
    "    # get predicted ratings for unseen movies for a particular user\n",
    "    # recommend movies according to highest predicted ratings\n",
    "    recomm_movies = pred_df.loc[userId, unseen_list].sort_values(ascending=False)[:top_n]\n",
    "    return recomm_movies"
   ]
  },
  {
   "cell_type": "code",
   "execution_count": 23,
   "metadata": {},
   "outputs": [
    {
     "data": {
      "text/html": [
       "<div>\n",
       "<style scoped>\n",
       "    .dataframe tbody tr th:only-of-type {\n",
       "        vertical-align: middle;\n",
       "    }\n",
       "\n",
       "    .dataframe tbody tr th {\n",
       "        vertical-align: top;\n",
       "    }\n",
       "\n",
       "    .dataframe thead th {\n",
       "        text-align: right;\n",
       "    }\n",
       "</style>\n",
       "<table border=\"1\" class=\"dataframe\">\n",
       "  <thead>\n",
       "    <tr style=\"text-align: right;\">\n",
       "      <th></th>\n",
       "      <th>pred_score</th>\n",
       "    </tr>\n",
       "    <tr>\n",
       "      <th>title</th>\n",
       "      <th></th>\n",
       "    </tr>\n",
       "  </thead>\n",
       "  <tbody>\n",
       "    <tr>\n",
       "      <td>Rear Window (1954)</td>\n",
       "      <td>5.704612</td>\n",
       "    </tr>\n",
       "    <tr>\n",
       "      <td>South Park: Bigger, Longer and Uncut (1999)</td>\n",
       "      <td>5.451100</td>\n",
       "    </tr>\n",
       "    <tr>\n",
       "      <td>Rounders (1998)</td>\n",
       "      <td>5.298393</td>\n",
       "    </tr>\n",
       "    <tr>\n",
       "      <td>Blade Runner (1982)</td>\n",
       "      <td>5.244951</td>\n",
       "    </tr>\n",
       "    <tr>\n",
       "      <td>Roger &amp; Me (1989)</td>\n",
       "      <td>5.191962</td>\n",
       "    </tr>\n",
       "    <tr>\n",
       "      <td>Gattaca (1997)</td>\n",
       "      <td>5.183179</td>\n",
       "    </tr>\n",
       "    <tr>\n",
       "      <td>Ben-Hur (1959)</td>\n",
       "      <td>5.130463</td>\n",
       "    </tr>\n",
       "    <tr>\n",
       "      <td>Rosencrantz and Guildenstern Are Dead (1990)</td>\n",
       "      <td>5.087375</td>\n",
       "    </tr>\n",
       "    <tr>\n",
       "      <td>Big Lebowski, The (1998)</td>\n",
       "      <td>5.038690</td>\n",
       "    </tr>\n",
       "    <tr>\n",
       "      <td>Star Wars: Episode V - The Empire Strikes Back (1980)</td>\n",
       "      <td>4.989601</td>\n",
       "    </tr>\n",
       "  </tbody>\n",
       "</table>\n",
       "</div>"
      ],
      "text/plain": [
       "                                                    pred_score\n",
       "title                                                         \n",
       "Rear Window (1954)                                    5.704612\n",
       "South Park: Bigger, Longer and Uncut (1999)           5.451100\n",
       "Rounders (1998)                                       5.298393\n",
       "Blade Runner (1982)                                   5.244951\n",
       "Roger & Me (1989)                                     5.191962\n",
       "Gattaca (1997)                                        5.183179\n",
       "Ben-Hur (1959)                                        5.130463\n",
       "Rosencrantz and Guildenstern Are Dead (1990)          5.087375\n",
       "Big Lebowski, The (1998)                              5.038690\n",
       "Star Wars: Episode V - The Empire Strikes Back ...    4.989601"
      ]
     },
     "execution_count": 23,
     "metadata": {},
     "output_type": "execute_result"
    }
   ],
   "source": [
    "# get names of the movies that user havent yet seen\n",
    "unseen_list = get_unseen_movies(ratings_matrix, 9)\n",
    "\n",
    "# get latent factor based collaborative filtering recommendations\n",
    "recomm_movies = recomm_movie_by_userId(ratings_pred_matrix, 9, unseen_list, top_n=10)\n",
    "\n",
    "recomm_movies = pd.DataFrame(data=recomm_movies.values, index=recomm_movies.index, columns=['pred_score'])\n",
    "recomm_movies"
   ]
  },
  {
   "cell_type": "code",
   "execution_count": null,
   "metadata": {},
   "outputs": [],
   "source": []
  }
 ],
 "metadata": {
  "kernelspec": {
   "display_name": "Python 3",
   "language": "python",
   "name": "python3"
  },
  "language_info": {
   "codemirror_mode": {
    "name": "ipython",
    "version": 3
   },
   "file_extension": ".py",
   "mimetype": "text/x-python",
   "name": "python",
   "nbconvert_exporter": "python",
   "pygments_lexer": "ipython3",
   "version": "3.7.4"
  }
 },
 "nbformat": 4,
 "nbformat_minor": 2
}
