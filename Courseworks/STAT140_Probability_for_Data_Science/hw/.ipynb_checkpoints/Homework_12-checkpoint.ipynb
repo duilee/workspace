{
 "cells": [
  {
   "cell_type": "markdown",
   "metadata": {},
   "source": [
    "<table align=\"left\" style=\"border-style: hidden\" class=\"table\"> <tr><td class=\"col-md-2\"><img style=\"float\" src=\"http://prob140.org/assets/icon256.png\" alt=\"Prob140 Logo\" style=\"width: 120px;\"/></td><td><div align=\"left\"><h3 style=\"margin-top: 0;\">Probability for Data Science</h3><h4 style=\"margin-top: 20px;\">UC Berkeley, Spring 2019</h4><p>Ani Adhikari and Jim Pitman</p>CC BY-NC 4.0</div></td></tr></table><!-- not in pdf -->"
   ]
  },
  {
   "cell_type": "code",
   "execution_count": null,
   "metadata": {
    "#solution": false,
    "#staff": false,
    "#student": false
   },
   "outputs": [],
   "source": [
    "# HIDDEN\n",
    "from datascience import *\n",
    "from prob140 import *\n",
    "import numpy as np\n",
    "import matplotlib.pyplot as plt\n",
    "plt.style.use('fivethirtyeight')\n",
    "%matplotlib inline\n",
    "from scipy import stats"
   ]
  },
  {
   "cell_type": "markdown",
   "metadata": {
    "#solution": false,
    "#staff": false,
    "#student": false
   },
   "source": [
    "# Homework 12 #\n",
    "\n",
    "### Instructions\n",
    "\n",
    "Your homeworks have two components: a written portion and a portion that also involves code.  Written work should be completed on paper, and coding questions should be done in the notebook.  You are welcome to LaTeX your answers to the written portions, but staff will not be able to assist you with LaTeX related issues. It is your responsibility to ensure that both components of the homework are submitted completely and properly to Gradescope. Refer to the bottom of the notebook for submission instructions."
   ]
  },
  {
   "cell_type": "markdown",
   "metadata": {
    "#solution": false,
    "#staff": false,
    "#student": false
   },
   "source": [
    "### 1. Two-Colored Die ###\n",
    "A die that has two green faces and four blue faces is rolled repeatedly. Let $R$ be the number of rolls till both colors have appeared.\n",
    "\n",
    "**a)** Find $E(R)$.\n",
    "\n",
    "**b)** Find $SD(R)$."
   ]
  },
  {
   "cell_type": "markdown",
   "metadata": {
    "#solution": false,
    "#staff": false,
    "#student": false
   },
   "source": [
    "### 2. Waiting Till $HH$ ###\n",
    "In a lab earlier in the term, you found a formula for the expected waiting time till any finite pattern of heads and tails appears in a sequence of coin tosses. In this exercise you will revisit that calculation in the case of a simple pattern $HH$, and find the variance of the waiting time as well.\n",
    "\n",
    "A $p$-coin is tossed repeatedly. Let $W_{H}$ be the number of tosses till the first head appears, and $W_{HH}$ the number of tosses till two consecutive heads appear.\n",
    "\n",
    "(a) Describe a random variable $X$ that  depends only on the tosses after $W_H$ and satisfies $W_{HH} = W_H + X$.\n",
    "\n",
    "(b) Use Part (a) to find $E(W_{HH})$. What is its value when $p = 1/2$?\n",
    "\n",
    "(c) Use Parts (a) and (b) to find $Var(W_{HH})$. What is the value of $SD(W_{HH})$ when $p = 1/2$?"
   ]
  },
  {
   "cell_type": "markdown",
   "metadata": {
    "#solution": false,
    "#staff": false,
    "#student": false
   },
   "source": [
    "### 3. Random Vector Workout ###\n",
    "\n",
    "A random vector $\\mathbf{Y} = [Y_1 ~~ Y_2 ~~ \\cdots ~~ Y_n]^T$ has mean vector $\\boldsymbol{\\mu}$ and covariance matrix $\\sigma^2 \\mathbf{I}_n$ where $\\sigma > 0$ is a number and $\\mathbf{I}_n$ is the $n \\times n$ identity matrix. \n",
    "\n",
    "(a) Pick one option and explain: $Y_1$ and $Y_2$ are\n",
    "\n",
    "$~~~~~$ (i) independent. $~~~~~~~~$ (ii) uncorrelated but might not be independent. $~~~~~~~~$ (iii) not uncorrelated.\n",
    "\n",
    "(b) Pick one option and explain: $Var(Y_1)$ and $Var(Y_2)$ are\n",
    "\n",
    "$~~~~~$ (i) equal. $~~~~~~~~$ (ii) possibly equal, but might not be. $~~~~~~~~$ (iii) not equal.\n",
    "\n",
    "(c) For $m \\le n$ let $\\mathbf{A}$ be an $m \\times n$ matrix of real numbers, and let $\\mathbf{b}$ be an $m \\times 1$ vector of real numbers. Let $\\mathbf{V} = \\mathbf{AY} + \\mathbf{b}$. Find the mean vector $\\boldsymbol{\\mu}_\\mathbf{V}$ and covariance matrix $\\boldsymbol{\\Sigma}_\\mathbf{V}$ of $\\mathbf{V}$.\n",
    "\n",
    "(d) Let $\\mathbf{c}$ be an $m \\times 1$ vector of real numbers and let $W = \\mathbf{c}^T\\mathbf{V}$ for $\\mathbf{V}$ defined in Part (c). In terms of $\\mathbf{c}$, $\\boldsymbol{\\mu}_\\mathbf{V}$ and $\\boldsymbol{\\Sigma}_\\mathbf{V}$, find $E(W)$ and $Var(W)$."
   ]
  },
  {
   "cell_type": "markdown",
   "metadata": {
    "#solution": false,
    "#staff": false,
    "#student": false
   },
   "source": [
    "### 4. Bivariate Normal? ###\n",
    "\n",
    "Let $X$ be standard normal. Define a random variable $Y$ by\n",
    "$$\n",
    "Y ~ = ~ \n",
    "\\begin{cases}\n",
    "~~X ~ \\text{ if } \\vert X \\vert < 2\\\\\n",
    "-X ~ \\text{ if } \\vert X \\vert \\ge 2\n",
    "\\end{cases}\n",
    "$$\n",
    "\n",
    "**a)** Show that $Y$ is standard normal.\n",
    "\n",
    "**b)** Is the joint distribution of $X$ and $Y$ bivariate normal? Why or why not?"
   ]
  },
  {
   "cell_type": "markdown",
   "metadata": {
    "#solution": false,
    "#staff": false,
    "#student": false
   },
   "source": [
    "### 5. 2017 SAT Scores, Part 1 ###\n",
    "The College Board presents an [annual report](https://reports.collegeboard.org/pdf/2017-total-group-sat-suite-assessments-annual-report.pdf) about participation and performance in the SAT. The 2017 SAT had two parts: Evidence-Based Reading and Writing (ERW) and Math. It is generally believed that the joint distribution of ERW and Math scores of test-takers in any given year is roughly bivariate normal. This can only be a rough approximation because SAT scores aren't continuous variables. But let's make a lazy choice for this exercise: pretend that SAT scores are continuous and that the approximation is exact.\n",
    "\n",
    "So assume that for the 2017 test-takers in the United States, the joint distribution of ERW and Math scores is bivariate normal. The College Board provides the following summary statistics.\n",
    "\n",
    "- ERW: Mean 533, SD 100\n",
    "- Math: Mean 527, SD 107\n",
    "- Total: Mean 1060, SD 195\n",
    "\n",
    "Let $R$ be the ERW score and $M$ the math score of a test-taker picked at random.\n",
    "\n",
    "**a)** Find the correlation $r(R, M)$."
   ]
  },
  {
   "cell_type": "code",
   "execution_count": null,
   "metadata": {
    "#solution": false,
    "#staff": false,
    "#student": true
   },
   "outputs": [],
   "source": [
    "# Answer to 5a\n",
    "\n",
    "var_R = ...\n",
    "var_M = ...\n",
    "var_T = ...\n",
    "r = ...\n",
    "r"
   ]
  },
  {
   "cell_type": "markdown",
   "metadata": {
    "#solution": false,
    "#staff": false,
    "#student": false
   },
   "source": [
    "**b)** Plot the joint density surface of $R$ and $M$. The call is `Plot_bivariate_normal(mu, cov)` where the mean vector `mu` is a list and the covariance matrix `cov` is a list of lists specifying the rows."
   ]
  },
  {
   "cell_type": "code",
   "execution_count": null,
   "metadata": {
    "#solution": false,
    "#staff": false,
    "#student": true
   },
   "outputs": [],
   "source": [
    "# Answer to 5b\n",
    "\n",
    "mu = ...\n",
    "cov_RM = ...\n",
    "cov = [...]\n",
    "Plot_bivariate_normal(..., ..., figsize =(6,6))"
   ]
  },
  {
   "cell_type": "markdown",
   "metadata": {
    "#solution": false,
    "#staff": false,
    "#student": false
   },
   "source": [
    "**c)** Let $T = R+M$. In the code cell below, plot the joint density surface of $M$ and $T$. Use as many lines of code as you need. **On paper, explain** your choice of density, and say what you notice about the plot."
   ]
  },
  {
   "cell_type": "code",
   "execution_count": null,
   "metadata": {
    "#solution": false,
    "#staff": false,
    "#student": true
   },
   "outputs": [],
   "source": [
    "# Answer to 5c\n",
    "..."
   ]
  },
  {
   "cell_type": "markdown",
   "metadata": {
    "#solution": false,
    "#staff": false,
    "#student": false
   },
   "source": [
    "**d)** Write an expression that evaluates to $r(M, T)$. In the comment, explain why it's high. "
   ]
  },
  {
   "cell_type": "code",
   "execution_count": null,
   "metadata": {
    "#solution": false,
    "#staff": false,
    "#student": true
   },
   "outputs": [],
   "source": [
    "# Answer to 5d\n",
    "\n",
    "\"\"\"r(M, T) is high because ...\"\"\"\n",
    "..."
   ]
  },
  {
   "cell_type": "markdown",
   "metadata": {
    "#solution": false,
    "#staff": false,
    "#student": false
   },
   "source": [
    "### 6. 2017 SAT Scores, Part 2 ###\n",
    "This exercise continues the previous one. Please make the same assumptions as before. In your math and code you can use any quantity that has already been defined.\n",
    "\n",
    "As in the previous exercise, the parts below refer to the scores of a test-taker picked at random."
   ]
  },
  {
   "cell_type": "markdown",
   "metadata": {
    "#solution": false,
    "#staff": false,
    "#student": false
   },
   "source": [
    "**a)** Write an expression that evaluates to the chance that the total score is greater than 1500."
   ]
  },
  {
   "cell_type": "code",
   "execution_count": null,
   "metadata": {
    "#solution": false,
    "#staff": false,
    "#student": true
   },
   "outputs": [],
   "source": [
    "# Answer to 6a\n",
    "\n",
    "..."
   ]
  },
  {
   "cell_type": "markdown",
   "metadata": {
    "#solution": false,
    "#staff": false,
    "#student": false
   },
   "source": [
    "**b)** In terms of the standard normal cdf $\\Phi$, what is the chance that the student scored higher on ERW than on Math? Answer this on paper (show your work) and then use the code cell below to find the numerical value. Use as many lines of code as you need. The last expression should evaluate to the proportion."
   ]
  },
  {
   "cell_type": "code",
   "execution_count": null,
   "metadata": {
    "#solution": false,
    "#staff": false,
    "#student": true
   },
   "outputs": [],
   "source": [
    "# Answer to 6b"
   ]
  },
  {
   "cell_type": "markdown",
   "metadata": {
    "#solution": false,
    "#staff": false,
    "#student": false
   },
   "source": [
    "**c)** Write an expression that evaluates to the chance that the ERW and Math scores were more than 100 points apart. As before, your expression can involve quantities defined in earlier parts."
   ]
  },
  {
   "cell_type": "code",
   "execution_count": null,
   "metadata": {
    "#solution": false,
    "#staff": false,
    "#student": true
   },
   "outputs": [],
   "source": [
    "# Answer to 6c\n",
    "\n",
    "..."
   ]
  },
  {
   "cell_type": "markdown",
   "metadata": {
    "#solution": false,
    "#staff": false,
    "#student": false
   },
   "source": [
    "## Submission Instructions ##\n",
    "\n",
    "Many assignments throughout the course will have a written portion and a code portion. Please follow the directions below to properly submit both portions.\n",
    "\n",
    "### Written Portion ###\n",
    "*  Scan all the pages into a PDF. You can use any scanner or a phone using applications such as CamScanner. Please **DO NOT** simply take pictures using your phone. \n",
    "* Please start a new page for each question. If you have already written multiple questions on the same page, you can crop the image in CamScanner or fold your page over (the old-fashioned way). This helps expedite grading.\n",
    "* It is your responsibility to check that all the work on all the scanned pages is legible.\n",
    "\n",
    "### Code Portion ###\n",
    "* **Save your notebook using File > Save and Checkpoint.**\n",
    "* Run the cell below to generate a PDF file.\n",
    "* Download the PDF file and confirm that none of your work is missing or cut off.  If the link leads you to a blank page, use [Command]+[S] or [Ctrl]+[S] to download your work.  \n",
    "\n",
    "### Submitting ###\n",
    "* Combine the PDFs from the written and code portions into one PDF.  [Here](https://smallpdf.com/merge-pdf) is a useful tool for doing so.  \n",
    "* Submit the assignment to Homework 12 on Gradescope.\n",
    "* **Make sure to assign each page of your pdf to the correct question.**\n",
    "\n",
    "\n",
    "### **We will not grade assignments which do not have pages selected for each question or were submitted after the deadline.** "
   ]
  },
  {
   "cell_type": "code",
   "execution_count": null,
   "metadata": {
    "#solution": false,
    "#staff": false,
    "#student": false
   },
   "outputs": [],
   "source": [
    "import gsExport\n",
    "gsExport.generateSubmission(\"Homework_12.ipynb\")"
   ]
  }
 ],
 "metadata": {
  "anaconda-cloud": {},
  "checksums": [
   "36d6125272e38841d377985b31e7a672",
   "e4165fd843ccc0629304d5b40941dac6",
   "354b421e611daa18183b99dd3d94b84c",
   "c52f8b097871bdf80e655b9621ffd93a",
   "f4c34039035cbcb374503d19558b71e7",
   "37109a551c0899a232f96be299ca5e96",
   "44249ec00e03c933b67bd18db2c575ee",
   "61e92e374e01ffb52585bbf79bbd0a55",
   "fcf354a27b99f842985cef47b01ed069",
   "c45d83218238c477944a2156a130ca4b",
   "99e6d48be2e53dcae57b8bbc34f0346c",
   "a4d2f21fe380a9c0e9ec864b01edb24c",
   "8eeb611c8162902c0ea4a02a6d19162c",
   "33cfa201372cc2bf7524a0020f183972",
   "14e7d7e3cf142c7b1e0fa055596fe79d",
   "fd8ad4eb1fab50259c3f2105e49433d0",
   "4f0b057dc60197d746a6da35525bb85a",
   "9ce1da715a516495a973b9b2a4c8e1d6",
   "f2e28fec62787c3e499335b5494c645b",
   "705d3eb75593f3bcde6a6287a8e56f11",
   "f5ae3efd4597369ef9386f4ef8378b03",
   "1de000e6e531191e16dd2d125470de60",
   "e8ebad2d48d33a83677babb13b7299e2",
   "38855cb201293da2b7d93bfc54ce502f"
  ],
  "kernelspec": {
   "display_name": "Python 3",
   "language": "python",
   "name": "python3"
  },
  "language_info": {
   "codemirror_mode": {
    "name": "ipython",
    "version": 3
   },
   "file_extension": ".py",
   "mimetype": "text/x-python",
   "name": "python",
   "nbconvert_exporter": "python",
   "pygments_lexer": "ipython3",
   "version": "3.6.7"
  },
  "number_of_pagebreaks": 0
 },
 "nbformat": 4,
 "nbformat_minor": 2
}
