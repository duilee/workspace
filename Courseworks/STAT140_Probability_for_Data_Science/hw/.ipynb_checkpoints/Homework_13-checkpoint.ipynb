{
 "cells": [
  {
   "cell_type": "markdown",
   "metadata": {},
   "source": [
    "<table align=\"left\" style=\"border-style: hidden\" class=\"table\"> <tr><td class=\"col-md-2\"><img style=\"float\" src=\"http://prob140.org/assets/icon256.png\" alt=\"Prob140 Logo\" style=\"width: 120px;\"/></td><td><div align=\"left\"><h3 style=\"margin-top: 0;\">Probability for Data Science</h3><h4 style=\"margin-top: 20px;\">UC Berkeley, Spring 2019</h4><p>Ani Adhikari and Jim Pitman</p>CC BY-NC 4.0</div></td></tr></table><!-- not in pdf -->"
   ]
  },
  {
   "cell_type": "code",
   "execution_count": null,
   "metadata": {
    "#solution": false,
    "#staff": false,
    "#student": false
   },
   "outputs": [],
   "source": [
    "# HIDDEN\n",
    "from datascience import *\n",
    "from prob140 import *\n",
    "import numpy as np\n",
    "import matplotlib.pyplot as plt\n",
    "plt.style.use('fivethirtyeight')\n",
    "%matplotlib inline\n",
    "from scipy import stats"
   ]
  },
  {
   "cell_type": "markdown",
   "metadata": {
    "#solution": false,
    "#staff": false,
    "#student": false
   },
   "source": [
    "# Homework 13 #"
   ]
  },
  {
   "cell_type": "markdown",
   "metadata": {
    "#solution": false,
    "#staff": false,
    "#student": false
   },
   "source": [
    "\n",
    "### Instructions\n",
    "\n",
    "Your homeworks have two components: a written portion and a portion that also involves code.  Written work should be completed on paper, and coding questions should be done in the notebook.  You are welcome to LaTeX your answers to the written portions, but staff will not be able to assist you with LaTeX related issues. It is your responsibility to ensure that both components of the homework are submitted completely and properly to Gradescope. Refer to the bottom of the notebook for submission instructions."
   ]
  },
  {
   "cell_type": "markdown",
   "metadata": {
    "#solution": false,
    "#staff": false,
    "#student": false
   },
   "source": [
    "### 1. Regressing on a Sum ###\n",
    "\n",
    "Let $X$ and $Y$ be jointly distributed random variables with correlation $\\rho$ for some $\\rho > -1$. Suppose both $X$ and $Y$ are in standard units.\n",
    "\n",
    "It is important to observe that we are **not** assuming that $X$ and $Y$ are identically distributed. We are only assuming that they are being measured on the same scale.\n",
    "\n",
    "Let $S = X+Y$. In this exercise you are going to regress $X$ on $S$. That's a short way of saying that you are going to find the regression estimate of $X$ based on $S$.\n",
    "\n",
    "**a)** Explain why the exercise assumes $\\rho > -1$.\n",
    "\n",
    "**b)** Find $r(X, S)$, the correlation between $X$ and $S$. What does your formula say about the sign of this correlation?\n",
    "\n",
    "**c)** Find the equation of the regression line for estimating $X$ based on $S$. Take another look at the assumptions about $X$ and $Y$, and notice how interesting the equation is. \n",
    "\n",
    "**d)** Find the mean squared error of the regression in Part **c**.\n",
    "\n",
    "**e)** If $\\rho = 1$, what is the estimated value of $X$ based on $S$ and what is the mean squared error? Do the answers make intuitive sense?\n",
    "\n",
    "**f)** Now suppose $\\rho$ is as close to $-1$ as you can imagine. Approximately what is the estimated value of $X$ based on $S$, and what is the mean squared error? Do the answers make intuitive sense?"
   ]
  },
  {
   "cell_type": "markdown",
   "metadata": {
    "#solution": false,
    "#staff": false,
    "#student": false
   },
   "source": [
    "### 2. Heights of Mothers and Daughters ###\n",
    "\n",
    "The heights of a population of mother-daughter pairs have a bivariate normal distribution with correlation 0.5.\n",
    "\n",
    "**a)** Of the mothers on the 90th percentile of mothers' heights, what proportion have daughters who are taller than the 90th percentile of daughters' heights?\n",
    "\n",
    "**b)** In what proportion of mother-daughter pairs are both women taller than average? (This means the mothers are taller than the average mother and the daughters are taller than the average daughter.)\n",
    "\n",
    "[Hint: Remember that you can express standard bivariate normal variables in terms of two independent standard normal variables.]"
   ]
  },
  {
   "cell_type": "markdown",
   "metadata": {
    "#solution": false,
    "#staff": false,
    "#student": false
   },
   "source": [
    "### 3. Regression with Two Predictors ###\n",
    "\n",
    "Consider three random variables $Y$, $X_1$, and $X_2$ The goal of this exercise is to find the least squares linear predictor of $Y$ based on the predictor variables $X_1$ and $X_2$.\n",
    "\n",
    "For algebraic simplicity, let all the variables be measured in standard units. Then the random vector $\\mathbf{W} = [Y ~ X_1 ~ X_2]^T$ has mean vector $\\mathbf{0}$ and covariance matrix\n",
    "\n",
    "$$\n",
    "\\begin{bmatrix}\n",
    "1 & \\rho_1 & \\rho_2 \\\\\n",
    "\\rho_1 & 1 & \\rho_3 \\\\\n",
    "\\rho_2 & \\rho_3 & 1 \n",
    "\\end{bmatrix}\n",
    "$$\n",
    "\n",
    "where $\\rho_1 = Cov(Y, X_1)$, $\\rho_2 = Cov(Y, X_2)$, and $\\rho_3 = Cov(X_1, X_2)$ are correlations.\n",
    "\n",
    "You will need the regression equation and error variance formulas in [Section 25.2](http://prob140.org/textbook/chapters/Chapter_25/02_Best_Linear_Predictor). Remember that all the means are 0.\n",
    "\n",
    "**a)** Suppose the two predictor variables are uncorrelated. Find the best linear predictor of $Y$ based on $X_1$ and $X_2$.\n",
    "\n",
    "**b)** Suppose now that $-1 < \\rho_3 < 1$. Find the best linear predictor of $Y$ based on $X_1$ and $X_2$. You will have to recall the inverse of a $2 \\times 2$ matrix.\n",
    "\n",
    "**c)** Find the mean squared error of the predictor in Part **b**.\n",
    "\n",
    "**d)** Suppose $\\rho_3 = 1$. What is the relation between $X_1$ and $X_2$? Could you use the predictor you developed in Part **b**? If not, how would you use linear regression to predict $Y$ based on the predictor variables? "
   ]
  },
  {
   "cell_type": "markdown",
   "metadata": {
    "#solution": false,
    "#staff": false,
    "#student": false
   },
   "source": [
    "### 4. \"No Intercept\" Linear Regression ###\n",
    "\n",
    "Let $X$ and $Y$ be jointly distributed random variables. Suppose you want to predict $Y$ by a function of the form $aX$ for some constant $a$. You might want to do this if for example you believe that $Y$ is proportional to $X$ but you have noisy data. \n",
    "\n",
    "**a)** Let $MSE(a)$ denote the mean squared error of the predictor $aX$. Fill in the blank with a random variable:\n",
    "\n",
    "$MSE(a) ~ = ~ E(\\underline{~~~~~~~~~~~~~~~~~~~~~~~~~~~~~~~~~~~~~})$\n",
    "\n",
    "**b)** Find the value $a^*$ that minimizes $MSE(a)$ over all $a$.\n",
    "\n",
    "**c)** Find $MSE(a^*)$.\n",
    "\n",
    "**d)** Use Part **c** to prove the *Cauchy-Schwarz Inequality*: For jointly distributed random variables $X$ and $Y$, $\\vert E(XY) \\vert \\le \\sqrt{E(X^2)E(Y^2)}$."
   ]
  },
  {
   "cell_type": "markdown",
   "metadata": {
    "#solution": false,
    "#staff": false,
    "#student": false
   },
   "source": [
    "### 5. Simple Linear Regression Model ###\n",
    "\n",
    "Consider the model\n",
    "\n",
    "$$\n",
    "Y_i ~ = ~ \\beta_0 + \\beta_1 x_i + \\epsilon_i, ~~ 1 \\le i \\le n\n",
    "$$\n",
    "\n",
    "where $x_1, x_2, \\ldots, x_n$ are constants and $\\epsilon_1, \\epsilon_2, \\ldots, \\epsilon_n$ are i.i.d. normal $(0, \\sigma^2)$ error terms. \n",
    "\n",
    "Refer to [Section 25.4](http://prob140.org/textbook/chapters/Chapter_25/04_Multiple_Regression) to see that this is the special case of the multiple regression model $\\mathbf{Y} = \\mathbf{X}\\boldsymbol{\\beta} + \\boldsymbol{\\epsilon}$ when there is an intercept and just one slope.\n",
    "\n",
    "Define the following notation for quantities that are analogous to expectations, variances, and covariances of random variables.\n",
    "\n",
    "- $\\bar{x} = \\frac{1}{n}\\sum_{i=1}^n x_i$ and $\\bar{Y} = \\frac{1}{n}\\sum_{i=1}^n Y_i$\n",
    "- $\\sigma_x^2 = \\frac{1}{n}\\sum_{i=1}^n (x_i - \\bar{x})^2 $\n",
    "- $\\sigma_Y^2 = \\frac{1}{n}\\sum_{i=1}^n (Y_i - \\bar{Y})^2$ \n",
    "- $\\sigma_{x, Y} = \\frac{1}{n}\\sum_{i=1}^n (x_i - \\bar{x})(Y_i - \\bar{Y})$\n",
    "\n",
    "In what follows, \"five quantities\" refers to the five quantities defined above. They are a standard way of summarizing a two-variable data set: the two means, the two variances, and the covariance (sometimes the correlation is provided instead).\n",
    "\n",
    "**a)** Which of the five quantities are random variables and which are constants?\n",
    "\n",
    "**b)** Show that $\\sigma_x^2 = \\frac{1}{n}\\sum_{i=1}^n x_i^2 - \\bar{x}^2$ and $\\sigma_{x, Y} = \\frac{1}{n}\\sum_{i=1}^n x_i(Y_i - \\bar{Y}) = \\frac{1}{n}\\sum_{i=1}^n x_iY_i - \\bar{x}\\bar{Y}$.\n",
    "\n",
    "**c)** As stated earlier, the model can be expressed in the form $\\mathbf{Y} = \\mathbf{X}\\boldsymbol{\\beta} + \\boldsymbol{\\epsilon}$ for an appropriate $\\mathbf{X}$. Write $\\mathbf{X}^T\\mathbf{X}$ in terms of $n$ and the five quantities.\n",
    "\n",
    "**d)** Find $\\det(\\mathbf{X}^T\\mathbf{X})$ in terms of $n$ and the five quantities, and then fill in the blank with an appropriate phrase:\n",
    "\n",
    "- The matrix $\\mathbf{X}^T\\mathbf{X}$ is invertible if and only if $x_1, x_2, \\ldots, x_n$ $\\underline{~~~~~~~~~~~~~~~~~~~~~~~~~~~~~~~~~~~~~~~~~~~~~~~~~~~~~~~~~~~~~~~~~~~~~~~~~~}$.\n",
    "\n",
    "**e)** As you know from Data 8, we are often interested in inference for the true slope $\\beta_1$. Recall that the OLS estimate of the vector $\\boldsymbol{\\beta}$ is $\\hat{\\boldsymbol{\\beta}} = (\\mathbf{X}^T\\mathbf{X})^{-1}\\mathbf{X}^T\\mathbf{Y}$. Use the linear transformation results of [Section 23.1](http://prob140.org/textbook/chapters/Chapter_23/01_Random_Vectors) to find the mean vector and covariance matrix of $\\hat{\\boldsymbol{\\beta}}$.\n",
    "\n",
    "**f)** Find the distribution of the estimated slope $\\hat{\\beta_1}$. Provide the name of the distribution and express the parameters in terms of the sample size $n$, the true error variance $\\sigma^2$, and the five quantities. As a check that your parameters are correct, they should be consistent with the following statements:\n",
    "\n",
    "- $\\hat{\\beta_1}$ is an unbiased estimate of the true slope.\n",
    "- If all other quantities remain unchanged, increasing the sample size $n$ gives a better estimate of the true slope.\n",
    "- If all other quantities remain unchanged, the estimate of the true slope is better if there is a wider spread in the attribute $x$."
   ]
  },
  {
   "cell_type": "markdown",
   "metadata": {
    "#solution": false,
    "#staff": false,
    "#student": false
   },
   "source": [
    "## Submission Instructions ##\n",
    "\n",
    "Many assignments throughout the course will have a written portion and a code portion. Please follow the directions below to properly submit both portions.\n",
    "\n",
    "### Written Portion ###\n",
    "*  Scan all the pages into a PDF. You can use any scanner or a phone using applications such as CamScanner. Please **DO NOT** simply take pictures using your phone. \n",
    "* Please start a new page for each question. If you have already written multiple questions on the same page, you can crop the image in CamScanner or fold your page over (the old-fashioned way). This helps expedite grading.\n",
    "* It is your responsibility to check that all the work on all the scanned pages is legible.\n",
    "\n",
    "### Code Portion ###\n",
    "* **Save your notebook using File > Save and Checkpoint.**\n",
    "* Run the cell below to generate a PDF file.\n",
    "* Download the PDF file and confirm that none of your work is missing or cut off.  If the link leads you to a blank page, use [Command]+[S] or [Ctrl]+[S] to download your work.  \n",
    "\n",
    "### Submitting ###\n",
    "* Combine the PDFs from the written and code portions into one PDF.  [Here](https://smallpdf.com/merge-pdf) is a useful tool for doing so.  \n",
    "* Submit the assignment to Homework 13 on Gradescope.\n",
    "* **Make sure to assign each page of your pdf to the correct question.**\n",
    "\n",
    "\n",
    "### **We will not grade assignments which do not have pages selected for each question or were submitted after the deadline.** "
   ]
  }
 ],
 "metadata": {
  "anaconda-cloud": {},
  "checksums": [
   "36d6125272e38841d377985b31e7a672",
   "e4165fd843ccc0629304d5b40941dac6",
   "737450b9d5cb1fd56ee46a5b608ae3b8",
   "617e9d925b5fe2cd6a35fdd67bbdf752",
   "0afa064b79715285b360856a9d9ea9dc",
   "3bcbc7bd6a780ffd0a2ac4fbdf7e9523",
   "98f4a1a682daf9db1d733cf2971ab03f",
   "91570ec32f2fa87a98718c46b40de33f",
   "029656220963995c7a587f548864cef0",
   "2f866b25f75ebd8d106b1c9d034de38e"
  ],
  "kernelspec": {
   "display_name": "Python 3",
   "language": "python",
   "name": "python3"
  },
  "language_info": {
   "codemirror_mode": {
    "name": "ipython",
    "version": 3
   },
   "file_extension": ".py",
   "mimetype": "text/x-python",
   "name": "python",
   "nbconvert_exporter": "python",
   "pygments_lexer": "ipython3",
   "version": "3.6.7"
  },
  "number_of_pagebreaks": 0
 },
 "nbformat": 4,
 "nbformat_minor": 2
}
