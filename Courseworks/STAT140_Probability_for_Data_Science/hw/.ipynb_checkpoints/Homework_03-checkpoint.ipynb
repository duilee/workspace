{
 "cells": [
  {
   "cell_type": "markdown",
   "metadata": {},
   "source": [
    "<table align=\"left\" style=\"border-style: hidden\" class=\"table\"> <tr><td class=\"col-md-2\"><img style=\"float\" src=\"http://prob140.org/assets/icon256.png\" alt=\"Prob140 Logo\" style=\"width: 120px;\"/></td><td><div align=\"left\"><h3 style=\"margin-top: 0;\">Probability for Data Science</h3><h4 style=\"margin-top: 20px;\">UC Berkeley, Spring 2019</h4><p>Ani Adhikari and Jim Pitman</p>CC BY-NC 4.0</div></td></tr></table><!-- not in pdf -->"
   ]
  },
  {
   "cell_type": "markdown",
   "metadata": {
    "#solution": false,
    "#staff": false,
    "#student": false
   },
   "source": [
    "# Homework 3 #"
   ]
  },
  {
   "cell_type": "markdown",
   "metadata": {
    "#solution": false,
    "#staff": false,
    "#student": false
   },
   "source": [
    "### Instructions\n",
    "\n",
    "Your homeworks have two components: a written portion and a portion that also involves code.  Written work should be completed on paper, and coding questions should be done in the notebook.  You are welcome to LaTeX your answers to the written portions, but staff will not be able to assist you with LaTeX related issues. It is your responsibility to ensure that both components of the homework are submitted completely and properly to Gradescope. Refer to the bottom of the notebook for submission instructions."
   ]
  },
  {
   "cell_type": "code",
   "execution_count": 1,
   "metadata": {
    "#solution": false,
    "#staff": false,
    "#student": false
   },
   "outputs": [],
   "source": [
    "# Run this cell to set up your notebook\n",
    "\n",
    "import numpy as np\n",
    "from scipy import stats\n",
    "from scipy import special\n",
    "from datascience import *\n",
    "from prob140 import *\n",
    "\n",
    "# These lines do some fancy plotting magic\n",
    "import matplotlib\n",
    "%matplotlib inline\n",
    "import matplotlib.pyplot as plt\n",
    "plt.style.use('fivethirtyeight')\n",
    "\n",
    "# These lines make warnings look nicer\n",
    "import warnings\n",
    "warnings.simplefilter('ignore', FutureWarning)"
   ]
  },
  {
   "cell_type": "markdown",
   "metadata": {
    "#solution": false,
    "#staff": false,
    "#student": false
   },
   "source": [
    "## 1. Aces and Face Cards ##\n",
    "A standard deck consists of 52 cards of which 4 are aces, 4 are kings, and 12 (including the four kings) are \"face cards\" (Jacks, Queens, and Kings).\n",
    "\n",
    "Cards are dealt at random without replacement from a standard deck till all the cards have been dealt. \n",
    "\n",
    "Find the expectation of the following. Each can be done with almost no calculation if you use symmetry. \n",
    "\n",
    "**a)** The number of aces among the first 5 cards\n",
    "\n",
    "**b)** The number of face cards that *do not* appear among the first 13 cards\n",
    "\n",
    "**c)** The number of aces among the first 5 cards minus the number of kings among the last 5 cards\n",
    "\n",
    "**d)** The number of cards before the first ace \n",
    "\n",
    "**e)** The number of cards strictly in between the first ace and the last ace\n",
    "\n",
    "**f)** The number of face cards before the first ace"
   ]
  },
  {
   "cell_type": "markdown",
   "metadata": {
    "#solution": false,
    "#staff": false,
    "#student": false
   },
   "source": [
    "## 2. Phone Calls ##\n",
    "In an hour, a student receives $X$ phone calls from people he knows and $Y$ phone calls from people he doesn't know. Assume that $X$ has the Poisson $(\\lambda)$ distribution and $Y$ has the Poisson $(\\mu)$ distribution. Also assume that $X$ and $Y$ are independent. Finally, assume that each call has chance 0.1 of being missed by the student, independently of all other calls.\n",
    "\n",
    "**a)** Fill in the blank with the name of a distribution and its parameter or parameters:\n",
    "\n",
    "The total number of calls that the student receives has the $\\underline{~~~~~~~~~~~~}$ distribution.\n",
    "\n",
    "**b)** Fill in the blank with the name of a distribution and its parameter or parameters:\n",
    "\n",
    "Given that the student receives a total of $k$ calls, the conditional distribution of the total number of missed calls is $\\underline{~~~~~~~~~~~~}$.\n",
    "\n",
    "**c)** Fill in the blank with the name of a distribution and its parameter or parameters:\n",
    "\n",
    "The total number of missed calls has the $\\underline{~~~~~~~~~~~~}$ distribution.\n",
    "\n",
    "**d)** For non-negative integer $n$, find the chance that the student misses at most $n$ calls from people he knows.\n",
    "\n",
    "**e)** Let $n$ and $m$ be non-negative integers. Find the chance that the student misses at most $n$ calls from people he knows and also misses at least $m$ calls from people he doesn't know. Don't leave infinite sums in your answer."
   ]
  },
  {
   "cell_type": "markdown",
   "metadata": {
    "#solution": false,
    "#staff": false,
    "#student": false
   },
   "source": [
    "## 3. Unbiased Estimators ##\n",
    "\n",
    "**a)** A population of known size $N$ contains an unknown number $G$ of good elements. Let $X$ be the number of good elements in a simple random sample of size $n$ drawn from this population. Use $X$ to construct an unbiased estimator of $G$.\n",
    "\n",
    "See the example in Section 8.2 for a refresher: http://prob140.org/textbook/chapters/Chapter_08/02_Additivity\n",
    "\n",
    "**b)** Would your answer to Part **a)** have been different if $X$ had been the number of good elements in a random sample drawn with replacement from the population? Why or why not?\n",
    "\n",
    "**c)** A flattened die lands 1 and 6 with chance $p/2$ each, and the other faces 2, 3, 4, and 5 with chance $(1-p)/4$ each. Here $p \\in (0, 1)$ is an unknown number. Let $X_1, X_2, \\ldots, X_n$ be the results of $n$ rolls of this die. First find $E(\\vert X_1 - 3.5 \\vert)$, and use the answer to construct an unbiased estimator of $p$ based on all of $X_1, X_2, \\ldots, X_n$."
   ]
  },
  {
   "cell_type": "markdown",
   "metadata": {
    "#solution": false,
    "#staff": false,
    "#student": false
   },
   "source": [
    "## 4. Classification ##\n",
    "In a population of four classes of individuals, the proportion of individuals of Class $i$ is $p_i$ for $i = 1, 2, 3, 4$. Suppose you sample independently from this population, and suppose the sample size is a Poisson random variable with parameter $n$ for a fixed positive integer $n$. \n",
    "\n",
    "**a)** What is the probability that the sample contains at least one individual from each class?\n",
    "\n",
    "**b)** Let $p_i = \\frac{i}{10}$ for $i = 1, 2, 3, 4$. Plot a graph of your answer as a function of $n$ for $n$ in the range 1 through 60. For an example of a calculation of probabilities accompanied by a plot, see Section 1.4 of the text.\n",
    "\n",
    "**c)** Still assuming $p_i = \\frac{i}{10}$ for $i = 1, 2, 3, 4$, find a decimal value for the chance that you get at least two of each kind of individual if the parameter is $n = 50$."
   ]
  },
  {
   "cell_type": "code",
   "execution_count": 10,
   "metadata": {
    "#solution": false,
    "#staff": false,
    "#student": true
   },
   "outputs": [
    {
     "data": {
      "image/png": "[encoded data removed]",
      "text/plain": [
       "<Figure size 360x360 with 1 Axes>"
      ]
     },
     "metadata": {},
     "output_type": "display_data"
    }
   ],
   "source": [
    "#Answer to 4b\n",
    "\n",
    "def p_at_least_one(n):\n",
    "    prob = np.arange(1, 5) / 10\n",
    "    return np.prod(1 - stats.poisson.pmf(0, prob * n))\n",
    "k = np.arange(1, 61)\n",
    "results = Table().with_column('sample size', k)\n",
    "probs = results.apply(p_at_least_one, 0)\n",
    "results = results.with_column('probability', probs)\n",
    "\n",
    "results.scatter('sample size', 'probability')\n",
    "plt.xlim(0, 60)\n",
    "plt.ylim(-0.2, 1.2);"
   ]
  },
  {
   "cell_type": "code",
   "execution_count": 11,
   "metadata": {
    "#solution": false,
    "#staff": false,
    "#student": true
   },
   "outputs": [
    {
     "data": {
      "text/plain": [
       "0.9590883725969347"
      ]
     },
     "execution_count": 11,
     "metadata": {},
     "output_type": "execute_result"
    }
   ],
   "source": [
    "#Answer for 4c\n",
    "pb = np.arange(1, 5) / 10\n",
    "np.prod(1 - stats.poisson.cdf(1, pb * 50))"
   ]
  },
  {
   "cell_type": "markdown",
   "metadata": {
    "#solution": false,
    "#staff": false,
    "#student": false
   },
   "source": [
    "## 5. Geometric Distribution ##\n",
    "Consider an infinite sequence of i.i.d. Bernoulli $(p)$ trials, where $0 < p < 1$. To make the problem more concrete, imagine rolling a die over and over again and keeping track of whether or not you see the face with six spots; but solve the problem for a general $p$.\n",
    "\n",
    "Let $T$ be the index of the first trial that results in a success. Then the possible values of $T$ are $1, 2, 3, \\ldots $. In the case of rolling a die till you see a six, if the rolls come out $2,3,3,4,6$ then the value of $T$ is 5.\n",
    "\n",
    "**a)** Let $q = 1-p$. Explain why $P(T = k) = q^{k-1}p$ for $k \\ge 1$. This is called the *geometric distribution with parameter $p$ on $\\{1, 2, 3, \\ldots \\}$*.\n",
    "\n",
    "**b)** For a positive integer $k$, let $N_k$ be the number of successes in trials 1 through $k$. Fill in the blank in the identity below and explain your choice.\n",
    "\n",
    "$$\n",
    "P(T > k) = P(N_k = \\underline{ ~~~~~~~~~~~~~ })\n",
    "$$\n",
    "\n",
    "**c)** Use **(b)** to find $P(T > k)$ with no calculation.\n",
    "\n",
    "**d)** Use **(c)** and the tail sum formula used in Lab 3 to show that $E(T) = 1/p$."
   ]
  },
  {
   "cell_type": "markdown",
   "metadata": {
    "#solution": false,
    "#staff": false,
    "#student": false
   },
   "source": [
    "## 6. Collecting Distinct Values ##\n",
    "This problem is a workout in finding expectations by using all the tools at your disposal. Some of them have been developed in this homework. If an answer doesn't appear to fit into a formula that has already been proven, it's a very good idea to try to write the variable as a sum of simpler variables.\n",
    "\n",
    "**a)** A fair die is rolled $n$ times. Find the expected number of times the face with six spots appears.\n",
    "\n",
    "**b)** A fair die is rolled $n$ times. Find the expected number of faces that *do not* appear, and say what happens to this expectation as $n$ increases.\n",
    "\n",
    "**c)** Use your answer to **(b)** to find the expected number of distinct faces that *do* appear in $n$ rolls of a die.\n",
    "\n",
    "**d)** Find the expected number of times you have to roll a die till you have seen all of the faces. This is a version of what is known as the *coupon collector's problem*.\n"
   ]
  },
  {
   "cell_type": "markdown",
   "metadata": {
    "#solution": false,
    "#staff": false,
    "#student": false
   },
   "source": [
    "## Submission Instructions ##\n",
    "\n",
    "Many assignments throughout the course will have a written portion and a code portion. Please follow the directions below to properly submit both portions.\n",
    "\n",
    "### Written Portion ###\n",
    "*  Scan all the pages into a PDF. You can use any scanner or a phone using applications such as CamScanner. Please **DO NOT** simply take pictures using your phone. \n",
    "* Please start a new page for each question. If you have already written multiple questions on the same page, you can crop the image in CamScanner or fold your page over (the old-fashioned way). This helps expedite grading.\n",
    "* It is your responsibility to check that all the work on all the scanned pages is legible.\n",
    "\n",
    "### Code Portion ###\n",
    "* Save your notebook using File > Save and Checkpoint.\n",
    "* Run the cell below to generate a PDF file.\n",
    "* Download the PDF file and confirm that none of your work is missing or cut off.  If the link leads you to a blank page, use [Command]+[S] or [Ctrl]+[S] to download your work.  \n",
    "\n",
    "### Submitting ###\n",
    "* Combine the PDFs from the written and code portions into one PDF.  [Here](https://smallpdf.com/merge-pdf) is a useful tool for doing so.  \n",
    "* Submit the assignment to Homework3 on Gradescope.\n",
    "* **Make sure to assign each page of your pdf to the correct question.**\n",
    "\n",
    "\n",
    "### **We will not grade assignments which do not have pages selected for each question or were submitted after the deadline.** "
   ]
  },
  {
   "cell_type": "code",
   "execution_count": null,
   "metadata": {
    "#solution": false,
    "#staff": false,
    "#student": false
   },
   "outputs": [],
   "source": [
    "import gsExport\n",
    "gsExport.generateSubmission(\"Homework_03.ipynb\")"
   ]
  }
 ],
 "metadata": {
  "anaconda-cloud": {},
  "checksums": [
   "36d6125272e38841d377985b31e7a672",
   "ca466c40003089a428b668a82180c6c6",
   "617e9d925b5fe2cd6a35fdd67bbdf752",
   "ca9e3073bae9799a9829c57a3502ca7a",
   "dffd61a4751611802b6c1299d89462f3",
   "ca937c1523c91ef6ff3f0f17cd00185f",
   "ffff077e95ee1056b7bb88dcf5f16641",
   "6e31413d47e6073653358170d9b0cd7a",
   "cf877c508224a767dbb8412a56904492",
   "4f458a8c75adbb9fc547349a20f18117",
   "d223313a2df01a5bd012edb6587e62a1",
   "2285ec8b8aaeba1dc0df0399c25b45b3",
   "7bd879a3348aa78738fccd27d93c67cd",
   "8ec631effb16da9bc4929b968775fb86"
  ],
  "kernelspec": {
   "display_name": "Python 3",
   "language": "python",
   "name": "python3"
  },
  "language_info": {
   "codemirror_mode": {
    "name": "ipython",
    "version": 3
   },
   "file_extension": ".py",
   "mimetype": "text/x-python",
   "name": "python",
   "nbconvert_exporter": "python",
   "pygments_lexer": "ipython3",
   "version": "3.6.7"
  },
  "number_of_pagebreaks": 0
 },
 "nbformat": 4,
 "nbformat_minor": 1
}
