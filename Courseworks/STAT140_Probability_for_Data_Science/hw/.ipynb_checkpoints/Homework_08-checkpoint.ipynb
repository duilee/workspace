{
 "cells": [
  {
   "cell_type": "markdown",
   "metadata": {},
   "source": [
    "<table align=\"left\" style=\"border-style: hidden\" class=\"table\"> <tr><td class=\"col-md-2\"><img style=\"float\" src=\"http://prob140.org/assets/icon256.png\" alt=\"Prob140 Logo\" style=\"width: 120px;\"/></td><td><div align=\"left\"><h3 style=\"margin-top: 0;\">Probability for Data Science</h3><h4 style=\"margin-top: 20px;\">UC Berkeley, Spring 2019</h4><p>Ani Adhikari and Jim Pitman</p>CC BY-NC 4.0</div></td></tr></table><!-- not in pdf -->"
   ]
  },
  {
   "cell_type": "code",
   "execution_count": null,
   "metadata": {
    "#solution": false,
    "#staff": false,
    "#student": false
   },
   "outputs": [],
   "source": [
    "# HIDDEN\n",
    "from datascience import *\n",
    "from prob140 import *\n",
    "import numpy as np\n",
    "import matplotlib.pyplot as plt\n",
    "plt.style.use('fivethirtyeight')\n",
    "%matplotlib inline\n",
    "from scipy import stats\n",
    "from sympy import *\n",
    "init_printing()"
   ]
  },
  {
   "cell_type": "markdown",
   "metadata": {
    "#solution": false,
    "#staff": false,
    "#student": false
   },
   "source": [
    "# Homework 8 #\n",
    "\n",
    "### Instructions\n",
    "\n",
    "Your homeworks have two components: a written portion and a portion that also involves code.  Written work should be completed on paper, and coding questions should be done in the notebook.  You are welcome to LaTeX your answers to the written portions, but staff will not be able to assist you with LaTeX related issues. It is your responsibility to ensure that both components of the homework are submitted completely and properly to Gradescope. Refer to the bottom of the notebook for submission instructions."
   ]
  },
  {
   "cell_type": "markdown",
   "metadata": {
    "#solution": false,
    "#staff": false,
    "#student": false
   },
   "source": [
    "### `Plot_continuous` ###\n",
    "In this homework you will plot a number of densities using the `prob140` function `Plot_continuous` which takes as its arguments:\n",
    "\n",
    "- a list consisting of two elements: the left endpoint and right endpoint of the plotting interval on the horizontal axis\n",
    "- the name of a function that takes a numerical argument and returns the value of the density at that argument; this could be a function you have defined, or a `SciPy` function `stats.distribution_name.pdf`.\n",
    "\n",
    "`Plot_continuous` takes other arguments as well, as you can see in the brief [documentation](http://prob140.org/prob140/_autosummary/prob140.plots.Plot_continuous.html#prob140.plots.Plot_continuous), but you will not need those in the homework. "
   ]
  },
  {
   "cell_type": "markdown",
   "metadata": {
    "#solution": false,
    "#staff": false,
    "#student": false
   },
   "source": [
    "### 1. Transformations of the Normal ###\n",
    "Let $Z$ have the standard normal density.\n",
    "\n",
    "**a)** Find the density of $\\vert Z \\vert$. Don't try to use a formula. Just think about $P(\\vert Z \\vert \\in dy)$ for positive $y$.\n",
    "\n",
    "**b)** Find $E(\\vert Z \\vert)$. Calculating the integral is straightforward; you should just be able to recognize the indefinite integral.\n",
    "\n",
    "**c) [CODE]** Complete the cell below to use `Plot_continuous` to plot the density of $\\vert Z \\vert$ and mark the expectation on the horizontal axis. In Data 8 you saw distributions of this shape when you simulated statistics such as \"the absolute difference between the proportion of heads and 1/2\".\n",
    "\n",
    "Start by defining a function `abs_norm_density` that takes a number $y$ (positive or otherwise) as its argument and returns the density of $\\vert Z \\vert$ at $y$. Then plot the density over the interval $(-0.5, 4)$.\n",
    "\n",
    "Assign $E(\\vert Z \\vert)$ to the name `ev`. Use `np.pi` for $\\pi$."
   ]
  },
  {
   "cell_type": "code",
   "execution_count": null,
   "metadata": {
    "#solution": false,
    "#staff": false,
    "#student": true
   },
   "outputs": [],
   "source": [
    "# answer to 1c\n",
    "\n",
    "def abs_norm_density(y):\n",
    "    if y > 0:\n",
    "        return ...\n",
    "    else:\n",
    "        return ...\n",
    "\n",
    "Plot_continuous(...)\n",
    "\n",
    "ev = ...\n",
    "plt.scatter(ev, -0.01, marker = '^', color='red', s=50)\n",
    "\n",
    "# Labels and axes; do not edit below this line\n",
    "plt.xlabel('$y$')\n",
    "plt.ylabel('Density at $y$')\n",
    "plt.title('Density of $|Z|$')\n",
    "plt.xlim(-0.1, 4)\n",
    "plt.ylim(-0.02, 0.81);"
   ]
  },
  {
   "cell_type": "markdown",
   "metadata": {
    "#solution": false,
    "#staff": false,
    "#student": false
   },
   "source": [
    "**d)** A random variable whose log is normal is said to have a lognormal density. In the previous homework you examined the special case where the log is standard normal. Now let $X$ have the normal $(\\mu, \\sigma^2)$ density and let $Y = e^X$. Use the change of variable formula for densities to find the density of $Y$."
   ]
  },
  {
   "cell_type": "markdown",
   "metadata": {
    "#solution": false,
    "#staff": false,
    "#student": false
   },
   "source": [
    "**e) [CODE]** Complete the definitions in the cell below to get a plot of the lognormal density in the case $\\mu = 0$ and $\\sigma = 1$ and also (in gold) the lognormal density in the case $\\mu = 0$, $\\sigma = 0.5$. Use `np.log(w)` for $\\log(w)$, and remember that `stats.norm.pdf(x, mu, sigma)` evaluates the normal density with mean $\\mu$ and SD $\\sigma$ at the point $x$. "
   ]
  },
  {
   "cell_type": "code",
   "execution_count": null,
   "metadata": {
    "#solution": false,
    "#staff": false,
    "#student": true
   },
   "outputs": [],
   "source": [
    "# answer to 1e\n",
    "\n",
    "# Density of e^Z where Z is standard normal\n",
    "def lognorm_density_1(y):\n",
    "    return ... * stats.norm.pdf(...)\n",
    "\n",
    "\n",
    "# Density of e^X where X is normal with mean 0 and SD 0.5\n",
    "def lognorm_density_05(y):\n",
    "    return ... * stats.norm.pdf(...)\n",
    "\n",
    "Plot_continuous([0.01, 7], lognorm_density_1)\n",
    "Plot_continuous([0.01, 7], lognorm_density_05, color='gold')\n",
    "plt.title('Lognormal Densities');"
   ]
  },
  {
   "cell_type": "markdown",
   "metadata": {
    "#solution": false,
    "#staff": false,
    "#student": false
   },
   "source": [
    "#newpage"
   ]
  },
  {
   "cell_type": "markdown",
   "metadata": {
    "#solution": false,
    "#staff": false,
    "#student": false
   },
   "source": [
    "### 2. Cauchy Density ###\n",
    "Part (a) is from Pitman's text, page 310, where you'll find a useful diagram. But note that we are using $\\Theta$ where he uses $\\Phi$, to avoid confusion with the standard normal cdf.\n",
    "\n",
    "**a)** Suppose that a particle is fired from the origin in the $(x, y)$-plane in a straight line in a direction at a random angle $\\Theta$ to the $x$-axis. Let $Y$ be the $y$-coordinate of the point where the particle hits the line $x = 1$. Show that if $\\Theta$ has the uniform distribution on $(-\\pi/2, \\pi/2)$, then the density of $Y$ is\n",
    "\n",
    "$$\n",
    "f_Y(y) ~ = ~ \\frac{1}{\\pi(1 + y^2)}, ~~~ - \\infty < y < \\infty\n",
    "$$\n",
    "\n",
    "This is called the *Cauchy* density.\n",
    "\n",
    "**b) [CODE]** Use `Plot_continuous` twice, to plot the Cauchy density over the interval $(-5, 5)$ and overlay the standard normal curve. Use `stats.cauchy.pdf` for the Cauchy density, make sure to use  `'gold'` for the color of the normal curve. Refer to the description of `Plot_continuous` at the top of this homework."
   ]
  },
  {
   "cell_type": "code",
   "execution_count": null,
   "metadata": {
    "#solution": false,
    "#staff": false,
    "#student": true
   },
   "outputs": [],
   "source": [
    "# answer to 2b\n",
    "\n",
    "# Plotting interval on the horizontal axis: -5 to 5\n",
    "# The first plot should be the Cauchy.\n",
    "# The gold plot should be the standard normal curve.\n",
    "\n",
    "Plot_continuous(...)\n",
    "Plot_continuous(..., color='gold')"
   ]
  },
  {
   "cell_type": "markdown",
   "metadata": {
    "#solution": false,
    "#staff": false,
    "#student": false
   },
   "source": [
    "**c)** For $Y$ with the Cauchy density, use calculus to show that $E(\\lvert Y \\rvert ) = \\infty$. Thus $E(Y)$ is undefined even though the density of $Y$ is symmetric about 0.\n",
    "\n",
    "The Cauchy curve is called the [Witch of Agnesi](https://en.wikipedia.org/wiki/Witch_of_Agnesi). Skim the History and Applications sections of the Wikipedia article."
   ]
  },
  {
   "cell_type": "markdown",
   "metadata": {
    "#solution": false,
    "#staff": false,
    "#student": false
   },
   "source": [
    "**2d)** Explain what is being plotted by the code below, and discuss what you see in the graph in relation to the Weak Law of Large Numbers. Run the cell several times before you answer. You should also vary $N$.\n",
    "\n",
    "[`stats.cauchy.rvs(size = N)` returns an array of $N$ i.i.d. Cauchy random numbers.]"
   ]
  },
  {
   "cell_type": "code",
   "execution_count": null,
   "metadata": {
    "#solution": false,
    "#staff": false,
    "#student": false
   },
   "outputs": [],
   "source": [
    "#2d: run this\n",
    "N = 10000\n",
    "n = np.arange(1, N+1)\n",
    "x = stats.cauchy.rvs(size = N)\n",
    "y = np.cumsum(x)/n\n",
    "plt.plot(n, y, color='darkblue', lw=2)\n",
    "plt.plot([0, N], [0, 0], color='k', lw=2);"
   ]
  },
  {
   "cell_type": "markdown",
   "metadata": {
    "#solution": false,
    "#staff": false,
    "#student": false
   },
   "source": [
    "#newpage"
   ]
  },
  {
   "cell_type": "markdown",
   "metadata": {
    "#solution": false,
    "#staff": false,
    "#student": false
   },
   "source": [
    "### 3. Functions of Uniform Random Variables ###\n",
    "Let $X$ and $Y$ have joint density\n",
    "\n",
    "$$f(x, y) = \n",
    "\\begin{cases}\n",
    "90(y-x)^8, ~~~~ 0 < x < y < 1 \\\\\n",
    "0 ~~~~~~~~~~~~~~~~~~~~~ \\text{otherwise}\n",
    "\\end{cases}$$ \n",
    "\n",
    "In what follows, please do the calculus yourself. No `SymPy`.\n",
    "\n",
    "**a)** Find $P(Y > 2X)$.\n",
    "\n",
    "**b)** Find the marginal density of $X$.\n",
    "\n",
    "**c)** Fill in the blanks (explain briefly):\n",
    "The joint density $f$ above is the joint density of the $\\underline{~~~~~~~~~~~~~~~~}$ and $\\underline{~~~~~~~~~~~~~~~~}$ of ten independent uniform $(0, 1)$ random variables.\n"
   ]
  },
  {
   "cell_type": "markdown",
   "metadata": {
    "#solution": false,
    "#staff": false,
    "#student": false
   },
   "source": [
    "#newpage"
   ]
  },
  {
   "cell_type": "markdown",
   "metadata": {
    "#solution": false,
    "#staff": false,
    "#student": false
   },
   "source": [
    "### 4. Functions of Exponential Random Variables ###\n",
    "Let $X$ and $Y$ be independent exponential random variables with rates $\\lambda$ and $\\mu$ respectively.\n",
    "\n",
    "**a)** Let $W = \\min(X, Y)$. Find the distribution of $W$. Start by remembering which of the following is easiest when working with minima: the density, the cdf, or the survival function.\n",
    "\n",
    "**b)** Let $c$ be a positive constant. Use the results about exponential random variables in Sections 16.1 and 17.2 of the Prob 140 textbook to find $P(X > cY)$ without integration.\n",
    "\n",
    "**c)** Use part (b) to find the cdf of $\\frac{X}{Y}$."
   ]
  },
  {
   "cell_type": "markdown",
   "metadata": {
    "#solution": false,
    "#staff": false,
    "#student": false
   },
   "source": [
    "#newpage"
   ]
  },
  {
   "cell_type": "markdown",
   "metadata": {
    "#solution": false,
    "#staff": false,
    "#student": false
   },
   "source": [
    "### 5. The Gamma Densities ###\n",
    "In this problem you will start with some calculus exercises and then develop one of the fundamental families of densities. Assume that $r > 0$ and $\\lambda > 0$ are constants.\n",
    "\n",
    "**a)** The *Gamma function* of mathematics is defined by\n",
    "$$\n",
    "\\Gamma (r) ~ = ~ \\int_0^\\infty t^{r-1} e^{-t} dt\n",
    "$$\n",
    "\n",
    "That letter is the upper case Greek letter Gamma. You can assume that the integral converges and that therefore $\\Gamma(r)$ is a positive number.\n",
    "\n",
    "Use integration by parts to show that \n",
    "$$\n",
    "\\Gamma(r+1) ~ = ~ r\\Gamma(r), ~~~ r > 0\n",
    "$$\n",
    "\n",
    "**b)** Use part (a) and induction to show that if $r$ is a positive integer then $\\Gamma(r) = (r-1)!$. Thus the Gamma function is a continuous extension of the factorial function.\n",
    "\n",
    "**c)** Let $X$ have density given by\n",
    "$$\n",
    "f_X(t) =\n",
    "\\begin{cases}\n",
    "\\frac{1}{\\Gamma(r)} t^{r-1}e^{-t}, ~~~ t > 0 \\\\\n",
    "0 ~~~~~~~~~~~~~~~~~~~~ \\text{otherwise}\n",
    "\\end{cases}\n",
    "$$\n",
    "\n",
    "Let $Y = \\frac{1}{\\lambda} X$. Show that the density of $Y$ is\n",
    "\n",
    "$$\n",
    "f_Y(t) =\n",
    "\\begin{cases}\n",
    "\\frac{\\lambda^r}{\\Gamma(r)} t^{r-1}e^{-\\lambda t}, ~~~ t > 0 \\\\\n",
    "0 ~~~~~~~~~~~~~~~~~~~~ \\text{otherwise}\n",
    "\\end{cases}\n",
    "$$\n",
    "\n",
    "This is called the gamma $(r, \\lambda)$ density.\n",
    "\n",
    "**d)** Use (c) and the formula in Section 16.3 of the Prob 140 textbook to confirm that if $Z$ has the standard normal density then $Z^2$ has the gamma $(1/2, 1/2)$ density. Hence find $\\Gamma (1/2)$, and then use (a) to find $\\Gamma (3/2)$ and $\\Gamma (5/2)$. Please don't leave any integrals in your answers.\n",
    "\n",
    "**Shapes of Gamma Densities:** Part (c) shows that the gamma $(r, \\lambda)$ density is obtained as a change of scale (units of measurement) starting with a gamma $(r, 1)$ random variable and multiplying it by $1/\\lambda$. That is why `stats` calls $1/\\lambda$ the *scale parameter* of the gamma density. \n",
    "\n",
    "The parameter $r$ determines the shape of the curve and is called the *shape parameter*. To see why, it helps to look at some plots.\n",
    "\n",
    "The method `stats.gamma.pdf` can be used with the following arguments to return the value of the density:\n",
    "- the value of $t$ (possibly an array) at which to evaluate the density\n",
    "- $r$\n",
    "- $\\lambda$ specified as `scale=1/`$\\lambda$\n",
    "\n",
    "Run the cell below to see overlaid graphs of the several gamma densities with different values of $r$ but the same $\\lambda$. You will see why $r$ is called the shape parameter."
   ]
  },
  {
   "cell_type": "code",
   "execution_count": null,
   "metadata": {
    "#solution": false,
    "#staff": false,
    "#student": false
   },
   "outputs": [],
   "source": [
    "t = np.arange(0, 25, 0.01)\n",
    "r_1 = stats.gamma.pdf(t, 1, scale=1/0.25)\n",
    "r_1_5 = stats.gamma.pdf(t, 1.5, scale=1/0.25)\n",
    "r_2 = stats.gamma.pdf(t, 2, scale=1/0.25)\n",
    "r_2_5 = stats.gamma.pdf(t, 2.5, scale=1/0.25)\n",
    "r_3 = stats.gamma.pdf(t, 3, scale=1/0.25)\n",
    "plt.plot(t, r_1, lw=2, label='gamma (1, 0.25)')\n",
    "plt.plot(t, r_1_5, lw=2, label='gamma (1.5, 0.25)')\n",
    "plt.plot(t, r_2, lw=2, label='gamma (2, 0.25)')\n",
    "plt.plot(t, r_2_5, lw=2, label='gamma (2.5, 0.25)')\n",
    "plt.plot(t, r_3, lw=2, label='gamma (3, 0.25)')\n",
    "plt.xlabel('$t$')\n",
    "plt.legend();"
   ]
  },
  {
   "cell_type": "markdown",
   "metadata": {
    "#solution": false,
    "#staff": false,
    "#student": false
   },
   "source": [
    "#newpage"
   ]
  },
  {
   "cell_type": "markdown",
   "metadata": {
    "#solution": false,
    "#staff": false,
    "#student": false
   },
   "source": [
    "### 6. Mean and Variance of the Gamma ###\n",
    "As in Question 5, let $r$ and $\\lambda$ be positive constants.\n",
    "\n",
    "**a)** Use Question 5(c) and properties of densities to evaluate\n",
    "$$\n",
    "\\int_0^\\infty t^{r-1}e^{-\\lambda t} dt\n",
    "$$\n",
    "in terms of $r$, $\\lambda$, and the Gamma function. For what follows, keep in mind that your formula is correct for all positive $r$.\n",
    "\n",
    "**b)** Let $T$ have gamma $(r, \\lambda)$ density. Use (a) and 5(a) to find a simple formula for $E(T)$ in terms of $r$ and $\\lambda$. Please don't leave any integrals in your answer.\n",
    "\n",
    "**c)** For $T$ as in (b), find $E(T^2)$ and hence $Var(T)$. Again, there should be no integrals left in your answer.\n",
    "\n",
    "**d)** Identify the gamma $(1, \\lambda)$ density as one that has another famous name, and confirm that your answers to (b) and (c) are consistent with what you already know about that density."
   ]
  },
  {
   "cell_type": "markdown",
   "metadata": {
    "#solution": false,
    "#staff": false,
    "#student": false
   },
   "source": [
    "#newpage"
   ]
  },
  {
   "cell_type": "markdown",
   "metadata": {
    "#solution": false,
    "#staff": false,
    "#student": false
   },
   "source": [
    "### 7. Marginal Density ###"
   ]
  },
  {
   "cell_type": "markdown",
   "metadata": {
    "#solution": false,
    "#staff": false,
    "#student": false
   },
   "source": [
    "The exercise is taken from Pitman's Exercise 5.2.8, but you will go a bit further here. Please review Lab 8 for how to use `SymPy`. Everything you need for the code below has already been imported.\n",
    "\n",
    "For some constant $c > 0$, random variables $X$ and $Y$ have a joint density $f$ defined as follows.\n",
    "\n",
    "$$\n",
    "f(x, y) ~ = ~ \n",
    "\\begin{cases}\n",
    "c(y^2 - x^2)e^{-y}, ~~~ y > 0, ~ -y < x < y  \\\\\n",
    "0 ~~~~~~~~~~~~~~~~~~~~~~~~~ \\text{otherwise}\n",
    "\\end{cases}\n",
    "$$\n",
    "\n",
    "There are several symbols in the definition. Let's start by creating `x` and `y`. Notice that `x` can be negative."
   ]
  },
  {
   "cell_type": "code",
   "execution_count": null,
   "metadata": {
    "#solution": false,
    "#staff": false,
    "#student": false
   },
   "outputs": [],
   "source": [
    "x = Symbol('x')\n",
    "y = Symbol('y', positive=True)"
   ]
  },
  {
   "cell_type": "markdown",
   "metadata": {
    "#solution": false,
    "#staff": false,
    "#student": false
   },
   "source": [
    "The normalizing constant $c$ is also a symbol."
   ]
  },
  {
   "cell_type": "code",
   "execution_count": null,
   "metadata": {
    "#solution": false,
    "#staff": false,
    "#student": false
   },
   "outputs": [],
   "source": [
    "c = Symbol('c', positive=True)"
   ]
  },
  {
   "cell_type": "markdown",
   "metadata": {
    "#solution": false,
    "#staff": false,
    "#student": false
   },
   "source": [
    "**a)** Find a formula for $c$. Be careful about limits of integration."
   ]
  },
  {
   "cell_type": "markdown",
   "metadata": {
    "#solution": false,
    "#staff": false,
    "#student": false
   },
   "source": [
    "**b)** Complete the cell below so that the expression in the last line evaluates to the numerical value of $c$."
   ]
  },
  {
   "cell_type": "code",
   "execution_count": null,
   "metadata": {
    "#solution": false,
    "#staff": false,
    "#student": true
   },
   "outputs": [],
   "source": [
    "# answer to 7b\n",
    "\n",
    "h = ...\n",
    "c = 1 / integrate(h, (x, ...), (y, ...))\n",
    "c"
   ]
  },
  {
   "cell_type": "markdown",
   "metadata": {
    "#solution": false,
    "#staff": false,
    "#student": false
   },
   "source": [
    "**c)** Construct an expression `f` that equals $f(x, y)$, using `c` and `h` from the previous code cell, and check that it is a joint density."
   ]
  },
  {
   "cell_type": "code",
   "execution_count": null,
   "metadata": {
    "#solution": false,
    "#staff": false,
    "#student": true
   },
   "outputs": [],
   "source": [
    "# answer to 7c\n",
    "\n",
    "f = ...\n",
    "Integral(...).doit()"
   ]
  },
  {
   "cell_type": "markdown",
   "metadata": {
    "#solution": false,
    "#staff": false,
    "#student": false
   },
   "source": [
    "**d)** Find the possible values of $Y$ and write a formula for $f_Y$, the density of $Y$. You don't have to evaluate the integral by hand (you'll use `SymPy` for that below), but be careful about the limits of integration."
   ]
  },
  {
   "cell_type": "markdown",
   "metadata": {
    "#solution": false,
    "#staff": false,
    "#student": false
   },
   "source": [
    "**e)** Complete the cell below so that `f_Y` in the last line evaluates to $f_Y(y)$."
   ]
  },
  {
   "cell_type": "code",
   "execution_count": null,
   "metadata": {
    "#solution": false,
    "#staff": false,
    "#student": true
   },
   "outputs": [],
   "source": [
    "# answer to 7e\n",
    "\n",
    "f_Y = ...\n",
    "f_Y"
   ]
  },
  {
   "cell_type": "markdown",
   "metadata": {
    "#solution": false,
    "#staff": false,
    "#student": false
   },
   "source": [
    "**f)** Recognize the density of $Y$ as one of the famous ones, and then complete the cell below to the density over the interval provided. In the comment line, enter the name and parameters of the distribution, and also the value of $E(Y)$."
   ]
  },
  {
   "cell_type": "markdown",
   "metadata": {
    "#solution": false,
    "#staff": false,
    "#student": false
   },
   "source": [
    "#newpage"
   ]
  },
  {
   "cell_type": "markdown",
   "metadata": {
    "#solution": false,
    "#staff": false,
    "#student": false
   },
   "source": [
    "### 8. Expectations by Conditioning ###\n",
    "This continues the previous exercise. In your calculations below, you should use the symbolic expressions you defined above.\n",
    "\n",
    "The goal of this exercise is to work with the conditional density of $X$ given $Y = y$. As in class, we will denote this density by $f_{X \\mid Y=y}$. \n",
    "\n",
    "First read \"Conditional Densities\" in [Section 17.3](http://prob140.org/textbook/chapters/Chapter_17/03_Marginal_and_Conditional_Densities) of the textbook. Most of the discussion is about conditioning $Y$ on $X$, whereas in this exercise you are conditioning $X$ on $Y$. Just switch the roles of $X$ and $Y$ in the text."
   ]
  },
  {
   "cell_type": "markdown",
   "metadata": {
    "#solution": false,
    "#staff": false,
    "#student": false
   },
   "source": [
    "**a)** Let $y > 0$. Fill in the comment line in the cell below with the possible values of $X$ given that $Y = y$. Then complete the rest of the cell so that the last line evaluates to $f_{X|Y=y}(x)$. "
   ]
  },
  {
   "cell_type": "code",
   "execution_count": null,
   "metadata": {
    "#solution": false,
    "#staff": false,
    "#student": true
   },
   "outputs": [],
   "source": [
    "# answer to 8a\n",
    "\n",
    "# Conditional density of X given Y=y for fixed y > 0:\n",
    "\n",
    "\"\"\"Given Y=y, the possible values of X are ...\"\"\"\n",
    "\n",
    "f_X_given_Y_is_y = ...\n",
    "\n",
    "f_X_given_Y_is_y"
   ]
  },
  {
   "cell_type": "markdown",
   "metadata": {
    "#solution": false,
    "#staff": false,
    "#student": false
   },
   "source": [
    "**b)** Complete the cell below to check that `f_X_given_Y_is_y` defines a probability density for each $y > 0$."
   ]
  },
  {
   "cell_type": "code",
   "execution_count": null,
   "metadata": {
    "#solution": false,
    "#staff": false,
    "#student": true
   },
   "outputs": [],
   "source": [
    "# answer to 8b\n",
    "\n",
    "..."
   ]
  },
  {
   "cell_type": "markdown",
   "metadata": {
    "#solution": false,
    "#staff": false,
    "#student": false
   },
   "source": [
    "**c)** Plot the graph of $f_{X \\mid Y=2}$ over all the possible values of $X$ given that $Y=2$."
   ]
  },
  {
   "cell_type": "code",
   "execution_count": null,
   "metadata": {
    "#solution": false,
    "#staff": false,
    "#student": true
   },
   "outputs": [],
   "source": [
    "# answer to 8c\n",
    "\n",
    "f_X_given_Y_is_2 = f_X_given_Y_is_y...\n",
    "Plot_continuous(..., f_X_given_Y_is_2)"
   ]
  },
  {
   "cell_type": "markdown",
   "metadata": {
    "#solution": false,
    "#staff": false,
    "#student": false
   },
   "source": [
    "**d)** Use Part **(c)** to find the value of $E(X \\mid Y = 2)$ without calculation. Explain using Part **(a)** why the answer will be the same if you replace 2 with any $y > 0$."
   ]
  },
  {
   "cell_type": "markdown",
   "metadata": {
    "#solution": false,
    "#staff": false,
    "#student": false
   },
   "source": [
    "**e)** Use Part **(d)** to find $E(X)$ without calculation. Justify your answer: what result are you using?"
   ]
  },
  {
   "cell_type": "markdown",
   "metadata": {
    "#solution": false,
    "#staff": false,
    "#student": false
   },
   "source": [
    "**f)** Pitman's text asks why $E(\\vert X \\vert)$ is at most 4. Answer by filling in the blank with a comparison operator (such as $=$, $\\ge$, etc):  \n",
    "\n",
    "$$\n",
    "\\vert X \\vert ~ \\underline{~~~~~~~~~~} ~ Y\n",
    "$$\n",
    "\n",
    "and then find a relevant 4 somewhere in the previous exercise."
   ]
  },
  {
   "cell_type": "markdown",
   "metadata": {
    "#solution": false,
    "#staff": false,
    "#student": false
   },
   "source": [
    "**g)** OK, so $E(\\vert X \\vert)$ is at most 4. But what is its value, exactly? The remaining parts of this exercise take you through that calculation.\n",
    "\n",
    "Complete the cell below so that the expression in the last line evaluates to $E(\\vert X \\vert \\mid Y = y)$ for $y > 0$. Be careful about which symbol represents a constant and which represents a variable, and remember the symmetry you observed earlier."
   ]
  },
  {
   "cell_type": "code",
   "execution_count": null,
   "metadata": {
    "#solution": false,
    "#staff": false,
    "#student": true
   },
   "outputs": [],
   "source": [
    "# answer to 8g\n",
    "\n",
    "# E(|X| | Y=y)\n",
    "\n",
    "expectation_absX_given_Y_is_y = 2 * Integral(..., (x, ...)).doit()\n",
    "expectation_absX_given_Y_is_y"
   ]
  },
  {
   "cell_type": "markdown",
   "metadata": {
    "#solution": false,
    "#staff": false,
    "#student": false
   },
   "source": [
    "**h)** Finally, find the numerical value of $E(\\vert X \\vert)$ and confirm that it is indeed no bigger than 4. **Do not integrate anything;** at this point the calculation just involves very simple mental arithmetic. Use what you just showed and what you already know about $Y$."
   ]
  },
  {
   "cell_type": "markdown",
   "metadata": {
    "#solution": false,
    "#staff": false,
    "#student": false
   },
   "source": [
    "## Submission Instructions ##\n",
    "\n",
    "Many assignments throughout the course will have a written portion and a code portion. Please follow the directions below to properly submit both portions.\n",
    "\n",
    "### Written Portion ###\n",
    "*  Scan all the pages into a PDF. You can use any scanner or a phone using applications such as CamScanner. Please **DO NOT** simply take pictures using your phone. \n",
    "* Please start a new page for each question. If you have already written multiple questions on the same page, you can crop the image in CamScanner or fold your page over (the old-fashioned way). This helps expedite grading.\n",
    "* It is your responsibility to check that all the work on all the scanned pages is legible.\n",
    "\n",
    "### Code Portion ###\n",
    "* **Save your notebook using File > Save and Checkpoint.**\n",
    "* Run the cell below to generate a PDF file.\n",
    "* Download the PDF file and confirm that none of your work is missing or cut off.  If the link leads you to a blank page, use [Command]+[S] or [Ctrl]+[S] to download your work.  \n",
    "\n",
    "### Submitting ###\n",
    "* Combine the PDFs from the written and code portions into one PDF.  [Here](https://smallpdf.com/merge-pdf) is a useful tool for doing so.  \n",
    "* Submit the assignment to Homework 8 on Gradescope.\n",
    "* **Make sure to assign each page of your pdf to the correct question.**\n",
    "\n",
    "\n",
    "### **We will not grade assignments which do not have pages selected for each question or were submitted after the deadline.** "
   ]
  },
  {
   "cell_type": "code",
   "execution_count": null,
   "metadata": {
    "#solution": false,
    "#staff": false,
    "#student": false
   },
   "outputs": [],
   "source": [
    "import gsExport\n",
    "gsExport.generateSubmission(\"Homework_08.ipynb\")"
   ]
  }
 ],
 "metadata": {
  "anaconda-cloud": {},
  "checksums": [
   "36d6125272e38841d377985b31e7a672",
   "f40433e381bd660b397280a74bb5cf8d",
   "c4f70ed904b8a362ff47ce44fe0d8f21",
   "965857974851e2b3325a2c9341a0b64a",
   "a67445f99ce616392b57c8ffffd044a0",
   "fbc408151f5514538c01d61fb555fa13",
   "244db7807311a485f00af60f4c7aee96",
   "b29216725f576b3f95ca9027ba9d2131",
   "9912ee8fc37c6bd70ff7e07cec500c57",
   "640061103a186fd26f59746dd4d6de57",
   "b7f06cc9a6e0b7836882dbb0e078dd3a",
   "8212c7db5f389648426ce79a7b90a349",
   "26c5dfa61e7e02bc2eb0fcc9a5efbdea",
   "b1aa34d11cc880b97ef0556559d53766",
   "d1ed123e35d2a9e8843d78c12502a638",
   "640061103a186fd26f59746dd4d6de57",
   "c243feac20439c01df6106eee04916f0",
   "640061103a186fd26f59746dd4d6de57",
   "ecc499ed1d32aea833ef967cbe621f8b",
   "640061103a186fd26f59746dd4d6de57",
   "16566824e0af3e2137f38689ab7088f2",
   "02f38f8d3fbfbacf6c7e1f696ca2b1fa",
   "640061103a186fd26f59746dd4d6de57",
   "2ad7344124ab793f50b491892f72ff38",
   "640061103a186fd26f59746dd4d6de57",
   "c623b0a08ef9f1198e7206f399c02699",
   "df47bfc2344ea86f199ef1e8a7fc8ee9",
   "561118e974c477b1c9857a5c1e9b7b9b",
   "cb3bc864307455e0c1db9ac35a2188cd",
   "314a0a72b9b758f615cbfa2ff1bf4e48",
   "260328be9dbfd6d316307abedab9b305",
   "9bcea7042016fe97e899f19e9f896358",
   "be471d842ae0c317da0e104a1c2d7561",
   "b61bbc984b23d756c9aa4b58ac3164dc",
   "355c53b1e26b8a0c130e9f3ad08f3c5d",
   "28381d0cb5e0f121ee3a7f263c9e15a7",
   "b19403b2b78a33d38b669e34d0787828",
   "f1318328957143f21d0b2a5d4dffff4e",
   "fa125f7c3d53bedf1d79cabc8f941373",
   "640061103a186fd26f59746dd4d6de57",
   "9c746d7adce1ac5ba4cb8210668f7a81",
   "927e043cb019edf6798554622bab1588",
   "4f416f49a507219e5046ee511a66cb54",
   "9c07b1d0acd58d5eea0cea886a9a9757",
   "4bc2c867b176e0070e724d1a86428b69",
   "86ecffa19655c63d1d828f41308a39a2",
   "11480b0f5828afc1e5e669b6d23013e3",
   "2fa6ba29d57cace2b9dd37520e255320",
   "65f1e65e1238d288d366378682f9e798",
   "93abb44115c36c6663b7eb7b5ab60fc6",
   "a46f7f7c04250c3207f3571383b7d094",
   "1083f4ee499b67cefb7132a06e9d71ab",
   "f3926ffe5debaa1579eeb3ca2aa9bccd",
   "294f8f384e058d4b2f153e699e7c8438",
   "e87ed78a031ac468ed47e10e58fea10b"
  ],
  "kernelspec": {
   "display_name": "Python 3",
   "language": "python",
   "name": "python3"
  },
  "language_info": {
   "codemirror_mode": {
    "name": "ipython",
    "version": 3
   },
   "file_extension": ".py",
   "mimetype": "text/x-python",
   "name": "python",
   "nbconvert_exporter": "python",
   "pygments_lexer": "ipython3",
   "version": "3.6.7"
  },
  "number_of_pagebreaks": 7,
  "widgets": {
   "state": {},
   "version": "1.1.2"
  }
 },
 "nbformat": 4,
 "nbformat_minor": 2
}
