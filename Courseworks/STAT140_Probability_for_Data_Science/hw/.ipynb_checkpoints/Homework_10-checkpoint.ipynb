{
 "cells": [
  {
   "cell_type": "markdown",
   "metadata": {},
   "source": [
    "<table align=\"left\" style=\"border-style: hidden\" class=\"table\"> <tr><td class=\"col-md-2\"><img style=\"float\" src=\"http://prob140.org/assets/icon256.png\" alt=\"Prob140 Logo\" style=\"width: 120px;\"/></td><td><div align=\"left\"><h3 style=\"margin-top: 0;\">Probability for Data Science</h3><h4 style=\"margin-top: 20px;\">UC Berkeley, Spring 2019</h4><p>Ani Adhikari and Jim Pitman</p>CC BY-NC 4.0</div></td></tr></table><!-- not in pdf -->"
   ]
  },
  {
   "cell_type": "code",
   "execution_count": null,
   "metadata": {
    "#solution": false,
    "#staff": false,
    "#student": false
   },
   "outputs": [],
   "source": [
    "# HIDDEN\n",
    "from datascience import *\n",
    "from prob140 import *\n",
    "import numpy as np\n",
    "import matplotlib.pyplot as plt\n",
    "plt.style.use('fivethirtyeight')\n",
    "%matplotlib inline\n",
    "from scipy import stats\n",
    "from scipy import special\n",
    "import warnings\n",
    "warnings.filterwarnings('ignore')"
   ]
  },
  {
   "cell_type": "markdown",
   "metadata": {
    "#solution": false,
    "#staff": false,
    "#student": false
   },
   "source": [
    "# Homework 10 #\n",
    "\n",
    "### Instructions\n",
    "\n",
    "Your homeworks have two components: a written portion and a portion that also involves code.  Written work should be completed on paper, and coding questions should be done in the notebook.  You are welcome to LaTeX your answers to the written portions, but staff will not be able to assist you with LaTeX related issues. It is your responsibility to ensure that both components of the homework are submitted completely and properly to Gradescope. Refer to the bottom of the notebook for submission instructions."
   ]
  },
  {
   "cell_type": "markdown",
   "metadata": {
    "#solution": false,
    "#staff": false,
    "#student": false
   },
   "source": [
    "### Preliminary: Distributions ###\n",
    "The code below will help you in some of the exercises. Please refer to it as needed.\n",
    "\n",
    "**Discrete Distribution Table Defined by a Probability Function**\n",
    "\n",
    "`Table().values(values_array).probability_function(name_of_function)` evaluates to the distribution table of a discrete random variable $X$ such that:\n",
    "\n",
    "- `values_array` is an array consisting of the possible values of $X$\n",
    "- `name_of_function` is the name of a function that takes $x$ as its argument and returns $P(X =x)$\n",
    "\n",
    "**Beta Density**\n",
    "\n",
    "For an array `x` of values in the unit interval, `stats.beta.pdf(x, r, s)` evaluates to the array f(`x`) where $f$ is the beta (`r`, `s`) density.\n",
    "\n",
    "**Simulated Exponential Random Variables**\n",
    "\n",
    "`stats.expon.rvs(scale = 1/lam, size=n)` evaluates to an array consisting of observed values of i.i.d. exponential (`lam`) random variables $X_1, X_2, \\ldots, X_n$.\n",
    "\n",
    "**Simulated Gamma Random Variables**\n",
    "\n",
    "`stats.gamma.rvs(r, scale = 1/lam, size=n)` evaluates to an array consisting of observed values of i.i.d. gamma (`r`, `lam`) random variables $X_1, X_2, \\ldots, X_n$."
   ]
  },
  {
   "cell_type": "markdown",
   "metadata": {
    "#solution": false,
    "#staff": false,
    "#student": false
   },
   "source": [
    "### Preliminary: Line Plots ###\n",
    "In Data 8 you used `Table.plot` to draw line plots, but in this class the line plots have typically been drawn using the `plot` function of `matplotlib`. Here is the syntax; you are going to need it in the exercises. It's easier than setting up tables first, especially when you want to overlay multiple plots.\n",
    "\n",
    "The `pyplot` module of `matplotlib` has been imported for you as `plt`. This is its standard abbreviation.\n",
    "\n",
    "Let `x` and `y` be two numerical arrays of the same length. Then `plt.plot(x, y)` produces a line plot with values of `x` on the horizontal axis and the corresponding values of `y` on the vertical. The plot \"joins the dots\" (`x.item(0)`, `y.item(0)`), (`x.item(1)`, `y.item(1)`), (`x.item(2)`, `y.item(2)`), and so on.\n",
    "\n",
    "The optional argument `lw=n` can be used to set a line width of `n` units. Just use `lw=2` in this homework.\n",
    "\n",
    "The semicolon at the end of the last line of code in each cell stops `matplotlib` from blurting out text that we don't need here.\n",
    "\n",
    "Run these cells to see some examples. Note the overlaid plots: they are straightforward to draw, and Python chooses a different color for each plot. "
   ]
  },
  {
   "cell_type": "code",
   "execution_count": null,
   "metadata": {
    "#solution": false,
    "#staff": false,
    "#student": false
   },
   "outputs": [],
   "source": [
    "x = np.arange(0, 1.01, 0.01)\n",
    "x_squared = x ** 2\n",
    "plt.plot(x, x_squared);"
   ]
  },
  {
   "cell_type": "code",
   "execution_count": null,
   "metadata": {
    "#solution": false,
    "#staff": false,
    "#student": false
   },
   "outputs": [],
   "source": [
    "plt.plot(x, x_squared, lw=2);"
   ]
  },
  {
   "cell_type": "code",
   "execution_count": null,
   "metadata": {
    "#solution": false,
    "#staff": false,
    "#student": false
   },
   "outputs": [],
   "source": [
    "x_cubed = x ** 3\n",
    "plt.plot(x, x_squared, lw=2)\n",
    "plt.plot(x, x_cubed, lw=2);"
   ]
  },
  {
   "cell_type": "markdown",
   "metadata": {
    "#solution": false,
    "#staff": false,
    "#student": false
   },
   "source": [
    "You can get more fancy with labels and legends, but you don't have to do that in this homework."
   ]
  },
  {
   "cell_type": "code",
   "execution_count": null,
   "metadata": {
    "#solution": false,
    "#staff": false,
    "#student": false
   },
   "outputs": [],
   "source": [
    "x_cubed = x ** 3\n",
    "plt.plot(x, x_squared, lw=2, label = 'Square')\n",
    "plt.plot(x, x_cubed, lw=2, label = 'Cube')\n",
    "plt.legend()\n",
    "plt.xlabel('x');"
   ]
  },
  {
   "cell_type": "markdown",
   "metadata": {
    "#solution": false,
    "#staff": false,
    "#student": false
   },
   "source": [
    "This is only a tiny fraction of what you can do with `matplotlib`. For more, here is a great [tutorial](https://www.labri.fr/perso/nrougier/teaching/matplotlib/matplotlib.html) by [Nicolas Rougier](https://www.labri.fr/perso/nrougier/)."
   ]
  },
  {
   "cell_type": "markdown",
   "metadata": {
    "#solution": false,
    "#staff": false,
    "#student": false
   },
   "source": [
    "### 1.  Heads in Tosses of a Random Coin ###\n",
    "Let $X$ be a random proportion with a prior distribution that is beta $(2, 3)$. Given $X = p$, let $N$ be the number of heads in 5 tosses of a $p$-coin.\n",
    "\n",
    "**a)** Plot the prior density of $X$."
   ]
  },
  {
   "cell_type": "code",
   "execution_count": null,
   "metadata": {
    "#solution": false,
    "#staff": false,
    "#student": true
   },
   "outputs": [],
   "source": [
    "# Your answer to 1a\n",
    "\n",
    "x = np.arange(0, 1.01, 0.01)\n",
    "\n",
    "...\n",
    "\n",
    "plt.title('Beta $(2, 3)$ density');"
   ]
  },
  {
   "cell_type": "markdown",
   "metadata": {
    "#solution": false,
    "#staff": false,
    "#student": false
   },
   "source": [
    "**b)** For each $n = 0, 1, 2, 3, 4, 5$, plot the posterior density of $X$ given $N=n$. All six plots should be on the same graph. "
   ]
  },
  {
   "cell_type": "code",
   "execution_count": null,
   "metadata": {
    "#solution": false,
    "#staff": false,
    "#student": true
   },
   "outputs": [],
   "source": [
    "# Your answer to 1b\n"
   ]
  },
  {
   "cell_type": "markdown",
   "metadata": {
    "#solution": false,
    "#staff": false,
    "#student": false
   },
   "source": [
    "**c)** For each $n = 0, 1, 2, 3, 4, 5$, find the MAP estimate of the probability of heads given $N=n$, by completing the cell below with an appropriate expression. Here `map_estimates` is an array that contains all the MAP estimates. \n",
    "\n",
    "By eye, check that your answers are consistent with the graphs in (b)."
   ]
  },
  {
   "cell_type": "code",
   "execution_count": null,
   "metadata": {
    "#solution": false,
    "#staff": false,
    "#student": true
   },
   "outputs": [],
   "source": [
    "# Your answer to 1c\n",
    "\n",
    "r = 2\n",
    "s = 3\n",
    "n = 5\n",
    "k = np.arange(0, n+1)\n",
    "\n",
    "map_estimates = ...\n",
    "    \n",
    "map_estimates"
   ]
  },
  {
   "cell_type": "markdown",
   "metadata": {
    "#solution": false,
    "#staff": false,
    "#student": false
   },
   "source": [
    "**d)** Complete the cell below to display the probability histogram of $N$. You can use any number of lines of code in the definition. In the blanks in the last line of the cell, enter the name of the distribution and provide the numerical parameters.\n",
    "\n",
    "If you want to, you can use `special.factorial(j)` to get the factorials of the non-negative integer array `j`. The `special` module of `SciPy` has been imported for you. But you can also write the code without computing factorials."
   ]
  },
  {
   "cell_type": "code",
   "execution_count": null,
   "metadata": {
    "#solution": false,
    "#staff": false,
    "#student": true
   },
   "outputs": [],
   "source": [
    "# Your answer to 1d\n",
    "\n",
    "def probs_N(n):\n",
    "    ...\n",
    "    ...\n",
    "    return ...\n",
    "\n",
    "dist = Table().values(...).probability_function(probs_N)\n",
    "Plot(dist)\n",
    "plt.title('... Distribution with Parameters ...');"
   ]
  },
  {
   "cell_type": "markdown",
   "metadata": {
    "#solution": false,
    "#staff": false,
    "#student": false
   },
   "source": [
    "**e)** Find the numerical value of $E(N)$ without using a code cell."
   ]
  },
  {
   "cell_type": "markdown",
   "metadata": {
    "#solution": false,
    "#staff": false,
    "#student": false
   },
   "source": [
    "#newpage"
   ]
  },
  {
   "cell_type": "markdown",
   "metadata": {
    "#solution": false,
    "#staff": false,
    "#student": false
   },
   "source": [
    "### 2. Waiting for a Random Coin to Land Heads ###\n",
    "Let $X$ be a random proportion. Given $X=p$, let $T$ be the number of tosses till a $p$-coin lands heads.\n",
    "\n",
    "**a)** Let $P(X = 1/10) = 1/4$, $P(X = 1/7) = 1/4$, and $P(X = 1/3) = 1/2$. Find $E(T)$.\n",
    "\n",
    "**b)** Find $E(T)$ if $X$ has the beta $(r, s)$ density for some $r > 1$. Simplify all integrals and Gamma functions in your answer.\n",
    "\n",
    "**c)** Let $X$ have the beta $(r, s)$ density. For fixed $k > 0$, find the posterior density of $X$ given $T = k$. Identify it as one of the famous ones and state its name and parameters."
   ]
  },
  {
   "cell_type": "markdown",
   "metadata": {
    "#solution": false,
    "#staff": false,
    "#student": false
   },
   "source": [
    "#newpage"
   ]
  },
  {
   "cell_type": "markdown",
   "metadata": {
    "#solution": false,
    "#staff": false,
    "#student": false
   },
   "source": [
    "### 3. Discrete and Continuous Random Selections ###\n",
    "Fix a positive integer $n$, and let $p$ be strictly between 0 and 1.\n",
    "\n",
    "Suppose Person A picks a number uniformly in the interval $(0, n)$. Let $X$ be the number Person A picks.\n",
    "\n",
    "Suppose that independently of Person A, Person B picks an integer $Y$ according to the binomial $(n, p)$ distribution, for example by using `stats.binom.rvs(n, p, size=1)` or by tossing a $p$-coin $n$ times and recording the number of heads.\n",
    "\n",
    "Find $P(X < Y)$."
   ]
  },
  {
   "cell_type": "markdown",
   "metadata": {
    "#solution": false,
    "#staff": false,
    "#student": false
   },
   "source": [
    "#newpage"
   ]
  },
  {
   "cell_type": "markdown",
   "metadata": {
    "#solution": false,
    "#staff": false,
    "#student": false
   },
   "source": [
    "### 4. Maximum Likelihood Estimate of the Exponential Rate ###\n",
    "For $n > 1$, let $X_1, X_2, \\ldots , X_n$ be i.i.d. exponential $(\\lambda )$ variables. \n",
    "\n",
    "**a)** Let $\\hat{\\lambda}_n$ be the maximum likelihood estimate (MLE) of the parameter $\\lambda$. Find $\\hat{\\lambda}_n$ in terms of the sample mean $\\bar{X}_n = \\frac{1}{n} \\sum_{i=1}^n X_i$. The subscript $n$ in $\\bar{X}_n$ is there to remind us that we have the average of $n$ values. It doesn't refer to the $n$th sampled value $X_n$."
   ]
  },
  {
   "cell_type": "markdown",
   "metadata": {
    "#solution": false,
    "#staff": false,
    "#student": false
   },
   "source": [
    "**b)** This part is a simulation study in which you already know $\\lambda$ and are examining how close your estimate comes to this known value. Take $\\lambda = 0.25$. We have assigned it the name `lam` because `lambda` means something else in Python.\n",
    "\n",
    "Repeat the following simulation 10,000 times.\n",
    "- Generate a sample of 400 i.i.d. exponential (`lam`) variables. Use `stats.expon.rvs(scale = 1/lam, size=400)`.\n",
    "- Calculate your MLE $\\hat{\\lambda}_{400}$ based on this sample.\n",
    "\n",
    "Then draw the histogram and find the mean of your 10,000 MLEs. "
   ]
  },
  {
   "cell_type": "code",
   "execution_count": null,
   "metadata": {
    "#solution": false,
    "#staff": false,
    "#student": true
   },
   "outputs": [],
   "source": [
    "# Your answer to 4b\n",
    "lam = 0.25\n",
    "\n",
    "# Define a function that returns the MLE based on \n",
    "# one i.i.d. sample of size 400 \n",
    "# from the exponential distribution with lambda = 0.25\n",
    "def mle_from_one_sample():\n",
    "    sample = ...\n",
    "    return ...\n",
    "\n",
    "# Construct an array of 10,000 MLEs\n",
    "mle_400 = make_array()\n",
    "for i in range(10000):\n",
    "    mle_400 = ...\n",
    "    \n",
    "# Plot a histogram of the 10,000 MLEs\n",
    "Table().with_column('MLE', mle_400).hist(bins=20)"
   ]
  },
  {
   "cell_type": "code",
   "execution_count": null,
   "metadata": {
    "#solution": false,
    "#staff": false,
    "#student": true
   },
   "outputs": [],
   "source": [
    "# The mean of your 10000 mle's\n",
    "..."
   ]
  },
  {
   "cell_type": "markdown",
   "metadata": {
    "#solution": false,
    "#staff": false,
    "#student": false
   },
   "source": [
    "**c)** Use facts about sums and linear transformations to find the distribution of $\\bar{X}_n$ with little or no calculation. Recognize it as one of the famous ones and provide its name and parameters. Use it to find $E(\\hat{\\lambda}_n)$.\n",
    "\n",
    "**d)** Is $\\hat{\\lambda}_n$ an unbiased estimate of $\\lambda$? If it is biased, does it overestimate on average, or does it underestimate? Is it asymptotically unbiased? That is, does $E(\\hat{\\lambda}_n)$ converge to $\\lambda$ as $n \\to \\infty$?\n",
    "\n",
    "**e)** Your simulation in **b)** should show an approximately normal distribution for $\\hat{\\lambda}_n$. The Central Limit Theorem says the distribution of $\\bar{X}_n$ should be approximately normal, but is $\\hat{\\lambda}_n$ a linear function of $\\bar{X}_n$? If not, why is its distribution approximately normal?\n",
    "\n",
    "[This one needs a little thought but no calculation. Think about what a smooth function looks like over a small interval in its domain, and then think about why small intervals are relevant here.]"
   ]
  },
  {
   "cell_type": "markdown",
   "metadata": {
    "#solution": false,
    "#staff": false,
    "#student": false
   },
   "source": [
    "#newpage"
   ]
  },
  {
   "cell_type": "markdown",
   "metadata": {
    "#solution": false,
    "#staff": false,
    "#student": false
   },
   "source": [
    "### 5. Maximum Likelihood Estimates of the Gamma Parameters: Part 1 ###\n",
    "Likelihood functions can be complicated and MLEs can't always be found analytically. This exercise and the next are about an example where the maximization has to be done numerically. \n",
    "\n",
    "For $n > 1$ let $X_1, X_2, \\ldots, X_n$ be i.i.d., each with the gamma $(r, \\lambda)$ distribution. \n",
    "\n",
    "**a)** Suppose that we are all-knowing, and suppose we know that the true value of $r$ is 3 and the true value of $\\lambda$ is 0.25. Run the cell below to create a sample of size $n = 625$. We are going to give this sample to some data scientists and ask them to use the maximum likelihood method to estimate $r$ and $\\lambda$.  "
   ]
  },
  {
   "cell_type": "code",
   "execution_count": null,
   "metadata": {
    "#solution": false,
    "#staff": false,
    "#student": false
   },
   "outputs": [],
   "source": [
    "true_r = 3\n",
    "true_lam = 0.25\n",
    "\n",
    "n = 625\n",
    "\n",
    "original_sample = stats.gamma.rvs(true_r, scale=1/true_lam, size=n)\n",
    "original_tbl = Table().with_column('Original Sample', original_sample)"
   ]
  },
  {
   "cell_type": "markdown",
   "metadata": {
    "#solution": false,
    "#staff": false,
    "#student": false
   },
   "source": [
    "Run the cell below to see the distribution of the sample."
   ]
  },
  {
   "cell_type": "code",
   "execution_count": null,
   "metadata": {
    "#solution": false,
    "#staff": false,
    "#student": false
   },
   "outputs": [],
   "source": [
    "original_tbl.hist(bins=20)"
   ]
  },
  {
   "cell_type": "markdown",
   "metadata": {
    "#solution": false,
    "#staff": false,
    "#student": false
   },
   "source": [
    "Let $\\bar{X}_n = \\frac{1}{n} \\sum_{i=1}^n X_i$. Find $E(\\bar{X}_n)$, and in the cell below, find the observed value of $\\bar{X}_n$ in the sample created above."
   ]
  },
  {
   "cell_type": "code",
   "execution_count": null,
   "metadata": {
    "#solution": false,
    "#staff": false,
    "#student": true
   },
   "outputs": [],
   "source": [
    "#your solution to 5a\n",
    "..."
   ]
  },
  {
   "cell_type": "markdown",
   "metadata": {
    "#solution": false,
    "#staff": false,
    "#student": false
   },
   "source": [
    "**b)** Write the log likelihood function $L(r, \\lambda)$ given an i.i.d. gamma $(r, \\lambda)$ sample $X_1, X_2, \\ldots, X_n$. For fixed $r$, find the value of $\\lambda$ that maximizes this log likelihood function. Your answer should be in terms of $r$ and the sample. Is it consistent with your answer to **4a**?"
   ]
  },
  {
   "cell_type": "markdown",
   "metadata": {
    "#solution": false,
    "#staff": false,
    "#student": false
   },
   "source": [
    "**c)** Now write the equation that has to be solved to find the maximizing value of $r$. The equation should just involve $r$ and the sample. Don't forget that $\\Gamma$ is a function of $r$. And don't even try to solve your equation."
   ]
  },
  {
   "cell_type": "markdown",
   "metadata": {
    "#solution": false,
    "#staff": false,
    "#student": false
   },
   "source": [
    "#newpage"
   ]
  },
  {
   "cell_type": "markdown",
   "metadata": {
    "#solution": false,
    "#staff": false,
    "#student": false
   },
   "source": [
    "### 6. Maximum Likelihood Estimates of the Gamma Parameters: Part 2 ###\n",
    "This exercise continues the previous one.\n",
    "\n",
    "**a)** The equation in **5c** doesn't have a closed-form analytical solution. The data scientists are going to have to see if they can maximize the log likelihood function numerically. The answers might be approximations, but good optimization programs work very well with smooth functions. \n",
    "\n",
    "Help the data scientists by defining the function `log_likelihood` in the cell below. It takes $r$, $\\lambda$ and the data as arguments and should return the log likelihood based on $r$, $\\lambda$, and the values of the data.\n",
    "\n",
    "Helpful code:\n",
    "- `np.log(x)` for $\\log(x)$; `x` can be an array\n",
    "- `special.gamma(x)` for $\\Gamma(x)$ where `x` is a positive number; the `special` module of `SciPy` has been imported for you\n",
    "\n",
    "You can use `n` in place of 625 as `n = 625` was assigned earlier. "
   ]
  },
  {
   "cell_type": "code",
   "execution_count": null,
   "metadata": {
    "#solution": false,
    "#staff": false,
    "#student": true
   },
   "outputs": [],
   "source": [
    "#your solution to 6a\n",
    "\n",
    "def log_likelihood(r, lam, data):\n",
    "    sample_sum = ...\n",
    "    sum_of_logs = ...\n",
    "    return ..."
   ]
  },
  {
   "cell_type": "markdown",
   "metadata": {
    "#solution": false,
    "#staff": false,
    "#student": false
   },
   "source": [
    "**b)** Most numerical optimization systems include a minimizing function because minimizing distances is a common use. The data scientists are going to use the function `minimize` from the `datascience` library. It is a version of the `minimize` function in the `optimize` module of `SciPy`. \n",
    "\n",
    "The argument of `minimize` is the name of the function being minimized. This function must only take numerical arguments (more than one is fine) and return a numercial output. \n",
    "\n",
    "`minimize` returns the minimizing argument (or arguments) of the specified function.\n",
    "\n",
    "The example below shows how to use `minimize` to find the values of $a$ and $b$ that minimize $f(a, b) = a^2 + b^2 + 2$. The math answer is $a = 0$ and $b = 0$."
   ]
  },
  {
   "cell_type": "code",
   "execution_count": null,
   "metadata": {
    "#solution": false,
    "#staff": false,
    "#student": false
   },
   "outputs": [],
   "source": [
    "def f(a, b):\n",
    "    return a**2 + b**2 + 2\n",
    "\n",
    "minimize(f)"
   ]
  },
  {
   "cell_type": "markdown",
   "metadata": {
    "#solution": false,
    "#staff": false,
    "#student": false
   },
   "source": [
    "Maximizing a function is the same as minimizing the negative of that function. In the cell below, define the function that has to be specified as the argument to `minimize` in order to find the maximum likelihood estimates of $r$ and $\\lambda$. Remember that the function should only take $r$ and $\\lambda$ as its arguments."
   ]
  },
  {
   "cell_type": "code",
   "execution_count": null,
   "metadata": {
    "#solution": false,
    "#staff": false,
    "#student": true
   },
   "outputs": [],
   "source": [
    "#your solution to 6b\n",
    "\n",
    "def function_to_minimize(r, lam):\n",
    "    return ..."
   ]
  },
  {
   "cell_type": "markdown",
   "metadata": {
    "#solution": false,
    "#staff": false,
    "#student": false
   },
   "source": [
    "Minimizing complicated functions isn't easy and the default numerical method used by `minimize` doesn't do well with the gamma log likelihood function. But `minimize` takes an optional argument that specifies the numerical method that should be used for optimization. We have specified the option `method = 'Nelder-Mead'` when you use `minimize` below. This specifies a simplex algorithm and works just fine. You don't have to worry about this detail but you're welcome to look up simplex algorithms if you are interested.\n",
    "\n",
    "Run the cell below. If you have defined your functions correctly above, you are likely to see pretty good estimates of the true values of $r$ and $\\lambda$ specified at the start of the exercise."
   ]
  },
  {
   "cell_type": "code",
   "execution_count": null,
   "metadata": {
    "#solution": false,
    "#staff": false,
    "#student": false
   },
   "outputs": [],
   "source": [
    "minimize(function_to_minimize, method = 'Nelder-Mead')"
   ]
  },
  {
   "cell_type": "markdown",
   "metadata": {
    "#solution": false,
    "#staff": false,
    "#student": false
   },
   "source": [
    "These are the data scientists' estimates $\\hat{r}$ and $\\hat{\\lambda}$ based on their sample. "
   ]
  },
  {
   "cell_type": "markdown",
   "metadata": {
    "#solution": false,
    "#staff": false,
    "#student": false
   },
   "source": [
    "**c)** No data scientist is just going to present one number as the estimate of a parameter and say that's the end of the story. They are going to construct a confidence interval for the parameter. Help the data scientists by constructing an approximate 95% confidence interval for $r$ using maximum likeihood estimates based on 2500 bootstrap replications of their sample.\n",
    "\n",
    "Helpful code, with more details in the [Data 8 reference sheet](http://data8.org/sp18/python-reference.html):\n",
    "- tbl.sample(...) samples uniformly at random (with replacement, by default) from the rows of a table\n",
    "- np.random.choice(...) samples uniformly at random (with replacement, by default) from an array\n",
    "\n",
    "Here's a blank cell for your code. All the necessary pieces are in the cells above. You have to figure out the sequence and put it together. You should expect the code to take a little while to run because of all the bootstrapping and minimizing."
   ]
  },
  {
   "cell_type": "code",
   "execution_count": null,
   "metadata": {
    "#solution": false,
    "#staff": false,
    "#student": true
   },
   "outputs": [],
   "source": [
    "#your solution to 6c\n",
    "\n",
    "# Define a function that bootstraps the sample and \n",
    "# returns the MLE based on the bootstrapped sample\n",
    "def one_bootstrap_MLE():\n",
    "    bootstrap_sample = ...\n",
    "    def f(r, lam):\n",
    "        return ...\n",
    "    return ...\n",
    "\n",
    "# Construct an array of 2500 bootstrap MLEs\n",
    "r_mles = make_array()\n",
    "for i in range(2500):\n",
    "    rmles = ..."
   ]
  },
  {
   "cell_type": "code",
   "execution_count": null,
   "metadata": {
    "#solution": false,
    "#staff": false,
    "#student": false
   },
   "outputs": [],
   "source": [
    "Table().with_column('MLE of r', r_mles).hist(bins=20)"
   ]
  },
  {
   "cell_type": "markdown",
   "metadata": {
    "#solution": false,
    "#staff": false,
    "#student": false
   },
   "source": [
    "**d)** Construct the confidence interval in the cell below. Helpful code:\n",
    "\n",
    "- `percentile(45, x)` evaluates to the 45th percentile of the array `x`"
   ]
  },
  {
   "cell_type": "code",
   "execution_count": null,
   "metadata": {
    "#solution": false,
    "#staff": false,
    "#student": true
   },
   "outputs": [],
   "source": [
    "#your solution to 6d\n",
    "\n",
    "left_end = ...\n",
    "right_end = ...\n",
    "\n",
    "good = left_end < true_r and right_end > true_r\n",
    "\n",
    "[left_end, right_end], good"
   ]
  },
  {
   "cell_type": "markdown",
   "metadata": {
    "#solution": false,
    "#staff": false,
    "#student": false
   },
   "source": [
    "**e)** There are 219 students enrolled in Prob 140. Write an expression that evaluates to the expected number of students who are expected to get `True` in the answer above. "
   ]
  },
  {
   "cell_type": "code",
   "execution_count": null,
   "metadata": {
    "#solution": false,
    "#staff": false,
    "#student": true
   },
   "outputs": [],
   "source": [
    "# your answer to 6e\n",
    "\n",
    "..."
   ]
  },
  {
   "cell_type": "markdown",
   "metadata": {
    "#solution": false,
    "#staff": false,
    "#student": false
   },
   "source": [
    "You've helped the data scientists a lot. You are done with your homework. If the data scientists also want a confidence interval for $\\lambda$, they are going to have to get it themselves."
   ]
  },
  {
   "cell_type": "markdown",
   "metadata": {
    "#solution": false,
    "#staff": false,
    "#student": false,
    "collapsed": true
   },
   "source": [
    "## Submission Instructions ##\n",
    "\n",
    "Many assignments throughout the course will have a written portion and a code portion. Please follow the directions below to properly submit both portions.\n",
    "\n",
    "### Written Portion ###\n",
    "*  Scan all the pages into a PDF. You can use any scanner or a phone using applications such as CamScanner. Please **DO NOT** simply take pictures using your phone. \n",
    "* Please start a new page for each question. If you have already written multiple questions on the same page, you can crop the image in CamScanner or fold your page over (the old-fashioned way). This helps expedite grading.\n",
    "* It is your responsibility to check that all the work on all the scanned pages is legible.\n",
    "\n",
    "### Code Portion ###\n",
    "* **Save your notebook using File > Save and Checkpoint.**\n",
    "* Run the cell below to generate a PDF file.\n",
    "* Download the PDF file and confirm that none of your work is missing or cut off.  If the link leads you to a blank page, use [Command]+[S] or [Ctrl]+[S] to download your work.  \n",
    "\n",
    "### Submitting ###\n",
    "* Combine the PDFs from the written and code portions into one PDF.  [Here](https://smallpdf.com/merge-pdf) is a useful tool for doing so.  \n",
    "* Submit the assignment to Homework 10 on Gradescope.\n",
    "* **Make sure to assign each page of your pdf to the correct question.**\n",
    "\n",
    "\n",
    "### **We will not grade assignments which do not have pages selected for each question or were submitted after the deadline.** "
   ]
  },
  {
   "cell_type": "code",
   "execution_count": null,
   "metadata": {
    "#solution": false,
    "#staff": false,
    "#student": false
   },
   "outputs": [],
   "source": [
    "import gsExport\n",
    "gsExport.generateSubmission(\"Homework_10.ipynb\")"
   ]
  }
 ],
 "metadata": {
  "anaconda-cloud": {},
  "checksums": [
   "36d6125272e38841d377985b31e7a672",
   "0a0301250528f1b4b19d89d505d466fb",
   "3b25c7cc47af4c7a186785d60ad2be63",
   "537f76ea138d1c27908fff9d0ee666a7",
   "0fde4362e79350f2b43dc53e456c4b28",
   "90bf4cc29236d1db23546a6f89de2ab6",
   "16b87b20192049957884a89493f0647d",
   "44cf9b400d6534efa2ab19ef1ec816e4",
   "021d2fb1deadeb98cd1709b2e66240a0",
   "6da888c26fc5b44a95a8d234c28cc5ca",
   "32678855304dc7424eca94d77d3cd8d0",
   "99447962c97fa596c16239ca7fb25461",
   "48ca1df12852f4a440f20cda155786cf",
   "bc9a9c95e6061c62e149750c9e23189d",
   "1afdf8f95e1f48c189adeaab799ff54c",
   "7d2aa1e870f90ce8f63838cf095420a9",
   "c9e80d0bb1caea5e8d55d1de0e2cfa94",
   "5b042132fa293dfd9f986590043d9adc",
   "d060ce919474c084b0a3fdf12e6ddab1",
   "1c91fa96b2ba6f0aece6c63a26d6c354",
   "640061103a186fd26f59746dd4d6de57",
   "2ccb8608b129fc3f0f534a84156844f0",
   "640061103a186fd26f59746dd4d6de57",
   "67292485a00daa20340081b1c9da8666",
   "640061103a186fd26f59746dd4d6de57",
   "332092861adaff6978b278528b25580b",
   "66a1395254b4e7fb6ae8f0972a3a1def",
   "aba0cb95b86dee6e0d43cf17706b1202",
   "0c006803fb361cab83f02d31b25aee05",
   "1a9f6fa342c4d5c85ec010d746bd2d14",
   "640061103a186fd26f59746dd4d6de57",
   "80480628055ca05f73df1d14eff8edff",
   "5f470b078a9c1a3a442d020f0b260127",
   "cbaa98318af96ec20e366442bb02fd09",
   "fb451db64119409c3d0655ff591adf5d",
   "5c0d433a811e257f3c850c86fd248ca3",
   "9de860e8b38824da569de63b92cd80a0",
   "f581567a0e9ecf3d57e268687a68e0e5",
   "08d086216f5f53d052a8b1dbaa35dec7",
   "640061103a186fd26f59746dd4d6de57",
   "07a1646af2b1c9e4e93b19af0dcdeafc",
   "505299a36ab129e5b467779fef0954b6",
   "4d48196162d6b798fa53855e09929066",
   "13e391e3cf93c0d1653baed663b260d6",
   "838c8101589dd6ee5d8318000bf7bdc3",
   "d5eabd9b7c498e63459e9727cb26a22b",
   "fbea3acf554f05654ae96405784fe1c3",
   "1c90065782f461c2a4479a468640c117",
   "dcb823b1b8b164afe31e025a4e96673e",
   "6e225230df59b7f611fc5b9a6a387a6d",
   "816c89c4cc4142805f908343ef9b6a29",
   "71bd25e745d7262c7f5941adc97cb3d4",
   "f9263f80635130092f196df2764fc81b",
   "174f74def65507c21f73e4b0dbbfdd74",
   "adc8639b12d56ed152fefade2fd301fc",
   "a40b26c03ed23e4838ca5700262403c9",
   "fc32d2738b33697702c39dfc2d7335a4",
   "902abb78f2c27a4aef309572bf037915",
   "edff351e143d20fbe3a24897246350ce"
  ],
  "kernelspec": {
   "display_name": "Python 3",
   "language": "python",
   "name": "python3"
  },
  "language_info": {
   "codemirror_mode": {
    "name": "ipython",
    "version": 3
   },
   "file_extension": ".py",
   "mimetype": "text/x-python",
   "name": "python",
   "nbconvert_exporter": "python",
   "pygments_lexer": "ipython3",
   "version": "3.6.7"
  },
  "number_of_pagebreaks": 5
 },
 "nbformat": 4,
 "nbformat_minor": 1
}
