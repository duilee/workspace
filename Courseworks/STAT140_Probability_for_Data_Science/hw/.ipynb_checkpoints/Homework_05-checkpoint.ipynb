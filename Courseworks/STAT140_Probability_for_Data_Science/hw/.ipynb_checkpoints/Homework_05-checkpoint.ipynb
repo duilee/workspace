{
 "cells": [
  {
   "cell_type": "markdown",
   "metadata": {},
   "source": [
    "<table align=\"left\" style=\"border-style: hidden\" class=\"table\"> <tr><td class=\"col-md-2\"><img style=\"float\" src=\"http://prob140.org/assets/icon256.png\" alt=\"Prob140 Logo\" style=\"width: 120px;\"/></td><td><div align=\"left\"><h3 style=\"margin-top: 0;\">Probability for Data Science</h3><h4 style=\"margin-top: 20px;\">UC Berkeley, Spring 2019</h4><p>Ani Adhikari and Jim Pitman</p>CC BY-NC 4.0</div></td></tr></table><!-- not in pdf -->"
   ]
  },
  {
   "cell_type": "markdown",
   "metadata": {
    "#solution": false,
    "#staff": false,
    "#student": false
   },
   "source": [
    "# Homework 5 #\n",
    "This homework set consists of the problems from the Fall 2018 midterm. It only involves written work; there is no code on the midterm.\n",
    "\n",
    "### Recommendation ###\n",
    "**Don't start this homework early.** Use it as an opportunity to assess your preparation for the upcoming midterm. First complete the bulk of your review for the exam. **After your review, set aside all course materials, find a place where you can work on your own, and give yourself 75 minutes to do the assignment.** The problems that you are not able to do in that time will give you an indication of where you need to focus the remaining portion of your review."
   ]
  },
  {
   "cell_type": "markdown",
   "metadata": {
    "#solution": false,
    "#staff": false,
    "#student": false
   },
   "source": [
    "### 1. ###\n",
    "\n",
    "A box contains 1 red ticket and 1 blue ticket. \n",
    "\n",
    "- A ticket is drawn at random, and then returned to the box along with 2 more tickets of its color and 1 more ticket of the other color.\n",
    "\n",
    "- Then another ticket is drawn at random from the box.\n",
    "\n",
    "Let $R_1$ be the event that the first ticket drawn is red, and let $R_2$ be the event that the second ticket drawn is red.\n",
    "\n",
    "**a)** Find $P(R_2)$ and compare it to $P(R_1)$. Which is bigger? Or are they equal?\n",
    "\n",
    "**b)** Find $P(R_1 \\mid R_2)$ and compare it to $P(R_2 \\mid R_1)$. Which is bigger? Or are they equal?"
   ]
  },
  {
   "cell_type": "markdown",
   "metadata": {
    "#solution": false,
    "#staff": false,
    "#student": false
   },
   "source": [
    "### 2. ###\n",
    "On one day, an advisor offers students 12 consecutive 15-minute slots for appointments: 9:00-9:15, 9:15-9:30, and so on, up to 11:45-12 noon. That's four slots in each of the three hours 9-10, 10-11, and 11-12.\n",
    "\n",
    "Five students sign up for one slot each. You can assume that the chosen slots are five draws made at random without replacement from the 12 available slots. \n",
    "\n",
    "**a)** Find the chance that exactly two of the chosen slots are in the 9-10 hour.\n",
    "\n",
    "**b)** Find the chance that the chosen slots consist of two in the 9-10 hour, two in the 10-11 hour, and one in the 11-12 hour.\n",
    "\n",
    "**c)** Find the chance that there is one chosen slot in one of the three hours and two chosen slots in each of the other two hours.\n",
    "\n",
    "**d)** Find the **decimal value** of the expected number of slots after the last (that is, the one with the latest start time) of the chosen slots."
   ]
  },
  {
   "cell_type": "markdown",
   "metadata": {
    "#solution": false,
    "#staff": false,
    "#student": false
   },
   "source": [
    "### 3. ###\n",
    "\n",
    "A population consists of individuals in three categories, in the following proportions.\n",
    "\n",
    "|Category|A|B|C|\n",
    "|:---:|:---:|:---:|:---:|\n",
    "|**Proportion**| 0.1 | 0.6 | 0.3|\n",
    "\n",
    "Let the random variable $N$ have the Poisson $(30)$ distribution, and consider a sample of size $N$ drawn at random with replacement from the population. \n",
    "\n",
    "Please remember the exam instruction: **Don't leave infinite sums in any answer.**\n",
    "\n",
    "**a)** Find the chance that exactly one of the categories does not appear in the sample.\n",
    "\n",
    "**b)** Find the expected number of categories that appear fewer than 10 times in the sample.\n"
   ]
  },
  {
   "cell_type": "markdown",
   "metadata": {
    "#solution": false,
    "#staff": false,
    "#student": false
   },
   "source": [
    "### 4. ###\n",
    "\n",
    "Consider the Metropolis algorithm for Markov Chain Monte Carlo as described in class, with the same notation as in class:\n",
    "\n",
    "- strictly positive probability distribution $\\pi$ on the finite state space\n",
    "\n",
    "- proposal transition matrix $\\mathbb{Q}$, with $Q(i,j)$ denoting its $(i, j)$ element\n",
    "\n",
    "- Markov chain $X_0, X_1, X_2, \\ldots $ with transition matrix $\\mathbb{P}$ that has $(i, j)$ element $P(i, j)$ constructed using the proposal matrix $\\mathbb{Q}$ and additional randomization based on the ratio $ \\pi(j)/\\pi(i)$ \n",
    "\n",
    "As we showed in class, the algorithm ensures that the constructed chain $X_0, X_1, X_2, \\ldots $ has $\\pi$ as its steady state distribution. \n",
    "\n",
    "\n",
    "**a)** Is the constructed chain $X_0, X_1, X_2, \\ldots$ reversible? Why or why not?\n",
    "\n",
    "**b)** The proposal matrix $\\mathbb{Q}$ is always symmetric because that is a requirement of the Metropolis algorithm. Is the transition matrix $\\mathbb{P}$ of the constructed chain $X_0, X_1, X_2, \\ldots $ also always symmetric? Why or why not?\n",
    "\n",
    "**c)** For states $i$ and $j$, define the function $s$ by\n",
    "\n",
    "$$\n",
    "s(i, j) ~ = ~ \\min\\big{(} 1, \\frac{\\pi(j)}{\\pi(i)}\\big{)}\n",
    "$$\n",
    "\n",
    "Write a formula for $P(X_{n+1} \\ne i \\mid X_n = i)$ in terms of elements of $\\mathbb{Q}$ and values of the function $s$. Justify your formula."
   ]
  },
  {
   "cell_type": "markdown",
   "metadata": {
    "#solution": false,
    "#staff": false,
    "#student": false
   },
   "source": [
    "### 5. ###\n",
    "\n",
    "A random number generator draws repeatedly at random with replacement from the 10 digits 0, 1, 2, 3, 4, 5, 6, 7, 8, and 9.\n",
    "\n",
    "\n",
    "Let $W$ be the number of draws till the digits 4, 5, and 6 have appeared. For example, if the sequence of draws starts out with 92261344685 then $W = 11$.\n",
    "\n",
    "**a)** Find $E(W)$.\n",
    "\n",
    "**b)** For $k \\ge 3$, find $P(W > k)$.\n",
    "\n",
    "**c)** Use the answer to Part (b) to find the distribution of $W$.\n",
    "\n"
   ]
  },
  {
   "cell_type": "markdown",
   "metadata": {
    "#solution": false,
    "#staff": false,
    "#student": false
   },
   "source": [
    "### 6. ###\n",
    "\n",
    "I have $d$ dice. I roll them in stages as follows.\n",
    "\n",
    "**Stage 1:** All $d$ dice are rolled. Those that show six spots are removed.\n",
    "\n",
    "**Stage 2:** If dice remain after Stage 1, they are rolled. Those that show six spots are removed.\n",
    "\n",
    "**Stage 3:** If dice remain after Stage 2, they are rolled. Those that show six spots are removed.\n",
    "\n",
    "$\\ldots $ And so on, till no dice are left.\n",
    "\n",
    "**a)** What is the distribution of the number of dice rolled in Stage 3? \n",
    "\n",
    "[No long calculations are needed here. Just think about an individual die.]\n",
    "\n",
    "**b)** Let $N$ be the number of stages till no dice are left. Find the cumulative distribution function (cdf) of $N$. \n",
    "\n",
    "[Keep thinking about an individual die. When is it removed?]"
   ]
  },
  {
   "cell_type": "markdown",
   "metadata": {
    "#solution": false,
    "#staff": false,
    "#student": false
   },
   "source": [
    "## Submission Instructions ##\n",
    "\n",
    "This assignment contains only a written portion.\n",
    "\n",
    "### Written Portion ###\n",
    "*  Scan all the pages into a PDF. You can use any scanner or a phone using applications such as CamScanner. Please **DO NOT** simply take pictures using your phone. \n",
    "* Please start a new page for each question. If you have already written multiple questions on the same page, you can crop the image in CamScanner or fold your page over (the old-fashioned way). This helps expedite grading.\n",
    "* It is your responsibility to check that all the work on all the scanned pages is legible.\n",
    "\n",
    "\n",
    "### Submitting ###\n",
    "* Submit the assignment to Homework5 on Gradescope.\n",
    "* **Make sure to assign each page of your pdf to the correct question.**\n",
    "\n",
    "\n",
    "### **We will not grade assignments which do not have pages selected for each question or were submitted after the deadline.** "
   ]
  }
 ],
 "metadata": {
  "checksums": [
   "36d6125272e38841d377985b31e7a672",
   "c28f4044de82b9d7d44f6693c5a6996e",
   "3d56c07b9740ee552f3f43ff2cbbfeeb",
   "39d1ce82c0e07ad4924d673b38fce56b",
   "744116bed554892084ed1789807cb657",
   "f4dc9c60ac3382dcd005ef55ae942549",
   "2346bcf4856cf53f5a41628cee753af2",
   "43b0aacb8908d2342c3ed40bc05be57c",
   "cf4bcd4c981907150226b3832b7eee46"
  ],
  "kernelspec": {
   "display_name": "Python 3",
   "language": "python",
   "name": "python3"
  },
  "language_info": {
   "codemirror_mode": {
    "name": "ipython",
    "version": 3
   },
   "file_extension": ".py",
   "mimetype": "text/x-python",
   "name": "python",
   "nbconvert_exporter": "python",
   "pygments_lexer": "ipython3",
   "version": "3.6.7"
  },
  "number_of_pagebreaks": 0
 },
 "nbformat": 4,
 "nbformat_minor": 2
}
