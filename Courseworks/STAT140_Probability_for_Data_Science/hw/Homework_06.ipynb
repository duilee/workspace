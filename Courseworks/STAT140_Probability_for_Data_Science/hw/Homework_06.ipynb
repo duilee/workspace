{
 "cells": [
  {
   "cell_type": "markdown",
   "metadata": {},
   "source": [
    "<table align=\"left\" style=\"border-style: hidden\" class=\"table\"> <tr><td class=\"col-md-2\"><img style=\"float\" src=\"http://prob140.org/assets/icon256.png\" alt=\"Prob140 Logo\" style=\"width: 120px;\"/></td><td><div align=\"left\"><h3 style=\"margin-top: 0;\">Probability for Data Science</h3><h4 style=\"margin-top: 20px;\">UC Berkeley, Spring 2019</h4><p>Ani Adhikari and Jim Pitman</p>CC BY-NC 4.0</div></td></tr></table><!-- not in pdf -->"
   ]
  },
  {
   "cell_type": "markdown",
   "metadata": {
    "#solution": false,
    "#staff": false,
    "#student": false
   },
   "source": [
    "# Homework 6 #\n",
    "\n",
    "This week, your homework **only involves written work; there are no coding parts**. It is your responsibility to ensure that your homework is submitted completely and properly to Gradescope. Refer to the bottom of the notebook for submission instructions."
   ]
  },
  {
   "cell_type": "markdown",
   "metadata": {
    "#solution": false,
    "#staff": false,
    "#student": false
   },
   "source": [
    "### 1. Varying Parameters and Independence Assumptions ###\n",
    "You can leave answers as numerical formulas. You don't have to find decimal values unless they are obvious.\n",
    "\n",
    "**(a)** Find the expectation and SD of the number of heads in 26 tosses of a fair coin.\n",
    "\n",
    "**(b)** Find the expectation and SD of the number of red cards in 26 cards dealt at random from a standard deck. Compare the answers with those in Part **(a)**: Are the expectations different, and if so, which one is bigger? Are the SDs different, and if so, which one is bigger?\n",
    "\n",
    "**(c)** Find the expectation and SD of the number of sixes in 26 rolls of a die. Compare the SD with that in Part **(a)**: Without calculation, say which one is bigger, and why."
   ]
  },
  {
   "cell_type": "markdown",
   "metadata": {
    "#solution": false,
    "#staff": false,
    "#student": false
   },
   "source": [
    "#newpage"
   ]
  },
  {
   "cell_type": "markdown",
   "metadata": {
    "#solution": false,
    "#staff": false,
    "#student": false
   },
   "source": [
    "### 2. Collecting Distinct Values ###\n",
    "\n",
    "In Homework 3 you found the expectation of each of the random variables below. Go back and see how you did that, and then find the variance of each one. \n",
    "\n",
    "For one part you will need the fact that the SD of a geometric $(p)$ random variable is $\\frac{\\sqrt{q}}{p}$ where $q = 1-p$. We haven't proved that as the algebra takes a bit of work. We will prove it later in the course by conditioning.\n",
    "\n",
    "**(a)** A die is rolled $n$ times. Find the variance of number of faces that *do not* appear.\n",
    "\n",
    "**(b)** Use your answer to (a) to find the variance of the number of distinct faces that *do* appear in $n$ rolls of a die.\n",
    "\n",
    "**(c)** Find the variance of the number of times you have to roll a die till you have seen all of the faces."
   ]
  },
  {
   "cell_type": "markdown",
   "metadata": {
    "#solution": false,
    "#staff": false,
    "#student": false
   },
   "source": [
    "#newpage"
   ]
  },
  {
   "cell_type": "markdown",
   "metadata": {
    "#solution": false,
    "#staff": false,
    "#student": false
   },
   "source": [
    "### 3. Bounds ###\n",
    "A random variable $X$, not necessarily non-negative, has $E(X) = 20$ and $SD(X) = 4$. In each part below **find the best bounds you can** based on the information given.\n",
    "\n",
    "**(a)** Find upper and lower bounds for $P(0 < X < 40)$.\n",
    "\n",
    "**(b)** Find upper and lower bounds for $P(10 < X < 40)$.\n",
    "\n",
    "**(c)** Find an upper bound for $P(X \\ge 40)$.\n",
    "\n",
    "**(d)** Find an upper bound for $P(X^2 \\ge 900)$."
   ]
  },
  {
   "cell_type": "markdown",
   "metadata": {
    "#solution": false,
    "#staff": false,
    "#student": false
   },
   "source": [
    "#newpage"
   ]
  },
  {
   "cell_type": "markdown",
   "metadata": {
    "#solution": false,
    "#staff": false,
    "#student": false
   },
   "source": [
    "### 4. The \"Sample Variance\" ###\n",
    "Let $X_1, X_2, \\ldots, X_n$ be i.i.d., each with mean $\\mu$ and SD $\\sigma$. Let $\\bar{X} = \\frac{1}{n}\\sum_{i=1} X_i$ be the sample mean.\n",
    "\n",
    "**(a)** Find $E(\\bar{X})$ and $SD(\\bar{X})$.\n",
    "\n",
    "**(b)** For each $i$, find $Cov(X_i, \\bar{X})$. [Plug in the definition of $\\bar{X}$ and use bilinearity.]\n",
    "\n",
    "**(c)** For each $i$ in the range 1 through $n$, define the *$i$th deviation in the sample* as $D_i = X_i - \\bar{X}$. Find $E(D_i)$ and $Var(D_i)$. [Write the variance as $Cov(D_i, D_i)$, plug in the definition of $D_i$, and use bilinearity.]\n",
    "\n",
    "**(d)** Define the random variable $\\hat{\\sigma}^2$ as\n",
    "$$\n",
    "\\hat{\\sigma}^2 ~ = ~ \\frac{1}{n} \\sum_{i=1}^n D_i^2\n",
    "$$\n",
    "Find $E(\\hat{\\sigma}^2)$.\n",
    "\n",
    "For this random variable, the notation $\\hat{\\sigma}^2$ is pretty standard in statistics. Just think of $\\hat{\\sigma}^2$ as a symbol; it doesn't help to start thinking about the random variable that is its square root.\n",
    "\n",
    "**(e)** Use Part **d** to construct a random variable denoted $S^2$ that is an unbiased estimator of $\\sigma^2$. This random variable $S^2$ is called the *sample variance* and is frequently used in inference."
   ]
  },
  {
   "cell_type": "markdown",
   "metadata": {
    "#solution": false,
    "#staff": false,
    "#student": false
   },
   "source": [
    "#newpage"
   ]
  },
  {
   "cell_type": "markdown",
   "metadata": {
    "#solution": false,
    "#staff": false,
    "#student": false
   },
   "source": [
    "### 5. Fun with Indicators: The Matching Problem ###\n",
    "\n",
    "In the familiar setting of the matching problems, there are $n$ letters labeled 1 through $n$ and $n$ envelopes labeled 1 through $n$. The letters are distributed at random into the envelopes, one letter per envelope, such that all $n!$ permutations are equally likely.\n",
    "\n",
    "Let $M$ be the number of letters that fall into envelopes with the corresponding label. That is, $M$ is the number of \"matches\" or fixed points of the permutation.\n",
    "\n",
    "**(a)** Fill in the blank:\n",
    "\n",
    "$$M = I_1 + I_2 + \\ldots + I_n$$ \n",
    "\n",
    "where for each $j$ in the range 1 through $n$, $I_j = 1$ if $\\underline{~~~~~~~~~~~~~~~~~~~~~~~~~~~~~~~~~~~~~~~~~~~~~~~~~~~~~~~~~~~~~~~~~~}$, and $I_j = 0$ otherwise.\n",
    "\n",
    "**(b)** Use Part **(a)** to show that $E(M)$ has the same numerical value for all $n$.\n",
    "\n",
    "**(c)** Use Part **(a)** to show that $Var(M)$ has the same numerical value for all $n$.\n",
    "\n",
    "**(d)** In Lab 3 you found the approximate distribtion of $M$ when $n$ is large. Are your answers to Parts **(c)** and **(d)** consistent with that approximation?"
   ]
  },
  {
   "cell_type": "markdown",
   "metadata": {
    "#solution": false,
    "#staff": false,
    "#student": false
   },
   "source": [
    "#newpage"
   ]
  },
  {
   "cell_type": "markdown",
   "metadata": {
    "#solution": false,
    "#staff": false,
    "#student": false
   },
   "source": [
    "### 6. Fun with Indicators: The Inclusion-Exclusion Formula ###\n",
    "We guessed the general inclusion-exclusion formula (see Section 5.2 of the textbook) but we never proved it. Let's get that done.\n",
    "\n",
    "**(a)** Let $x_1, x_2, \\ldots, x_n$ be numbers. Expand the product $(1-x_1)(1-x_2)$ and then expand $(1-x_1)(1-x_2)(1-x_3)$ by using the expansion you got for $(1-x_1)(1-x_2)$. Now guess a formula for the expansion of the product\n",
    "\n",
    "$$\n",
    "\\prod_{i=1}^n (1 - x_i)\n",
    "$$\n",
    "\n",
    "and use induction to prove it. The induction shouldn't take many steps. It consists of just two observations, both of which can be expressed in English without complicated notation.\n",
    "\n",
    "**(b)** Let $A_1, A_2, \\ldots, A_n$ be events. For each $i$ in the range 1 through $n$ let $I_i$ be the indicator of $A_i$. Let $I$ be the indicator of $\\cup_{i=1}^n A_i$. Explain why\n",
    "\n",
    "$$\n",
    "I ~ = ~ 1 - \\prod_{i=1}^n (1 - I_i)\n",
    "$$\n",
    "\n",
    "**(c)** Use Parts **(a)** and **(b)** to establish the inclusion-exclusion formula."
   ]
  },
  {
   "cell_type": "markdown",
   "metadata": {
    "#solution": false,
    "#staff": false,
    "#student": false,
    "collapsed": true
   },
   "source": [
    "## Submission Instructions ##\n",
    "\n",
    "This assignment contains only a written portion.\n",
    "\n",
    "### Written Portion ###\n",
    "*  Scan all the pages into a PDF. You can use any scanner or a phone using applications such as CamScanner. Please **DO NOT** simply take pictures using your phone. \n",
    "* Please start a new page for each question. If you have already written multiple questions on the same page, you can crop the image in CamScanner or fold your page over (the old-fashioned way). This helps expedite grading.\n",
    "* It is your responsibility to check that all the work on all the scanned pages is legible.\n",
    "\n",
    "\n",
    "### Submitting ###\n",
    "* Submit the assignment to Homework6 on Gradescope. \n",
    "* **Make sure to assign each page of your pdf to the correct question.**\n",
    "\n",
    "\n",
    "\n",
    "### **We will not grade assignments which do not have pages selected for each question or were submitted after the deadline.** "
   ]
  }
 ],
 "metadata": {
  "anaconda-cloud": {},
  "checksums": [
   "36d6125272e38841d377985b31e7a672",
   "da4100ed03f0fab10b837ea5f5954753",
   "52bf9da038d8f1d0a8cc2ae42232aa59",
   "640061103a186fd26f59746dd4d6de57",
   "30a7df73a454dcb65426e2729975b539",
   "640061103a186fd26f59746dd4d6de57",
   "eaf19942f3fdd06815ce86d09ce37382",
   "640061103a186fd26f59746dd4d6de57",
   "b40589023bf41f7b53dac83de3f2ca85",
   "640061103a186fd26f59746dd4d6de57",
   "db6cb8781daf24200193d3d934147563",
   "640061103a186fd26f59746dd4d6de57",
   "e1db214e2e60cbe7b6208d5ed36656ea",
   "9c35c1dadac40b00a07d1daf30057d96"
  ],
  "kernelspec": {
   "display_name": "Python 3",
   "language": "python",
   "name": "python3"
  },
  "language_info": {
   "codemirror_mode": {
    "name": "ipython",
    "version": 3
   },
   "file_extension": ".py",
   "mimetype": "text/x-python",
   "name": "python",
   "nbconvert_exporter": "python",
   "pygments_lexer": "ipython3",
   "version": "3.6.7"
  },
  "number_of_pagebreaks": 5
 },
 "nbformat": 4,
 "nbformat_minor": 1
}
