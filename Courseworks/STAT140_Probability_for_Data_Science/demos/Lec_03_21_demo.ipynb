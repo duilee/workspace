{
 "cells": [
  {
   "cell_type": "code",
   "execution_count": null,
   "metadata": {},
   "outputs": [],
   "source": [
    "# HIDDEN\n",
    "from datascience import *\n",
    "from prob140 import *\n",
    "import numpy as np\n",
    "import matplotlib.pyplot as plt\n",
    "plt.style.use('fivethirtyeight')\n",
    "%matplotlib inline\n",
    "from scipy import stats\n",
    "\n",
    "from sympy import *\n",
    "init_printing()"
   ]
  },
  {
   "cell_type": "code",
   "execution_count": null,
   "metadata": {},
   "outputs": [],
   "source": [
    "def joint_probability(x, y):\n",
    "    if y >= x:\n",
    "        return stats.binom.pmf(x, 2, 1/2) * stats.binom.pmf(y-x, 3, 1/2)\n",
    "    else:\n",
    "        return 0\n",
    "    \n",
    "k_x = np.arange(3)\n",
    "k_y = np.arange(6)\n",
    "\n",
    "joint_table = Table().values('X', k_x, 'Y', k_y).probability_function(joint_probability)"
   ]
  },
  {
   "cell_type": "code",
   "execution_count": null,
   "metadata": {},
   "outputs": [],
   "source": [
    "joint_table"
   ]
  },
  {
   "cell_type": "code",
   "execution_count": null,
   "metadata": {},
   "outputs": [],
   "source": [
    "# P(Y > 2X)\n",
    "def indicator_Y_above_2X(x, y):\n",
    "    return y > 2*x\n",
    "\n",
    "joint_table.event(indicator_Y_above_2X, 'X', 'Y')"
   ]
  },
  {
   "cell_type": "markdown",
   "metadata": {},
   "source": [
    "$$\n",
    "f(x, y) ~ = ~ \n",
    "\\begin{cases}\n",
    "120x(y-x)(1-y), ~~~ 0 < x < y < 1 \\\\\n",
    "0 ~~~~~~~~ \\text{otherwise}\n",
    "\\end{cases}\n",
    "$$"
   ]
  },
  {
   "cell_type": "code",
   "execution_count": null,
   "metadata": {},
   "outputs": [],
   "source": [
    "def joint(x,y):\n",
    "    if x > y:\n",
    "        return 0\n",
    "    else:\n",
    "        return 120 * x * (y - x) * (1 - y)\n",
    "    \n",
    "Plot_3d(x_limits=(0, 1), y_limits=(0,1), f=joint, cstride=4, rstride=4)"
   ]
  },
  {
   "cell_type": "code",
   "execution_count": null,
   "metadata": {},
   "outputs": [],
   "source": [
    "x = Symbol('x', positive=True)\n",
    "y = Symbol('y', positive=True)\n",
    "\n",
    "# f(x,y)\n",
    "f = 120 * x * (y-x) * (1-y)"
   ]
  },
  {
   "cell_type": "code",
   "execution_count": null,
   "metadata": {},
   "outputs": [],
   "source": [
    "f"
   ]
  },
  {
   "cell_type": "markdown",
   "metadata": {},
   "source": [
    "### Total Volume Under the Surface ###"
   ]
  },
  {
   "cell_type": "code",
   "execution_count": null,
   "metadata": {},
   "outputs": [],
   "source": [
    "# Display the integral\n",
    "# If you integrate first x, then y:\n",
    "\n",
    "Integral(f, (x, 0, y), (y, 0, 1))"
   ]
  },
  {
   "cell_type": "code",
   "execution_count": null,
   "metadata": {},
   "outputs": [],
   "source": [
    "# Calculate the integral\n",
    "\n",
    "Integral(f, (x, 0, y), (y, 0, 1)).doit()"
   ]
  },
  {
   "cell_type": "code",
   "execution_count": null,
   "metadata": {},
   "outputs": [],
   "source": [
    "# If you integrate first y, then x:\n",
    "\n",
    "Integral(f, (y, x, 1), (x, 0, 1)).doit()"
   ]
  },
  {
   "cell_type": "markdown",
   "metadata": {},
   "source": [
    "### Probablities as Volumes: $P(Y > X + 0.2)$ ###"
   ]
  },
  {
   "cell_type": "code",
   "execution_count": null,
   "metadata": {},
   "outputs": [],
   "source": [
    "# If you integrate y first and then x:\n",
    "\n",
    "Integral(f, (y, x+0.2, 1), (x, 0, 0.8)).doit()"
   ]
  },
  {
   "cell_type": "code",
   "execution_count": null,
   "metadata": {},
   "outputs": [],
   "source": [
    "# If you integrate x first and then y:\n",
    "\n",
    "Integral(f, (x, 0, y-0.2), (y, 0.2, 1)).doit()"
   ]
  },
  {
   "cell_type": "markdown",
   "metadata": {},
   "source": [
    "### Expectation: $E(g(X,Y))$ ###"
   ]
  },
  {
   "cell_type": "code",
   "execution_count": null,
   "metadata": {},
   "outputs": [],
   "source": [
    "# E(Y/X)\n",
    "\n",
    "Integral((y/x)*f, (y, x, 1), (x, 0, 1)).doit()"
   ]
  },
  {
   "cell_type": "markdown",
   "metadata": {},
   "source": [
    "### Marginal Densities ###"
   ]
  },
  {
   "cell_type": "code",
   "execution_count": null,
   "metadata": {},
   "outputs": [],
   "source": [
    "# Marginal density of X\n",
    "# For x in ..., f_X(x) is:\n",
    "\n",
    "f_X = factor(simplify(Integral(f, (y, x, 1)).doit()))\n",
    "f_X"
   ]
  },
  {
   "cell_type": "code",
   "execution_count": null,
   "metadata": {},
   "outputs": [],
   "source": [
    "# Marginal density of Y\n",
    "# For y in ..., f_Y(y) is:\n",
    "\n",
    "f_Y = factor(simplify(Integral(f, (x, 0, y)).doit()))\n",
    "f_Y"
   ]
  },
  {
   "cell_type": "markdown",
   "metadata": {},
   "source": [
    "### Conditioning ###"
   ]
  },
  {
   "cell_type": "code",
   "execution_count": null,
   "metadata": {},
   "outputs": [],
   "source": [
    "# Conditional density of Y given X=x\n",
    "# For y in (x, 1), f_Y_given_X_is_x(y) is:\n",
    "\n",
    "f_Y_given_X_is_x = f / f_X\n",
    "\n",
    "f_Y_given_X_is_x"
   ]
  },
  {
   "cell_type": "code",
   "execution_count": null,
   "metadata": {},
   "outputs": [],
   "source": [
    "# Total area under the curve\n",
    "\n",
    "simplify(Integral(f_Y_given_X_is_x, (y, x, 1)).doit())"
   ]
  },
  {
   "cell_type": "code",
   "execution_count": null,
   "metadata": {},
   "outputs": [],
   "source": [
    "# E(Y | X=x)\n",
    "\n",
    "simplify(Integral(y*f_Y_given_X_is_x, (y, x, 1)).doit())"
   ]
  },
  {
   "cell_type": "code",
   "execution_count": null,
   "metadata": {},
   "outputs": [],
   "source": [
    "# E(Y) by applying definition\n",
    "\n",
    "Integral(y*f_Y, (y, 0, 1)).doit()"
   ]
  },
  {
   "cell_type": "code",
   "execution_count": null,
   "metadata": {},
   "outputs": [],
   "source": [
    "# E(Y) by conditioning\n",
    "\n",
    "Integral((0.5*x + 0.5)*f_X, (x, 0, 1)).doit()"
   ]
  },
  {
   "cell_type": "markdown",
   "metadata": {},
   "source": [
    "### Independence ###"
   ]
  },
  {
   "cell_type": "code",
   "execution_count": null,
   "metadata": {},
   "outputs": [],
   "source": [
    "# X, Y independent\n",
    "# is equivalent to\n",
    "# f(x, y) = f_X(x)f_Y(y)\n",
    "\n",
    "def indep_standard_normals(x,y):\n",
    "    return 1/(2*np.pi) * np.exp(-0.5*(x**2 + y**2))\n",
    "\n",
    "Plot_3d((-4, 4), (-4, 4), indep_standard_normals, rstride=4, cstride=4)"
   ]
  },
  {
   "cell_type": "code",
   "execution_count": null,
   "metadata": {},
   "outputs": [],
   "source": [
    "# X: exponential (0.5)\n",
    "# Y: exponential (0.25)\n",
    "# X, Y independent\n",
    "\n",
    "def independent_exp(x, y):\n",
    "    return 0.5 * 0.25 * np.e**(-0.5*x - 0.25*y)\n",
    "\n",
    "Plot_3d((0, 10), (0, 10), independent_exp)"
   ]
  },
  {
   "cell_type": "code",
   "execution_count": null,
   "metadata": {},
   "outputs": [],
   "source": []
  }
 ],
 "metadata": {
  "anaconda-cloud": {},
  "kernelspec": {
   "display_name": "Python 3",
   "language": "python",
   "name": "python3"
  },
  "language_info": {
   "codemirror_mode": {
    "name": "ipython",
    "version": 3
   },
   "file_extension": ".py",
   "mimetype": "text/x-python",
   "name": "python",
   "nbconvert_exporter": "python",
   "pygments_lexer": "ipython3",
   "version": "3.6.0"
  }
 },
 "nbformat": 4,
 "nbformat_minor": 1
}
