{
 "cells": [
  {
   "cell_type": "markdown",
   "metadata": {},
   "source": [
    "<table align=\"left\" style=\"border-style: hidden\" class=\"table\"> <tr><td class=\"col-md-2\"><img style=\"float\" src=\"http://prob140.org/assets/icon256.png\" alt=\"Prob140 Logo\" style=\"width: 120px;\"/></td><td><div align=\"left\"><h3 style=\"margin-top: 0;\">Probability for Data Science</h3><h4 style=\"margin-top: 20px;\">UC Berkeley, Spring 2019</h4><p>Ani Adhikari and Jim Pitman</p>CC BY-NC 4.0</div></td></tr></table><!-- not in pdf -->"
   ]
  },
  {
   "cell_type": "code",
   "execution_count": 1,
   "metadata": {
    "#solution": false,
    "#staff": false,
    "#student": false
   },
   "outputs": [],
   "source": [
    "# SETUP\n",
    "\n",
    "import numpy as np\n",
    "from datascience import *\n",
    "from prob140 import *\n",
    "\n",
    "# These lines do some fancy plotting magic\n",
    "import matplotlib\n",
    "%matplotlib inline\n",
    "import matplotlib.pyplot as plt\n",
    "plt.style.use('fivethirtyeight')\n",
    "\n",
    "# These lines make warnings look nicer\n",
    "import warnings\n",
    "warnings.simplefilter('ignore', FutureWarning)\n",
    "warnings.simplefilter('ignore', DeprecationWarning)\n",
    "\n",
    "# Useful for probability calculations\n",
    "from scipy import stats\n",
    "from scipy import special\n",
    "\n",
    "# Imports for interactive widgets\n",
    "from ipywidgets import interact, interactive, fixed, interact_manual\n",
    "import ipywidgets as widgets"
   ]
  },
  {
   "cell_type": "code",
   "execution_count": 8,
   "metadata": {},
   "outputs": [
    {
     "data": {
      "text/plain": [
       "0.4225690276110444"
      ]
     },
     "execution_count": 8,
     "metadata": {},
     "output_type": "execute_result"
    }
   ],
   "source": [
    "special.comb(13,1) * special.comb(4,2) * special.comb(12,3) * special.comb(4,1)**3 / special.comb(52,5)"
   ]
  },
  {
   "cell_type": "code",
   "execution_count": 10,
   "metadata": {},
   "outputs": [
    {
     "data": {
      "text/plain": [
       "0.5190876350540217"
      ]
     },
     "execution_count": 10,
     "metadata": {},
     "output_type": "execute_result"
    }
   ],
   "source": [
    "(3 * 48 * 47 * 46 / (51 * 50 * 49 * 48))* special.comb(5,2)"
   ]
  },
  {
   "cell_type": "markdown",
   "metadata": {
    "#solution": false,
    "#staff": false,
    "#student": false
   },
   "source": [
    "## Lab Resources\n",
    "\n",
    "* [`prob 140` Library Documentation](http://prob140.org/prob140/)\n",
    "* [`datascience` Library Documentation](http://data8.org/datascience/)\n",
    "* [Prob 140 Code Reference Sheet](http://prob140.org/assets/prob140_code_reference.pdf)"
   ]
  },
  {
   "cell_type": "markdown",
   "metadata": {
    "#solution": false,
    "#staff": false,
    "#student": false
   },
   "source": [
    "# Lab 2: Total Variation #\n",
    "\n",
    "In Data 8, you measured the difference between two categorical distributions by calculating the total variation distance between them. In this lab, you will start by interpreting the total variation distance (TVD) in terms of probabilities. You will then use total variation distance to measure the difference between two probability distributions on the non-negative integers. \n",
    "\n",
    "This will give you a way to quantify how well one distribution approximates another. \n",
    "\n",
    "The focus will be on Poisson distributions, which are often used as approximations to distributions of counts of rare events. In particular, the Poisson $(1)$ distribution approximates the distributions of some random counts that have $1$ as their most likely value.\n",
    "\n",
    "A random variable $X$ has the Poisson $(1)$ distribution if\n",
    "\n",
    "$$\n",
    "P(X = k) ~ = ~ e^{-1} \\frac{1}{k!}, ~~~ k \\ge 0\n",
    "$$\n",
    "\n",
    "This is a probability distribution on infinitely many possible values. We will need that infinite support if we are going to approximate distributions on the values $0, 1, 2, \\ldots, n$ for arbitrarily large $n$.\n",
    "\n",
    "In class we are studying two situations in which probabilities approach those in a Poisson distribution. One is counting the number of matches the matching problem with $n$ letters, when $n$ is large. The other is counting the number of successes in $n$ i.i.d. Bernoulli $(p)$ trials, for large $n$ and small $p$.\n",
    "\n",
    "In this lab you will look at the entire distribution of the number of matches, and also the binomial $(n, 1/n)$ distribution. You will compare them with their Poisson $(1)$ approximations, both visually and also by a numerical measure of the distance between two distributions. In doing so, you will find an upper bound for the amount of error when you use the approximations to calculate probabilities.\n",
    "\n",
    "What you will learn:\n",
    "- The definition of total variation distance (TVD) and its interpretation in terms of the amount of error in approximating probabilities\n",
    "- The computation of the exact distribution of the number of fixed points (matches) of a random permutation of $n$ letters\n",
    "- For large $n$, properties of the TVD between the distribution of the number of matches and the Poisson $(1)$ distribution\n",
    "- For large $n$, properties of the TVD between the binomial $(n, 1/n)$ and Poisson $(1)$ distributions"
   ]
  },
  {
   "cell_type": "markdown",
   "metadata": {
    "#solution": false,
    "#staff": false,
    "#student": false
   },
   "source": [
    "## Instructions\n",
    "Your labs have two components: a written portion and a portion that also involves code. Written work should be completed on paper, and coding questions should be done in the notebook. You are welcome to LaTeX your answers to the written portions, but staff will not be able to assist you with LaTeX related issues. It is your responsibility to ensure that both components of the lab are submitted completely and properly to Gradescope. Refer to the bottom of the notebook for submission instructions."
   ]
  },
  {
   "cell_type": "markdown",
   "metadata": {
    "#solution": false,
    "#staff": false,
    "#student": false
   },
   "source": [
    "## Part 1: Total Variation Distance ##"
   ]
  },
  {
   "cell_type": "markdown",
   "metadata": {
    "#solution": false,
    "#staff": false,
    "#student": false
   },
   "source": [
    "Suppose you have two probability distributions on the same set of possible values $x_1, x_2, \\ldots , x_n$. Let the two distributions be $b_1, b_2, \\ldots, b_n$ and $g_1, g_2, \\ldots, g_n$, where for each $i$ the $b$-distribution assigns probability $b_i$ to the value $x_i$ and the $g$-distribution assigns probability $g_i$.\n",
    "\n",
    "The *total variation distance* between the two distributions is defined by\n",
    "\n",
    "$$\n",
    "tvd(b, g) = \n",
    "\\frac{1}{2} \\sum_{i=1}^n |b_i - g_i| \n",
    "$$\n",
    "\n",
    "The choice of notation comes from the blue and gold colors you will see in overlaid histograms below."
   ]
  },
  {
   "cell_type": "markdown",
   "metadata": {
    "#solution": false,
    "#staff": false,
    "#student": false
   },
   "source": [
    "### 1a) Computing TVD ###\n",
    "Define a function `tvd` that takes two probability arrays as arguments and returns the total variation distance between them. You should just assume that both of the input arrays will be probability distributions. You don't have to include code to check that each array is non-negative and sums to $1$."
   ]
  },
  {
   "cell_type": "code",
   "execution_count": 4,
   "metadata": {
    "#solution": false,
    "#staff": false,
    "#student": true
   },
   "outputs": [],
   "source": [
    "def tvd(b, g):\n",
    "    return sum(abs(b - g)) / 2"
   ]
  },
  {
   "cell_type": "markdown",
   "metadata": {
    "#solution": false,
    "#staff": false,
    "#student": false
   },
   "source": [
    "When the two arrays are $b = [0.4, 0.3, 0.2, 0.1]$ and $g = [0.25, 0.35, 0.25, 0.15]$, the histograms look like this:"
   ]
  },
  {
   "cell_type": "code",
   "execution_count": 5,
   "metadata": {
    "#solution": false,
    "#staff": false,
    "#student": false
   },
   "outputs": [
    {
     "data": {
      "image/png": "[encoded data removed]",
      "text/plain": [
       "<Figure size 432x288 with 1 Axes>"
      ]
     },
     "metadata": {},
     "output_type": "display_data"
    }
   ],
   "source": [
    "b = make_array(0.4, 0.3, 0.2, 0.1)\n",
    "g = make_array(0.25, 0.35, 0.25, 0.15)\n",
    "\n",
    "k = np.arange(4)\n",
    "\n",
    "blue_dist = Table().values(k).probabilities(b)\n",
    "gold_dist = Table().values(k).probabilities(g)\n",
    "\n",
    "Plots('Distribution 1', blue_dist, 'Distribution 2', gold_dist)"
   ]
  },
  {
   "cell_type": "markdown",
   "metadata": {
    "#solution": false,
    "#staff": false,
    "#student": false
   },
   "source": [
    "Calculate the TVD by mental math. Then run the cell below to confirm that your function `tvd` is working correctly."
   ]
  },
  {
   "cell_type": "code",
   "execution_count": 6,
   "metadata": {
    "#solution": false,
    "#staff": false,
    "#student": true
   },
   "outputs": [
    {
     "data": {
      "text/plain": [
       "0.15"
      ]
     },
     "execution_count": 6,
     "metadata": {},
     "output_type": "execute_result"
    }
   ],
   "source": [
    "tvd(b, g)"
   ]
  },
  {
   "cell_type": "markdown",
   "metadata": {
    "#solution": false,
    "#staff": false,
    "#student": false
   },
   "source": [
    "The total variation distance between the two distributions is the total amount by which the areas of the blue bars exceed those of the corresponding gold bars. That's exactly equal to the total amount by which the gold bars exceed the blue.\n",
    "\n",
    "This is almost apparent from the definition of total variation distance, and you will prove it in homework. Just assume it for now as you did in Data 8. It is an intuitively reasonable measure of the difference between the two distributions."
   ]
  },
  {
   "cell_type": "markdown",
   "metadata": {
    "#solution": false,
    "#staff": false,
    "#student": false
   },
   "source": [
    "### 1b) Another Way of Interpreting TVD ###\n",
    "\n",
    "**This part will be done in section on Wednesday; don't submit it.**\n",
    "\n",
    "Thus far, our interpretation of total variation distance has been essentially geometric: the amount by which the blue bars exceed the gold. There is an equivalent interpretation in terms of probabilities that makes it easier to understand what the numerical value of the distance is telling us.\n",
    "\n",
    "Suppose you have a finite set of possible values, and a choice of two probability distributions to use for finding probabilities. For example, the choices might be the exact distribution of a random variable and an approximate distribution. \n",
    "\n",
    "**The total variation distance between the two distributions is the biggest difference you can possibly get if you compute the probability of an event using each of the two distributions.**\n",
    "\n",
    "Formally, if $S$ is the space of all possible values, then the total variation distance between the blue and gold distributions is equal to\n",
    "\n",
    "$$\n",
    "\\max\\{ \\big{\\lvert} P_{blue}(A) - P_{gold}(A) \\big{\\rvert} : A \\subseteq S\\}\n",
    "$$\n",
    "\n",
    "This can be shown in a few straightforward steps and you will do that in homework. For now, confirm that it is true for the distributions in **1a**, in the following steps.\n",
    "\n",
    "- Figure out how many events can be created out of the outcomes $\\{0, 1, 2, 3\\}$.\n",
    "- List all the events.\n",
    "- For each event, compute the absolute difference between the blue and gold probabilities of the event. Your goal is to find the biggest possible absolute difference, so you might not even need to compute each one.\n",
    "- See which event or events correspond to the biggest absolute difference, and compare the value of that absolute difference with the TVD that you computed in **1a**."
   ]
  },
  {
   "cell_type": "markdown",
   "metadata": {
    "#solution": false,
    "#staff": false,
    "#student": false
   },
   "source": [
    "#newpage"
   ]
  },
  {
   "cell_type": "markdown",
   "metadata": {
    "#solution": false,
    "#staff": false,
    "#student": false
   },
   "source": [
    "## Part 2: Fixed Points of a Random Permutation ##\n",
    "\n",
    "Let $M_n$ be the number of fixed points in a random permutation of the values $1, 2, 3, \\ldots, n$. You can think of $M_n$ as the number of matches when $n$ letters labeled $1$ through $n$ are permuted randomly into $n$ envelopes labeled $1$ through $n$.\n",
    "\n",
    "[Recall](http://prob140.org/textbook/chapters/Chapter_05/03_The_Matching_Problem) that the distribution of $M$ is given by \n",
    "\n",
    "$$\n",
    "P(M_n = k) ~ = ~ \n",
    "\\frac{1}{k!} \\cdot \\big{(} 1 - \\frac{1}{1!} + \\frac{1}{2!} - \\frac{1}{3!} + \\cdots (-1)^{n-k}\\frac{1}{(n-k)!} \\big{)} \\\\\n",
    "$$\n",
    "for $0 \\le k \\le n$.\n",
    "\n",
    "Also, if $n$ is large, recall that for each fixed $k$ we have the approximation \n",
    "\n",
    "$$\n",
    "P(M_n = k) ~ \\approx ~ \\frac{e^{-1}}{k!}\n",
    "$$ \n",
    "\n",
    "These are the terms in the Poisson $(1)$ distribution.\n",
    "\n",
    "In this part of the lab you will compare the distribution of $M_n$ with its Poisson $(1)$ approximation."
   ]
  },
  {
   "cell_type": "markdown",
   "metadata": {
    "#solution": false,
    "#staff": false,
    "#student": false
   },
   "source": [
    "### 2a) Computing $P(M_n = k)$ ###\n",
    "Complete the definition of the function `prob_matches` that takes $k$ and $n$ as its arguments and returns $P(M_n = k)$. Use as many lines of code as you need.\n",
    "\n",
    "Use array operations. The `special` module of SciPy has been imported and contains a useful `factorial` method: \n",
    "\n",
    "`special.factorial(integer_array)` evaluates to an array consisting of the factorials of all the integers in `integer_array`.\n",
    "\n",
    "Be careful about signs. Follow the lead of the code provided, and tackle all the positive terms separately from all the negative terms."
   ]
  },
  {
   "cell_type": "code",
   "execution_count": 7,
   "metadata": {
    "#solution": false,
    "#staff": false,
    "#student": true
   },
   "outputs": [],
   "source": [
    "\n",
    "def prob_matches(k, n):\n",
    "    x_even = np.arange(0, n - k + 1, 2)\n",
    "    x_odd = np.arange(1, n - k + 1, 2)\n",
    "    eventerms = 1 / (special.factorial(x_even))\n",
    "    oddterms = 1 / (special.factorial(x_odd))\n",
    "    return (1 / special.factorial(k)) * (sum(eventerms) - sum(oddterms))"
   ]
  },
  {
   "cell_type": "markdown",
   "metadata": {
    "#solution": false,
    "#staff": false,
    "#student": false
   },
   "source": [
    "To confirm that your function is working correctly, think about what $P(M_n = n-1)$ should be, and then run the cell below to check."
   ]
  },
  {
   "cell_type": "code",
   "execution_count": 8,
   "metadata": {
    "#solution": false,
    "#staff": false,
    "#student": true
   },
   "outputs": [
    {
     "data": {
      "text/plain": [
       "0.0"
      ]
     },
     "execution_count": 8,
     "metadata": {},
     "output_type": "execute_result"
    }
   ],
   "source": [
    "\n",
    "prob_matches(99, 100)"
   ]
  },
  {
   "cell_type": "markdown",
   "metadata": {
    "#solution": false,
    "#staff": false,
    "#student": false
   },
   "source": [
    "Use the formula for $P(M_n = k)$ to explain why $P(M_n = 0)$ is very close to $P(M_n = 1)$ when $n$ is large."
   ]
  },
  {
   "cell_type": "markdown",
   "metadata": {
    "#solution": false,
    "#staff": false,
    "#student": true
   },
   "source": [
    "$$\n",
    "P(M_n = k) ~ = ~ \n",
    "\\frac{1}{k!} \\cdot \\big{(} 1 - \\frac{1}{1!} + \\frac{1}{2!} - \\frac{1}{3!} + \\cdots (-1)^{n-k}\\frac{1}{(n-k)!} \\big{)} \\\\\n",
    "$$\n",
    "\n",
    "Looking at the formula, for $M_n = 0, 1$,  $\\frac{1}{k!}$ both equal to 1. And the latter terms of the equation for $M_n = 0$ differ only by $(-1)^{n}\\frac{1}{(n)!}$ from the equation for $M_n = 1$. For a large n, such term is very small. Hence $P(M_n = 0)$ is very close to $P(M_n = 1)$ when $n$ is large."
   ]
  },
  {
   "cell_type": "markdown",
   "metadata": {
    "#solution": false,
    "#staff": false,
    "#student": false
   },
   "source": [
    "Now run the cell below and confirm that your function is working correctly."
   ]
  },
  {
   "cell_type": "code",
   "execution_count": 9,
   "metadata": {
    "#solution": false,
    "#staff": false,
    "#student": true
   },
   "outputs": [
    {
     "data": {
      "text/plain": [
       "(0.36787944117144233, 0.36787944117144233)"
      ]
     },
     "execution_count": 9,
     "metadata": {},
     "output_type": "execute_result"
    }
   ],
   "source": [
    "\n",
    "prob_matches(0, 100), prob_matches(1, 100)"
   ]
  },
  {
   "cell_type": "markdown",
   "metadata": {
    "#solution": false,
    "#staff": false,
    "#student": false
   },
   "source": [
    "### 2b) The Bulk of the Distribution ###\n",
    "Use `prob_matches` to define a function `match_dist` that takes $n$ as its argument and returns an array consisting of the probabilities $P(M_n = k)$ for $0 \\le k \\le n$. "
   ]
  },
  {
   "cell_type": "code",
   "execution_count": 10,
   "metadata": {
    "#solution": false,
    "#staff": false,
    "#student": true
   },
   "outputs": [],
   "source": [
    "\n",
    "def match_dist(n):\n",
    "    k = np.arange(n + 1)\n",
    "    prob = make_array()\n",
    "    for i in k:\n",
    "        prob = np.append(prob, prob_matches(i, n))\n",
    "    return prob"
   ]
  },
  {
   "cell_type": "code",
   "execution_count": 11,
   "metadata": {},
   "outputs": [
    {
     "data": {
      "text/plain": [
       "1.0000000000000002"
      ]
     },
     "execution_count": 11,
     "metadata": {},
     "output_type": "execute_result"
    }
   ],
   "source": [
    "sum(match_dist(10))"
   ]
  },
  {
   "cell_type": "markdown",
   "metadata": {
    "#solution": false,
    "#staff": false,
    "#student": false
   },
   "source": [
    "The expression `match_dist(100)[0:11]` evaluates to an array consisting of the elements 0 through 10 of the array `match_dist(100)`. \n",
    "\n",
    "Explain what the output of the cell below tells you about the distribution of $M_n$. As with most questions about random variables, start by thinking about the possible values of $M_n$."
   ]
  },
  {
   "cell_type": "code",
   "execution_count": 12,
   "metadata": {
    "#solution": false,
    "#staff": false,
    "#student": true
   },
   "outputs": [
    {
     "data": {
      "text/plain": [
       "0.9999999899522336"
      ]
     },
     "execution_count": 12,
     "metadata": {},
     "output_type": "execute_result"
    }
   ],
   "source": [
    "\n",
    "sum(match_dist(100)[0:11])"
   ]
  },
  {
   "cell_type": "markdown",
   "metadata": {
    "#solution": false,
    "#staff": false,
    "#student": true
   },
   "source": [
    "The possible values of $M_n$ is from 0 to 100. With the sum of probabilties for $M_n =$ 0 to 10 equal to 1, it says that the distribution of $M_n$ lies in between 0 and 10."
   ]
  },
  {
   "cell_type": "markdown",
   "metadata": {
    "#solution": false,
    "#staff": false,
    "#student": false
   },
   "source": [
    "### 2c) Visualization ###\n",
    "Plot the distribution of $M_{100}$, the number of matches in the matching problem with 100 letters. Use `Plot(dist)` where `dist` is a distribution object created by either:\n",
    "\n",
    "`Table().values(array_of_values).probabilities(array_of_probabilities)`\n",
    "\n",
    "or\n",
    "\n",
    "`Table().values(array_of_values).probability_function(name_of_function)` where `name_of_function` takes a possible value as its argument and returns the probability of that value.\n"
   ]
  },
  {
   "cell_type": "code",
   "execution_count": 13,
   "metadata": {
    "#solution": false,
    "#staff": false,
    "#student": true
   },
   "outputs": [
    {
     "data": {
      "image/png": "[encoded data removed]",
      "text/plain": [
       "<Figure size 432x288 with 1 Axes>"
      ]
     },
     "metadata": {},
     "output_type": "display_data"
    }
   ],
   "source": [
    "\n",
    "k = np.arange(11)\n",
    "\n",
    "prob = match_dist(10)\n",
    "\n",
    "matches_100 = Table().values(k).probabilities(prob)\n",
    "Plot(matches_100)"
   ]
  },
  {
   "cell_type": "markdown",
   "metadata": {
    "#solution": false,
    "#staff": false,
    "#student": false
   },
   "source": [
    "#newpage"
   ]
  },
  {
   "cell_type": "markdown",
   "metadata": {
    "#solution": false,
    "#staff": false,
    "#student": false
   },
   "source": [
    "## Part 3: Poisson Approximation to the Matching Distribution ##\n",
    "\n",
    "Recall from the introduction to the lab that $X$ has the Poisson distribution with parameter 1 if \n",
    "\n",
    "$$\n",
    "P(X = k) ~ = ~ e^{-1} \\frac{1}{k!}, ~~~ k \\ge 0\n",
    "$$\n",
    "\n",
    "The `stats` module of SciPy can be used to calculate the probabilities in this distribution. If `values` is an array of non-negative integers, then\n",
    "\n",
    "`stats.poisson.pmf(values, 1)`\n",
    "\n",
    "evaluates to an array of probabilities of the entries in `values`, determined by the Poisson $(1)$ formula above.\n",
    "\n",
    "The acronym `pmf` stands for \"probability mass function\". It is common for probabilists to think of the probabilities in the distribution of a discrete random variable as masses attached to the random variable's possible values. "
   ]
  },
  {
   "cell_type": "markdown",
   "metadata": {
    "#solution": false,
    "#staff": false,
    "#student": false
   },
   "source": [
    "### 3a) The Poisson $(1)$ Distribution ###\n",
    "Draw a historam of the Poisson $(1)$ distribution."
   ]
  },
  {
   "cell_type": "code",
   "execution_count": 14,
   "metadata": {
    "#solution": false,
    "#staff": false,
    "#student": true
   },
   "outputs": [
    {
     "data": {
      "image/png": "[encoded data removed]",
      "text/plain": [
       "<Figure size 432x288 with 1 Axes>"
      ]
     },
     "metadata": {},
     "output_type": "display_data"
    }
   ],
   "source": [
    "\n",
    "k = np.arange(11)        # selected possible values\n",
    "poisson_1_probs = stats.poisson.pmf(k, 1)    # array of corresponding Poisson (1) probabilities\n",
    "poisson_1_dist = Table().values(k).probabilities(poisson_1_probs)\n",
    "Plot(poisson_1_dist)\n",
    "plt.title('Poisson (1) Distribution');"
   ]
  },
  {
   "cell_type": "markdown",
   "metadata": {
    "#solution": false,
    "#staff": false,
    "#student": false
   },
   "source": [
    "Notice:\n",
    "\n",
    "- The distribution has two modes, at 0 and 1. In exercises you will see why.\n",
    "- Though there are infinitely many possible values, the set of *probable* values is very small — there is hardly any probability visible beyond the value 4.\n",
    "- The distribution is extremely similar to the distribution of the number of matches in **2c**."
   ]
  },
  {
   "cell_type": "markdown",
   "metadata": {
    "#solution": false,
    "#staff": false,
    "#student": false
   },
   "source": [
    "### 3b) TVD Between the Matching Distribution and its Poisson Approximation ###\n",
    "Use the `stats` module and functions you have already defined in this lab to define a new function `matches_Poisson_tvd` that takes $n$ as its argument and returns the total variation distance between the distribution of the number of matches $M_n$ and the Poisson $(1)$ distribution.\n",
    "\n",
    "Though the Poisson distribution has infinite support, you have seen that almost all of the probability is concentrated on just a few small values. So it's fine to compute the Poisson $(1)$ probabilities only for $0, 1, 2, \\ldots, n$, the possible numbers of matches."
   ]
  },
  {
   "cell_type": "code",
   "execution_count": 15,
   "metadata": {
    "#solution": false,
    "#staff": false,
    "#student": true
   },
   "outputs": [],
   "source": [
    "\n",
    "def matches_Poisson_tvd(n):\n",
    "    mn = match_dist(n)\n",
    "    \n",
    "    k = np.arange(n+1)\n",
    "    poisson = stats.poisson.pmf(k, 1)\n",
    "    \n",
    "    return tvd(mn, poisson)"
   ]
  },
  {
   "cell_type": "markdown",
   "metadata": {
    "#solution": false,
    "#staff": false,
    "#student": false
   },
   "source": [
    "To see if the value that your function is returning make sense, start by looking at the distribution of $M_5$, the number of matches if you just have 5 letters."
   ]
  },
  {
   "cell_type": "code",
   "execution_count": 16,
   "metadata": {
    "#solution": false,
    "#staff": false,
    "#student": false
   },
   "outputs": [
    {
     "data": {
      "image/png": "[encoded data removed]",
      "text/plain": [
       "<Figure size 432x288 with 1 Axes>"
      ]
     },
     "metadata": {},
     "output_type": "display_data"
    }
   ],
   "source": [
    "matches_5 = Table().values(np.arange(6)).probabilities(match_dist(5))\n",
    "Plot(matches_5)"
   ]
  },
  {
   "cell_type": "markdown",
   "metadata": {
    "#solution": false,
    "#staff": false,
    "#student": false
   },
   "source": [
    "Which do you think should be larger: `matches_Poisson_tvd(5)` or `matches_Poisson_tvd(100)`? Why?"
   ]
  },
  {
   "cell_type": "markdown",
   "metadata": {
    "#solution": false,
    "#staff": false,
    "#student": true
   },
   "source": [
    "I think `matches_Poisson_tvd(5)` should be larger. The poisson approximation uses $e^{-1}$ is a better approximation for the actual match distribution with higher number of n. Hence the distance away from the actual values will be further away for n = 5 compared to n = 100"
   ]
  },
  {
   "cell_type": "markdown",
   "metadata": {
    "#solution": false,
    "#staff": false,
    "#student": false
   },
   "source": [
    "Run the cell below to see that your function behaves consistently with your answer above."
   ]
  },
  {
   "cell_type": "code",
   "execution_count": 17,
   "metadata": {
    "#solution": false,
    "#staff": false,
    "#student": true
   },
   "outputs": [
    {
     "data": {
      "text/plain": [
       "(0.03411123088143108, 2.0236745963801594e-17)"
      ]
     },
     "execution_count": 17,
     "metadata": {},
     "output_type": "execute_result"
    }
   ],
   "source": [
    "\n",
    "matches_Poisson_tvd(5), matches_Poisson_tvd(100)"
   ]
  },
  {
   "cell_type": "markdown",
   "metadata": {
    "#solution": false,
    "#staff": false,
    "#student": false
   },
   "source": [
    "### 3d) Error in the Approximation ###\n",
    "Let $a$ and $b$ be two integers with $0 \\le a < b \\le 100$. Suppose you approximate $P(a \\le M_{100} \\le b)$ by $\\sum_{k=a}^b e^{-1}\\frac{1}{k!}$. What is the largest possible error you could make?"
   ]
  },
  {
   "cell_type": "code",
   "execution_count": 18,
   "metadata": {
    "#solution": false,
    "#staff": false,
    "#student": true
   },
   "outputs": [
    {
     "data": {
      "text/plain": [
       "4.047349192760319e-17"
      ]
     },
     "execution_count": 18,
     "metadata": {},
     "output_type": "execute_result"
    }
   ],
   "source": [
    "#matches_Poisson_tvd caculates half of the sum of all the absolute difference \n",
    "#between actual distribution and Poisson approximation, \n",
    "#Hence, assuming all the differences are positive, \n",
    "#the largest possible error is two times the tvd. \n",
    "\n",
    "matches_Poisson_tvd(100) * 2 "
   ]
  },
  {
   "cell_type": "markdown",
   "metadata": {
    "#solution": false,
    "#staff": false,
    "#student": false
   },
   "source": [
    "The more letters you have, the better the approximation is. To visualize this, extend `tvd_table` below with a column labeled `Matches (n)` that contains the total variation distance between the exact distribution of the number of matches and its Poisson $(1)$ approximation. In each row, the number of letters $n$ is given by the entry in Column 0. "
   ]
  },
  {
   "cell_type": "code",
   "execution_count": 19,
   "metadata": {
    "#solution": false,
    "#staff": false,
    "#student": true
   },
   "outputs": [
    {
     "data": {
      "text/html": [
       "<table border=\"1\" class=\"dataframe\">\n",
       "    <thead>\n",
       "        <tr>\n",
       "            <th>n</th> <th>Matches (n)</th>\n",
       "        </tr>\n",
       "    </thead>\n",
       "    <tbody>\n",
       "        <tr>\n",
       "            <td>5   </td> <td>0.0341112  </td>\n",
       "        </tr>\n",
       "        <tr>\n",
       "            <td>6   </td> <td>0.0100777  </td>\n",
       "        </tr>\n",
       "        <tr>\n",
       "            <td>7   </td> <td>0.00258417 </td>\n",
       "        </tr>\n",
       "        <tr>\n",
       "            <td>8   </td> <td>0.000585866</td>\n",
       "        </tr>\n",
       "        <tr>\n",
       "            <td>9   </td> <td>0.000119094</td>\n",
       "        </tr>\n",
       "        <tr>\n",
       "            <td>10  </td> <td>2.19485e-05</td>\n",
       "        </tr>\n",
       "        <tr>\n",
       "            <td>11  </td> <td>3.70026e-06</td>\n",
       "        </tr>\n",
       "        <tr>\n",
       "            <td>12  </td> <td>5.74911e-07</td>\n",
       "        </tr>\n",
       "        <tr>\n",
       "            <td>13  </td> <td>8.28377e-08</td>\n",
       "        </tr>\n",
       "        <tr>\n",
       "            <td>14  </td> <td>1.11286e-08</td>\n",
       "        </tr>\n",
       "    </tbody>\n",
       "</table>\n",
       "<p>... (86 rows omitted)</p>"
      ],
      "text/plain": [
       "n    | Matches (n)\n",
       "5    | 0.0341112\n",
       "6    | 0.0100777\n",
       "7    | 0.00258417\n",
       "8    | 0.000585866\n",
       "9    | 0.000119094\n",
       "10   | 2.19485e-05\n",
       "11   | 3.70026e-06\n",
       "12   | 5.74911e-07\n",
       "13   | 8.28377e-08\n",
       "14   | 1.11286e-08\n",
       "... (86 rows omitted)"
      ]
     },
     "execution_count": 19,
     "metadata": {},
     "output_type": "execute_result"
    }
   ],
   "source": [
    "\n",
    "tvd_table = Table().with_column('n', np.arange(5, 101))\n",
    "\n",
    "matches_tvds = tvd_table.with_column('Matches (n)', tvd_table.apply(matches_Poisson_tvd, 0))\n",
    "\n",
    "tvd_table = matches_tvds\n",
    "\n",
    "tvd_table"
   ]
  },
  {
   "cell_type": "markdown",
   "metadata": {
    "#solution": false,
    "#staff": false,
    "#student": false
   },
   "source": [
    "Use the `Table` method `plot` to draw a line plot of the TVDs as a function of $n$."
   ]
  },
  {
   "cell_type": "code",
   "execution_count": 20,
   "metadata": {},
   "outputs": [
    {
     "data": {
      "image/png": "[encoded data removed]",
      "text/plain": [
       "<Figure size 432x288 with 1 Axes>"
      ]
     },
     "metadata": {},
     "output_type": "display_data"
    }
   ],
   "source": [
    "Plot(tvd_table)"
   ]
  },
  {
   "cell_type": "markdown",
   "metadata": {
    "#solution": false,
    "#staff": false,
    "#student": false
   },
   "source": [
    "Note how sharply the graph falls. For $n \\ge 10$ or so, there is almost no error at all in using the Poisson $(1)$ distribution to approximate the distribution of $M_n$."
   ]
  },
  {
   "cell_type": "markdown",
   "metadata": {
    "#solution": false,
    "#staff": false,
    "#student": false
   },
   "source": [
    "#newpage"
   ]
  },
  {
   "cell_type": "markdown",
   "metadata": {
    "#solution": false,
    "#staff": false,
    "#student": false
   },
   "source": [
    "## Part 4. Poisson $(1)$ Approximation to Binomial Distributions ##"
   ]
  },
  {
   "cell_type": "markdown",
   "metadata": {
    "#solution": false,
    "#staff": false,
    "#student": false
   },
   "source": [
    "Roughly stated, a theorem we proved in class says that if $n$ is large and $p$ is small, then the binomial $(n, p)$ probabilities are close to Poisson $(np)$ probabilities. \n",
    "\n",
    "Therefore for large $n$, binomial $(n, 1/n)$ probabilities should be close to Poisson $(1)$ probabilities."
   ]
  },
  {
   "cell_type": "markdown",
   "metadata": {
    "#solution": false,
    "#staff": false,
    "#student": false
   },
   "source": [
    "### 4a) Binomial $(10, 1/10)$ Distribution ###\n",
    "If `values` is an array of integers in the range 0 through $n$, then\n",
    "\n",
    "`stats.binom.pmf(values, n, p)`\n",
    "\n",
    "evaluates to an array of the binomial $(n, p)$ probabilities of the entries in `values`.\n",
    "\n",
    "Display a histogram of the binomial $(10, 1/10)$ distribution. Notice how the probabilities are concentrated on the low values. This is a signal to start thinking about Poisson approximations, even though the number of trials ($n = 10$) isn't very large."
   ]
  },
  {
   "cell_type": "code",
   "execution_count": 21,
   "metadata": {
    "#solution": false,
    "#staff": false,
    "#student": true
   },
   "outputs": [
    {
     "data": {
      "image/png": "[encoded data removed]",
      "text/plain": [
       "<Figure size 432x288 with 1 Axes>"
      ]
     },
     "metadata": {},
     "output_type": "display_data"
    }
   ],
   "source": [
    "\n",
    "# binomial (n, 1/n) distribution\n",
    "\n",
    "n = 10                             # number of trials\n",
    "\n",
    "k = np.arange(11)                            # possible values\n",
    "binom_probs = stats.binom.pmf(k, n, 1/n)                  # binomial (n, 1/n) probabilities\n",
    "\n",
    "\n",
    "binom_dist = Table().values(k).probabilities(binom_probs)\n",
    "\n",
    "Plot(binom_dist)\n",
    "plt.title('Binomial (10, 1/10) Distribution');"
   ]
  },
  {
   "cell_type": "markdown",
   "metadata": {
    "#solution": false,
    "#staff": false,
    "#student": false
   },
   "source": [
    "Since $n = 10$ isn't very large, this distribution doesn't look exactly like the Poisson $(1)$ distribution though the two have many similarities. Run the cell below to see the overlaid histograms."
   ]
  },
  {
   "cell_type": "code",
   "execution_count": 22,
   "metadata": {
    "#solution": false,
    "#staff": false,
    "#student": false
   },
   "outputs": [
    {
     "data": {
      "image/png": "[encoded data removed]",
      "text/plain": [
       "<Figure size 432x288 with 1 Axes>"
      ]
     },
     "metadata": {},
     "output_type": "display_data"
    }
   ],
   "source": [
    "poisson_1_probs = stats.poisson.pmf(k, 1)\n",
    "poisson_1_dist = Table().values(k).probabilities(poisson_1_probs)\n",
    "\n",
    "Plots('Binomial (10, 1/10)', binom_dist, 'Poisson (1)', poisson_1_dist)"
   ]
  },
  {
   "cell_type": "markdown",
   "metadata": {
    "#solution": false,
    "#staff": false,
    "#student": false
   },
   "source": [
    "At this point it will come as no surprise that the Poisson $(1)$ approximation gets better as $n$ increases. You will quantify this in the remaining exercises below."
   ]
  },
  {
   "cell_type": "markdown",
   "metadata": {
    "#solution": false,
    "#staff": false,
    "#student": false
   },
   "source": [
    "### 4b) TVD between the Binomial $(n, 1/n)$ Distribution and its Poisson Approximation ###\n",
    "Define a function `binomial_Poisson_tvd` that takes $n$ as its argument and returns the total variation distance between the binomial $(n, 1/n)$ and Poisson $(1)$ distributions. As before, it's fine to compute the Poisson $(1)$ probabilities only on 0 through $n$, the possible values of the binomial."
   ]
  },
  {
   "cell_type": "code",
   "execution_count": 23,
   "metadata": {
    "#solution": false,
    "#staff": false,
    "#student": true
   },
   "outputs": [],
   "source": [
    "\n",
    "def binomial_Poisson_tvd(n):\n",
    "    k = np.arange(n+1)\n",
    "    binom = stats.binom.pmf(k, n, 1 / n)\n",
    "    poisson = stats.poisson.pmf(k, 1)\n",
    "    return tvd(binom, poisson)\n",
    "    "
   ]
  },
  {
   "cell_type": "markdown",
   "metadata": {
    "#solution": false,
    "#staff": false,
    "#student": false
   },
   "source": [
    "As a check to see if your function is working correctly, run the cell below. The output should be about $1$%."
   ]
  },
  {
   "cell_type": "code",
   "execution_count": 24,
   "metadata": {
    "#solution": false,
    "#staff": false,
    "#student": true
   },
   "outputs": [
    {
     "data": {
      "text/plain": [
       "0.009379738441886479"
      ]
     },
     "execution_count": 24,
     "metadata": {},
     "output_type": "execute_result"
    }
   ],
   "source": [
    "binomial_Poisson_tvd(30)"
   ]
  },
  {
   "cell_type": "markdown",
   "metadata": {
    "#solution": false,
    "#staff": false,
    "#student": false
   },
   "source": [
    "### 4c) Error in Approximation ###\n",
    "Extend `tvd_table` defined earlier with a column labeled `'Binomial (n, 1/n)'` that contains the TVD between the binomial $(n, 1/n)$ and Poisson $(1)$ distributions, where in each row $n$ is given by the entry in Column 0."
   ]
  },
  {
   "cell_type": "code",
   "execution_count": 25,
   "metadata": {
    "#solution": false,
    "#staff": false,
    "#student": true
   },
   "outputs": [
    {
     "data": {
      "text/html": [
       "<table border=\"1\" class=\"dataframe\">\n",
       "    <thead>\n",
       "        <tr>\n",
       "            <th>n</th> <th>Matches (n)</th> <th>Binomial (n, 1/n)</th>\n",
       "        </tr>\n",
       "    </thead>\n",
       "    <tbody>\n",
       "        <tr>\n",
       "            <td>5   </td> <td>0.0341112  </td> <td>0.0622837        </td>\n",
       "        </tr>\n",
       "        <tr>\n",
       "            <td>6   </td> <td>0.0100777  </td> <td>0.0509556        </td>\n",
       "        </tr>\n",
       "        <tr>\n",
       "            <td>7   </td> <td>0.00258417 </td> <td>0.0430299        </td>\n",
       "        </tr>\n",
       "        <tr>\n",
       "            <td>8   </td> <td>0.000585866</td> <td>0.0372241        </td>\n",
       "        </tr>\n",
       "        <tr>\n",
       "            <td>9   </td> <td>0.000119094</td> <td>0.0327973        </td>\n",
       "        </tr>\n",
       "        <tr>\n",
       "            <td>10  </td> <td>2.19485e-05</td> <td>0.0293116        </td>\n",
       "        </tr>\n",
       "        <tr>\n",
       "            <td>11  </td> <td>3.70026e-06</td> <td>0.0264958        </td>\n",
       "        </tr>\n",
       "        <tr>\n",
       "            <td>12  </td> <td>5.74911e-07</td> <td>0.0241737        </td>\n",
       "        </tr>\n",
       "        <tr>\n",
       "            <td>13  </td> <td>8.28377e-08</td> <td>0.0222259        </td>\n",
       "        </tr>\n",
       "        <tr>\n",
       "            <td>14  </td> <td>1.11286e-08</td> <td>0.0205686        </td>\n",
       "        </tr>\n",
       "    </tbody>\n",
       "</table>\n",
       "<p>... (86 rows omitted)</p>"
      ],
      "text/plain": [
       "n    | Matches (n) | Binomial (n, 1/n)\n",
       "5    | 0.0341112   | 0.0622837\n",
       "6    | 0.0100777   | 0.0509556\n",
       "7    | 0.00258417  | 0.0430299\n",
       "8    | 0.000585866 | 0.0372241\n",
       "9    | 0.000119094 | 0.0327973\n",
       "10   | 2.19485e-05 | 0.0293116\n",
       "11   | 3.70026e-06 | 0.0264958\n",
       "12   | 5.74911e-07 | 0.0241737\n",
       "13   | 8.28377e-08 | 0.0222259\n",
       "14   | 1.11286e-08 | 0.0205686\n",
       "... (86 rows omitted)"
      ]
     },
     "execution_count": 25,
     "metadata": {},
     "output_type": "execute_result"
    }
   ],
   "source": [
    "\n",
    "binom_tvds = tvd_table.apply(binomial_Poisson_tvd, 0)\n",
    "\n",
    "tvd_table = tvd_table.with_column('Binomial (n, 1/n)', binom_tvds)\n",
    "\n",
    "tvd_table"
   ]
  },
  {
   "cell_type": "markdown",
   "metadata": {
    "#solution": false,
    "#staff": false,
    "#student": false
   },
   "source": [
    "Run the cell below to get overlaid line plots of the two TVD columns as functions of $n$."
   ]
  },
  {
   "cell_type": "code",
   "execution_count": 26,
   "metadata": {
    "#solution": false,
    "#staff": false,
    "#student": true
   },
   "outputs": [
    {
     "data": {
      "image/png": "[encoded data removed]",
      "text/plain": [
       "<Figure size 432x288 with 1 Axes>"
      ]
     },
     "metadata": {},
     "output_type": "display_data"
    }
   ],
   "source": [
    "\n",
    "tvd_table.plot(0)"
   ]
  },
  {
   "cell_type": "markdown",
   "metadata": {
    "#solution": false,
    "#staff": false,
    "#student": false
   },
   "source": [
    "The graph of the binomial-Poisson TVDs drops sharply, though not as sharply as the matches-Poisson TVD graph. \n",
    "\n",
    "Fill in the blanks (use the code cell below if you need to):\n",
    "\n",
    "For values of $n$ that are about $\\underline{~~~~~~~~~~~~~~~~}$ or more, Poisson $(1)$ approximations to binomial $(n, 1/n)$ probabilities will be off by at most 0.5%. "
   ]
  },
  {
   "cell_type": "markdown",
   "metadata": {
    "#solution": false,
    "#staff": false,
    "#student": true
   },
   "source": [
    "For values of $n$ that are about $60$ or more, Poisson $(1)$ approximations to binomial $(n, 1/n)$ probabilities will be off by at most 0.5%. "
   ]
  },
  {
   "cell_type": "code",
   "execution_count": 27,
   "metadata": {
    "#solution": false,
    "#staff": false,
    "#student": true
   },
   "outputs": [
    {
     "data": {
      "text/html": [
       "<table border=\"1\" class=\"dataframe\">\n",
       "    <thead>\n",
       "        <tr>\n",
       "            <th>n</th> <th>diff</th>\n",
       "        </tr>\n",
       "    </thead>\n",
       "    <tbody>\n",
       "        <tr>\n",
       "            <td>5   </td> <td>0.0281725 </td>\n",
       "        </tr>\n",
       "        <tr>\n",
       "            <td>6   </td> <td>0.0408778 </td>\n",
       "        </tr>\n",
       "        <tr>\n",
       "            <td>7   </td> <td>0.0404457 </td>\n",
       "        </tr>\n",
       "        <tr>\n",
       "            <td>8   </td> <td>0.0366383 </td>\n",
       "        </tr>\n",
       "        <tr>\n",
       "            <td>9   </td> <td>0.0326782 </td>\n",
       "        </tr>\n",
       "        <tr>\n",
       "            <td>10  </td> <td>0.0292896 </td>\n",
       "        </tr>\n",
       "        <tr>\n",
       "            <td>11  </td> <td>0.0264921 </td>\n",
       "        </tr>\n",
       "        <tr>\n",
       "            <td>12  </td> <td>0.0241731 </td>\n",
       "        </tr>\n",
       "        <tr>\n",
       "            <td>13  </td> <td>0.0222258 </td>\n",
       "        </tr>\n",
       "        <tr>\n",
       "            <td>14  </td> <td>0.0205686 </td>\n",
       "        </tr>\n",
       "        <tr>\n",
       "            <td>15  </td> <td>0.0191414 </td>\n",
       "        </tr>\n",
       "        <tr>\n",
       "            <td>16  </td> <td>0.0178994 </td>\n",
       "        </tr>\n",
       "        <tr>\n",
       "            <td>17  </td> <td>0.0168088 </td>\n",
       "        </tr>\n",
       "        <tr>\n",
       "            <td>18  </td> <td>0.0158435 </td>\n",
       "        </tr>\n",
       "        <tr>\n",
       "            <td>19  </td> <td>0.014983  </td>\n",
       "        </tr>\n",
       "        <tr>\n",
       "            <td>20  </td> <td>0.0142112 </td>\n",
       "        </tr>\n",
       "        <tr>\n",
       "            <td>21  </td> <td>0.0135151 </td>\n",
       "        </tr>\n",
       "        <tr>\n",
       "            <td>22  </td> <td>0.0128839 </td>\n",
       "        </tr>\n",
       "        <tr>\n",
       "            <td>23  </td> <td>0.0123091 </td>\n",
       "        </tr>\n",
       "        <tr>\n",
       "            <td>24  </td> <td>0.0117834 </td>\n",
       "        </tr>\n",
       "        <tr>\n",
       "            <td>25  </td> <td>0.0113007 </td>\n",
       "        </tr>\n",
       "        <tr>\n",
       "            <td>26  </td> <td>0.010856  </td>\n",
       "        </tr>\n",
       "        <tr>\n",
       "            <td>27  </td> <td>0.010445  </td>\n",
       "        </tr>\n",
       "        <tr>\n",
       "            <td>28  </td> <td>0.010064  </td>\n",
       "        </tr>\n",
       "        <tr>\n",
       "            <td>29  </td> <td>0.00970985</td>\n",
       "        </tr>\n",
       "        <tr>\n",
       "            <td>30  </td> <td>0.00937974</td>\n",
       "        </tr>\n",
       "        <tr>\n",
       "            <td>31  </td> <td>0.00907134</td>\n",
       "        </tr>\n",
       "        <tr>\n",
       "            <td>32  </td> <td>0.00878258</td>\n",
       "        </tr>\n",
       "        <tr>\n",
       "            <td>33  </td> <td>0.00851163</td>\n",
       "        </tr>\n",
       "        <tr>\n",
       "            <td>34  </td> <td>0.0082569 </td>\n",
       "        </tr>\n",
       "        <tr>\n",
       "            <td>35  </td> <td>0.00801698</td>\n",
       "        </tr>\n",
       "        <tr>\n",
       "            <td>36  </td> <td>0.0077906 </td>\n",
       "        </tr>\n",
       "        <tr>\n",
       "            <td>37  </td> <td>0.00757666</td>\n",
       "        </tr>\n",
       "        <tr>\n",
       "            <td>38  </td> <td>0.00737416</td>\n",
       "        </tr>\n",
       "        <tr>\n",
       "            <td>39  </td> <td>0.0071822 </td>\n",
       "        </tr>\n",
       "        <tr>\n",
       "            <td>40  </td> <td>0.00699998</td>\n",
       "        </tr>\n",
       "        <tr>\n",
       "            <td>41  </td> <td>0.00682677</td>\n",
       "        </tr>\n",
       "        <tr>\n",
       "            <td>42  </td> <td>0.00666194</td>\n",
       "        </tr>\n",
       "        <tr>\n",
       "            <td>43  </td> <td>0.00650487</td>\n",
       "        </tr>\n",
       "        <tr>\n",
       "            <td>44  </td> <td>0.00635504</td>\n",
       "        </tr>\n",
       "        <tr>\n",
       "            <td>45  </td> <td>0.00621196</td>\n",
       "        </tr>\n",
       "        <tr>\n",
       "            <td>46  </td> <td>0.00607518</td>\n",
       "        </tr>\n",
       "        <tr>\n",
       "            <td>47  </td> <td>0.00594429</td>\n",
       "        </tr>\n",
       "        <tr>\n",
       "            <td>48  </td> <td>0.00581892</td>\n",
       "        </tr>\n",
       "        <tr>\n",
       "            <td>49  </td> <td>0.00569873</td>\n",
       "        </tr>\n",
       "        <tr>\n",
       "            <td>50  </td> <td>0.00558341</td>\n",
       "        </tr>\n",
       "        <tr>\n",
       "            <td>51  </td> <td>0.00547266</td>\n",
       "        </tr>\n",
       "        <tr>\n",
       "            <td>52  </td> <td>0.00536622</td>\n",
       "        </tr>\n",
       "        <tr>\n",
       "            <td>53  </td> <td>0.00526384</td>\n",
       "        </tr>\n",
       "        <tr>\n",
       "            <td>54  </td> <td>0.0051653 </td>\n",
       "        </tr>\n",
       "        <tr>\n",
       "            <td>55  </td> <td>0.00507037</td>\n",
       "        </tr>\n",
       "        <tr>\n",
       "            <td>56  </td> <td>0.00497888</td>\n",
       "        </tr>\n",
       "        <tr>\n",
       "            <td>57  </td> <td>0.00489062</td>\n",
       "        </tr>\n",
       "        <tr>\n",
       "            <td>58  </td> <td>0.00480544</td>\n",
       "        </tr>\n",
       "        <tr>\n",
       "            <td>59  </td> <td>0.00472318</td>\n",
       "        </tr>\n",
       "        <tr>\n",
       "            <td>60  </td> <td>0.00464369</td>\n",
       "        </tr>\n",
       "        <tr>\n",
       "            <td>61  </td> <td>0.00456682</td>\n",
       "        </tr>\n",
       "        <tr>\n",
       "            <td>62  </td> <td>0.00449246</td>\n",
       "        </tr>\n",
       "        <tr>\n",
       "            <td>63  </td> <td>0.00442049</td>\n",
       "        </tr>\n",
       "        <tr>\n",
       "            <td>64  </td> <td>0.00435078</td>\n",
       "        </tr>\n",
       "        <tr>\n",
       "            <td>65  </td> <td>0.00428324</td>\n",
       "        </tr>\n",
       "        <tr>\n",
       "            <td>66  </td> <td>0.00421776</td>\n",
       "        </tr>\n",
       "        <tr>\n",
       "            <td>67  </td> <td>0.00415425</td>\n",
       "        </tr>\n",
       "        <tr>\n",
       "            <td>68  </td> <td>0.00409263</td>\n",
       "        </tr>\n",
       "        <tr>\n",
       "            <td>69  </td> <td>0.00403281</td>\n",
       "        </tr>\n",
       "        <tr>\n",
       "            <td>70  </td> <td>0.00397472</td>\n",
       "        </tr>\n",
       "        <tr>\n",
       "            <td>71  </td> <td>0.00391827</td>\n",
       "        </tr>\n",
       "        <tr>\n",
       "            <td>72  </td> <td>0.0038634 </td>\n",
       "        </tr>\n",
       "        <tr>\n",
       "            <td>73  </td> <td>0.00381005</td>\n",
       "        </tr>\n",
       "        <tr>\n",
       "            <td>74  </td> <td>0.00375816</td>\n",
       "        </tr>\n",
       "        <tr>\n",
       "            <td>75  </td> <td>0.00370765</td>\n",
       "        </tr>\n",
       "        <tr>\n",
       "            <td>76  </td> <td>0.00365849</td>\n",
       "        </tr>\n",
       "        <tr>\n",
       "            <td>77  </td> <td>0.00361062</td>\n",
       "        </tr>\n",
       "        <tr>\n",
       "            <td>78  </td> <td>0.00356398</td>\n",
       "        </tr>\n",
       "        <tr>\n",
       "            <td>79  </td> <td>0.00351853</td>\n",
       "        </tr>\n",
       "        <tr>\n",
       "            <td>80  </td> <td>0.00347422</td>\n",
       "        </tr>\n",
       "        <tr>\n",
       "            <td>81  </td> <td>0.00343102</td>\n",
       "        </tr>\n",
       "        <tr>\n",
       "            <td>82  </td> <td>0.00338888</td>\n",
       "        </tr>\n",
       "        <tr>\n",
       "            <td>83  </td> <td>0.00334776</td>\n",
       "        </tr>\n",
       "        <tr>\n",
       "            <td>84  </td> <td>0.00330762</td>\n",
       "        </tr>\n",
       "        <tr>\n",
       "            <td>85  </td> <td>0.00326844</td>\n",
       "        </tr>\n",
       "        <tr>\n",
       "            <td>86  </td> <td>0.00323018</td>\n",
       "        </tr>\n",
       "        <tr>\n",
       "            <td>87  </td> <td>0.0031928 </td>\n",
       "        </tr>\n",
       "        <tr>\n",
       "            <td>88  </td> <td>0.00315627</td>\n",
       "        </tr>\n",
       "        <tr>\n",
       "            <td>89  </td> <td>0.00312057</td>\n",
       "        </tr>\n",
       "        <tr>\n",
       "            <td>90  </td> <td>0.00308568</td>\n",
       "        </tr>\n",
       "        <tr>\n",
       "            <td>91  </td> <td>0.00305155</td>\n",
       "        </tr>\n",
       "        <tr>\n",
       "            <td>92  </td> <td>0.00301817</td>\n",
       "        </tr>\n",
       "        <tr>\n",
       "            <td>93  </td> <td>0.00298551</td>\n",
       "        </tr>\n",
       "        <tr>\n",
       "            <td>94  </td> <td>0.00295355</td>\n",
       "        </tr>\n",
       "        <tr>\n",
       "            <td>95  </td> <td>0.00292227</td>\n",
       "        </tr>\n",
       "        <tr>\n",
       "            <td>96  </td> <td>0.00289164</td>\n",
       "        </tr>\n",
       "        <tr>\n",
       "            <td>97  </td> <td>0.00286165</td>\n",
       "        </tr>\n",
       "        <tr>\n",
       "            <td>98  </td> <td>0.00283227</td>\n",
       "        </tr>\n",
       "        <tr>\n",
       "            <td>99  </td> <td>0.00280349</td>\n",
       "        </tr>\n",
       "        <tr>\n",
       "            <td>100 </td> <td>0.00277529</td>\n",
       "        </tr>\n",
       "    </tbody>\n",
       "</table>"
      ],
      "text/plain": [
       "<IPython.core.display.HTML object>"
      ]
     },
     "metadata": {},
     "output_type": "display_data"
    }
   ],
   "source": [
    "Table().with_columns('n', tvd_table[0], 'diff', abs(tvd_table[1] - tvd_table[2])).show()"
   ]
  },
  {
   "cell_type": "markdown",
   "metadata": {
    "#solution": false,
    "#staff": false,
    "#student": false
   },
   "source": [
    "Now you can use total variation distance to help answer the question, \"How large does $n$ have to be before I can use the Poisson $(1)$ approximation to the binomial $(n, 1/n)$ distribution?\" \n",
    "\n",
    "- First decide how much error you are prepared to tolerate in your approximations. \n",
    "- Then use `tvd_table` (or an extended one with larger values of $n$) to find the smallest $n$ for which the TVD is below your threshold error. \n",
    "- For that $n$ or larger, the error in your Poisson $(1)$ probability approximations will be below your threshold."
   ]
  },
  {
   "cell_type": "markdown",
   "metadata": {
    "#solution": false,
    "#staff": false,
    "#student": false
   },
   "source": [
    "## Conclusion ##\n",
    "What you have learned in this lab:\n",
    "- If you use an approximation to the distribution of $X$, then the total variation distance between the exact and approximate distributions measures the worst error you can make in approximating probabilities of events determined by $X$. You didn't prove that in the lab but you will for homeowrk.\n",
    "- The total variation distance between the distribution of the number of matches in a random permutation of $n$ elements and its Poisson $(1)$ approximation falls very sharply. By about 10 elements or so, you might as well use the Poisson distribution for the number of matches.\n",
    "- The total variation distance between the binomial $(n, 1/n)$ and Poisson $(1)$ distributions falls sharply as a function of $n$ and is below 1% even for moderate values of $n$.\n",
    "- Many random variables in this lab have a large number of possible values, and the approximating Poisson distribution has infinitely many possible values. But no matter how large $n$ is, the *probable* values of all the variables are in a very small range — 0 through about 8 or 10 — because all of the distributions are roughly Poisson $(1)$."
   ]
  },
  {
   "cell_type": "markdown",
   "metadata": {
    "#solution": false,
    "#staff": false,
    "#student": false
   },
   "source": [
    "## Submission Instructions ##\n",
    "\n",
    "Many assignments throughout the course will have a written portion and a code portion. Please follow the directions below to properly submit both portions.\n",
    "\n",
    "### Written Portion ###\n",
    "*  Scan all the pages into a PDF. You can use any scanner or a phone using applications such as CamScanner. Please **DO NOT** simply take pictures using your phone. \n",
    "* Please start a new page for each question. If you have already written multiple questions on the same page, you can crop the image in CamScanner or fold your page over (the old-fashioned way). This helps expedite grading.\n",
    "* It is your responsibility to check that all the work on all the scanned pages is legible.\n",
    "\n",
    "### Code Portion ###\n",
    "* Save your notebook using File > Save and Checkpoint.\n",
    "* Run the cell below to generate a PDF file.\n",
    "* Download the PDF file and confirm that none of your work is missing or cut off.  If the link leads you to a blank page, use [Command]+[S] or [Ctrl]+[S] to download your work.   \n",
    "\n",
    "### Submitting ###\n",
    "* Combine the PDFs from the written and code portions into one PDF.  [Here](https://smallpdf.com/merge-pdf) is a useful tool for doing so.  \n",
    "* Submit the assignment to Lab1 on Gradescope. Use the entry code **M6JPEY** if you haven't already joined the class.\n",
    "* **Make sure to assign each page of your pdf to the correct question.**\n",
    "\n"
   ]
  },
  {
   "cell_type": "code",
   "execution_count": 29,
   "metadata": {
    "#solution": false,
    "#staff": false,
    "#student": false
   },
   "outputs": [
    {
     "name": "stdout",
     "output_type": "stream",
     "text": [
      "Processing Lab_02.ipynb\n",
      "Generated notebook and autograded\n",
      "Attempting to compile LaTeX\n",
      "Finished generating PDF\n"
     ]
    },
    {
     "data": {
      "text/html": [
       "<h1><a href=\"Lab_02_submission.pdf\" download> Download this and submit to gradescope!</a></h1>"
      ],
      "text/plain": [
       "<IPython.core.display.HTML object>"
      ]
     },
     "metadata": {},
     "output_type": "display_data"
    }
   ],
   "source": [
    "import gsExport\n",
    "gsExport.generateSubmission(\"Lab_02.ipynb\")"
   ]
  },
  {
   "cell_type": "code",
   "execution_count": null,
   "metadata": {},
   "outputs": [],
   "source": []
  }
 ],
 "metadata": {
  "anaconda-cloud": {},
  "checksums": [
   "36d6125272e38841d377985b31e7a672",
   "19278b3cf9bcdf181f8d11368e62ee13",
   "bbbd0bf658428e10cbfd889247879924",
   "dda24b49941d07a123ae5244852db6d8",
   "518c84f8a1f148dbd174743a2ce02a06",
   "215ed6c8654224bcdb429ca58d5e7135",
   "4fb206b23cca8f1941265599b0f0f320",
   "91ecad7bcd30fea85846698c6c4ad236",
   "b182444b425e530aebac0b1429b8d999",
   "c58db66b6fee81063dd7637932e6e637",
   "8d31345e276966579a2701d3c436204e",
   "dc8bbeae78e29542dbc5821cbfe3e544",
   "05b6c4f7180c1a2613cba1b9916e62c6",
   "f2d3986dda5745b05e14aaacad5637bd",
   "d63fc24a323a733c9a8c08b76a87d9d2",
   "640061103a186fd26f59746dd4d6de57",
   "5e232f2ebccdbdb3f372223dc475be9e",
   "b00b13bc2eeb836f59446d15fc817d43",
   "b9c4afd0d6308b642b09aa30c7aac726",
   "61eabfbb6c12528de4cb52a76fa50a81",
   "1c9082e82d8238d32d369f3533ca5e8c",
   "1dfb51cb71d2f70285237eea8507884f",
   "3a76d7cce4e9ecdb4fe70737e7879960",
   "bf1f7cacc1f8f52a58a3967f91a19f66",
   "b9b9cba3588e3769333618b5f4f304d6",
   "6500bcedc1d98b4779e1222da0c3e5bb",
   "67103cc9f45ab2bad10bf4cc85d65d19",
   "07e8aa5e3271f9eeabea10bf1d87d8fd",
   "25df0da9d04ff98129e0a93242a87af4",
   "3a76d7cce4e9ecdb4fe70737e7879960",
   "9d4566f5c0bc6415031225bf2696b275",
   "341062640dfbd339294b11cd1448f3d4",
   "640061103a186fd26f59746dd4d6de57",
   "42083454535fdc3249d3e08b7701b322",
   "4ca0b6b18c31aac3475cef1a5544d883",
   "17c82d80cd605f89249c1a4dcaa6cf5d",
   "ccd968724b42bfca21602c4b01fe670e",
   "546d3e89f274873d1ffc7642c13ed0c5",
   "ebe5b742470b60a4776142e086c97581",
   "e5d431036fddc147a594c93542a2921e",
   "ef5759ff92165c4e90015fe67846ec3b",
   "097e0986d8b306e495a9be667cdabc71",
   "3a76d7cce4e9ecdb4fe70737e7879960",
   "b0f66f48ec744bdf5328aa5b336ca88c",
   "07f2b0a9b704a628743082e0968f5cbc",
   "9696d1d2da4b297434fddfd346189e4d",
   "2f43b42fd833d1e77420a8dae7419000",
   "e2f3f6725751d9672766db0bf88de474",
   "0ac6e1505530a756a34808a362a2b6a9",
   "0f9693248cdcf99ce169c189f0d93a61",
   "7b90ee6f8781d1bc4123617b145c4368",
   "640061103a186fd26f59746dd4d6de57",
   "e35b43c56e720a142f61a1a3da176c96",
   "3b0954c110e04e0077390aa31be593d0",
   "b0bdca27f5c456349cf0e8ab2b2cc62c",
   "c1998857407a30636b74dd83e9fd99b7",
   "1ba5798afe8b4b9b50a92451638e4938",
   "6019af823cc745ff239519a0110097ed",
   "30115b9210703022991b1b6ea563b523",
   "b77c4a2e56ccc3a70833cf8cb29138e3",
   "71f2f1609b5cc73741f9e07b05ab0e6c",
   "732477c7f5d4080670738ff6df6da214",
   "44fd51da968ba3e9826a7bfc01c5315b",
   "8c111e62fe95a8ce60555fac932b176c",
   "9f510c9287290ff2ae0ca220016f6f7a",
   "a44fc18c480b10ed64ec11d21b2b3d43",
   "2e2c2c4d314a75eb8b8ef2bc1765ecac",
   "406b98dcbaa39ff2691d337b1e491fba",
   "0de20b93bb878d597e59213991465648",
   "2f43b42fd833d1e77420a8dae7419000",
   "7d03d983dcfc893b98847e1b9516b925",
   "ec8e9b6ea679ae678dce8a399fc78da4",
   "eb43ce0cd4e5e439756047791e9783f4",
   "f235c35e14cf7b4d28020f5bff60d815"
  ],
  "kernelspec": {
   "display_name": "Python 3",
   "language": "python",
   "name": "python3"
  },
  "language_info": {
   "codemirror_mode": {
    "name": "ipython",
    "version": 3
   },
   "file_extension": ".py",
   "mimetype": "text/x-python",
   "name": "python",
   "nbconvert_exporter": "python",
   "pygments_lexer": "ipython3",
   "version": "3.6.7"
  },
  "number_of_pagebreaks": 3,
  "widgets": {
   "state": {},
   "version": "1.1.2"
  }
 },
 "nbformat": 4,
 "nbformat_minor": 1
}
