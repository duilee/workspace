{
 "cells": [
  {
   "cell_type": "markdown",
   "metadata": {},
   "source": [
    "<table align=\"left\" style=\"border-style: hidden\" class=\"table\"> <tr><td class=\"col-md-2\"><img style=\"float\" src=\"http://prob140.org/assets/icon256.png\" alt=\"Prob140 Logo\" style=\"width: 120px;\"/></td><td><div align=\"left\"><h3 style=\"margin-top: 0;\">Probability for Data Science</h3><h4 style=\"margin-top: 20px;\">UC Berkeley, Spring 2019</h4><p>Ani Adhikari and Jim Pitman</p>CC BY-NC 4.0</div></td></tr></table><!-- not in pdf -->"
   ]
  },
  {
   "cell_type": "code",
   "execution_count": 19,
   "metadata": {
    "#solution": false,
    "#staff": false,
    "#student": false
   },
   "outputs": [],
   "source": [
    "# SETUP\n",
    "from datascience import *\n",
    "from prob140 import *\n",
    "import numpy as np\n",
    "%matplotlib inline\n",
    "import matplotlib.pyplot as plt\n",
    "import matplotlib.patches as patches\n",
    "plt.style.use('fivethirtyeight')\n",
    "import pylab\n",
    "from scipy import stats\n",
    "import ipywidgets as widgets\n",
    "from ipywidgets import interact"
   ]
  },
  {
   "cell_type": "code",
   "execution_count": 20,
   "metadata": {
    "#solution": false,
    "#staff": false,
    "#student": false
   },
   "outputs": [],
   "source": [
    "def createHittingTimes(lamb, total_time):\n",
    "    waiting_times = np.array([])\n",
    "    while True:\n",
    "        newTime = np.random.exponential(1/lamb)\n",
    "        if sum(waiting_times) + newTime > total_time:\n",
    "            break\n",
    "        waiting_times = np.append(waiting_times, newTime)\n",
    "    hitting_times = np.cumsum(waiting_times)\n",
    "    return hitting_times\n",
    "\n",
    "def plotHittingTimes(hitting_times, total_time, lamb):\n",
    "    Plot_abstract(\n",
    "        lambda i, time: plt.plot(time, 0, color='red', marker='o', ms = 5),\n",
    "        lamb=lamb, t=total_time, mult=1, hitting_times=hitting_times, figsize=(10,1)\n",
    "    )\n",
    "    plt.text(total_time, -.2, total_time, horizontalalignment='left')\n",
    "    plt.xlim(-0.1, 1.1)"
   ]
  },
  {
   "cell_type": "code",
   "execution_count": 21,
   "metadata": {
    "#solution": false,
    "#staff": false,
    "#student": false
   },
   "outputs": [],
   "source": [
    "def Plot_abstract(plot_each, lamb, t, mult=1.5, hitting_times=None,figsize=(10,2)):\n",
    "    plt.figure(figsize=figsize)\n",
    "    if hitting_times is None:\n",
    "        hitting_times = createHittingTimes(lamb, mult*t)\n",
    "    \n",
    "    plt.arrow(0, 0, mult*t, 0, width=.005*figsize[1]/2, color='black', head_width=0.1*min(1,t*mult/4))\n",
    "    #print(min(0.1,.1*figsize[1]/4*t*mult))\n",
    "    for i,time in enumerate(hitting_times):\n",
    "        plot_each(i, time)\n",
    "    plt.vlines(0, -1/20., 1/20., lw=2)\n",
    "    plt.text(0, -.2, '0', horizontalalignment='right')\n",
    "    # plt.text(1.5*t, -.2, 'Time', horizontalalignment='center')\n",
    "    width = min(0.5, 0.5*t/4)\n",
    "    plt.ylim(-1 * width, width)\n",
    "    plt.xlim(-1, mult*t + 1)\n",
    "    plt.axis('off');\n",
    "    return hitting_times\n",
    "\n",
    "def Plot_process():\n",
    "    def plot_each(i, time):\n",
    "        plt.plot(time, 0, 'ro', ms = 5, color='red') \n",
    "    Plot_abstract(plot_each, lamb=1, t=5)\n",
    "    plt.text(1.5*2.5, -.4, 'time', horizontalalignment='center')\n",
    "\n",
    "def Plot_waiting_times():\n",
    "    def plot_each(i, time):\n",
    "        plt.plot(time, 0, 'ro', ms = 5, color='red') \n",
    "        if i <= 2:\n",
    "            plt.text(time, -.2, '$T_%d$'%(i+1), horizontalalignment='center')\n",
    "        \n",
    "    Plot_abstract(plot_each, lamb=1/3, t=5)\n",
    "    plt.title('$T_r = $ Time of the $r$th Arrival', fontsize=15)\n",
    "\n",
    "def Plot_inter_arrival_times():\n",
    "    previous_time = 0\n",
    "    colors = ['green', 'purple', 'orange']\n",
    "\n",
    "    def plot_each(i, time):\n",
    "        nonlocal previous_time\n",
    "        plt.plot(time, 0, 'ro', ms = 5, color=\"red\")\n",
    "        if i <= 2:\n",
    "            plt.hlines(0, previous_time, time, color=colors[i], lw=2)\n",
    "            plt.text(time, -.2, '$T_%d$'%(i+1), horizontalalignment='center')\n",
    "            previous_time = time\n",
    "    Plot_abstract(plot_each, lamb=1/3, t=5)\n",
    "    plt.title('Times Between Consecutive Arrivals', fontsize=15);\n",
    "    \n",
    "def waiting_time_tail(r):\n",
    "    t = 4\n",
    "    def plot_each(i, time):\n",
    "        plt.plot(time, 0, 'ro', ms = 5, color=\"red\") \n",
    "    hitting_times = Plot_abstract(plot_each, 0.5, 4, 1.75)\n",
    "    if sum(hitting_times < t) < r:\n",
    "        answer = 'Yes.'\n",
    "    else:\n",
    "        answer = 'No.'\n",
    "    plt.vlines(t, 0., 2, color=\"green\", linewidths=(2,))\n",
    "    plt.text(t, -.2, \"t\", horizontalalignment='center')\n",
    "    plt.title('For $r = $'+str(r)+', is $T_r > t$ ?  '+answer);\n",
    "\n",
    "def thinHittingTimes(lamb, total_time, p_of_blue):\n",
    "    allHittingTimes= createHittingTimes(lamb, total_time)\n",
    "    which_blue = np.random.rand(len(allHittingTimes)) < p_of_blue\n",
    "    blue_hits = allHittingTimes[np.nonzero(which_blue)]\n",
    "    red_hits = allHittingTimes[np.nonzero(1-which_blue)]\n",
    "    return blue_hits, red_hits\n",
    "\n",
    "def Plot_thinned_processes(lamb, p_blue):\n",
    "    blue, red = thinHittingTimes(lamb, 1, p_blue)\n",
    "    def plot_each(i, time): # this is jank af\n",
    "        color = 'blue' if time in blue else 'red'\n",
    "        plt.plot(time, 0, 'ro', ms = 5, color=color)\n",
    "    Plot_abstract(plot_each, lamb=lamb, t=1, mult=1, hitting_times=list(blue)+list(red), figsize=(10,1))\n",
    "    plt.title(\"Original Process\", fontsize=10)\n",
    "    plt.xlim(-0.1, 1.1 )\n",
    "    \n",
    "    Plot_abstract(plot_each, lamb=lamb, t=1, mult=1, hitting_times=blue, figsize=(10,1))\n",
    "    plt.title(\"Blue Process\", fontsize=10)\n",
    "    plt.xlim(-0.1, 1.1 )\n",
    "    \n",
    "    Plot_abstract(plot_each, lamb=lamb, t=1, mult=1, hitting_times=red, figsize=(10,1))\n",
    "    plt.title(\"Red Process\", fontsize=10)\n",
    "    plt.xlim(-0.1, 1.1 )\n"
   ]
  },
  {
   "cell_type": "code",
   "execution_count": 22,
   "metadata": {
    "#solution": false,
    "#staff": false,
    "#student": false
   },
   "outputs": [],
   "source": [
    "def draw_rect(ax, x, y, w, h, col, opaqueness):\n",
    "    ax.add_patch(patches.Rectangle((x, y),w,h,color=col, alpha=opaqueness))\n",
    "\n",
    "\n",
    "def plotDiscreteIntervals(hitting_times, total_time, intervals):\n",
    "    fig1 = plt.figure(figsize=(10, 1))\n",
    "    ax1 = fig1.add_subplot(111)\n",
    "    plt.hlines(0, 0, total_time, lw=2)\n",
    "    plt.text(0, -.2, '0', horizontalalignment='right')\n",
    "    plt.text(total_time, -.2, str(total_time), horizontalalignment='left')\n",
    "    plt.ylim(-.5, .5)\n",
    "    plt.xlim(-0.1, total_time + 0.1 )\n",
    "    plt.text(total_time/2, -.4, 'time', horizontalalignment='center')\n",
    "    plt.axis('off')\n",
    "    \n",
    "    end_points = [i * total_time/intervals for i in range(0, intervals+1)]\n",
    "    plt.vlines(end_points, -1/40., 1/40., lw=2) #remove this line to get rid of tick marks \n",
    "    for i in range(0, intervals):\n",
    "        left_endpoint = end_points[i]\n",
    "        right_endpoint = end_points[i+1]\n",
    "        for time in hitting_times:\n",
    "            if time <= right_endpoint and time >= left_endpoint:\n",
    "                draw_rect(ax1, left_endpoint, 0, total_time/intervals, 1/20, 'red', 1)\n",
    "                break\n",
    "    \n",
    "def Plot_discretized_process(lamb):\n",
    "    total_time = 1\n",
    "    hitting_times = createHittingTimes(lamb, total_time)\n",
    "    uniform_slider = widgets.IntSlider(\n",
    "        value=1,min=1,max=100,step=1, description='Subintervals')\n",
    "    @interact(intervals = uniform_slider)\n",
    "    def plot(intervals):\n",
    "        plotHittingTimes(hitting_times, total_time, lamb)\n",
    "        plotDiscreteIntervals(hitting_times, total_time, intervals) \n"
   ]
  },
  {
   "cell_type": "markdown",
   "metadata": {
    "#solution": false,
    "#staff": false,
    "#student": false
   },
   "source": [
    "# Lab 9: Poisson Process #\n",
    "\n",
    "A *point process* on the real line is a random sequence of points on the line. Often the line is thought of as an axis representing time. Then the points can be thought of as the random times of arrivals of some kind of item or occurrences of some kind of event. \n",
    "\n",
    "In this lab you will analyze a point process called the *Poisson process*. It records the times of events that are essentially unpredictable – events that appear to occur randomly and spontaneously with no prior warning. The process is used as a model in many areas, including queuing theory (items joining a queue or leaving it), physics (a Geiger counter recording particles), genetics (nucleotide base substitutions in a gene over time), computer vision (photons arriving at a sensor), and seismology (the times of earthquakes). \n",
    "\n",
    "Run the cell below several times to see the main visualization that will be used throughout the lab."
   ]
  },
  {
   "cell_type": "code",
   "execution_count": 23,
   "metadata": {
    "#solution": false,
    "#staff": false,
    "#student": false
   },
   "outputs": [
    {
     "data": {
      "image/png": "[encoded data removed]",
      "text/plain": [
       "<Figure size 720x144 with 1 Axes>"
      ]
     },
     "metadata": {},
     "output_type": "display_data"
    }
   ],
   "source": [
    "Plot_process()"
   ]
  },
  {
   "cell_type": "markdown",
   "metadata": {
    "#solution": false,
    "#staff": false,
    "#student": false
   },
   "source": [
    "The horizontal line represents time. The arrow on the right signifies that the axis continues beyond the interval that is displayed. The time at which you start observing the process is labeled 0 and is called the time origin. Each red dot represents an arrival.\n",
    "\n",
    "By assumption, **there are no double-hits** in the arrival process. That is, it is not possible for two arrivals to happen at exactly the same time.\n",
    "\n",
    "Because the red dots have a diameter big enough for you to see them, two dots might have a considerable overlap if two arrivals are close enough in time. That doesn't mean that the two arrivals are at the same time – they can't be, by assumption.\n",
    "\n",
    "It is also important to note that **the chance of an arrival at any fixed time is 0**. This is a feature of continuous time, analogous to the chance that a continuous random variable equals any fixed value is 0.\n",
    "\n",
    "Therefore if you are counting arrivals in a time interval, you shouldn't worry about whether or not the interval includes its endpoints.\n",
    "\n",
    "What you will learn in this lab:\n",
    "\n",
    "- Two equivalent descriptions of the process, in terms of independent Poisson and exponential random variables\n",
    "- A physical model for gamma random variables with integer shape parameters, and a formula for the cdf of the gamma $(r, \\lambda)$ distribution for integer $r$\n",
    "- What happens if you randomly select arrivals in a Poisson process\n",
    "- A way of thinking about statistical models for physical phenomena\n",
    "- Applications of the Poisson process model, in particular to predicting the chances of earthquakes in California\n",
    "\n",
    "Be prepared for a workout in numerous ideas you have learned in the course.\n",
    "\n",
    "#### Note on Computation ####\n",
    "Several exercises in this lab ask you to use a code cell \"find the probability\" or \"find the value\" of something. That means you should write a Python expression that evaluates to the quantity in the question. In some exercises, there are restrictions on what you can use as part of the expression."
   ]
  },
  {
   "cell_type": "markdown",
   "metadata": {
    "#solution": false,
    "#staff": false,
    "#student": false
   },
   "source": [
    "## Instructions\n",
    "Your labs have two components: a written portion and a portion that also involves code. Written work should be completed on paper, and coding questions should be done in the notebook. You are welcome to LaTeX your answers to the written portions, but staff will not be able to assist you with LaTeX related issues. It is your responsibility to ensure that both components of the lab are submitted completely and properly to Gradescope. Refer to the bottom of the notebook for submission instructions."
   ]
  },
  {
   "cell_type": "markdown",
   "metadata": {
    "#solution": false,
    "#staff": false,
    "#student": false
   },
   "source": [
    "#newpage"
   ]
  },
  {
   "cell_type": "markdown",
   "metadata": {
    "#solution": false,
    "#staff": false,
    "#student": false
   },
   "source": [
    "## Part 1: Arrival Counts ##\n",
    "To start off, you will examine how the Poisson distribution arises out of a simple set of assumptions about the process of arrivals. \n",
    "\n",
    "### Rate ###\n",
    "The process has a numerical parameter $\\lambda > 0$ that is the expected number of arrivals per unit time. The arrivals are random, of course, so there will most likely be different numbers of arrivals in successive units of time. You can think of $\\lambda$ as an average over time.\n",
    "\n",
    "The higher $\\lambda$ is, the more arrivals you expect per unit time. So $\\lambda$ is called the *intensity* of the process, or the *arrival rate*, which is usually shortened to just *rate*.\n",
    "\n",
    "In our code, we will use `lam` for $\\lambda$ because `lambda` has a different meaning in Python.\n",
    "\n",
    "Notice that the rate is a constant, not a function of time. That is, the intensity of arrivals is the same at all times. Under this assumption the process is called *time-homogeneous* or just *homogeneous*.\n",
    "\n",
    "You should only use this model in situations where the assumption of homogeneity is reasonable. You would not want to assume time homogeneity in situations where the intensity of arrivals varies over time. For example, If you are modeling people arriving at the ticket counter of a movie theater, you might expect more crowding right before movie start times than at other times.\n",
    "\n",
    "### Discretizing the Arrival Times ###\n",
    "To understand the process in continuous time, it helps to create a discrete approximation. \n",
    "\n",
    "- The first graph in the output of the cell below is a realization of the process, which we are watching on the time interval 0 to 1. We have specified $\\lambda = 5$ but you can change that.\n",
    "- The second graph consists of discrete approximations created by dividing the unit interval into a finite number of subintervals of equal length. A subinterval is colored red if at least one of the arrivals is in that subinterval.\n",
    "\n",
    "At the start there is only one \"sub\"-interval in the second graph, and that is the entire unit interval. So the whole interval is colored red. Now move the slider (slowly!) and see what happens as you divide the unit interval more finely."
   ]
  },
  {
   "cell_type": "code",
   "execution_count": 24,
   "metadata": {
    "#solution": false,
    "#staff": false,
    "#student": false
   },
   "outputs": [
    {
     "data": {
      "application/vnd.jupyter.widget-view+json": {
       "model_id": "2d11de1be6cf4a19b23acdc280709a2d",
       "version_major": 2,
       "version_minor": 0
      },
      "text/plain": [
       "interactive(children=(IntSlider(value=1, description='Subintervals', min=1), Output()), _dom_classes=('widget-…"
      ]
     },
     "metadata": {},
     "output_type": "display_data"
    }
   ],
   "source": [
    "lam = 5\n",
    "Plot_discretized_process(lam)"
   ]
  },
  {
   "cell_type": "markdown",
   "metadata": {
    "#solution": false,
    "#staff": false,
    "#student": false
   },
   "source": [
    "As the number of subintervals increases, each subinterval gets smaller and the second graph starts to look more and more like the first."
   ]
  },
  {
   "cell_type": "markdown",
   "metadata": {
    "#solution": false,
    "#staff": false,
    "#student": false
   },
   "source": [
    "### a) [ON PAPER] The Number of Arrivals in the Unit Interval ###\n",
    "\n",
    "Formally, the discretization can be described as follows.\n",
    "\n",
    "- Fix a non-negative integer $n$. At Stage $n$, divide the unit interval into $n$ subintervals of length $1/n$ each. \n",
    "- For $1 \\le j \\le n$, let $I_j$ be the indicator that there is at least one arrival in subinterval $j$. That is, let $I_j$ be the indicator of the event that subinterval $j$ is colored red.\n",
    "\n",
    "Here are the probabilistic **assumptions of the model**. The main assumption is the first one, which reflects the \"unpredictable\" nature of the arrivals.\n",
    "\n",
    "- $I_1, I_2, \\ldots, I_n$ are i.i.d. Bernoulli $(p_n)$ variables.\n",
    "- The sequence $p_1, p_2, \\ldots$ is *consistent*, that is, $p_n \\downarrow 0$ as $n \\to \\infty$ and $np_n \\to \\lambda$ as $n \\to \\infty$.\n",
    "- Let $X$ be the number of arrivals in the unit interval. Then $E(X) = \\lambda$.\n",
    "\n",
    "Fill in the blanks and **explain briefly**. For both (i) and (ii), the first blank should be filled with the name of a distribution and its parameters.\n",
    "\n",
    "(i) Fix $n$ and let $X_n$ be the number of red subintervals at stage $n$. The exact distribution of $X_n$ is $\\underline{~~~~~~~~~~~~~~~~~~~~~~~~~~~~~~~~~~~~~}$, and $E(X_n) = \\underline{~~~~~~~~~~~~~~}$. \n",
    "\n",
    "(ii) As $n \\to \\infty$, $X_n$ converges to the number of arrivals in the unit interval. The distribution of $X_n$ tends to the $\\underline{~~~~~~~~~~~~~~~~~~~~~~~~~~~~~~~~~~~~~}$ distribution, which has expectation $\\underline{~~~~~~~~~~~~~~~}$."
   ]
  },
  {
   "cell_type": "markdown",
   "metadata": {
    "#solution": false,
    "#staff": false,
    "#student": false
   },
   "source": [
    "### b) [ON PAPER] Poisson Process: First Description ###\n",
    "One of the key assumptions of the process is that the numbers of arrivals in disjoint time intervals are independent of each other. In Part **a**, this was reflected in the assumption that at each stage $n$, the $n$ subintervals are colored red independently of each other.\n",
    "\n",
    "For $0 < a < b$, let $N_{(a, b)}$ be the number of arrivals in the time interval $(a, b)$. Remember that the chance of an arrival at a single point (for example, at $a$, or at $b$) is 0.\n",
    "\n",
    "(i) What is the distribution of $N_{(0, 2)}$? Why? What assumptions did you make?\n",
    "\n",
    "(ii) What is the distribution of $N_{(5, 12)}$?"
   ]
  },
  {
   "cell_type": "markdown",
   "metadata": {
    "#solution": false,
    "#staff": false,
    "#student": false
   },
   "source": [
    "#### Poisson Process: First Description ####\n",
    "The following description of the Poisson process will now come as no surprise.\n",
    "\n",
    "Fix $\\lambda > 0$. A *time-homogeneous Poisson process with rate $\\lambda$* is a process of arrivals such that:\n",
    "\n",
    "- The numbers of arrivals in disjoint intervals are independent.\n",
    "- The number of arrivals in an interval of length $t$ has the Poisson distribution with mean $(\\lambda t)$.\n",
    "\n",
    "The parameter $\\lambda$ has the same interpretation as before: it is the expected number of arrivals in an interval of length 1.\n",
    "\n",
    "Remember that the term *time-homogeneous* refers to the fact that the distribution of the number of arrivals in an interval depends only on $\\lambda$ and the length of the interval, not on where the interval is on the time axis. For example, the number of arrivals in the interval $(1, 10)$ has the same distribution as the number of arrivals in the interval $(1001, 1010)$.\n",
    "\n",
    "The assumption of time-homogeneity simplifies calculations, and in many situations it can be too simple as a model. Nevertheless it is often a good starting point in analyses. Sometimes it can be justified by physics, for example if the process consists of radioactive particles arriving at a Geiger counter, or photons arriving at a sensor."
   ]
  },
  {
   "cell_type": "markdown",
   "metadata": {
    "#solution": false,
    "#staff": false,
    "#student": false
   },
   "source": [
    "### c) Photon Noise ###\n",
    "In a brief [report](https://people.csail.mit.edu/hasinoff/pubs/hasinoff-photon-2012-preprint.pdf) written by Sam Hasinoff of Google, photon noise is described as \"uncertainty associated with the measurement of light\". Understanding photon noise helps increase clarity in imaging. Skim the beginning of the Theory section of the report to recognize a familiar process. You might also enjoy skimming the list of Hasinoff's [publications](https://people.csail.mit.edu/hasinoff/) on computer vision.\n",
    "\n",
    "Suppose photons arrive at a sensor according to a Poisson process at a rate of 4 arrivals per unit time. What is the chance of at least 30 arrivals in each of two consecutive 10-unit time intervals?"
   ]
  },
  {
   "cell_type": "code",
   "execution_count": 25,
   "metadata": {
    "#solution": false,
    "#staff": false,
    "#student": true
   },
   "outputs": [
    {
     "data": {
      "text/plain": [
       "0.9154113546571047"
      ]
     },
     "execution_count": 25,
     "metadata": {},
     "output_type": "execute_result"
    }
   ],
   "source": [
    "#each interval is poisson distribution with mu = 40. find P(X >= 30) for each interval and multiply, since they are independent.\n",
    "\n",
    "(1-stats.poisson.cdf(29, 40))**2"
   ]
  },
  {
   "cell_type": "markdown",
   "metadata": {
    "#solution": false,
    "#staff": false,
    "#student": false
   },
   "source": [
    "#newpage"
   ]
  },
  {
   "cell_type": "markdown",
   "metadata": {
    "#solution": false,
    "#staff": false,
    "#student": false
   },
   "source": [
    "## Part 2: Waiting Times ##\n",
    "The first description of the Poisson process involved the counts of arrivals in finite time intervals. Another way to look at the process is to just list the times of the arrivals. \n",
    "\n",
    "For $r \\ge 1$, let $T_r$ be the time of the $r$th arrival. \n",
    "\n",
    "The cell below shows a Poisson arrival process with $T_1$, $T_2$, and $T_3$ appearing as labels on the time axis. There might be fewer than three arrivals, in which case there will be fewer than three labels. Or there might be more than three arrivals, but only the first three will be labeled."
   ]
  },
  {
   "cell_type": "code",
   "execution_count": 26,
   "metadata": {
    "#solution": false,
    "#staff": false,
    "#student": false
   },
   "outputs": [
    {
     "data": {
      "image/png": "[encoded data removed]",
      "text/plain": [
       "<Figure size 720x144 with 1 Axes>"
      ]
     },
     "metadata": {},
     "output_type": "display_data"
    }
   ],
   "source": [
    "Plot_waiting_times()"
   ]
  },
  {
   "cell_type": "markdown",
   "metadata": {
    "#solution": false,
    "#staff": false,
    "#student": false
   },
   "source": [
    "### a) [ON PAPER] Distribution of $T_1$ ###\n",
    "In this exercise you will find the distribution of $T_1$, the waiting time till the first arrival, by identifying its survival function. \n",
    "\n",
    "Run the cell below. In the figure, $t$ is an arbitrary fixed time and the function is checking whether or not the event $\\{T_1 > t\\}$ has occurred.\n",
    "\n",
    "When you see a No, think about what has to happen for the answer to be Yes. You might have to run the cell several times (ctrl-Return is helpful) to get a Yes as the answer. "
   ]
  },
  {
   "cell_type": "code",
   "execution_count": 27,
   "metadata": {
    "#solution": false,
    "#staff": false,
    "#student": false
   },
   "outputs": [
    {
     "data": {
      "image/png": "[encoded data removed]",
      "text/plain": [
       "<Figure size 720x144 with 1 Axes>"
      ]
     },
     "metadata": {},
     "output_type": "display_data"
    }
   ],
   "source": [
    "r = 1\n",
    "waiting_time_tail(r)"
   ]
  },
  {
   "cell_type": "markdown",
   "metadata": {
    "#solution": false,
    "#staff": false,
    "#student": false
   },
   "source": [
    "(i) Fill in the blanks based on your observations above. The first blank should be filled with math operations and numerical values, and the second with a formula involving $\\lambda$ and $t$.\n",
    "\n",
    "For $t > 0$,\n",
    "\n",
    "$$\n",
    "P(T_1 > t) ~ = ~ P(N_{(0, t)} ~~ \\underline{~~~~~~~~~~~~~~~~~~~~~~~~~~~}), ~~~ \\text{so } ~~~\n",
    "P(T_1 > t) ~ = ~ \\underline{~~~~~~~~~~~~~~~~~~~~~~~~~~~~~~~~~~}.\n",
    "$$\n",
    "\n",
    "(ii) Fill in the first blank with the appropriate distribution and its parameters, and the second with the expectation.\n",
    "\n",
    "The distribution of $T_1$ is $\\underline{~~~~~~~~~~~~~~~~~~~~~~~~~~~~~~~~~~~~~~~~~~~~}$ and $E(T_1) = \\underline{~~~~~~~~~~~~~~~~~~~~}$."
   ]
  },
  {
   "cell_type": "markdown",
   "metadata": {
    "#solution": false,
    "#staff": false,
    "#student": false
   },
   "source": [
    "### b) Inter-Arrival Times ###\n",
    "Let the *inter-arrival times* be the *gaps* or lengths of time between consecutive arrivals. By convention, the first \"inter\"-arrival time is simply taken to be $T_1$. In general, define the inter-arrival times as follows, using the letter $G$ for \"gap\":\n",
    "\n",
    "- $G_1 = T_1$\n",
    "- For $i > 1$, $G_i = T_i - T_{i-1}$.\n",
    "\n",
    "Run the cell below several times. The figure labels $T_1$, $T_2$, and $T_3$ as before. The length of the green segment is $G_1$, the length of the purple segment is $G_2$, and the length of the orange segment is $G_3$. \n",
    "\n",
    "Remember that there might be fewer than three arrivals in the interval; there might be more, but we aren't labeling them all; and the arrivals might be so close that it's hard to read the labels."
   ]
  },
  {
   "cell_type": "code",
   "execution_count": 28,
   "metadata": {
    "#solution": false,
    "#staff": false,
    "#student": false
   },
   "outputs": [
    {
     "data": {
      "image/png": "[encoded data removed]",
      "text/plain": [
       "<Figure size 720x144 with 1 Axes>"
      ]
     },
     "metadata": {},
     "output_type": "display_data"
    }
   ],
   "source": [
    "Plot_inter_arrival_times()"
   ]
  },
  {
   "cell_type": "markdown",
   "metadata": {
    "#solution": false,
    "#staff": false,
    "#student": false
   },
   "source": [
    "It can be shown that the process \"starts over\" at each $T_i$ independently of what happened before. For example, if you stand at $T_2$ and look right, it's as though you were standing at the origin and observing a fresh process. This should not be very surprising. Indeed, it should remind you of many \"starting over\" calculations that you have done in the past.\n",
    "\n",
    "What is the distribution of $G_2$? Why?"
   ]
  },
  {
   "cell_type": "markdown",
   "metadata": {
    "#solution": false,
    "#staff": false,
    "#student": true
   },
   "source": [
    "Distribution of G2 is same as distribution of T1 which is exponential distribution with parameter lambda.\n",
    "\n",
    "It is because each Ti is independent from the other. So the waiting time for T2 from T1 is same distribution as T1. "
   ]
  },
  {
   "cell_type": "markdown",
   "metadata": {
    "#solution": false,
    "#staff": false,
    "#student": false
   },
   "source": [
    "For fixed $n$, what is the joint distribution of $G_1, G_2, \\ldots, G_n$?"
   ]
  },
  {
   "cell_type": "markdown",
   "metadata": {
    "#solution": false,
    "#staff": false,
    "#student": true
   },
   "source": [
    "It is a exponential distribution with parameter n*lambda"
   ]
  },
  {
   "cell_type": "markdown",
   "metadata": {
    "#solution": false,
    "#staff": false,
    "#student": false
   },
   "source": [
    "### Poisson Process: Second Description ###\n",
    "We now have a new description of the Poisson process in terms of waiting times. \n",
    "\n",
    "Fix $\\lambda > 0$. A *time homogeneous Poisson process with rate $\\lambda$* is a process of arrivals such that:\n",
    "\n",
    "- the inter-arrival times are i.i.d. exponential $(\\lambda)$ variables. The rate $\\lambda$ of the exponential distribution of gaps is the same as the arrival rate of the process.\n",
    "\n",
    "At least informally, you have seen why the first description (in terms of Poisson counts, in **1c**) implies the second. A bit of work is needed to establish that the second description implies the first, but we'll skip that.\n",
    "\n",
    "It is important to keep in mind is that the second description is in terms of *continuous* random variables, the inter-arrival times. The first description is in term of *discrete* random variables, the arrival counts."
   ]
  },
  {
   "cell_type": "markdown",
   "metadata": {
    "#solution": false,
    "#staff": false,
    "#student": false
   },
   "source": [
    "### c) [ON PAPER] Distribution of $T_r$ for $r \\ge 1$ ###\n",
    "\n",
    "Fix an integer $r > 0$ and let $T_r$ be the time of the $r$th arival."
   ]
  },
  {
   "cell_type": "code",
   "execution_count": 29,
   "metadata": {
    "#solution": false,
    "#staff": false,
    "#student": false
   },
   "outputs": [
    {
     "data": {
      "image/png": "[encoded data removed]",
      "text/plain": [
       "<Figure size 720x144 with 1 Axes>"
      ]
     },
     "metadata": {},
     "output_type": "display_data"
    }
   ],
   "source": [
    "Plot_waiting_times()"
   ]
  },
  {
   "cell_type": "markdown",
   "metadata": {
    "#solution": false,
    "#staff": false,
    "#student": false
   },
   "source": [
    "As before, let the inter-arrival times $G_i$ be defined as $G_1 = T_1$ and $G_i = T_i - T_{i-1}$ for $i > 1$.\n",
    "\n",
    "For integer $r > 0$, write $T_r$ in terms of $G_1, G_2, \\ldots$ and hence find\n",
    "\n",
    "(i) $E(T_r)$\n",
    "\n",
    "(ii) $Var(T_r)$\n",
    "\n",
    "(iii) the distribution of $T_r$"
   ]
  },
  {
   "cell_type": "markdown",
   "metadata": {
    "#solution": false,
    "#staff": false,
    "#student": false
   },
   "source": [
    "### d) Density of $T_r$ ###\n",
    "Fill in the blank in the cell below to draw graphs of the density of $T_r$ for $r = 1, 2, 3, 4$ in the case $\\lambda = 1$. Refer to Homework 8 for relevant code."
   ]
  },
  {
   "cell_type": "code",
   "execution_count": 30,
   "metadata": {
    "#solution": false,
    "#staff": false,
    "#student": true
   },
   "outputs": [
    {
     "data": {
      "image/png": "[encoded data removed]",
      "text/plain": [
       "<Figure size 432x288 with 1 Axes>"
      ]
     },
     "metadata": {},
     "output_type": "display_data"
    }
   ],
   "source": [
    "\n",
    "t = np.arange(0, 10, 0.01)\n",
    "for r in np.arange(1, 5):\n",
    "    f = stats.gamma.pdf(t, r, scale = 1)\n",
    "    plt.plot(t, f, lw=2, label='Density of T_'+str(r))  # plot the density of T_r\n",
    "plt.xlabel('$t$')\n",
    "plt.ylabel('$f(t)$', rotation=0)\n",
    "plt.legend()\n",
    "plt.title('Poisson Process (rate $\\lambda = 1$)');"
   ]
  },
  {
   "cell_type": "markdown",
   "metadata": {
    "#solution": false,
    "#staff": false,
    "#student": false
   },
   "source": [
    "### e) [ON PAPER] CDF of $T_r$ ###\n",
    "You can write a formula for this in terms of the density you found in Part **d**, but you will not enjoy calculating the integral unless you are unusually fond of repeated integration by parts.\n",
    "\n",
    "Instead, use the fact that the Poisson process has a representation in terms of counts, which are discrete variables and hence easy to work with.\n",
    "\n",
    "Run the cell below several times. You used the same function in Part **a**."
   ]
  },
  {
   "cell_type": "code",
   "execution_count": 31,
   "metadata": {
    "#solution": false,
    "#staff": false,
    "#student": false
   },
   "outputs": [
    {
     "data": {
      "image/png": "[encoded data removed]",
      "text/plain": [
       "<Figure size 720x144 with 1 Axes>"
      ]
     },
     "metadata": {},
     "output_type": "display_data"
    }
   ],
   "source": [
    "r = 3\n",
    "waiting_time_tail(r)"
   ]
  },
  {
   "cell_type": "markdown",
   "metadata": {
    "#solution": false,
    "#staff": false,
    "#student": false
   },
   "source": [
    "Fill in the blanks below based on what you concluded after repeatedly running the cell above. Here $S_{T_r}$ is the survival function of $T_r$, and $F_{T_r}$ is the cdf of $T_r$.\n",
    "\n",
    "Fix a positive integer $r$. For $t > 0$,\n",
    "\n",
    "$$\n",
    "P(T_r > t) ~ = ~ P(N_{(0, t)} ~~ \\underline{~~~~~~~~~~~~~~~~~~~~~~~~~~~}), ~~~ \\text{so } ~~~\n",
    "S_{T_r}(t) ~ = ~ \\underline{~~~~~~~~~~~~~~~~~~~~~~~~~~~~~~~~~~} ~~~ \\text{and } ~~~\n",
    "F_{T_r}(t) ~ = ~ \\underline{~~~~~~~~~~~~~~~~~~~~~~~~~~~~~~~~~~}.\n",
    "$$"
   ]
  },
  {
   "cell_type": "markdown",
   "metadata": {
    "#solution": false,
    "#staff": false,
    "#student": false
   },
   "source": [
    "### f) Repair Times ###\n",
    "Homogeneous Poisson processes are often used in reliability theory, for example to [model failures](https://www.itl.nist.gov/div898/handbook/apr/section1/apr171.htm) of a component of a machine, assuming that the failures happen unpredictably. The component might be as simple as a lightbulb, or more complicated such as an electronic component of a cell phone.\n",
    "\n",
    "Suppose calls for repair occur according to a Poisson process at a rate of one every two days. In your calculations below, **use only `stats.poisson.pmf`, `stats.poisson.cdf`, and arithmetic operations.** Don't use any continuous distributions. \n",
    "\n",
    "(i) If you start recording calls now, what is the chance that it takes more than 15 days for you to record 10 calls?"
   ]
  },
  {
   "cell_type": "code",
   "execution_count": 32,
   "metadata": {
    "#solution": false,
    "#staff": false,
    "#student": true
   },
   "outputs": [
    {
     "data": {
      "text/plain": [
       "0.7764076130197146"
      ]
     },
     "execution_count": 32,
     "metadata": {},
     "output_type": "execute_result"
    }
   ],
   "source": [
    "# lambda = 1, t = 15/2\n",
    "# P(T10 > t)\n",
    "stats.poisson.cdf(9, 7.5)"
   ]
  },
  {
   "cell_type": "markdown",
   "metadata": {
    "#solution": false,
    "#staff": false,
    "#student": false
   },
   "source": [
    "(ii) What is the chance that the fifth call arrives less than a week after the second one? \n",
    "\n",
    "It might help to sketch a time axis on some scratch paper and mark the second call. "
   ]
  },
  {
   "cell_type": "code",
   "execution_count": 33,
   "metadata": {
    "#solution": false,
    "#staff": false,
    "#student": true
   },
   "outputs": [
    {
     "data": {
      "text/plain": [
       "0.6791528011378658"
      ]
     },
     "execution_count": 33,
     "metadata": {},
     "output_type": "execute_result"
    }
   ],
   "source": [
    "#consider second call as origin\n",
    "#r = 3, lambda = 1, t = 7/2\n",
    "#P(Tr < 7/2)\n",
    "1- stats.poisson.cdf(2, 3.5)"
   ]
  },
  {
   "cell_type": "markdown",
   "metadata": {
    "#solution": false,
    "#staff": false,
    "#student": false
   },
   "source": [
    "#newpage"
   ]
  },
  {
   "cell_type": "markdown",
   "metadata": {
    "#solution": false,
    "#staff": false,
    "#student": false
   },
   "source": [
    "## Part 3: Thinning ##\n",
    "Before you begin this part, please review the Summary at the end of [Section 7.1](http://prob140.org/textbook/chapters/Chapter_07/01_Poissonizing_the_Binomial) of the textbook.\n",
    "\n",
    "In some Poisson processes, each arrival can be in one of several categories. For example, cars arriving at a toll booth could be domestic or imported. Items arriving at a campus Lost and Found desk could be electronics, notebooks, or everything else.\n",
    "\n",
    "We will work in the case of just two categories, but you will see that there is an immediate generalization to any finite number of categories as in [Section 7.2](http://prob140.org/textbook/chapters/Chapter_07/02_Poissonizing_the_Multinomial).\n",
    "\n",
    "Consider a Poisson process with rate $\\lambda$, with arrivals represented by red points. Suppose that each arrival is colored blue with chance $p$, independently of all other arrivals. Then the blue points form a process of their own, as do the remaining red points. \n",
    "\n",
    "Run the cell below a few times to see what this looks like. We have taken $\\lambda = 10$ and $p = 0.6$, but you can change these parameters."
   ]
  },
  {
   "cell_type": "code",
   "execution_count": 34,
   "metadata": {
    "#solution": false,
    "#staff": false,
    "#student": false
   },
   "outputs": [
    {
     "data": {
      "image/png": "[encoded data removed]",
      "text/plain": [
       "<Figure size 720x72 with 1 Axes>"
      ]
     },
     "metadata": {},
     "output_type": "display_data"
    },
    {
     "data": {
      "image/png": "[encoded data removed]",
      "text/plain": [
       "<Figure size 720x72 with 1 Axes>"
      ]
     },
     "metadata": {},
     "output_type": "display_data"
    },
    {
     "data": {
      "image/png": "[encoded data removed]",
      "text/plain": [
       "<Figure size 720x72 with 1 Axes>"
      ]
     },
     "metadata": {},
     "output_type": "display_data"
    }
   ],
   "source": [
    "lam = 10\n",
    "p_blue = 0.6\n",
    "Plot_thinned_processes(lam, p_blue)"
   ]
  },
  {
   "cell_type": "markdown",
   "metadata": {
    "#solution": false,
    "#staff": false,
    "#student": false
   },
   "source": [
    "The original process has been separated into a blue process and a red one. Therefore the blue and red processes have a lower intensity than the original process. Their points are more thinly spread out. That is why they are called *thinned* processes.\n",
    "\n",
    "If you *superpose* the blue process and the red one, that is, if you place the two processes on top of each other, you will recover the original process.\n",
    "\n",
    "### a) The Blue Process ###\n",
    "For a fixed time $t$, let $N_{(0, t)}$ be the total number of points in $(0, t)$, and let $B_{(0, t)}$ be the number of blue points in $(0, t)$. Fill in the blanks with distribution names and parameters. **Explain briefly.**\n",
    "\n",
    "For each $t > 0$, the total number of points $N_{(0, t)}$ has the $\\underline{~~~~~~~~~~~~~~~~~~~~~~~~~~~~~~~~~~~~~~~~~~~~~~~~~~~}$ distribution, and the number of blue points $B_{(0, t)}$ has the $\\underline{~~~~~~~~~~~~~~~~~~~~~~~~~~~~~~~~~~~~~~~~~~~~~~~~~~~}$ distribution."
   ]
  },
  {
   "cell_type": "markdown",
   "metadata": {
    "#solution": false,
    "#staff": false,
    "#student": true
   },
   "source": [
    "For each $t > 0$, the total number of points $N_{(0, t)}$ has the Poisson $\\lambda$t distribution, and the number of blue points $B_{(0, t)}$ has the Poisson p$\\lambda$t distribution.\n",
    "\n",
    "We know from above that N(0,t) has poisson $\\lambda$t distribution. And considering blue points as the number of successes in Bernoulli trials, number of blue points will have Poisson p$\\lambda$t distribution."
   ]
  },
  {
   "cell_type": "markdown",
   "metadata": {
    "#solution": false,
    "#staff": false,
    "#student": false
   },
   "source": [
    "Let $I_1$ and $I_2$ be two disjoint time intervals. For each $j = 1, 2$, let $B_{I_j}$ be the number of blue points in the interval $I_j$. Are $B_{I_1}$ and $B_{I_2}$ independent? **Explain briefly.**"
   ]
  },
  {
   "cell_type": "markdown",
   "metadata": {
    "#solution": false,
    "#staff": false,
    "#student": true
   },
   "source": [
    "Yes. Following from our argument part 1, that disjoint time intervals are independent for the total number of arrivals, since blue points are also part of the total arrivals, blue points will also be indenpendent if intervals are disjoint"
   ]
  },
  {
   "cell_type": "markdown",
   "metadata": {
    "#solution": false,
    "#staff": false,
    "#student": false
   },
   "source": [
    "Fill in the blank:\n",
    "\n",
    "The blue process is a Poisson process with rate $\\underline{~~~~~~~~~~~~~~~~~~~~~~}$ per unit time."
   ]
  },
  {
   "cell_type": "markdown",
   "metadata": {
    "#solution": false,
    "#staff": false,
    "#student": true
   },
   "source": [
    "The blue process is a Poisson process with rate p$\\lambda$ per unit time."
   ]
  },
  {
   "cell_type": "markdown",
   "metadata": {
    "#solution": false,
    "#staff": false,
    "#student": false
   },
   "source": [
    "### b) The Blue and Red Processes ###\n",
    "\n",
    "For a fixed $t > 0$, let $R_{(0, t)}$ be the number of red points in the interval $(0, t)$.\n",
    "\n",
    "Fill in the blanks:\n",
    "\n",
    "$R_{(0, t)}$ has the $\\underline{~~~~~~~~~~~~~~~~~~~~~~~~~~~~~~~~~~~~~~~}$ distribution."
   ]
  },
  {
   "cell_type": "markdown",
   "metadata": {
    "#solution": false,
    "#staff": false,
    "#student": true
   },
   "source": [
    "\n",
    "$R_{(0, t)}$ has the poisson (1-p)$\\lambda$t distribution."
   ]
  },
  {
   "cell_type": "markdown",
   "metadata": {
    "#solution": false,
    "#staff": false,
    "#student": false
   },
   "source": [
    "For each $t > 0$, are the random variables $B_{(0, t)}$ and $R_{(0, t)}$ dependent or independent? Explain."
   ]
  },
  {
   "cell_type": "markdown",
   "metadata": {
    "#solution": false,
    "#staff": false,
    "#student": true
   },
   "source": [
    "They are independent. The for poissonization of binomial, the distribution of success and failure are independent"
   ]
  },
  {
   "cell_type": "markdown",
   "metadata": {
    "#solution": false,
    "#staff": false,
    "#student": false
   },
   "source": [
    "Fill in the blanks. The first blank should be filled with one of the words *dependent* or *independent*.\n",
    "\n",
    "The blue process and the red process are $\\underline{~~~~~~~~~~~~~~~~~~~~~~~~~~~~~~~}$ Poisson processes. The blue process has rate $\\underline{~~~~~~~~~~~~~~~~~~~~~}$ and the red process has rate $\\underline{~~~~~~~~~~~~~~~~~~~~~}$."
   ]
  },
  {
   "cell_type": "markdown",
   "metadata": {
    "#solution": false,
    "#staff": false,
    "#student": true
   },
   "source": [
    "The blue process and the red process are independent Poisson processes. The blue process has rate p$\\lambda$ and the red process has rate (1-p)$\\lambda$."
   ]
  },
  {
   "cell_type": "markdown",
   "metadata": {
    "#solution": false,
    "#staff": false,
    "#student": false
   },
   "source": [
    "### c) Lost and Found ###\n",
    "Items arrive at a lost-and-found desk according to a Poisson process at the rate of 3 items per day. Each item is a cell phone with chance 5%, independently of all other items.\n",
    "\n",
    "Use only `stats.poisson.pmf`, `stats.poisson.cdf`, and arithmetic operations to find the chance that in 5 days at least one cell phone and at most 10 other items arrive."
   ]
  },
  {
   "cell_type": "code",
   "execution_count": 35,
   "metadata": {
    "#solution": false,
    "#staff": false,
    "#student": true
   },
   "outputs": [
    {
     "data": {
      "text/plain": [
       "0.08426146935195485"
      ]
     },
     "execution_count": 35,
     "metadata": {},
     "output_type": "execute_result"
    }
   ],
   "source": [
    "#lambda = 3, t = 5\n",
    "#Number of cell phone = poisson distribution with 3*5*0.05 \n",
    "#Number of other items = poisson distribution with 3*5*0.95\n",
    "#P(cell >= 1)*p(other <= 10)\n",
    "(1- stats.poisson.pmf(0, 3*5*0.05)) * (stats.poisson.cdf(10, 3*5*0.95))"
   ]
  },
  {
   "cell_type": "markdown",
   "metadata": {
    "#solution": false,
    "#staff": false,
    "#student": false
   },
   "source": [
    "### d) The Blue and Red Sequence ###\n",
    "This exercise is about the lost-and-found processes in Part **c**.\n",
    "\n",
    "(i) Find the chance that the first cell phone arrives after exactly 15 other items. \n",
    "\n",
    "Your calculation will be much simpler if you notice that this question is only about the \"blue\" and \"red\" sequence, and not about the times at which the points arrive or the gaps of time between them."
   ]
  },
  {
   "cell_type": "code",
   "execution_count": 59,
   "metadata": {
    "#solution": false,
    "#staff": false,
    "#student": true
   },
   "outputs": [
    {
     "data": {
      "text/plain": [
       "0.023164561507987652"
      ]
     },
     "execution_count": 59,
     "metadata": {},
     "output_type": "execute_result"
    }
   ],
   "source": [
    "#P(other = 15)*P(cell = 1)\n",
    "0.95**15*0.05"
   ]
  },
  {
   "cell_type": "markdown",
   "metadata": {
    "#solution": false,
    "#staff": false,
    "#student": false
   },
   "source": [
    "(ii) Find the chance that the third cell phone arrives after at least 20 other items. Fill in the blank in the comment cell first, and think about what distribution you should use."
   ]
  },
  {
   "cell_type": "code",
   "execution_count": 62,
   "metadata": {
    "#solution": false,
    "#staff": false,
    "#student": true
   },
   "outputs": [
    {
     "data": {
      "text/plain": [
       "0.905176954081569"
      ]
     },
     "execution_count": 62,
     "metadata": {},
     "output_type": "execute_result"
    }
   ],
   "source": [
    "\n",
    "\"\"\"Among the first 22 items that arrive, there should be less than 3 cell phones.\"\"\"\n",
    "\n",
    "stats.binom.cdf(2, 22, 0.05)"
   ]
  },
  {
   "cell_type": "markdown",
   "metadata": {
    "#solution": false,
    "#staff": false,
    "#student": false
   },
   "source": [
    "#newpage"
   ]
  },
  {
   "cell_type": "markdown",
   "metadata": {
    "#solution": false,
    "#staff": false,
    "#student": false
   },
   "source": [
    "## Part 4: Earthquakes in California ##\n",
    "\n",
    "\"All models are wrong. Some are useful.\" This trenchant assessment of modeling is attributed to the British statistician [George Box](https://en.wikipedia.org/wiki/George_E._P._Box) and has been the subject of [much discussion](https://en.wikipedia.org/wiki/All_models_are_wrong).\n",
    "\n",
    "What Box was saying was that while no statistical model can capture all the complexity of a physical system, sometimes simple representations can help us begin to understand systems without taking all of the complexity into account. \n",
    "\n",
    "Keep that in mind as you skim this [paper](https://www.ncbi.nlm.nih.gov/pmc/articles/PMC5665405/) in a 2016 issue of [The American Statistician](https://amstat.tandfonline.com/doi/abs/10.1080/00031305.2016.1200484#.XKWnbutKgyd), a publication of [The American Statistical Association](https://www.amstat.org/). It includes the use of the homogeneous Poisson process to model times of earthquakes in California. It's not surprising that the model might be an over-simplification; see for example this [lecture](https://www.stat.berkeley.edu/~stark/Seminars/psu10.pdf) by Prof. [Philip Stark](https://www.stat.berkeley.edu/~stark/) of Berkeley's Statistics department. However, it's OK as a rough starting point, and you can use it to make some rough predictions.\n",
    "\n",
    "Here are the data used in the paper. The table `quakes` consists of data on all earthquakes in California of magnitude 4.9 or greater, between January 1857 and August 2014. There were 51 such quakes. Of course there were smaller earthquakes too, but those are not part of the data set. \n",
    "\n",
    "**In what follows, the word \"quake\" means \"earthquake of magnitude 4.9 or more\".**\n",
    "\n",
    "`Magnitude` is a measure of the strength of an earthquake, and `MMI` stands for the Modified Mercalli Intensity scale that measures the intensity of shaking.\n",
    "\n",
    "An important attribute for the analysis is the `Gap` in time, measured in days, between the quake and the previous one."
   ]
  },
  {
   "cell_type": "code",
   "execution_count": 40,
   "metadata": {
    "#solution": false,
    "#staff": false,
    "#student": false
   },
   "outputs": [],
   "source": [
    "quakes = Table.read_table('Lab09_data/big_CA_earthquakes.csv')"
   ]
  },
  {
   "cell_type": "code",
   "execution_count": 41,
   "metadata": {
    "#solution": false,
    "#staff": false,
    "#student": false
   },
   "outputs": [
    {
     "data": {
      "text/plain": [
       "51"
      ]
     },
     "execution_count": 41,
     "metadata": {},
     "output_type": "execute_result"
    }
   ],
   "source": [
    "quakes.num_rows"
   ]
  },
  {
   "cell_type": "code",
   "execution_count": 42,
   "metadata": {
    "#solution": false,
    "#staff": false,
    "#student": false
   },
   "outputs": [
    {
     "data": {
      "text/html": [
       "<table border=\"1\" class=\"dataframe\">\n",
       "    <thead>\n",
       "        <tr>\n",
       "            <th>Date</th> <th>Name</th> <th>Area</th> <th>Magnitude</th> <th>MMI</th> <th>Days from 1/9/1857</th> <th>Gap</th>\n",
       "        </tr>\n",
       "    </thead>\n",
       "    <tbody>\n",
       "        <tr>\n",
       "            <td>8/24/2014 </td> <td>South Napa        </td> <td>North Bay       </td> <td>6        </td> <td>8   </td> <td>57570             </td> <td>1603</td>\n",
       "        </tr>\n",
       "        <tr>\n",
       "            <td>4/4/2010  </td> <td>Baja California   </td> <td>Baja California </td> <td>7.2      </td> <td>7   </td> <td>55967             </td> <td>85  </td>\n",
       "        </tr>\n",
       "        <tr>\n",
       "            <td>1/9/2010  </td> <td>Eureka            </td> <td>North Coast     </td> <td>6.5      </td> <td>6   </td> <td>55882             </td> <td>529 </td>\n",
       "        </tr>\n",
       "        <tr>\n",
       "            <td>7/29/2008 </td> <td>Chino Hills       </td> <td>LA Area         </td> <td>5.5      </td> <td>6   </td> <td>55353             </td> <td>273 </td>\n",
       "        </tr>\n",
       "        <tr>\n",
       "            <td>10/30/2007</td> <td>Alum Rock         </td> <td>South Bay       </td> <td>5.6      </td> <td>6   </td> <td>55080             </td> <td>1408</td>\n",
       "        </tr>\n",
       "        <tr>\n",
       "            <td>12/22/2003</td> <td>San Simeon        </td> <td>Central Coast   </td> <td>6.6      </td> <td>8   </td> <td>53672             </td> <td>1205</td>\n",
       "        </tr>\n",
       "        <tr>\n",
       "            <td>9/3/2000  </td> <td>Yountville        </td> <td>North Bay       </td> <td>5        </td> <td>7   </td> <td>52467             </td> <td>323 </td>\n",
       "        </tr>\n",
       "        <tr>\n",
       "            <td>10/16/1999</td> <td>Hector Mine       </td> <td>Eastern         </td> <td>7.1      </td> <td>7   </td> <td>52144             </td> <td>2098</td>\n",
       "        </tr>\n",
       "        <tr>\n",
       "            <td>1/17/1994 </td> <td>Northridge        </td> <td>LA Area         </td> <td>6.7      </td> <td>9   </td> <td>50046             </td> <td>568 </td>\n",
       "        </tr>\n",
       "        <tr>\n",
       "            <td>6/28/1992 </td> <td>Landers           </td> <td>Inland Empire   </td> <td>7.3      </td> <td>9   </td> <td>49478             </td> <td>64  </td>\n",
       "        </tr>\n",
       "        <tr>\n",
       "            <td>4/25/1992 </td> <td>Cape Mendocino    </td> <td>North Coast     </td> <td>7.2      </td> <td>9   </td> <td>49414             </td> <td>3   </td>\n",
       "        </tr>\n",
       "        <tr>\n",
       "            <td>4/22/1992 </td> <td>Joshua Tree       </td> <td>Inland Empire   </td> <td>6.3      </td> <td>7   </td> <td>49411             </td> <td>299 </td>\n",
       "        </tr>\n",
       "        <tr>\n",
       "            <td>6/28/1991 </td> <td>Sierra Madre      </td> <td>LA Area         </td> <td>5.6      </td> <td>7   </td> <td>49112             </td> <td>619 </td>\n",
       "        </tr>\n",
       "        <tr>\n",
       "            <td>10/17/1989</td> <td>Loma Prieta       </td> <td>Santa Cruz Mts  </td> <td>6.9      </td> <td>9   </td> <td>48493             </td> <td>70  </td>\n",
       "        </tr>\n",
       "        <tr>\n",
       "            <td>8/8/1989  </td> <td>Loma Prieta       </td> <td>Santa Cruz Mts  </td> <td>5.4      </td> <td>7   </td> <td>48423             </td> <td>624 </td>\n",
       "        </tr>\n",
       "        <tr>\n",
       "            <td>11/23/1987</td> <td>Superstition Hills</td> <td>Imperial Valley </td> <td>6.1      </td> <td>6   </td> <td>47799             </td> <td>53  </td>\n",
       "        </tr>\n",
       "        <tr>\n",
       "            <td>10/1/1987 </td> <td>Whittier          </td> <td>LA Area         </td> <td>5.9      </td> <td>8   </td> <td>47746             </td> <td>437 </td>\n",
       "        </tr>\n",
       "        <tr>\n",
       "            <td>7/21/1986 </td> <td>Chalfant Valley   </td> <td>Eastern         </td> <td>6.2      </td> <td>6   </td> <td>47309             </td> <td>13  </td>\n",
       "        </tr>\n",
       "        <tr>\n",
       "            <td>7/8/1986  </td> <td>N. Palm Springs   </td> <td>Inland Empire   </td> <td>6        </td> <td>7   </td> <td>47296             </td> <td>805 </td>\n",
       "        </tr>\n",
       "        <tr>\n",
       "            <td>4/24/1984 </td> <td>Morgan Hill       </td> <td>South Bay       </td> <td>6.2      </td> <td>8   </td> <td>46491             </td> <td>358 </td>\n",
       "        </tr>\n",
       "        <tr>\n",
       "            <td>5/2/1983  </td> <td>Coalinga          </td> <td>Central Valley  </td> <td>6.2      </td> <td>8   </td> <td>46133             </td> <td>905 </td>\n",
       "        </tr>\n",
       "        <tr>\n",
       "            <td>11/8/1980 </td> <td>Eureka            </td> <td>North Coast     </td> <td>7.3      </td> <td>7   </td> <td>45228             </td> <td>167 </td>\n",
       "        </tr>\n",
       "        <tr>\n",
       "            <td>5/25/1980 </td> <td>Mammoth Lakes     </td> <td>Eastern         </td> <td>6.2      </td> <td>7   </td> <td>45061             </td> <td>122 </td>\n",
       "        </tr>\n",
       "        <tr>\n",
       "            <td>1/24/1980 </td> <td>Livermore         </td> <td>East Bay        </td> <td>5.8      </td> <td>7   </td> <td>44939             </td> <td>101 </td>\n",
       "        </tr>\n",
       "        <tr>\n",
       "            <td>10/15/1979</td> <td>Imperial Valley   </td> <td>Imperial Valley </td> <td>6.4      </td> <td>9   </td> <td>44838             </td> <td>70  </td>\n",
       "        </tr>\n",
       "        <tr>\n",
       "            <td>8/6/1979  </td> <td>Coyote Lake       </td> <td>South Bay       </td> <td>5.7      </td> <td>7   </td> <td>44768             </td> <td>358 </td>\n",
       "        </tr>\n",
       "        <tr>\n",
       "            <td>8/13/1978 </td> <td>Santa Barbara     </td> <td>Central Coast   </td> <td>5.8      </td> <td>7   </td> <td>44410             </td> <td>2742</td>\n",
       "        </tr>\n",
       "        <tr>\n",
       "            <td>2/9/1971  </td> <td>San Fernando      </td> <td>LA Area         </td> <td>6.6      </td> <td>9   </td> <td>41668             </td> <td>496 </td>\n",
       "        </tr>\n",
       "        <tr>\n",
       "            <td>10/1/1969 </td> <td>Santa Rosa        </td> <td>North Bay       </td> <td>5.6      </td> <td>7   </td> <td>41172             </td> <td>541 </td>\n",
       "        </tr>\n",
       "        <tr>\n",
       "            <td>4/8/1968  </td> <td>Borrego Mtn       </td> <td>Imperial Valley </td> <td>6.5      </td> <td>7   </td> <td>40631             </td> <td>4035</td>\n",
       "        </tr>\n",
       "        <tr>\n",
       "            <td>3/22/1957 </td> <td>San Francisco     </td> <td>Bay Area        </td> <td>5.7      </td> <td>7   </td> <td>36596             </td> <td>822 </td>\n",
       "        </tr>\n",
       "        <tr>\n",
       "            <td>12/21/1954</td> <td>Eureka            </td> <td>North Coast     </td> <td>6.5      </td> <td>7   </td> <td>35774             </td> <td>851 </td>\n",
       "        </tr>\n",
       "        <tr>\n",
       "            <td>8/22/1952 </td> <td>Kern County       </td> <td>Central Valley  </td> <td>5.8      </td> <td>8   </td> <td>34923             </td> <td>32  </td>\n",
       "        </tr>\n",
       "        <tr>\n",
       "            <td>7/21/1952 </td> <td>Kern County       </td> <td>Central Valley  </td> <td>7.3      </td> <td>9   </td> <td>34891             </td> <td>1325</td>\n",
       "        </tr>\n",
       "        <tr>\n",
       "            <td>12/4/1948 </td> <td>Desert Hot Springs</td> <td>Inland Empire   </td> <td>6.4      </td> <td>7   </td> <td>33566             </td> <td>3122</td>\n",
       "        </tr>\n",
       "        <tr>\n",
       "            <td>5/18/1940 </td> <td>El Centro         </td> <td>Imperial Valley </td> <td>6.9      </td> <td>10  </td> <td>30444             </td> <td>2626</td>\n",
       "        </tr>\n",
       "        <tr>\n",
       "            <td>3/10/1933 </td> <td>Long Beach        </td> <td>South Coast     </td> <td>6.4      </td> <td>8   </td> <td>27818             </td> <td>277 </td>\n",
       "        </tr>\n",
       "        <tr>\n",
       "            <td>6/6/1932  </td> <td>Eureka            </td> <td>North Coast     </td> <td>6.4      </td> <td>8   </td> <td>27541             </td> <td>1676</td>\n",
       "        </tr>\n",
       "        <tr>\n",
       "            <td>11/4/1927 </td> <td>Lompoc            </td> <td>Central Coast   </td> <td>7.3      </td> <td>8   </td> <td>25865             </td> <td>858 </td>\n",
       "        </tr>\n",
       "        <tr>\n",
       "            <td>6/29/1925 </td> <td>Santa Barbara     </td> <td>Central Coast   </td> <td>6.8      </td> <td>9   </td> <td>25007             </td> <td>889 </td>\n",
       "        </tr>\n",
       "        <tr>\n",
       "            <td>1/22/1923 </td> <td>Humboldt County   </td> <td>North Coast     </td> <td>7.2      </td> <td>8   </td> <td>24118             </td> <td>945 </td>\n",
       "        </tr>\n",
       "        <tr>\n",
       "            <td>6/21/1920 </td> <td>Inglewood         </td> <td>LA Area         </td> <td>4.9      </td> <td>8   </td> <td>23173             </td> <td>792 </td>\n",
       "        </tr>\n",
       "        <tr>\n",
       "            <td>4/21/1918 </td> <td>San Jacinto       </td> <td>Inland Empire   </td> <td>6.7      </td> <td>9   </td> <td>22381             </td> <td>1034</td>\n",
       "        </tr>\n",
       "        <tr>\n",
       "            <td>6/22/1915 </td> <td>Imperial Valley   </td> <td>Imperial Valley </td> <td>5.5      </td> <td>8   </td> <td>21347             </td> <td>3352</td>\n",
       "        </tr>\n",
       "        <tr>\n",
       "            <td>4/18/1906 </td> <td>San Francisco     </td> <td>Northern-Central</td> <td>7.9      </td> <td>11  </td> <td>17995             </td> <td>2305</td>\n",
       "        </tr>\n",
       "        <tr>\n",
       "            <td>12/25/1899</td> <td>San Jacinto       </td> <td>Inland Empire   </td> <td>6.7      </td> <td>9   </td> <td>15690             </td> <td>2806</td>\n",
       "        </tr>\n",
       "        <tr>\n",
       "            <td>4/19/1892 </td> <td>Vacaville-Winters </td> <td>North Bay       </td> <td>6.4      </td> <td>9   </td> <td>12884             </td> <td>56  </td>\n",
       "        </tr>\n",
       "        <tr>\n",
       "            <td>2/23/1892 </td> <td>Laguna Salada     </td> <td>Baja California </td> <td>7.1      </td> <td>8   </td> <td>12828             </td> <td>7273</td>\n",
       "        </tr>\n",
       "        <tr>\n",
       "            <td>3/26/1872 </td> <td>Lone Pine         </td> <td>Eastern         </td> <td>7.6      </td> <td>10  </td> <td>5555              </td> <td>1252</td>\n",
       "        </tr>\n",
       "        <tr>\n",
       "            <td>10/21/1868</td> <td>Hayward           </td> <td>Bay Area        </td> <td>6.5      </td> <td>9   </td> <td>4303              </td> <td>1109</td>\n",
       "        </tr>\n",
       "        <tr>\n",
       "            <td>10/08/1865</td> <td>Santa Cruz Mts    </td> <td>Santa Cruz Mts  </td> <td>6.3      </td> <td>8   </td> <td>3194              </td> <td>3194</td>\n",
       "        </tr>\n",
       "    </tbody>\n",
       "</table>"
      ],
      "text/plain": [
       "<IPython.core.display.HTML object>"
      ]
     },
     "metadata": {},
     "output_type": "display_data"
    }
   ],
   "source": [
    "quakes.show()"
   ]
  },
  {
   "cell_type": "markdown",
   "metadata": {
    "#solution": false,
    "#staff": false,
    "#student": false
   },
   "source": [
    "The figure below plots the dates of the 51 earthquakes."
   ]
  },
  {
   "cell_type": "code",
   "execution_count": 43,
   "metadata": {
    "#solution": false,
    "#staff": false,
    "#student": false
   },
   "outputs": [
    {
     "data": {
      "image/png": "[encoded data removed]",
      "text/plain": [
       "<Figure size 864x72 with 1 Axes>"
      ]
     },
     "metadata": {},
     "output_type": "display_data"
    }
   ],
   "source": [
    "plt.figure(figsize=(12, 1))\n",
    "plt.scatter(quakes.column(5), 0*np.ones(quakes.num_rows), color='red', s=30)\n",
    "plt.hlines(0, 0, 60000, lw=1)\n",
    "plt.xticks(np.arange(0, 50001, 10000))\n",
    "plt.yticks([])\n",
    "plt.xlabel('days after 1/9/1857', fontsize=12)\n",
    "plt.title('Earthquakes in CA', fontsize=15);"
   ]
  },
  {
   "cell_type": "markdown",
   "metadata": {
    "#solution": false,
    "#staff": false,
    "#student": false
   },
   "source": [
    "Can this reasonably be modeled by a Poisson process? To answer this, go back and look at the Second Description of the Poisson Process, in **2b**. In the exercise below you will see whether the gaps look exponential."
   ]
  },
  {
   "cell_type": "markdown",
   "metadata": {
    "#solution": false,
    "#staff": false,
    "#student": false
   },
   "source": [
    "### a) The Gaps and the Rate ###\n",
    "Draw a histogram of the gaps. "
   ]
  },
  {
   "cell_type": "code",
   "execution_count": 44,
   "metadata": {
    "#solution": false,
    "#staff": false,
    "#student": false
   },
   "outputs": [
    {
     "data": {
      "image/png": "[encoded data removed]",
      "text/plain": [
       "<Figure size 432x288 with 1 Axes>"
      ]
     },
     "metadata": {},
     "output_type": "display_data"
    }
   ],
   "source": [
    "quakes.hist('Gap', bins=25)"
   ]
  },
  {
   "cell_type": "markdown",
   "metadata": {
    "#solution": false,
    "#staff": false,
    "#student": false
   },
   "source": [
    "If you model the gap sizes as i.i.d. exponential variables, what is your estimate of the rate $\\lambda$? Answer this by comparing the mean of the exponential distribution and the average of the observed gaps."
   ]
  },
  {
   "cell_type": "code",
   "execution_count": 66,
   "metadata": {
    "#solution": false,
    "#staff": false,
    "#student": true
   },
   "outputs": [
    {
     "data": {
      "text/plain": [
       "(1128.8235294117646, 0.0008858780614903596)"
      ]
     },
     "execution_count": 66,
     "metadata": {},
     "output_type": "execute_result"
    }
   ],
   "source": [
    "\n",
    "gaps = quakes.column('Gap')\n",
    "mean_gap = np.mean(gaps)\n",
    "\n",
    "lam = 1 / np.mean(gaps)\n",
    "\n",
    "mean_gap, lam"
   ]
  },
  {
   "cell_type": "markdown",
   "metadata": {
    "#solution": false,
    "#staff": false,
    "#student": false
   },
   "source": [
    "Complete the cell below to superpose the appropriate exponential density on the histogram of gaps. Remember that the `scale` argument of `stats.expon` is $1/\\lambda$, not $\\lambda$."
   ]
  },
  {
   "cell_type": "code",
   "execution_count": 67,
   "metadata": {
    "#solution": false,
    "#staff": false,
    "#student": true
   },
   "outputs": [
    {
     "data": {
      "image/png": "[encoded data removed]",
      "text/plain": [
       "<Figure size 432x288 with 1 Axes>"
      ]
     },
     "metadata": {},
     "output_type": "display_data"
    }
   ],
   "source": [
    "\n",
    "quakes.hist('Gap', bins=25)\n",
    "t = np.arange(7000)\n",
    "f = stats.expon.pdf(t, scale = 1/lam)\n",
    "plt.plot(t, f, color='red', lw=2);"
   ]
  },
  {
   "cell_type": "markdown",
   "metadata": {
    "#solution": false,
    "#staff": false,
    "#student": false
   },
   "source": [
    "If you have done your calculations correctly, the model of i.i.d. exponential gaps should look plausible. Of course with only 51 observations there will always be some doubt.\n",
    "\n",
    "\n",
    "Now suppose that you model future quakes as a Poisson process with the rate that you assigned to `lam` at the start of this exercise. \n",
    "\n",
    "**Caution:** The answers that you get based on this model should only be taken as a very rough starting point towards a deeper analysis. Apart from the need to check whether all the assumptions of the model apply, there is also the need to account for the variability in the estimate of $\\lambda$ even assuming that the model works. All of that is the domain of time series or geostatistics classes; we will stick to the probability calculations."
   ]
  },
  {
   "cell_type": "markdown",
   "metadata": {
    "#solution": false,
    "#staff": false,
    "#student": false
   },
   "source": [
    "### b) A Prediction for the Next Year ###\n",
    "\n",
    "In the calculations below, you can assume that years have 365 days. Don't worry about details such as leap years or whether you should include the day when you start your observations. Also assume that \"within a year from now\" means \"within 365 days from the day you do the calculation\".\n",
    "\n",
    "(i) Find the probability that there is at least one quake within a year from now."
   ]
  },
  {
   "cell_type": "code",
   "execution_count": 68,
   "metadata": {
    "#solution": false,
    "#staff": false,
    "#student": true
   },
   "outputs": [
    {
     "data": {
      "text/plain": [
       "0.2762762299248045"
      ]
     },
     "execution_count": 68,
     "metadata": {},
     "output_type": "execute_result"
    }
   ],
   "source": [
    "\n",
    "# P(at least one quake within a year from now)\n",
    "# t = 365, lambda = lam \n",
    "1-stats.poisson.pmf(0, 365*lam)\n"
   ]
  },
  {
   "cell_type": "markdown",
   "metadata": {
    "#solution": false,
    "#staff": false,
    "#student": false
   },
   "source": [
    "### c) Another Prediction for the Next Year ###\n",
    "\n",
    "Find the observed proportion of quakes that had magnitudes above 6.0."
   ]
  },
  {
   "cell_type": "code",
   "execution_count": 69,
   "metadata": {
    "#solution": false,
    "#staff": false,
    "#student": true
   },
   "outputs": [
    {
     "data": {
      "text/plain": [
       "(35, 0.6862745098039216)"
      ]
     },
     "execution_count": 69,
     "metadata": {},
     "output_type": "execute_result"
    }
   ],
   "source": [
    "\n",
    "# number of quakes with magnitude at least 6.0\n",
    "num_big = sum(quakes.column('Magnitude') > 6)\n",
    "\n",
    "# proportion of quakes with magnitude at least 6.0\n",
    "prop_big = num_big / 51\n",
    "\n",
    "num_big, prop_big"
   ]
  },
  {
   "cell_type": "markdown",
   "metadata": {
    "#solution": false,
    "#staff": false,
    "#student": false
   },
   "source": [
    "Suppose that each future quake has magnitude at least 6.0 with chance `prop_big` independently of all others. As in the previous part, you can ignore the variability in that estimate; leave that for a time series or geostatistics class."
   ]
  },
  {
   "cell_type": "markdown",
   "metadata": {
    "#solution": false,
    "#staff": false,
    "#student": false
   },
   "source": [
    "Under the assumption above, find the chance that within 365 days from now there is one quake of magnitude at least 6.0 and at least one with magnitude in the interval $[4.9, 6)$. Remember that all the quakes in our process have magnitude at least 4.9."
   ]
  },
  {
   "cell_type": "code",
   "execution_count": 76,
   "metadata": {
    "#solution": false,
    "#staff": false,
    "#student": true
   },
   "outputs": [
    {
     "data": {
      "text/plain": [
       "0.017146209255629666"
      ]
     },
     "execution_count": 76,
     "metadata": {},
     "output_type": "execute_result"
    }
   ],
   "source": [
    "\n",
    "# P(1 quake of magnitude at least 6.0 and at least one quake of magnitude in [4.9, 6.0))\n",
    "big = prop_big*365*lam\n",
    "small = (1-prop_big)*365*lam\n",
    "\n",
    "stats.poisson.pmf(1, big)*(1-stats.poisson.pmf(0, small))"
   ]
  },
  {
   "cell_type": "markdown",
   "metadata": {
    "#solution": false,
    "#staff": false,
    "#student": false
   },
   "source": [
    "### d) Predicting A Big One ###\n",
    "Under the same assumptions as in Part **c**, find the number of years $n$ such that there is 99% chance that within $n$ years from now there will be at least one quake of magnitude at least 6.0. It's fine if $n$ is not an integer."
   ]
  },
  {
   "cell_type": "code",
   "execution_count": 81,
   "metadata": {
    "#solution": false,
    "#staff": false,
    "#student": true
   },
   "outputs": [
    {
     "data": {
      "text/plain": [
       "20.75300568354868"
      ]
     },
     "execution_count": 81,
     "metadata": {},
     "output_type": "execute_result"
    }
   ],
   "source": [
    "\n",
    "# number of years n such that\n",
    "# P(at least quake of magnitude 6.0 will happen in n years) = 0.99\n",
    "# want 1 - stats.poisson.pmf(0, 365*n*lam*prop_big) = 0.99\n",
    "# stats.poisson.pmf(0, 365*n*lam*prop_big) = e^(-365*n*lam*prop_big) = 0.01\n",
    "n = np.log(0.01) / (-365*lam*prop_big)\n",
    "n"
   ]
  },
  {
   "cell_type": "markdown",
   "metadata": {
    "#solution": false,
    "#staff": false,
    "#student": false
   },
   "source": [
    "## Conclusion ##\n",
    "\n",
    "What you have learned in this lab:\n",
    "\n",
    "- Properties of one of the most commonly studied stochastic processes\n",
    "- How simple assumptions about randomness can lead to a powerful theory\n",
    "- A physical model for gamma $(r, \\lambda)$ random variables when $r$ is an integer\n",
    "- Ways in which the major distribution families interact with each other\n",
    "- An approach to modeling physical phenomena\n",
    "\n",
    "This lab required quite a bit of mental agility. Congratulations on a job well done!"
   ]
  },
  {
   "cell_type": "markdown",
   "metadata": {
    "#solution": false,
    "#staff": false,
    "#student": false
   },
   "source": [
    "## Submission Instructions ##\n",
    "\n",
    "Many assignments throughout the course will have a written portion and a code portion. Please follow the directions below to properly submit both portions.\n",
    "\n",
    "### Written Portion ###\n",
    "*  Scan all the pages into a PDF. You can use any scanner or a phone using applications such as CamScanner. Please **DO NOT** simply take pictures using your phone. \n",
    "* Please start a new page for each question. If you have already written multiple questions on the same page, you can crop the image in CamScanner or fold your page over (the old-fashioned way). This helps expedite grading.\n",
    "* It is your responsibility to check that all the work on all the scanned pages is legible.\n",
    "\n",
    "### Code Portion ###\n",
    "* **Save your notebook using File > Save and Checkpoint.**\n",
    "* Run the cell below to generate a PDF file.\n",
    "* Download the PDF file and confirm that none of your work is missing or cut off.  If the link leads you to a blank page, use [Command]+[S] or [Ctrl]+[S] to download your work. \n",
    "\n",
    "### Submitting ###\n",
    "* Combine the PDFs from the written and code portions into one PDF.  [Here](https://smallpdf.com/merge-pdf) is a useful tool for doing so.  \n",
    "* Submit the assignment to Lab 9 on Gradescope. \n",
    "* **Make sure to assign each page of your pdf to the correct question.**\n",
    "\n",
    "\n",
    "\n",
    "### **We will not grade assignments which do not have pages selected for each question or were submitted after the deadline.** "
   ]
  },
  {
   "cell_type": "code",
   "execution_count": 1,
   "metadata": {
    "#solution": false,
    "#staff": false,
    "#student": false
   },
   "outputs": [
    {
     "name": "stdout",
     "output_type": "stream",
     "text": [
      "Processing Lab_09.ipynb\n",
      "Generated notebook and autograded\n",
      "Attempting to compile LaTeX\n",
      "Finished generating PDF\n"
     ]
    },
    {
     "data": {
      "text/html": [
       "<h1><a href=\"Lab_09_submission.pdf\" download> Download this and submit to gradescope!</a></h1>"
      ],
      "text/plain": [
       "<IPython.core.display.HTML object>"
      ]
     },
     "metadata": {},
     "output_type": "display_data"
    }
   ],
   "source": [
    "import gsExport\n",
    "gsExport.generateSubmission(\"Lab_09.ipynb\")"
   ]
  }
 ],
 "metadata": {
  "anaconda-cloud": {},
  "checksums": [
   "36d6125272e38841d377985b31e7a672",
   "cc41630f470c8e2d20048f0b62da8905",
   "0fb5f93399763ea4ff518aae58807848",
   "725d9b6ab1b530acc87384d3cd607b58",
   "108cd882953509863a06c7e887c192c8",
   "ba699a4d609742bc3fea7529180949ff",
   "05397067be3cd1bfadcadd90ad004c53",
   "c66b4bfd7af2a58e22fd7e6b9848136d",
   "518c84f8a1f148dbd174743a2ce02a06",
   "640061103a186fd26f59746dd4d6de57",
   "e3a30eec0bda355dedba435cf5e5834f",
   "b4568d082a339122e5372a8ab2f0ddab",
   "12e7dd93a9496837b16a62907e7ac59e",
   "990edf0886c1efdc8ef4cadc59b75b81",
   "cee36cc6f4870960661e6b23657fa955",
   "cb5b708701d48e459a7f3f2c30a24173",
   "a5a0394c9d506332734ad3beb41f9f14",
   "2f43b42fd833d1e77420a8dae7419000",
   "640061103a186fd26f59746dd4d6de57",
   "849b8abd9f5976a329947996c3ddd5f1",
   "48d1f6e85cc75cbb2d40a0fb42390f56",
   "16ede3481bb9fd3b182146f008312eb4",
   "163dbc2884c63c94ccce03bc6ec27cc3",
   "6fb198dfc3fbf2d2a26363756f99fb72",
   "27fd2af144de804779cb26aff5316f36",
   "17cd56f52614b4247a68ed32d638ce46",
   "61d11a89b53a353d1946cd0453e0073a",
   "3a76d7cce4e9ecdb4fe70737e7879960",
   "fa91c503bad0f103a70abcec458dd343",
   "3a76d7cce4e9ecdb4fe70737e7879960",
   "b7364f90138bc37bffeeb80a559c21fa",
   "f3c6b8153b13eb76c6eb6cb800a5fc48",
   "48d1f6e85cc75cbb2d40a0fb42390f56",
   "b16b7b6bced994d437f3fd448294d5eb",
   "bff1f9d42fdf6a53f4595638362c86e7",
   "5f4d9f9c64b0b876af560c4aea235724",
   "46194856f9178ea708445cc2bc02a632",
   "6dc48d63dd4c8432552e8061e3a165e4",
   "b980925008e0d2090c13275b71155c81",
   "e5ce69e3f7dfe098f3aa533ce04a114f",
   "2f43b42fd833d1e77420a8dae7419000",
   "23565bcb5c04a6794b1649a2e0bcc6bc",
   "2f43b42fd833d1e77420a8dae7419000",
   "640061103a186fd26f59746dd4d6de57",
   "15cf9d7834e8143023d511088f499850",
   "c72f12a0f22ac9e0e4971beda15e262d",
   "3b90a2271610947fded8e1a6c4dd106b",
   "3a76d7cce4e9ecdb4fe70737e7879960",
   "4c3a429cf88ba5a396e288f98ac0845e",
   "3a76d7cce4e9ecdb4fe70737e7879960",
   "890a69c1ce1e9335f2d5d003a43a3c90",
   "3a76d7cce4e9ecdb4fe70737e7879960",
   "020f4c19fca48ca1fd1a25d920f65370",
   "3a76d7cce4e9ecdb4fe70737e7879960",
   "53aa02685bb1480e574a6244811a4c66",
   "3a76d7cce4e9ecdb4fe70737e7879960",
   "b1d13b4a418f33556ef64e2fe21227e4",
   "3a76d7cce4e9ecdb4fe70737e7879960",
   "c7d42d5123b48edda85105a4c0879636",
   "2f43b42fd833d1e77420a8dae7419000",
   "e6748001083548cfbaf02203a9902a5a",
   "2f43b42fd833d1e77420a8dae7419000",
   "6a5db5d0f296904ef5fc4bb3e37ac327",
   "ad6b6d99f5cabd0ec86550d34cffc19d",
   "640061103a186fd26f59746dd4d6de57",
   "5bd488416734cfd67b9e698b792bac44",
   "8ed00d7191c34d7b0f1d7c9a5f20ae4c",
   "175e8553cb35e1a704568281eb8addbe",
   "3b61efe60f57fec14cafab7c15873b2f",
   "ac0bbe6f314bdc44f450c0a0f75ebaa8",
   "72d1c6d6636c186e86be82080cec2db6",
   "e1f0bfb80e74dabfa08dbfdf16ad3b94",
   "133ee987f7fc611807da34c035d4159e",
   "7917fee06344c40f2fddb1e86db08a1f",
   "a3dbadbcedfcc398ec72bfea3dca23d7",
   "b8d1598ab599bcdd31142b67c9b334db",
   "ff5a6c21eeee72078d4995cd611ed2f7",
   "3a61f636f4ba860a6cbe761b15e259ef",
   "1dd6eb8f65394ca401bcd45dbe03b65c",
   "343eb0ce29a9a82ea490761d354d4366",
   "00d466ebf670451f3dfe7143ecddd45b",
   "7f9ae7487915ad2346b55190175dae91",
   "0933653d0bdec3e6b5aea04ce9d1c637",
   "82a3b48b8d1846579fbb3275e3ffa2a0",
   "5b8ac9ca74f0b510439dbc88dc88fd97",
   "81e3ec65069aee92e20110c509f7912e",
   "694bc0fd51d4e6c958a2ff7d030d832a",
   "9cbc5d1644fe4ff7322d1d766f6e1f30",
   "ad6c43aeb78125d8f3e3c0ac171b675d",
   "04b7d0f39a11a11344dfb34238920992",
   "1580b2e351dbb563a131b241f513e42a"
  ],
  "kernelspec": {
   "display_name": "Python 3",
   "language": "python",
   "name": "python3"
  },
  "language_info": {
   "codemirror_mode": {
    "name": "ipython",
    "version": 3
   },
   "file_extension": ".py",
   "mimetype": "text/x-python",
   "name": "python",
   "nbconvert_exporter": "python",
   "pygments_lexer": "ipython3",
   "version": "3.6.7"
  },
  "number_of_pagebreaks": 4,
  "widgets": {
   "state": {
    "c9e0a0cdda194f068c325b67af53027b": {
     "views": [
      {
       "cell_index": 9
      }
     ]
    }
   },
   "version": "1.2.0"
  }
 },
 "nbformat": 4,
 "nbformat_minor": 1
}
