{
 "cells": [
  {
   "cell_type": "markdown",
   "metadata": {},
   "source": [
    "<table align=\"left\" style=\"border-style: hidden\" class=\"table\"> <tr><td class=\"col-md-2\"><img style=\"float\" src=\"http://prob140.org/assets/icon256.png\" alt=\"Prob140 Logo\" style=\"width: 120px;\"/></td><td><div align=\"left\"><h3 style=\"margin-top: 0;\">Probability for Data Science</h3><h4 style=\"margin-top: 20px;\">UC Berkeley, Spring 2019</h4><p>Ani Adhikari and Jim Pitman</p>CC BY-NC 4.0</div></td></tr></table><!-- not in pdf -->"
   ]
  },
  {
   "cell_type": "code",
   "execution_count": 1,
   "metadata": {
    "#solution": false,
    "#staff": false,
    "#student": false
   },
   "outputs": [],
   "source": [
    "# SETUP\n",
    "\n",
    "import itertools\n",
    "import numpy as np\n",
    "from datascience import *\n",
    "from prob140 import *\n",
    "\n",
    "# These lines do some fancy plotting magic\n",
    "import matplotlib\n",
    "%matplotlib inline\n",
    "import matplotlib.pyplot as plt\n",
    "plt.style.use('fivethirtyeight')\n",
    "\n",
    "# These lines make warnings look nicer\n",
    "import warnings\n",
    "warnings.simplefilter('ignore', FutureWarning)\n",
    "\n",
    "# Useful for probability calculations\n",
    "from scipy import stats\n",
    "from scipy import special"
   ]
  },
  {
   "cell_type": "code",
   "execution_count": 2,
   "metadata": {
    "#solution": false,
    "#staff": false,
    "#student": false
   },
   "outputs": [],
   "source": [
    "def _remove_gaps(domain, prob):\n",
    "    \"\"\"\n",
    "    domain must be sorted\n",
    "    \"\"\"\n",
    "    new_probs = []\n",
    "    index = 0\n",
    "    max_value = max(domain)\n",
    "    for i in range(max_value + 1):\n",
    "        if i < domain[index]:\n",
    "            new_probs.append(0)\n",
    "        else:\n",
    "            new_probs.append(prob[index])\n",
    "            index += 1\n",
    "    return np.array(new_probs)"
   ]
  },
  {
   "cell_type": "code",
   "execution_count": 3,
   "metadata": {
    "#solution": false,
    "#staff": false,
    "#student": false
   },
   "outputs": [],
   "source": [
    "def plot_sample(p_array, s, m):\n",
    "    \"\"\"\n",
    "    Plots a dot plot sampled s times from p_array.\n",
    "    \n",
    "    Parameters\n",
    "    ----------\n",
    "    p_array : array\n",
    "        An array of probabilities corresponding to p_0, ..., p_n.\n",
    "    s : int\n",
    "        Sample size.\n",
    "    m : int\n",
    "        Highlighted value.\n",
    "    \"\"\"\n",
    "    assert s % 2 == 1, 's must be odd.'\n",
    "    n = len(p_array)\n",
    "    samples = sorted(np.random.choice(np.array(n), size=s, p=p_array))\n",
    "    counts = _remove_gaps(*np.unique(samples, return_counts=True))\n",
    "    for i in range(n):\n",
    "        if i < len(counts):\n",
    "            x = [i] * counts[i]\n",
    "            y = np.arange(counts[i])\n",
    "            if i == m:\n",
    "                color = 'k'\n",
    "                plt.vlines(i, -1, max(10, max(counts)), linewidth=1,\n",
    "                           color='blue',lw=2, label='m')\n",
    "            else:\n",
    "                color = 'k'\n",
    "            plt.scatter(x, y, color=color, s=40)\n",
    "    median_value = samples[s // 2]\n",
    "    # If there multiple instance of the median value, want to know which\n",
    "    # one is the real median.\n",
    "    median_index = s // 2 - samples.index(median_value)\n",
    "    plt.scatter(median_value, median_index, color='r', s=40,\n",
    "                label='median')\n",
    "    plt.axhline(-1, color='k')\n",
    "    plt.xlim(-0.5, n - 0.5)\n",
    "    ax = plt.gca()\n",
    "    ax.set_xticks(np.arange(n))\n",
    "    ax.set_yticks([])\n",
    "    ax.grid(False)\n",
    "    plt.ylim(-1, max(10, max(counts)))\n",
    "    plt.legend()\n",
    "    if median_value > m:\n",
    "        print('Sample median is greater than m.')\n",
    "    else:\n",
    "        print('Sample median is not greater than m.')\n",
    "    plt.title('Sample Median')\n"
   ]
  },
  {
   "cell_type": "markdown",
   "metadata": {
    "#solution": false,
    "#staff": false,
    "#student": false
   },
   "source": [
    "## Lab Resources\n",
    "\n",
    "* [`prob 140` Library Documentation](http://prob140.org/prob140/)\n",
    "* [Data 8 Python Reference](http://data8.org/fa18/python-reference.html)\n",
    "* [Prob 140 Code Reference Sheet](http://prob140.org/assets/prob140_code_reference.pdf)\n",
    "* [`scipy.stats` Documentation](https://docs.scipy.org/doc/scipy/reference/stats.html)"
   ]
  },
  {
   "cell_type": "markdown",
   "metadata": {
    "#solution": false,
    "#staff": false,
    "#student": false,
    "collapsed": true
   },
   "source": [
    "# Lab 3: Expectations of Discrete Order Statistics #\n",
    "Additivity is a powerful property of expectation: you have seen several examples in which writing a random variable as a sum of simpler variables has led to a simple calculation of its expected value. But other methods are needed for finding the expectations of random variables that can't easily be written as sums. \n",
    "\n",
    "Using the basic definition of expectation is one such method, and it works well when you can easily write down the distribution of the random variable and have the computational tools to work out the resulting sum. However, distributions aren't always straightforward to write down.\n",
    "\n",
    "This lab is about expectations of a class of random variables that don't have natural representations as sums of simpler variables. These variables, called *order statistics*, can be thought of as the elements of a random sample arranged in increasing order. We will work with just two of them:\n",
    "- the minimum\n",
    "- the median\n",
    "\n",
    "You have used the sample median as a statistic in Data 8. How big is a random sample median expected to be? By the end of this lab you will have an answer to this question. \n",
    "\n",
    "The corresponding question for the sample mean has an easy answer by additivity: the expectation of a random sample mean is the population mean. But additivity isn't very helpful for medians as medians aren't easy to think of as sums. A different approach is needed.\n",
    "\n",
    "In this lab you will come up with an effective approach in the case of non-negative integer valued variables.\n",
    "\n",
    "What you will learn in this lab:\n",
    "\n",
    "- How to calculate tail probabilities for a random sample minimum\n",
    "- How to calculate tail probabilities for a random sample median\n",
    "- How to compute expectations using the tail sum formula\n",
    "- How to find the expected minimum value in a random sample\n",
    "- How to find the expectation of a random sample median\n",
    "- How random sample medians behave as the sample size gets large\n",
    "\n",
    "As a starting point, let's see how to calculate tail probabilities for the minimum and the median of a random sample."
   ]
  },
  {
   "cell_type": "markdown",
   "metadata": {
    "#solution": false,
    "#staff": false,
    "#student": false
   },
   "source": [
    "## Instructions\n",
    "Your labs have two components: a written portion and a portion that also involves code. Written work should be completed on paper, and coding questions should be done in the notebook. You are welcome to LaTeX your answers to the written portions, but staff will not be able to assist you with LaTeX related issues. It is your responsibility to ensure that both components of the lab are submitted completely and properly to Gradescope. Refer to the bottom of the notebook for submission instructions."
   ]
  },
  {
   "cell_type": "markdown",
   "metadata": {
    "#solution": false,
    "#staff": false,
    "#student": false
   },
   "source": [
    "## Part 1: Tails of Order Statistics — The Math ##\n",
    "Let $X$ be a random variable with values $0, 1, 2, 3, \\ldots, N$ for some fixed integer $N$. As you know, the cumulative distribution function (cdf) of $X$ is the function $F_X$ defined by\n",
    "$$\n",
    "F_X(x) ~ = ~ P(X \\le x) \n",
    "$$\n",
    "for all $x$.\n",
    "\n",
    "We will define the *tail probability function* $T_X$ by\n",
    "\n",
    "$$\n",
    "T_X(x) ~ = ~ P(X > x) ~ = ~ 1 - F_X(x)\n",
    "$$\n",
    "for all $x$.\n",
    "\n",
    "Here is the probability histogram of a random variable with distribution `example_dist`. The gold area is equal to $F_X(4)$ and the blue area is $T_X(4)$."
   ]
  },
  {
   "cell_type": "code",
   "execution_count": 4,
   "metadata": {
    "#solution": false,
    "#staff": false,
    "#student": false
   },
   "outputs": [
    {
     "data": {
      "image/png": "[encoded data removed]",
      "text/plain": [
       "<Figure size 432x288 with 1 Axes>"
      ]
     },
     "metadata": {},
     "output_type": "display_data"
    }
   ],
   "source": [
    "example_vals = np.arange(8)\n",
    "example_probs = make_array(0.05, 0.1, 0.2, 0.25, 0.15, 0.12, 0.08, 0.05)\n",
    "\n",
    "example_dist = Table().values(example_vals).probabilities(example_probs)\n",
    "\n",
    "Plot(example_dist, event = np.arange(5))\n",
    "\n",
    "plt.title('Gold Area = $F(4)$, Blue Area = $T(4)$');"
   ]
  },
  {
   "cell_type": "markdown",
   "metadata": {
    "#solution": false,
    "#staff": false,
    "#student": false
   },
   "source": [
    "Tail probabilities can be very useful. As you have already seen, they can be used to find the distribution:\n",
    "\n",
    "$$\n",
    "P(X = k) ~ = ~ T_X(k-1) - T_X(k)\n",
    "$$\n",
    "\n",
    "You will see later in the lab that they can also be used to find expectations.\n",
    "\n",
    "So it's a good idea to be able to calculate them easily. In this part of the lab, you will develop formulas for the tail probabilities of two commonly used statistics."
   ]
  },
  {
   "cell_type": "markdown",
   "metadata": {
    "#solution": false,
    "#staff": false,
    "#student": false
   },
   "source": [
    "### 1a) [ON PAPER] Tails of a Random Sample Minimum ###\n",
    "\n",
    "Let's start by setting up the notation that will be used throughout the lab.\n",
    "\n",
    "Let $X$ have possible values $0, 1, 2, \\ldots, N$. Let $p_i = P(X = i)$ for $0 \\le i \\le N$. Then $p_i \\ge 0$ for all $i$ and $\\sum_{i=0}^N p_i = 1$.\n",
    "\n",
    "We will call the sequence $p_0, p_1, \\ldots, p_N$ the *probability array* of $X$. \n",
    "\n",
    "Let the tail probabilities of $X$ be defined by the function $T_X$ as before:\n",
    "\n",
    "$$\n",
    "T_X(k) ~ = ~ P(X > k), ~~ 0 \\le k \\le N\n",
    "$$\n",
    "\n",
    "Now let $X_1, X_2, \\ldots, X_n$ be i.i.d. random variables, each with the probability array $p_0, p_1, \\ldots, p_N$. \n",
    "\n",
    "Let $Y$ be the smallest of the $n$ sampled values, that is, let $Y ~ = ~ \\min\\{X_1, X_2, \\ldots , X_n\\}$.\n",
    "\n",
    "For every integer $k$ such that $0 \\le k \\le n$, find $P(Y > k)$ in terms of the function $T_X$, the sample size $n$, and of course $k$."
   ]
  },
  {
   "cell_type": "markdown",
   "metadata": {
    "#solution": false,
    "#staff": false,
    "#student": false
   },
   "source": [
    "Your formula should be quite simple. Things get more interesting when you try to find the tail probabilities of a random sample median. Get ready for a special appearance by one of the superstar probability distributions."
   ]
  },
  {
   "cell_type": "markdown",
   "metadata": {
    "#solution": false,
    "#staff": false,
    "#student": false
   },
   "source": [
    "### 1b) The Event \"Sample Median $> m$\" ###\n",
    "We will analyze the tails of the sample median in the straightforward case where the sample size $s = 2n+1$ is odd and \"the median\" is defined as the $(n+1)$st value when the sample is sorted in ascending order. The $(n+1)$st is the right item to pick out, because $2n+1 = n + 1 + n$.\n",
    "\n",
    "This sample median is formally known as the *$(n+1)$st order statistic* of the sample.\n",
    "\n",
    "The example below will help clarify the definition."
   ]
  },
  {
   "cell_type": "code",
   "execution_count": 17,
   "metadata": {
    "#solution": false,
    "#staff": false,
    "#student": false
   },
   "outputs": [
    {
     "data": {
      "text/plain": [
       "27"
      ]
     },
     "execution_count": 17,
     "metadata": {},
     "output_type": "execute_result"
    }
   ],
   "source": [
    "# 9 = 2*4 + 1\n",
    "\n",
    "sample_9 = make_array(23, 81, 34, 13, 56, 27, 26, 34, 22)\n",
    "sample_9_median = np.sort(sample_9).item(4)       # item(4) is the 5th item\n",
    "sample_9_median"
   ]
  },
  {
   "cell_type": "markdown",
   "metadata": {
    "#solution": false,
    "#staff": false,
    "#student": false
   },
   "source": [
    "Let $X_1, X_2, \\ldots, X_n$ be i.i.d., each with probability array $[p_0, p_1, \\ldots, p_N]$. In our first example we are going to use `example_probs` as this array."
   ]
  },
  {
   "cell_type": "code",
   "execution_count": 18,
   "metadata": {
    "#solution": false,
    "#staff": false,
    "#student": false
   },
   "outputs": [
    {
     "data": {
      "text/plain": [
       "array([0.05, 0.1 , 0.2 , 0.25, 0.15, 0.12, 0.08, 0.05])"
      ]
     },
     "execution_count": 18,
     "metadata": {},
     "output_type": "execute_result"
    }
   ],
   "source": [
    "example_probs"
   ]
  },
  {
   "cell_type": "markdown",
   "metadata": {
    "#solution": false,
    "#staff": false,
    "#student": false
   },
   "source": [
    "Start by visualizing what has to happen for the sample median to be larger than a given value. The function `plot_sample` takes three arguments:\n",
    "- a probability array of our usual form $[p_0, p_1, \\ldots, p_N]$\n",
    "- an odd numbered sample size $s = 2n+1$ for some non-negative integer $n$\n",
    "- a value of $m$\n",
    "\n",
    "It displays a dot plot of an i.i.d. sample of size $s$ drawn from the probability array (remember that the possible values are $0, 1, \\ldots, N$). The vertical blue line is at $m$. The statement above the plot says whether or not the sample median is greater than $m$.\n",
    "\n",
    "Run the cell below many times just as written. Each time, count how many dots are on the right of the vertical line, and note whether or not the median is bigger than $m$. Then change $m$ and $s$ and run it again a few times, but don't go too crazy with the changes."
   ]
  },
  {
   "cell_type": "code",
   "execution_count": 19,
   "metadata": {
    "#solution": false,
    "#staff": false,
    "#student": false
   },
   "outputs": [
    {
     "name": "stdout",
     "output_type": "stream",
     "text": [
      "Sample median is not greater than m.\n"
     ]
    },
    {
     "data": {
      "image/png": "[encoded data removed]",
      "text/plain": [
       "<Figure size 432x288 with 1 Axes>"
      ]
     },
     "metadata": {},
     "output_type": "display_data"
    }
   ],
   "source": [
    "plot_sample(example_probs, 9, 3)"
   ]
  },
  {
   "cell_type": "markdown",
   "metadata": {
    "#solution": false,
    "#staff": false,
    "#student": false
   },
   "source": [
    "Fill in the blank with the appropriate phrase. You might want to go back and run the previous cell a few more times.\n",
    "\n",
    "The median of a sample of size $2n+1$ is bigger than $m$ if and only if $\\underline{~~~~~~~~~~~~~~~~}$ of the sampled elements are bigger than $m$."
   ]
  },
  {
   "cell_type": "markdown",
   "metadata": {
    "#solution": false,
    "#staff": false,
    "#student": true
   },
   "source": [
    "The median of a sample of size 2n+1 is bigger than m if and only if n+1 of the sampled elements are bigger than m. "
   ]
  },
  {
   "cell_type": "markdown",
   "metadata": {
    "#solution": false,
    "#staff": false,
    "#student": false
   },
   "source": [
    "### 1c) [On Paper] Tails of a Random Sample Median ###\n",
    "Let $s = 2n+1$. Let $X_1, X_2, \\ldots , X_s$ be i.i.d., each with possible values $0, 1, 2, \\ldots, N$ and tail probability function $T_X$. \n",
    "\n",
    "Let $M$ be the median of $X_1, X_2, \\ldots, X_s$, as defined above. \n",
    "\n",
    "**Fix an integer $m$ in the range 0 through $N$.** \n",
    "\n",
    "In **1b** you wrote the event $\\{ M > m \\}$ in terms of a random count: the number of sampled elements that are bigger than $m$. \n",
    "\n",
    "**Question 1.** When you counted the number of points to the right of the vertical line in **1b**, did you need to use the exact location of each sampled point, or was it enough just to answer a yes/no question for each point?\n",
    "\n",
    "**Question 2.** Give the random count a name: let $R_m$ be the number of sampled elements that are bigger than $m$. That is, $R_m$ is the number of points to the right of the vertical line at $m$.\n",
    "\n",
    "Fill in the blanks and **explain your answers**. The first blank should be filled with the name of a famous distribution. The second blank should contain the parameters in terms of the sample size $s$, the tail probability function $T_X$, and $m$.\n",
    "\n",
    "$R_m$ has the $\\underline{~~~~~~~~~~~~~~~~~~~~~~~~~~~~~~~~~~~~}$ distribution with parameters $\\underline{~~~~~~~~~~~~~~~~~~~~~~~~~~~~~~~~~~~~~}$.\n",
    "\n",
    "**Question 3.** Now fill in the first blank below with a math operation and an expression in terms of the sample size $s$.\n",
    "\n",
    "For every integer $m$ in the range 0 through $N$, $P(M > m) = P(R_m \\underline{~~~~~~~~~~~~~~~~~~~~~~~~~~~~~})$. \n",
    "\n",
    "Thus the tail probabilities for the sample median can be found by using the distribution in the answer to Question 2 above."
   ]
  },
  {
   "cell_type": "markdown",
   "metadata": {
    "#solution": false,
    "#staff": false,
    "#student": false
   },
   "source": [
    "#newpage"
   ]
  },
  {
   "cell_type": "markdown",
   "metadata": {
    "#solution": false,
    "#staff": false,
    "#student": false
   },
   "source": [
    "## Part 2: Tail Sum Formula for Expectation ##\n",
    "\n",
    "For $X$ with probability array $p_0, p_1, \\ldots, p_N$, the expectation is defined as\n",
    "\n",
    "$$\n",
    "E(X) ~ = ~ p_1 + 2p_2 + 3p_3 + \\cdots + Np_N\n",
    "$$\n",
    "\n",
    "For non-negative integer valued random variables, there is also an alternative formula. As you have seen, the *tail sum formula* allows you to calculate the expectation of such a random variable based on the tail probabilities alone:\n",
    "\n",
    "$$\n",
    "E(X) = T_X(0) + T_X(1) + \\cdots + T_X(N-1) + T_X(N)\n",
    "$$\n",
    "\n",
    "In the sum above, the last term $T(N)$ is 0. So you can stop the sum at $T(N-1)$, but it doesn't hurt to include $T(N)$.\n",
    "\n",
    "**The tail sum formula says that to find the expectation of a non-negative integer valued random variable, you can just add up all the tail probabilities.**\n",
    "\n",
    "**Note.** If $X$ has infinitely many possible values $0, 1, 2, 3, \\ldots$, then its expectation can be calculated as the infinite sum $E(X) = \\sum_{i=0}^\\infty T_X(i)$. But you won't need that in this lab.\n",
    "\n",
    "In this part of the lab, you will implement the tail sum formula and find the expectation of a random sample minimum."
   ]
  },
  {
   "cell_type": "markdown",
   "metadata": {
    "#solution": false,
    "#staff": false,
    "#student": false
   },
   "source": [
    "### 2a) Computing Tail Probabilities ###\n",
    "\n",
    "Let a random variable $X$ with possible values $0, 1, 2, \\ldots, N$ have probability array $p_0, p_1, \\ldots, p_N$. \n",
    "\n",
    "Define a function `tails` that takes the probability array as its argument and returns an array of values $T_X(k)$ for $0 \\le k \\le N$. Remember the word \"cumulative\" in cdf, and use `np.cumsum` appropriately."
   ]
  },
  {
   "cell_type": "code",
   "execution_count": 20,
   "metadata": {},
   "outputs": [
    {
     "data": {
      "text/plain": [
       "array([9, 5, 2])"
      ]
     },
     "execution_count": 20,
     "metadata": {},
     "output_type": "execute_result"
    }
   ],
   "source": [
    "np.cumsum(make_array(1,2,3,4)[1:])[::-1]"
   ]
  },
  {
   "cell_type": "code",
   "execution_count": 21,
   "metadata": {
    "#solution": false,
    "#staff": false,
    "#student": true
   },
   "outputs": [],
   "source": [
    "\n",
    "def tails(prob_array):\n",
    "    return 1 - np.cumsum(prob_array)"
   ]
  },
  {
   "cell_type": "markdown",
   "metadata": {
    "#solution": false,
    "#staff": false,
    "#student": false
   },
   "source": [
    "Suppose $p_0 = 0.3$, $p_1 = 0.5$, and $p_2 = 0.2$, and let `probs` be the array [0.3, 0.5, 0.2].\n",
    "\n",
    "What should `tails(probs).item(0)` and `tails(probs).item(2)` evaluate to? Check that they work out as they should."
   ]
  },
  {
   "cell_type": "code",
   "execution_count": 22,
   "metadata": {
    "#solution": false,
    "#staff": false,
    "#student": true
   },
   "outputs": [
    {
     "data": {
      "text/plain": [
       "(0.7, 0.0)"
      ]
     },
     "execution_count": 22,
     "metadata": {},
     "output_type": "execute_result"
    }
   ],
   "source": [
    "\n",
    "probs = make_array(0.3, 0.5, 0.2)\n",
    "\n",
    "tails(probs).item(0), tails(probs).item(2)"
   ]
  },
  {
   "cell_type": "markdown",
   "metadata": {
    "#solution": false,
    "#staff": false,
    "#student": false
   },
   "source": [
    "### 2b) Checking the Tail Sum Formula ###\n",
    "Let $X$ have the distribution given in the table `example_dist` from Part 1."
   ]
  },
  {
   "cell_type": "code",
   "execution_count": 33,
   "metadata": {
    "#solution": false,
    "#staff": false,
    "#student": false
   },
   "outputs": [
    {
     "data": {
      "text/html": [
       "<table border=\"1\" class=\"dataframe\">\n",
       "    <thead>\n",
       "        <tr>\n",
       "            <th>Value</th> <th>Probability</th>\n",
       "        </tr>\n",
       "    </thead>\n",
       "    <tbody>\n",
       "        <tr>\n",
       "            <td>0    </td> <td>0.05       </td>\n",
       "        </tr>\n",
       "        <tr>\n",
       "            <td>1    </td> <td>0.1        </td>\n",
       "        </tr>\n",
       "        <tr>\n",
       "            <td>2    </td> <td>0.2        </td>\n",
       "        </tr>\n",
       "        <tr>\n",
       "            <td>3    </td> <td>0.25       </td>\n",
       "        </tr>\n",
       "        <tr>\n",
       "            <td>4    </td> <td>0.15       </td>\n",
       "        </tr>\n",
       "        <tr>\n",
       "            <td>5    </td> <td>0.12       </td>\n",
       "        </tr>\n",
       "        <tr>\n",
       "            <td>6    </td> <td>0.08       </td>\n",
       "        </tr>\n",
       "        <tr>\n",
       "            <td>7    </td> <td>0.05       </td>\n",
       "        </tr>\n",
       "    </tbody>\n",
       "</table>"
      ],
      "text/plain": [
       "Value | Probability\n",
       "0     | 0.05\n",
       "1     | 0.1\n",
       "2     | 0.2\n",
       "3     | 0.25\n",
       "4     | 0.15\n",
       "5     | 0.12\n",
       "6     | 0.08\n",
       "7     | 0.05"
      ]
     },
     "execution_count": 33,
     "metadata": {},
     "output_type": "execute_result"
    }
   ],
   "source": [
    "example_dist"
   ]
  },
  {
   "cell_type": "markdown",
   "metadata": {
    "#solution": false,
    "#staff": false,
    "#student": false
   },
   "source": [
    "Remember that `example_dist` is just an ordinary Table. Write an expression that evaluates to $E(X)$, by using array operations and the original definition of expectation."
   ]
  },
  {
   "cell_type": "code",
   "execution_count": 23,
   "metadata": {
    "#solution": false,
    "#staff": false,
    "#student": true
   },
   "outputs": [
    {
     "data": {
      "text/plain": [
       "3.2800000000000002"
      ]
     },
     "execution_count": 23,
     "metadata": {},
     "output_type": "execute_result"
    }
   ],
   "source": [
    "np.sum(example_dist[0] * example_dist[1])"
   ]
  },
  {
   "cell_type": "markdown",
   "metadata": {
    "#solution": false,
    "#staff": false,
    "#student": false
   },
   "source": [
    "The probability array of $X$ is `example_probs`:"
   ]
  },
  {
   "cell_type": "code",
   "execution_count": 24,
   "metadata": {
    "#solution": false,
    "#staff": false,
    "#student": false
   },
   "outputs": [
    {
     "data": {
      "text/plain": [
       "array([0.05, 0.1 , 0.2 , 0.25, 0.15, 0.12, 0.08, 0.05])"
      ]
     },
     "execution_count": 24,
     "metadata": {},
     "output_type": "execute_result"
    }
   ],
   "source": [
    "example_probs"
   ]
  },
  {
   "cell_type": "code",
   "execution_count": 90,
   "metadata": {},
   "outputs": [
    {
     "data": {
      "text/plain": [
       "array([0.95, 0.85, 0.65, 0.4 , 0.25, 0.13, 0.05, 0.  ])"
      ]
     },
     "execution_count": 90,
     "metadata": {},
     "output_type": "execute_result"
    }
   ],
   "source": [
    "tails(example_probs)"
   ]
  },
  {
   "cell_type": "markdown",
   "metadata": {
    "#solution": false,
    "#staff": false,
    "#student": false
   },
   "source": [
    "Write an expression that evaluates to $E(X)$ by using your function `tails` and the tail sum formula. "
   ]
  },
  {
   "cell_type": "code",
   "execution_count": 25,
   "metadata": {
    "#solution": false,
    "#staff": false,
    "#student": true
   },
   "outputs": [
    {
     "data": {
      "text/plain": [
       "3.2799999999999994"
      ]
     },
     "execution_count": 25,
     "metadata": {},
     "output_type": "execute_result"
    }
   ],
   "source": [
    "sum(tails(example_probs))"
   ]
  },
  {
   "cell_type": "markdown",
   "metadata": {
    "#solution": false,
    "#staff": false,
    "#student": false
   },
   "source": [
    "### 2c) Expectation of a Random Sample Minimum ###\n",
    "Let $X_1, X_2, \\ldots, X_n$ be i.i.d. random variables and let $Y_n = \\min \\{ X_1, X_2, \\ldots , X_n \\}$ be the sample minimum. \n",
    "\n",
    "Define a function `expected_sample_min` that takes the probability array of $X_1$ as the first argument and the sample size $n$ as the second, and returns $E(Y)$. \n",
    "\n",
    "Use the function `tails` that you defined earlier in this part of the lab, the tail sum formula, as well as the formula you derived in **1a**."
   ]
  },
  {
   "cell_type": "code",
   "execution_count": 26,
   "metadata": {
    "#solution": false,
    "#staff": false,
    "#student": true
   },
   "outputs": [],
   "source": [
    "\n",
    "def expected_sample_min(prob_array, n):\n",
    "    return np.sum(tails(prob_array)**n)"
   ]
  },
  {
   "cell_type": "markdown",
   "metadata": {
    "#solution": false,
    "#staff": false,
    "#student": false
   },
   "source": [
    "To check if your function works, let $X_1$ and $X_2$ be i.i.d. uniform on 0, 1, and 2, and let $Y = \\min(X_1, X_2)$. Use the lines of the cell below to compute the distribution of $Y$ without using tails. Just enumerate all the outcomes and hence find $E(Y)$ by applying the original definition. The last line of code should evaluate to $E(Y)$."
   ]
  },
  {
   "cell_type": "code",
   "execution_count": 27,
   "metadata": {
    "#solution": false,
    "#staff": false,
    "#student": true
   },
   "outputs": [
    {
     "data": {
      "text/plain": [
       "0.5555555555555556"
      ]
     },
     "execution_count": 27,
     "metadata": {},
     "output_type": "execute_result"
    }
   ],
   "source": [
    "\n",
    "# P(Y = 0)\n",
    "# 00, 01, 02, 10, 20\n",
    "p_y_0 = 5 / 9\n",
    "\n",
    "# P(Y = 1)\n",
    "# 11, 12, 21\n",
    "p_y_1 = 3 / 9\n",
    "\n",
    "# P(Y = 2)\n",
    "# 22\n",
    "p_y_2 = 1/ 9 \n",
    "\n",
    "# E(Y)\n",
    "0 * 5 / 9 + 1 * 3 / 9 + 2 * 1 / 9"
   ]
  },
  {
   "cell_type": "markdown",
   "metadata": {
    "#solution": false,
    "#staff": false,
    "#student": false
   },
   "source": [
    "Now check that your function works. Start by defining the probability array you need as the first argument. The last line of code should evaluate to the answer you got above."
   ]
  },
  {
   "cell_type": "code",
   "execution_count": 28,
   "metadata": {
    "#solution": false,
    "#staff": false,
    "#student": true
   },
   "outputs": [
    {
     "data": {
      "text/plain": [
       "0.5555555555555557"
      ]
     },
     "execution_count": 28,
     "metadata": {},
     "output_type": "execute_result"
    }
   ],
   "source": [
    "\n",
    "probs = (1/3) * np.ones(3)\n",
    "expected_sample_min(probs, 2)"
   ]
  },
  {
   "cell_type": "markdown",
   "metadata": {
    "#solution": false,
    "#staff": false,
    "#student": false
   },
   "source": [
    "### 2d) Expected Minimum Household Size in Sample ###\n",
    "\n",
    "The website Statista provides the [distributions of household sizes](https://www.statista.com/statistics/242189/disitribution-of-households-in-the-us-by-household-size/) in the United States, for various years. Go to the website and notice their choice of stacked bars representing the proportions of households of different sizes. If you hover your cursor over one of the stacks, you can see the percents in that stack. Notice also:\n",
    "- No household has 0 members, so the bottom bar (blue) represents households with one member.\n",
    "- The distributions have been *truncated* at 7. That is, the last category of sizes is \"7 or more\". This truncation could markedly affect the calculation of average household size, so we won't do that. However, it will have little effect on the minimum household size in the sample and on the sample median. \n",
    "\n",
    "Let's start with the 2018 distribution. We'll call the final category \"7 persons\", not \"7 or more\". So everything we do using these proportions will be an approximation, not an exact value.\n",
    "\n",
    "First, run the cells below for some cleanup to compensate for the fact that the proportions provided don't quite add up to 1. The array `hh_size_2018` is the household size probability array for 2018: there are no households with 0 members, roughly 28% with 1 member, and so on. We have just normalized Statista's proportions by the total and rounded the results."
   ]
  },
  {
   "cell_type": "code",
   "execution_count": 29,
   "metadata": {
    "#solution": false,
    "#staff": false,
    "#student": false
   },
   "outputs": [
    {
     "data": {
      "text/plain": [
       "array([0.     , 0.28013, 0.34523, 0.15152, 0.12911, 0.05831, 0.0223 ,\n",
       "       0.0134 ])"
      ]
     },
     "execution_count": 29,
     "metadata": {},
     "output_type": "execute_result"
    }
   ],
   "source": [
    "statista = make_array(0.2801, 0.3452, 0.1515, 0.1291, 0.0583, 0.0223, 0.0134)\n",
    "hh_size_2018 = np.append(0, statista)\n",
    "hh_size_2018 = np.round(hh_size_2018/sum(hh_size_2018), 5)\n",
    "hh_size_2018"
   ]
  },
  {
   "cell_type": "code",
   "execution_count": 30,
   "metadata": {
    "#solution": false,
    "#staff": false,
    "#student": false
   },
   "outputs": [
    {
     "data": {
      "text/plain": [
       "0.9999999999999998"
      ]
     },
     "execution_count": 30,
     "metadata": {},
     "output_type": "execute_result"
    }
   ],
   "source": [
    "sum(hh_size_2018)"
   ]
  },
  {
   "cell_type": "markdown",
   "metadata": {
    "#solution": false,
    "#staff": false,
    "#student": false
   },
   "source": [
    "Use your function `expected_sample_min` to write one line of code that evaluates to the expected minimum household size in a random sample of 100 households from 2018."
   ]
  },
  {
   "cell_type": "code",
   "execution_count": 42,
   "metadata": {
    "#solution": false,
    "#staff": false,
    "#student": true
   },
   "outputs": [
    {
     "data": {
      "text/plain": [
       "1.0000000000000053"
      ]
     },
     "execution_count": 42,
     "metadata": {},
     "output_type": "execute_result"
    }
   ],
   "source": [
    "expected_sample_min(hh_size_2018, 100)"
   ]
  },
  {
   "cell_type": "markdown",
   "metadata": {
    "#solution": false,
    "#staff": false,
    "#student": false
   },
   "source": [
    "Does the answer make intuitive sense? Explain."
   ]
  },
  {
   "cell_type": "markdown",
   "metadata": {
    "#solution": false,
    "#staff": false,
    "#student": true
   },
   "source": [
    "Yes, for any sample that has a household with 1 person, the minimum of that sample would be one. Also, more than one quarter of the population is households with 1 person. So there is a high chance of selecting a household with 1 person when sampling 100 households. Hence it makes intuitive sense that our expected minimum is 1. "
   ]
  },
  {
   "cell_type": "markdown",
   "metadata": {
    "#solution": false,
    "#staff": false,
    "#student": false
   },
   "source": [
    "#newpage"
   ]
  },
  {
   "cell_type": "markdown",
   "metadata": {
    "#solution": false,
    "#staff": false,
    "#student": false
   },
   "source": [
    "## Part 3: Computing the Expected Sample Median ##"
   ]
  },
  {
   "cell_type": "markdown",
   "metadata": {
    "#solution": false,
    "#staff": false,
    "#student": false
   },
   "source": [
    "The goal of this part is to write a function that computes the expectation of a random sample median using the formula you derived in Part 1. \n",
    "\n",
    "For this, it will help to have two computational preliminaries."
   ]
  },
  {
   "cell_type": "markdown",
   "metadata": {
    "#solution": false,
    "#staff": false,
    "#student": false
   },
   "source": [
    "### 3a) Odd or Even? ###\n",
    "The Python operator `%` operates on two numbers `a` and `b` where `b` is non-zero, and returns the remainder after `a` is divided by `b`. The expression\n",
    "\n",
    "`a % b`\n",
    "\n",
    "evaluates to the remainder of `a` divided by `b`.\n",
    "\n",
    "For example, the remainder of 14 divided by 4 is 2, because $14 = (4*3) + 2$."
   ]
  },
  {
   "cell_type": "code",
   "execution_count": 4,
   "metadata": {
    "#solution": false,
    "#staff": false,
    "#student": false
   },
   "outputs": [
    {
     "data": {
      "text/plain": [
       "2"
      ]
     },
     "execution_count": 4,
     "metadata": {},
     "output_type": "execute_result"
    }
   ],
   "source": [
    "14 % 4"
   ]
  },
  {
   "cell_type": "markdown",
   "metadata": {
    "#solution": false,
    "#staff": false,
    "#student": false
   },
   "source": [
    "Use `%` to define a function `is_odd` that takes non-negative integer as its argument and returns `True` if the argument is odd and `False` otherwise."
   ]
  },
  {
   "cell_type": "code",
   "execution_count": 5,
   "metadata": {
    "#solution": false,
    "#staff": false,
    "#student": true
   },
   "outputs": [],
   "source": [
    "\n",
    "def is_odd(n):\n",
    "    if n % 2 == 0:\n",
    "        return False\n",
    "    else:\n",
    "        return True"
   ]
  },
  {
   "cell_type": "markdown",
   "metadata": {
    "#solution": false,
    "#staff": false,
    "#student": false
   },
   "source": [
    "### 3b) Binomial CDF and Tails ###\n",
    "Let $n$ and $k$ be integers such that $0 \\le k \\le n$, and let $p \\in (0, 1)$.\n",
    "\n",
    "You know that `stats.binom.pmf(k, n, p)` evaluates to $\\binom{n}{k} p^k (1-p)^{n-k}$, the probability mass of the binomial $(n, p)$ distribution at the value $k$.\n",
    "\n",
    "Also, `stats.binom.cdf(k, n, p)` evaluates to the cumulative distribution function (cdf) of the binomial $(n, p)$ distribution, evaluated at $k$. That is, it evaluates to $P(W \\le k)$ where $W$ has the binomial $(n, p)$ distribution.\n",
    "\n",
    "That's the chance of at most $k$ successes in $n$ independent repeated trials with chance $p$ of success on each trial.\n",
    "\n",
    "As a numerical example, let $W$ have the binomial $(100, 0.7)$ distribution. Use `stats.binom.cdf` to write an expression that evaluates to the tail probability $P(W > 75)$."
   ]
  },
  {
   "cell_type": "code",
   "execution_count": 6,
   "metadata": {
    "#solution": false,
    "#staff": false,
    "#student": true
   },
   "outputs": [
    {
     "data": {
      "text/plain": [
       "0.11357018170418143"
      ]
     },
     "execution_count": 6,
     "metadata": {},
     "output_type": "execute_result"
    }
   ],
   "source": [
    "1 - (stats.binom.cdf(75, 100, 0.7))"
   ]
  },
  {
   "cell_type": "markdown",
   "metadata": {
    "#solution": false,
    "#staff": false,
    "#student": false
   },
   "source": [
    "To get the cdf of the binomial $(n, p)$ distribution at an array `x` of possible values, use `stats.binom.cdf(x, n, p)`.\n",
    "\n",
    "For example, here is the cdf of the binomial (100, 0.5) distribution evaluated at the points 45, 50, and 55."
   ]
  },
  {
   "cell_type": "code",
   "execution_count": 7,
   "metadata": {
    "#solution": false,
    "#staff": false,
    "#student": false
   },
   "outputs": [
    {
     "data": {
      "text/plain": [
       "array([0.18410081, 0.53979462, 0.86437349])"
      ]
     },
     "execution_count": 7,
     "metadata": {},
     "output_type": "execute_result"
    }
   ],
   "source": [
    "stats.binom.cdf(make_array(45, 50, 55), 100, 0.5)"
   ]
  },
  {
   "cell_type": "markdown",
   "metadata": {
    "#solution": false,
    "#staff": false,
    "#student": false
   },
   "source": [
    "When you use `stats.binom` methods, you can replace other arguments by arrays too. For example, suppose you have three biased coins that land heads with chance 0.2, 0.3, and 0.4, and for each of them you want the chance of getting 4 heads in 7 tosses. The expression in the cell below evaluates to an array containing the three chances."
   ]
  },
  {
   "cell_type": "code",
   "execution_count": 8,
   "metadata": {
    "#solution": false,
    "#staff": false,
    "#student": false
   },
   "outputs": [
    {
     "data": {
      "text/plain": [
       "array([0.028672 , 0.0972405, 0.193536 ])"
      ]
     },
     "execution_count": 8,
     "metadata": {},
     "output_type": "execute_result"
    }
   ],
   "source": [
    "stats.binom.pmf(4, 7, make_array(0.2, 0.3, 0.4))"
   ]
  },
  {
   "cell_type": "markdown",
   "metadata": {
    "#solution": false,
    "#staff": false,
    "#student": false
   },
   "source": [
    "I have 9 coins. For each $i$ in the range 1 through 9, Coin $i$ lands heads with chance $p_i = i/10$. Write an expression that evaluates to an array consisting of the following tail probabilities:\n",
    "\n",
    "$$\n",
    "P(\\text{more than 3 heads in 8 tosses of Coin } i), ~~~ i = 1, 2, 3, \\ldots, 9\n",
    "$$"
   ]
  },
  {
   "cell_type": "code",
   "execution_count": 11,
   "metadata": {
    "#solution": false,
    "#staff": false,
    "#student": true
   },
   "outputs": [
    {
     "data": {
      "text/plain": [
       "array([0.00502435, 0.0562816 , 0.19410435, 0.4059136 , 0.63671875,\n",
       "       0.8263296 , 0.94203235, 0.9895936 , 0.99956835])"
      ]
     },
     "execution_count": 11,
     "metadata": {},
     "output_type": "execute_result"
    }
   ],
   "source": [
    "1 - stats.binom.cdf(3, 8, np.arange(1, 10, 1) / 10)"
   ]
  },
  {
   "cell_type": "markdown",
   "metadata": {
    "#solution": false,
    "#staff": false,
    "#student": false
   },
   "source": [
    "### 3c) Expectation of the Sample Median ###\n",
    "You are now ready to compute the expectation of a random sample median.\n",
    "\n",
    "Define a function `expected_sample_median` that takes as its arguments a probability array of the form $[p_0, p_1, \\ldots, p_N]$ and a sample size, and returns:\n",
    "- the string `'For this calculation, the sample size has to be an odd number.'` if the sample size is even\n",
    "- the expectation of the median of an i.i.d. sample of the given size from the given array, if the sample size is odd\n",
    "\n",
    "You will need:\n",
    "\n",
    "- The tail sum formula\n",
    "- Your answers to **1c**\n",
    "- The computational preliminaries **3a** and **3b**"
   ]
  },
  {
   "cell_type": "code",
   "execution_count": 76,
   "metadata": {
    "#solution": false,
    "#staff": false,
    "#student": true
   },
   "outputs": [],
   "source": [
    "\n",
    "def expected_sample_median(prob_array, s):\n",
    "    if not(is_odd(s)):\n",
    "        return 'For this calculation, the sample size has to be an odd number'\n",
    "    else:\n",
    "        return sum(1 - stats.binom.cdf((s - 1) / 2, s, tails(prob_array)))"
   ]
  },
  {
   "cell_type": "markdown",
   "metadata": {
    "#solution": false,
    "#staff": false,
    "#student": false
   },
   "source": [
    "Run the cell below to confirm that your function is doing the right thing. It uses the probability array `example_probs` from Part 1."
   ]
  },
  {
   "cell_type": "code",
   "execution_count": 77,
   "metadata": {
    "#solution": false,
    "#staff": false,
    "#student": false
   },
   "outputs": [
    {
     "data": {
      "text/plain": [
       "'For this calculation, the sample size has to be an odd number'"
      ]
     },
     "execution_count": 77,
     "metadata": {},
     "output_type": "execute_result"
    }
   ],
   "source": [
    "expected_sample_median(example_probs, 10)"
   ]
  },
  {
   "cell_type": "markdown",
   "metadata": {
    "#solution": false,
    "#staff": false,
    "#student": false
   },
   "source": [
    "You can also check an edge case.\n",
    "\n",
    "If the sample size is 1, then there's just one value $X_1$ in the sample, and that's the median. So if the sample size is 1 then $M = X_1$ and hence $E(M) = E(X_1)$. \n",
    "\n",
    "Check that your function does the right thing in the cell below. The value you should get is in **2b**."
   ]
  },
  {
   "cell_type": "code",
   "execution_count": 79,
   "metadata": {
    "#solution": false,
    "#staff": false,
    "#student": false
   },
   "outputs": [
    {
     "data": {
      "text/plain": [
       "3.2799999999999994"
      ]
     },
     "execution_count": 79,
     "metadata": {},
     "output_type": "execute_result"
    }
   ],
   "source": [
    "expected_sample_median(example_probs, 1)"
   ]
  },
  {
   "cell_type": "markdown",
   "metadata": {
    "#solution": false,
    "#staff": false,
    "#student": false
   },
   "source": [
    "### 3d) Expected Sample Median Household Size ###\n",
    "\n",
    "In the cell below we have created `hh_size_1970`, the probability array of the size of one household drawn at random from US households in 1970. As before, the data are from [Statista](https://www.statista.com/statistics/242189/disitribution-of-households-in-the-us-by-household-size/)."
   ]
  },
  {
   "cell_type": "code",
   "execution_count": 80,
   "metadata": {
    "#solution": false,
    "#staff": false,
    "#student": false
   },
   "outputs": [],
   "source": [
    "hh_size_1970 = np.append(0, make_array(.17, .29, .17, .16, .1, .06, .05))"
   ]
  },
  {
   "cell_type": "markdown",
   "metadata": {
    "#solution": false,
    "#staff": false,
    "#student": false
   },
   "source": [
    "Find the expectation of the median household size in a random sample of 25 households taken in 1970."
   ]
  },
  {
   "cell_type": "code",
   "execution_count": 81,
   "metadata": {
    "#solution": false,
    "#staff": false,
    "#student": true
   },
   "outputs": [
    {
     "data": {
      "text/plain": [
       "2.748427150540532"
      ]
     },
     "execution_count": 81,
     "metadata": {},
     "output_type": "execute_result"
    }
   ],
   "source": [
    "expected_sample_median(hh_size_1970, 25)"
   ]
  },
  {
   "cell_type": "markdown",
   "metadata": {
    "#solution": false,
    "#staff": false,
    "#student": false
   },
   "source": [
    "Do the same for a random sample of 25 households in 2018."
   ]
  },
  {
   "cell_type": "code",
   "execution_count": 82,
   "metadata": {
    "#solution": false,
    "#staff": false,
    "#student": true
   },
   "outputs": [
    {
     "data": {
      "text/plain": [
       "2.090584584181977"
      ]
     },
     "execution_count": 82,
     "metadata": {},
     "output_type": "execute_result"
    }
   ],
   "source": [
    "expected_sample_median(hh_size_2018, 25)"
   ]
  },
  {
   "cell_type": "markdown",
   "metadata": {
    "#solution": false,
    "#staff": false,
    "#student": false
   },
   "source": [
    "### 3e) Change Over Time ###\n",
    "Look at [the graphs](https://www.statista.com/statistics/242189/disitribution-of-households-in-the-us-by-household-size/) again. The distribution of household size in the US has been changing over the decades.\n",
    "\n",
    "Fill in the blanks with numbers, and explain your reasoning:\n",
    "\n",
    "As the sample size increases, the expected median household size in the sample from 1970 will get closer to $\\underline{~~~~~~~~~~~~~~~~~~}$ and the expected median household size in the sample from 2017 will get closer to $\\underline{~~~~~~~~~~~~~~~~~~}$."
   ]
  },
  {
   "cell_type": "markdown",
   "metadata": {
    "#solution": false,
    "#staff": false,
    "#student": true
   },
   "source": [
    "As sample size increase, the sample distribution will be similar to the actual population distribution. Hence, the sample median will get closer to the population median. From the graph, looking at the 50% point of 1970, it lies between the household of 3 people, and for 2017 the 50% point lies between household of 2 people.\n",
    "\n",
    "Hence, as the sample size increase, the expected median household size in the sample from 1970 will get closer to 3 and the expected median household size in the sample from 2017 will get close to 2. "
   ]
  },
  {
   "cell_type": "markdown",
   "metadata": {
    "#solution": false,
    "#staff": false,
    "#student": false
   },
   "source": [
    "Check that your answers above are consistent with the computed expected sample medians. In the cell below, enter two expressions. The first should evaluate to the expected median household size in a random sample of size 1001 in 1970, and the second should evaluate to the expected median household size in a random sample of size 1001 in 2018."
   ]
  },
  {
   "cell_type": "code",
   "execution_count": 83,
   "metadata": {
    "#solution": false,
    "#staff": false,
    "#student": true
   },
   "outputs": [
    {
     "data": {
      "text/plain": [
       "(2.9943902064871137, 2.0000000000000004)"
      ]
     },
     "execution_count": 83,
     "metadata": {},
     "output_type": "execute_result"
    }
   ],
   "source": [
    "\n",
    "expected_sample_median(hh_size_1970, 1001) , expected_sample_median(hh_size_2018, 1001)"
   ]
  },
  {
   "cell_type": "markdown",
   "metadata": {
    "#solution": false,
    "#staff": false,
    "#student": false
   },
   "source": [
    "## Part 4: Extra Credit ##\n",
    "\n",
    "**You are not required to turn in this exercise, but if you do turn it in then it should be your own unaided work. Please don't consult anyone else. Course staff won't help with this one; sorry.**\n",
    "\n",
    "You can find the expectations of other sample percentiles by suitably modifying the calculations you have done for the median.\n",
    "\n",
    "Let $x$ be an *integer* in the range 0 through 100. Here is a rough way to define the $x$th percentile of a list of $s$ numbers, assuming that $x$% of $s$ is an integer.\n",
    "\n",
    "- Sort the numbers in increasing order.\n",
    "- Take the number at position $\\frac{x}{100}s$ from the bottom of the sorted list.\n",
    "\n",
    "Thus for example if a list has 10 numbers and has been sorted in increasing order, then the first value (the minimum) is the 10th percentile, the next value is the 20th percentile, and so on. For this list, our rough definition doesn't extend to any other percentiles.\n",
    "\n",
    "Data 8 has a much more careful definition of percentiles, but this one will do for now.\n",
    "\n",
    "Define a function `expected_sample_percentile` that takes as its arguments the percentile rank $x$, the sample size $s$, and a probability array, and returns the expectation of the $x$th percentile of an i.i.d. sample of size $s$ drawn from the distribution specified by the probability array.\n",
    "\n",
    "Notes:\n",
    "- You can only write one expression to complete the `return` statement. You cannot add other lines of code. \n",
    "- Your expression should use your function `tails` as well as `stats.binom.cdf`.\n",
    "- As you have done throughout this lab, you can assume that the probability array is of the form $p_0, p_1, \\ldots, p_N$. \n",
    "- Don't worry about whether or not inequalities should be strict; just do a reasonable calculation."
   ]
  },
  {
   "cell_type": "code",
   "execution_count": 95,
   "metadata": {
    "#solution": false,
    "#staff": false,
    "#student": true
   },
   "outputs": [],
   "source": [
    "\n",
    "def expected_sample_percentile(x, s, prob_array):\n",
    "    return sum(1 - stats.binom.cdf(s - (x / 100 * s - 1), s, tails(prob_array)))"
   ]
  },
  {
   "cell_type": "markdown",
   "metadata": {
    "#solution": false,
    "#staff": false,
    "#student": false
   },
   "source": [
    "Run the two cells below to demonstrate that your function is giving reasonable answers."
   ]
  },
  {
   "cell_type": "code",
   "execution_count": 96,
   "metadata": {
    "#solution": false,
    "#staff": false,
    "#student": true
   },
   "outputs": [
    {
     "data": {
      "text/plain": [
       "(2.992648329243856, 2.0)"
      ]
     },
     "execution_count": 96,
     "metadata": {},
     "output_type": "execute_result"
    }
   ],
   "source": [
    "\n",
    "# Sample size 1000\n",
    "# Compare with 3e\n",
    "\n",
    "med_1970 = expected_sample_percentile(50, 1000, hh_size_1970)\n",
    "med_2018 = expected_sample_percentile(50, 1000, hh_size_2018)\n",
    "\n",
    "med_1970, med_2018"
   ]
  },
  {
   "cell_type": "code",
   "execution_count": 97,
   "metadata": {
    "#solution": false,
    "#staff": false,
    "#student": true
   },
   "outputs": [
    {
     "data": {
      "text/plain": [
       "(1.012246262958708, 2.0, 3.0165160320899727)"
      ]
     },
     "execution_count": 97,
     "metadata": {},
     "output_type": "execute_result"
    }
   ],
   "source": [
    "\n",
    "# Sample size 1000\n",
    "\n",
    "exp_25 = expected_sample_percentile(25, 1000, hh_size_2018)\n",
    "exp_50 = expected_sample_percentile(50, 1000, hh_size_2018)\n",
    "exp_75 = expected_sample_percentile(75, 1000, hh_size_2018)\n",
    "\n",
    "exp_25, exp_50, exp_75"
   ]
  },
  {
   "cell_type": "markdown",
   "metadata": {
    "#solution": false,
    "#staff": false,
    "#student": false
   },
   "source": [
    "Once you are confident that your function is working, here are numbers that are less easy to guess."
   ]
  },
  {
   "cell_type": "code",
   "execution_count": 98,
   "metadata": {
    "#solution": false,
    "#staff": false,
    "#student": true
   },
   "outputs": [
    {
     "data": {
      "text/plain": [
       "(3.1692282047777502, 2.201495945243276)"
      ]
     },
     "execution_count": 98,
     "metadata": {},
     "output_type": "execute_result"
    }
   ],
   "source": [
    "\n",
    "# Sample size 100\n",
    "\n",
    "exp_60_1970 = expected_sample_percentile(60, 100, hh_size_1970)\n",
    "exp_60_2018 = expected_sample_percentile(60, 100, hh_size_2018)\n",
    "\n",
    "exp_60_1970, exp_60_2018"
   ]
  },
  {
   "cell_type": "markdown",
   "metadata": {
    "#solution": false,
    "#staff": false,
    "#student": false
   },
   "source": [
    "## Conclusion ##\n",
    "What you have learned in this lab:\n",
    "\n",
    "- The use of the tail sum formula in finding the expectations of non-negative integer valued random variables\n",
    "- Some properties of *discrete order statistics*, that is, sorted values in random samples\n",
    "- How to find the expectation of the minimum of an i.i.d. sample from a population of non-negative integers\n",
    "- A duality between the tail of the median of an i.i.d. sample and the tail of a well known distribution\n",
    "- The use of this duality and the tail sum formula in finding the expectation of the median of an i.i.d. sample\n",
    "\n",
    "That's pretty impressive after just three weeks of class! Congratulations."
   ]
  },
  {
   "cell_type": "markdown",
   "metadata": {
    "#solution": false,
    "#staff": false,
    "#student": false
   },
   "source": [
    "## Submission Instructions ##\n",
    "\n",
    "Many assignments throughout the course will have a written portion and a code portion. Please follow the directions below to properly submit both portions.\n",
    "\n",
    "### Written Portion ###\n",
    "*  Scan all the pages into a PDF. You can use any scanner or a phone using applications such as CamScanner. Please **DO NOT** simply take pictures using your phone. \n",
    "* Please start a new page for each question. If you have already written multiple questions on the same page, you can crop the image in CamScanner or fold your page over (the old-fashioned way). This helps expedite grading.\n",
    "* It is your responsibility to check that all the work on all the scanned pages is legible.\n",
    "\n",
    "### Code Portion ###\n",
    "* Save your notebook using File > Save and Checkpoint.\n",
    "* Run the cell below to generate a PDF file.\n",
    "* Download the PDF file and confirm that none of your work is missing or cut off.  If the link leads you to a blank page, use [Command]+[S] or [Ctrl]+[S] to download your work.   \n",
    "\n",
    "### Submitting ###\n",
    "* Combine the PDFs from the written and code portions into one PDF.  [Here](https://smallpdf.com/merge-pdf) is a useful tool for doing so.  \n",
    "* Submit the assignment to Lab3 on Gradescope. \n",
    "* **Make sure to assign each page of your pdf to the correct question.**\n",
    "\n",
    "\n",
    "\n",
    "### **We will not grade assignments which do not have pages selected for each question or were submitted after the deadline.** "
   ]
  },
  {
   "cell_type": "code",
   "execution_count": 5,
   "metadata": {
    "#solution": false,
    "#staff": false,
    "#student": false
   },
   "outputs": [
    {
     "name": "stdout",
     "output_type": "stream",
     "text": [
      "Processing Lab_03.ipynb\n",
      "Generated notebook and autograded\n",
      "Attempting to compile LaTeX\n",
      "Finished generating PDF\n"
     ]
    },
    {
     "data": {
      "text/html": [
       "<h1><a href=\"Lab_03_submission.pdf\" download> Download this and submit to gradescope!</a></h1>"
      ],
      "text/plain": [
       "<IPython.core.display.HTML object>"
      ]
     },
     "metadata": {},
     "output_type": "display_data"
    }
   ],
   "source": [
    "import gsExport\n",
    "gsExport.generateSubmission(\"Lab_03.ipynb\")"
   ]
  },
  {
   "cell_type": "code",
   "execution_count": null,
   "metadata": {},
   "outputs": [],
   "source": []
  }
 ],
 "metadata": {
  "anaconda-cloud": {},
  "checksums": [
   "36d6125272e38841d377985b31e7a672",
   "dac4a6f7e2e1fa805df5a356fb3e276a",
   "37c843d8f59f4eaf13adb53f3b3bef71",
   "3a4ab55a15133fdfce700c9ecae1d178",
   "1bf270d812ba10f34a34dc2021a3b93e",
   "5c4371d40f014c852e110f08d0388e63",
   "518c84f8a1f148dbd174743a2ce02a06",
   "da9aadcc9c6fb3e171aa9f285dca7030",
   "16c07873c7f98e919e1a34946724d885",
   "f7c47ce74811d600ea3163795dede9e1",
   "5fc914c43d38502599e1d405ba6c17ec",
   "727160bbc8227b3c851f4b3022f680cc",
   "508dda2fbf13b3eb58478e397e2a02d6",
   "608b224e66612121be82aa68cf0d95d4",
   "2292eee24d9562a8543b8fd7f080ada0",
   "a1be479a65deebf317183edc202a4796",
   "fde1fb54eedd0336b54264449b8d3fe2",
   "c563d1241e195bb256bd05de8a684d74",
   "64dc8292d36428d4744bb9837b6c9144",
   "0de20b93bb878d597e59213991465648",
   "70d8810f71b98b995f8789e7557f393c",
   "640061103a186fd26f59746dd4d6de57",
   "ebe540cb1ff2b66834edbc45951ce35c",
   "72e8435462278bfef5a8c41ed581dfaf",
   "6362fc532ed0742cad01fbcc8230c408",
   "39c31928ab6022aabda8f545731d86b9",
   "dd5f60afd48a3601faf95757dbb81b8f",
   "749a4ce9bb79a7cdf77f8e6d673c169a",
   "33777851126cae82cdb92c246f9f046b",
   "8f25f689d80c24b82aa39da3d59c7d2d",
   "2f43b42fd833d1e77420a8dae7419000",
   "9fcf5b000f06f229d5863753ca2e976f",
   "a1be479a65deebf317183edc202a4796",
   "40ea07908ffe75becb9ea74f37d4dcd9",
   "2f43b42fd833d1e77420a8dae7419000",
   "4360e800103101d2af05fdcd0c863724",
   "4eacd7b1cfc87d1c3066f79922444ddc",
   "1c9ac747c2b5b5d96b9b9b71282fe31b",
   "d208083ecbd8926bac08830cce2e00e8",
   "399d8193a90bcce497410c578bed1d91",
   "a2c3ca890f6c993e8bbae32c3bfe192a",
   "562a606d6ee791835d3f2fa3131be01b",
   "7fb64e3c7fd56b6542958f5ea3dd43ed",
   "a4d1449603d193245b5d8c5f333adfed",
   "bea2866cfaa2cd1cdf8fcca3c8946697",
   "2f43b42fd833d1e77420a8dae7419000",
   "c81442eab0218751dbe99e59016b5a1f",
   "3a76d7cce4e9ecdb4fe70737e7879960",
   "640061103a186fd26f59746dd4d6de57",
   "155ec7b5d6822fabcbfcad2b96c2ab26",
   "e0aa0fe6fb8cbd4a3d81c074523e6d38",
   "6c3602f8e5e77ae9c4e2019b787a1cf8",
   "6f79dd8d0e07950362cff1aa0d2e0f34",
   "e3b4632507a480b52d8f9010509f9eee",
   "bf4a2fd2f2eed51537915be382506401",
   "d87e948707810cd5bef9bf358a089571",
   "2f43b42fd833d1e77420a8dae7419000",
   "da2793bdb400bf2d3bffb09b0df55ecb",
   "29a2276ddee329893a0d14fc6824f719",
   "772dd843913c7046572bef0752ea8d6c",
   "f2280a0712cbd476e5f900bba7958df0",
   "3bb83a66d94a2ee73ee9cd805a12bcf0",
   "2f43b42fd833d1e77420a8dae7419000",
   "ce366d54317f5ef015c5afcef50852a9",
   "ebb176b8681219f6e6f1fac3ece6a9ac",
   "9c550a36363de05521026671145b8aa8",
   "30dc467d667e3267ac6317746e028b6a",
   "eab9a8218f131dcfe8a39f2b435fcc49",
   "110c39b64ac6cc1350427ddbee3eac39",
   "fc91a8b650d2a059334a3e93eece6cf5",
   "4055baeb9be3af626e71b30869a6a678",
   "fef914b7e6c0640044d070b9318dba56",
   "2f43b42fd833d1e77420a8dae7419000",
   "f24e70b65869ce704f39b46f4dea7396",
   "2f43b42fd833d1e77420a8dae7419000",
   "a154c4256c6d47b41618da21a717c00d",
   "3a76d7cce4e9ecdb4fe70737e7879960",
   "997cea70e0e92ac58801aa1928d7292e",
   "71820c7fcbe0d184734ab39d9453e36a",
   "0b825bb901292e4972f3b02a9caf3f86",
   "046970cb6b4a9338af9bddca6ab0a5e2",
   "a1794d00f698b65c763358abdefb0d08",
   "2641b5d302569c60b0504d90cde149fd",
   "e071608ab34cd3657ef11730d44182dd",
   "f56573fa3ba744e6fc7ee06b37d5035e",
   "52f740539af1d09bc36f9dced7470b5e",
   "097d74a96aa3d13d0ceac193beeb8188",
   "cb2e81ea4bb1309c16a60fd7e5ef11f1",
   "a17335dbd6d738f9691328c02a7393cc"
  ],
  "kernelspec": {
   "display_name": "Python 3",
   "language": "python",
   "name": "python3"
  },
  "language_info": {
   "codemirror_mode": {
    "name": "ipython",
    "version": 3
   },
   "file_extension": ".py",
   "mimetype": "text/x-python",
   "name": "python",
   "nbconvert_exporter": "python",
   "pygments_lexer": "ipython3",
   "version": "3.6.7"
  },
  "number_of_pagebreaks": 2
 },
 "nbformat": 4,
 "nbformat_minor": 1
}
