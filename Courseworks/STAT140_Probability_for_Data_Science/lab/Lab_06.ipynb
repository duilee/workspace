{
 "cells": [
  {
   "cell_type": "markdown",
   "metadata": {},
   "source": [
    "<table align=\"left\" style=\"border-style: hidden\" class=\"table\"> <tr><td class=\"col-md-2\"><img style=\"float\" src=\"http://prob140.org/assets/icon256.png\" alt=\"Prob140 Logo\" style=\"width: 120px;\"/></td><td><div align=\"left\"><h3 style=\"margin-top: 0;\">Probability for Data Science</h3><h4 style=\"margin-top: 20px;\">UC Berkeley, Spring 2019</h4><p>Ani Adhikari and Jim Pitman</p>CC BY-NC 4.0</div></td></tr></table><!-- not in pdf -->"
   ]
  },
  {
   "cell_type": "code",
   "execution_count": 43,
   "metadata": {
    "#solution": false,
    "#staff": false,
    "#student": false
   },
   "outputs": [],
   "source": [
    "from prob140 import *\n",
    "from datascience import *\n",
    "import numpy as np\n",
    "from scipy import stats\n",
    "from scipy import special\n",
    "from itertools import combinations\n",
    "\n",
    "import matplotlib.pyplot as plt\n",
    "%matplotlib inline\n",
    "import matplotlib\n",
    "matplotlib.style.use('fivethirtyeight')"
   ]
  },
  {
   "cell_type": "markdown",
   "metadata": {
    "#solution": false,
    "#staff": false,
    "#student": false
   },
   "source": [
    "# Lab 6: Decisions Based on Ranks #"
   ]
  },
  {
   "cell_type": "markdown",
   "metadata": {
    "#solution": false,
    "#staff": false,
    "#student": false
   },
   "source": [
    "In Data 8 you developed ways to decide whether two numerical samples come from the same underlying distribution. One approach was to combine the two samples and observe that if the samples were drawn from the same distribution, then each one should look like random draws from the combined sample.\n",
    "\n",
    "In this lab you will study a variation of this approach that is useful when you are trying to decide between the following hypotheses about one of the samples. \n",
    "- **Null**: The sample looks like a simple random sample drawn from the combined data.\n",
    "- **Alternative**: The data in the sample are in general smaller than the data in the other sample.\n",
    "\n",
    "Suppose there are $n$ elements in your sample and $m$ elements in the other sample. Let $N = n+m$ denote the size of the combined sample. The method is based on *ranking* all $N$ elements of the combined sample with the convention that Rank 1 is the smallest and Rank $N$ the largest. \n",
    "\n",
    "For now, set aside details such as how to rank elements that are equal. Focus on the main idea:\n",
    "- If the data in your sample look like a simple random sample from the combined data, then the ranks in your sample should look like a simple random sample of size $n$ drawn from $\\{1, 2, 3, \\ldots, N\\}$.\n",
    "- If the data in your sample are in general smaller than the data in the other sample, then the ranks in your sample should in general be lower than a simple random sample of ranks.\n",
    "\n",
    "So the method compares the ranks in your sample with a simple random sample drawn from the first $N$ integers. \n",
    "\n",
    "If it seems as though this throws away the data and just retains the ranks, that's true but not harmful for several reasons.\n",
    "- If you are trying to decide between the two hypotheses stated above, then you care about whether elements are bigger or smaller than each other, but not on exactly how big they are; so ranks are all you need.\n",
    "- The method is easy to use for small samples as well as large, and does not require assumptions about the distribution of the combined sample.\n",
    "- The method works pretty well compared to methods that do depend on assumptions about the underlying distributions.\n",
    "- Ranks are not affected by outliers.\n",
    "\n",
    "Besides, sometimes all you have are ranks. For example, you may have a ranking of candidates for admission but no single numerical measure that leads to the ranks. You can use the methods of this lab to compare the ranks of two categories of applicants.\n",
    "\n",
    "What you will learn about in this lab:\n",
    "- Settings in which it makes more sense to use ranks than the original data\n",
    "- How to use Python to rank data\n",
    "- A useful statistic based on ranks\n",
    "- How to find the exact distribution of the statistic when the sample size is small\n",
    "- How to work with the normal curve in Python\n",
    "- The normal approximation to the distribution of the statistic"
   ]
  },
  {
   "cell_type": "markdown",
   "metadata": {
    "#solution": false,
    "#staff": false,
    "#student": false
   },
   "source": [
    "## Instructions\n",
    "Your labs have two components: a written portion and a portion that also involves code. Written work should be completed on paper, and coding questions should be done in the notebook. You are welcome to LaTeX your answers to the written portions, but staff will not be able to assist you with LaTeX related issues. It is your responsibility to ensure that both components of the lab are submitted completely and properly to Gradescope. Refer to the bottom of the notebook for submission instructions."
   ]
  },
  {
   "cell_type": "markdown",
   "metadata": {
    "#solution": false,
    "#staff": false,
    "#student": false
   },
   "source": [
    "#newpage\n",
    "## Part 1: Ranks ##\n",
    "We will develop the method by revisiting Deflategate, a storm in the world of American football and familiar to us from Data 8.\n",
    "\n",
    "Here are some extracts from the Data 8 textbook:\n",
    "\n",
    "\"On January 18, 2015, the Indianapolis Colts and the New England Patriots played the American Football Conference (AFC) championship game to determine which of those teams would play in the Super Bowl. After the game, there were allegations that the Patriots' footballs had not been inflated as much as the regulations required; they were softer. This could be an advantage, as softer balls might be easier to catch ...\n",
    "\n",
    "At half-time, all the game balls were collected for inspection. Two officials, Clete Blakeman and Dyrol Prioleau, measured the pressure in each of the balls. \n",
    "\n",
    "Here are the data. Each row corresponds to one football. Pressure is measured in psi [pounds per square inch]. The Patriots ball that had been intercepted by the Colts was not inspected at half-time. Nor were most of the Colts' balls – the officials simply ran out of time and had to relinquish the balls for the start of second half play.\"\n",
    "\n",
    "Each team had 12 footballs. Eleven of the Patriots' footballs were measured, and four of the Colts'."
   ]
  },
  {
   "cell_type": "code",
   "execution_count": 44,
   "metadata": {
    "#solution": false,
    "#staff": false,
    "#student": false
   },
   "outputs": [],
   "source": [
    "football = Table.read_table('Lab06_data/deflategate.csv')"
   ]
  },
  {
   "cell_type": "code",
   "execution_count": 45,
   "metadata": {
    "#solution": false,
    "#staff": false,
    "#student": false
   },
   "outputs": [
    {
     "data": {
      "text/html": [
       "<table border=\"1\" class=\"dataframe\">\n",
       "    <thead>\n",
       "        <tr>\n",
       "            <th>Team</th> <th>Blakeman</th> <th>Prioleau</th>\n",
       "        </tr>\n",
       "    </thead>\n",
       "    <tbody>\n",
       "        <tr>\n",
       "            <td>Patriots</td> <td>11.5    </td> <td>11.8    </td>\n",
       "        </tr>\n",
       "        <tr>\n",
       "            <td>Patriots</td> <td>10.85   </td> <td>11.2    </td>\n",
       "        </tr>\n",
       "        <tr>\n",
       "            <td>Patriots</td> <td>11.15   </td> <td>11.5    </td>\n",
       "        </tr>\n",
       "        <tr>\n",
       "            <td>Patriots</td> <td>10.7    </td> <td>11      </td>\n",
       "        </tr>\n",
       "        <tr>\n",
       "            <td>Patriots</td> <td>11.1    </td> <td>11.45   </td>\n",
       "        </tr>\n",
       "        <tr>\n",
       "            <td>Patriots</td> <td>11.6    </td> <td>11.95   </td>\n",
       "        </tr>\n",
       "        <tr>\n",
       "            <td>Patriots</td> <td>11.85   </td> <td>12.3    </td>\n",
       "        </tr>\n",
       "        <tr>\n",
       "            <td>Patriots</td> <td>11.1    </td> <td>11.55   </td>\n",
       "        </tr>\n",
       "        <tr>\n",
       "            <td>Patriots</td> <td>10.95   </td> <td>11.35   </td>\n",
       "        </tr>\n",
       "        <tr>\n",
       "            <td>Patriots</td> <td>10.5    </td> <td>10.9    </td>\n",
       "        </tr>\n",
       "        <tr>\n",
       "            <td>Patriots</td> <td>10.9    </td> <td>11.35   </td>\n",
       "        </tr>\n",
       "        <tr>\n",
       "            <td>Colts   </td> <td>12.7    </td> <td>12.35   </td>\n",
       "        </tr>\n",
       "        <tr>\n",
       "            <td>Colts   </td> <td>12.75   </td> <td>12.3    </td>\n",
       "        </tr>\n",
       "        <tr>\n",
       "            <td>Colts   </td> <td>12.5    </td> <td>12.95   </td>\n",
       "        </tr>\n",
       "        <tr>\n",
       "            <td>Colts   </td> <td>12.55   </td> <td>12.15   </td>\n",
       "        </tr>\n",
       "    </tbody>\n",
       "</table>"
      ],
      "text/plain": [
       "<IPython.core.display.HTML object>"
      ]
     },
     "metadata": {},
     "output_type": "display_data"
    }
   ],
   "source": [
    "football.show()"
   ]
  },
  {
   "cell_type": "markdown",
   "metadata": {
    "#solution": false,
    "#staff": false,
    "#student": false
   },
   "source": [
    "It is clear that the Patriots' footballs had less pressure than the Colts'. But that is not a fair comparison since the two sets of footballs started out at different pressures: all the Patriots' footballs at 12.5 psi and the Colts' at 13 psi, both levels allowed by NFL regulations. \n",
    "\n",
    "Pressure drops naturally during the game. The variable of interest, therefore, is the amount by which the pressure dropped. The Colts' allegation can be politely restated as saying that the drops in pressure among the Patriots' footballs were so large that something unusual had to have happened."
   ]
  },
  {
   "cell_type": "markdown",
   "metadata": {
    "#solution": false,
    "#staff": false,
    "#student": false
   },
   "source": [
    "### 1a) Drop in Pressure ###\n",
    "Based on each of the columns `Blakeman` and `Prioleau`, calculate the drop in pressure for each football. Start by creating an array of the 15 starting values of pressure. Remember that `np.ones(n)` evaluates to an array of $n$ 1's, and `np.append(array_1, array_2)` evaluates to an array that appends `array_2` to `array_1`. "
   ]
  },
  {
   "cell_type": "code",
   "execution_count": 46,
   "metadata": {
    "#solution": false,
    "#staff": false,
    "#student": true
   },
   "outputs": [],
   "source": [
    "\n",
    "start = np.append(np.ones(11)*12.5, np.ones(4)*13)\n",
    "\n",
    "blakeman_drops = start - football[1]\n",
    "prioleau_drops = start - football[2]"
   ]
  },
  {
   "cell_type": "markdown",
   "metadata": {
    "#solution": false,
    "#staff": false,
    "#student": false
   },
   "source": [
    "Run the cell below and confirm a few of the drop values by mental math."
   ]
  },
  {
   "cell_type": "code",
   "execution_count": 47,
   "metadata": {
    "#solution": false,
    "#staff": false,
    "#student": true
   },
   "outputs": [
    {
     "data": {
      "text/html": [
       "<table border=\"1\" class=\"dataframe\">\n",
       "    <thead>\n",
       "        <tr>\n",
       "            <th>Team</th> <th>Blakeman</th> <th>Prioleau</th>\n",
       "        </tr>\n",
       "    </thead>\n",
       "    <tbody>\n",
       "        <tr>\n",
       "            <td>Patriots</td> <td>1       </td> <td>0.7     </td>\n",
       "        </tr>\n",
       "        <tr>\n",
       "            <td>Patriots</td> <td>1.65    </td> <td>1.3     </td>\n",
       "        </tr>\n",
       "        <tr>\n",
       "            <td>Patriots</td> <td>1.35    </td> <td>1       </td>\n",
       "        </tr>\n",
       "        <tr>\n",
       "            <td>Patriots</td> <td>1.8     </td> <td>1.5     </td>\n",
       "        </tr>\n",
       "        <tr>\n",
       "            <td>Patriots</td> <td>1.4     </td> <td>1.05    </td>\n",
       "        </tr>\n",
       "        <tr>\n",
       "            <td>Patriots</td> <td>0.9     </td> <td>0.55    </td>\n",
       "        </tr>\n",
       "        <tr>\n",
       "            <td>Patriots</td> <td>0.65    </td> <td>0.2     </td>\n",
       "        </tr>\n",
       "        <tr>\n",
       "            <td>Patriots</td> <td>1.4     </td> <td>0.95    </td>\n",
       "        </tr>\n",
       "        <tr>\n",
       "            <td>Patriots</td> <td>1.55    </td> <td>1.15    </td>\n",
       "        </tr>\n",
       "        <tr>\n",
       "            <td>Patriots</td> <td>2       </td> <td>1.6     </td>\n",
       "        </tr>\n",
       "        <tr>\n",
       "            <td>Patriots</td> <td>1.6     </td> <td>1.15    </td>\n",
       "        </tr>\n",
       "        <tr>\n",
       "            <td>Colts   </td> <td>0.3     </td> <td>0.65    </td>\n",
       "        </tr>\n",
       "        <tr>\n",
       "            <td>Colts   </td> <td>0.25    </td> <td>0.7     </td>\n",
       "        </tr>\n",
       "        <tr>\n",
       "            <td>Colts   </td> <td>0.5     </td> <td>0.05    </td>\n",
       "        </tr>\n",
       "        <tr>\n",
       "            <td>Colts   </td> <td>0.45    </td> <td>0.85    </td>\n",
       "        </tr>\n",
       "    </tbody>\n",
       "</table>"
      ],
      "text/plain": [
       "<IPython.core.display.HTML object>"
      ]
     },
     "metadata": {},
     "output_type": "display_data"
    }
   ],
   "source": [
    "drops = football.drop(1, 2).with_column(\n",
    "    'Blakeman', blakeman_drops,\n",
    "    'Prioleau', prioleau_drops\n",
    ")\n",
    "\n",
    "drops.show()"
   ]
  },
  {
   "cell_type": "markdown",
   "metadata": {
    "#solution": false,
    "#staff": false,
    "#student": false
   },
   "source": [
    "### 1b) Ranking the Data ###\n",
    "It does look as though the pressure drop among the Colts' footballs was less than that among the Patriots'. To examine this further, we have to first figure out how to deal with the fact that the two officials' measurements were different from each other.\n",
    "\n",
    "Since we are just interested in the ordering of the drops and not their values, it's a good idea to look at ranks and see how the two officials' rankings compare.\n",
    "\n",
    "The `stats` function `rankdata` takes a numerical array as its argument and returns the array of ranks."
   ]
  },
  {
   "cell_type": "code",
   "execution_count": 48,
   "metadata": {
    "#solution": false,
    "#staff": false,
    "#student": false
   },
   "outputs": [
    {
     "data": {
      "text/plain": [
       "array([2., 4., 3., 5., 1.])"
      ]
     },
     "execution_count": 48,
     "metadata": {},
     "output_type": "execute_result"
    }
   ],
   "source": [
    "data_1 = make_array(27, 32, 28, 35, 25)\n",
    "stats.rankdata(data_1)"
   ]
  },
  {
   "cell_type": "markdown",
   "metadata": {
    "#solution": false,
    "#staff": false,
    "#student": false
   },
   "source": [
    "When we use rank-based methods we do have to face the issue of \"ties,\" that is, data values that are equal. For what we are going to do in this lab, it doesn't matter how you rank tied values. We ask that you rank ties by using the `method = 'ordinal'` option of `rankdata`. It assigns distinct ranks to all the values, assigning consecutive ranks to equal values in the order in which they appear in the data."
   ]
  },
  {
   "cell_type": "code",
   "execution_count": 49,
   "metadata": {
    "#solution": false,
    "#staff": false,
    "#student": false
   },
   "outputs": [
    {
     "data": {
      "text/plain": [
       "(array([27., 32., 28., 35., 25., 32., 32., 32.]),\n",
       " array([2, 4, 3, 8, 1, 5, 6, 7]))"
      ]
     },
     "execution_count": 49,
     "metadata": {},
     "output_type": "execute_result"
    }
   ],
   "source": [
    "data_2 = np.append(data_1, 32 * np.ones(3))\n",
    "data_2, stats.rankdata(data_2, method = 'ordinal')"
   ]
  },
  {
   "cell_type": "markdown",
   "metadata": {
    "#solution": false,
    "#staff": false,
    "#student": false
   },
   "source": [
    "Use `rankdata` with the `method = 'ordinal'` option to rank Blakeman's drop values, and, separately, Prioleau's drop values."
   ]
  },
  {
   "cell_type": "code",
   "execution_count": 50,
   "metadata": {
    "#solution": false,
    "#staff": false,
    "#student": true
   },
   "outputs": [],
   "source": [
    "\n",
    "blakeman_ranks = stats.rankdata(blakeman_drops, method = 'ordinal')\n",
    "prioleau_ranks = stats.rankdata(prioleau_drops, method = 'ordinal')"
   ]
  },
  {
   "cell_type": "markdown",
   "metadata": {
    "#solution": false,
    "#staff": false,
    "#student": false
   },
   "source": [
    "Look at the ranks below and do a quick mental check of a few of them for accuracy."
   ]
  },
  {
   "cell_type": "code",
   "execution_count": 51,
   "metadata": {
    "#solution": false,
    "#staff": false,
    "#student": false
   },
   "outputs": [],
   "source": [
    "drops = drops.with_column(\n",
    "    'Blakeman Ranks', blakeman_ranks,\n",
    "    'Prioleau Ranks', prioleau_ranks\n",
    ")"
   ]
  },
  {
   "cell_type": "code",
   "execution_count": 52,
   "metadata": {
    "#solution": false,
    "#staff": false,
    "#student": true
   },
   "outputs": [
    {
     "data": {
      "text/html": [
       "<table border=\"1\" class=\"dataframe\">\n",
       "    <thead>\n",
       "        <tr>\n",
       "            <th>Team</th> <th>Blakeman</th> <th>Prioleau</th> <th>Blakeman Ranks</th> <th>Prioleau Ranks</th>\n",
       "        </tr>\n",
       "    </thead>\n",
       "    <tbody>\n",
       "        <tr>\n",
       "            <td>Patriots</td> <td>1       </td> <td>0.7     </td> <td>7             </td> <td>5             </td>\n",
       "        </tr>\n",
       "        <tr>\n",
       "            <td>Patriots</td> <td>1.65    </td> <td>1.3     </td> <td>13            </td> <td>13            </td>\n",
       "        </tr>\n",
       "        <tr>\n",
       "            <td>Patriots</td> <td>1.35    </td> <td>1       </td> <td>8             </td> <td>9             </td>\n",
       "        </tr>\n",
       "        <tr>\n",
       "            <td>Patriots</td> <td>1.8     </td> <td>1.5     </td> <td>14            </td> <td>14            </td>\n",
       "        </tr>\n",
       "        <tr>\n",
       "            <td>Patriots</td> <td>1.4     </td> <td>1.05    </td> <td>9             </td> <td>10            </td>\n",
       "        </tr>\n",
       "        <tr>\n",
       "            <td>Patriots</td> <td>0.9     </td> <td>0.55    </td> <td>6             </td> <td>3             </td>\n",
       "        </tr>\n",
       "        <tr>\n",
       "            <td>Patriots</td> <td>0.65    </td> <td>0.2     </td> <td>5             </td> <td>2             </td>\n",
       "        </tr>\n",
       "        <tr>\n",
       "            <td>Patriots</td> <td>1.4     </td> <td>0.95    </td> <td>10            </td> <td>8             </td>\n",
       "        </tr>\n",
       "        <tr>\n",
       "            <td>Patriots</td> <td>1.55    </td> <td>1.15    </td> <td>11            </td> <td>11            </td>\n",
       "        </tr>\n",
       "        <tr>\n",
       "            <td>Patriots</td> <td>2       </td> <td>1.6     </td> <td>15            </td> <td>15            </td>\n",
       "        </tr>\n",
       "        <tr>\n",
       "            <td>Patriots</td> <td>1.6     </td> <td>1.15    </td> <td>12            </td> <td>12            </td>\n",
       "        </tr>\n",
       "        <tr>\n",
       "            <td>Colts   </td> <td>0.3     </td> <td>0.65    </td> <td>2             </td> <td>4             </td>\n",
       "        </tr>\n",
       "        <tr>\n",
       "            <td>Colts   </td> <td>0.25    </td> <td>0.7     </td> <td>1             </td> <td>6             </td>\n",
       "        </tr>\n",
       "        <tr>\n",
       "            <td>Colts   </td> <td>0.5     </td> <td>0.05    </td> <td>4             </td> <td>1             </td>\n",
       "        </tr>\n",
       "        <tr>\n",
       "            <td>Colts   </td> <td>0.45    </td> <td>0.85    </td> <td>3             </td> <td>7             </td>\n",
       "        </tr>\n",
       "    </tbody>\n",
       "</table>"
      ],
      "text/plain": [
       "<IPython.core.display.HTML object>"
      ]
     },
     "metadata": {},
     "output_type": "display_data"
    }
   ],
   "source": [
    "drops.show()"
   ]
  },
  {
   "cell_type": "markdown",
   "metadata": {
    "#solution": false,
    "#staff": false,
    "#student": false
   },
   "source": [
    "### 1c) Consistency of Ranks ###\n",
    "In which columns is it easier to compare consistency and inconstency between the two officials: the ranks or the drop values? What consistencies and inconsistencies do you notice when you compare the ranks?"
   ]
  },
  {
   "cell_type": "markdown",
   "metadata": {
    "#solution": false,
    "#staff": false,
    "#student": true
   },
   "source": [
    "It is easier to compare the ranks as it is only one digit to compare. The rank 13, 14, 11, 15, 12, are consistent with each other, while others are not. So the higher ranks are more consistent. Also all the higher ranks happen to be patriots. "
   ]
  },
  {
   "cell_type": "markdown",
   "metadata": {
    "#solution": false,
    "#staff": false,
    "#student": false
   },
   "source": [
    "#newpage\n",
    "\n",
    "## Part 2: Wilcoxon's Rank Sum Statistic ##"
   ]
  },
  {
   "cell_type": "markdown",
   "metadata": {
    "#solution": false,
    "#staff": false,
    "#student": false
   },
   "source": [
    "Is the difference due to chance? More precisely, the question is whether the Colts' ranks are like a simple random sample of all 15 ranks or whether the Colts' ranks are generally smaller than the Patriots'. If they are smaller, then it means that by comparison, the pressure in the Patriots' footballs dropped by more than can't be explained by random chance. That is what the Colts' were alleging. \n",
    "\n",
    "In fact, the Colts were alleging even more, which is that the increased drop was deliberate. We can't assess that. But we can see whether the the Colts' ranks are generally too low to be explained by chance.\n",
    "\n",
    "It is now time to quantify \"ranks are generally too low\". We will do this by using the *[Wilcoxon](https://en.wikipedia.org/wiki/Frank_Wilcoxon) Rank Sum statistic*, which is just the sum of the Colts' ranks. A low rank sum corresponds to the Colts' ranks being \"generally low\". In general, the Wilcoxon rank sum statistic is the sum of the ranks of one of the two samples.\n",
    "\n",
    "It is important to keep in mind that we are not interested in which of the Colts' footballs received which rank; we are just interested in the set of ranks received by those balls. That is, we are interested in an unordered sample of 4 out of the 15 ranks."
   ]
  },
  {
   "cell_type": "markdown",
   "metadata": {
    "#solution": false,
    "#staff": false,
    "#student": false
   },
   "source": [
    "### 2a) Blakeman's Rank Sum ###\n",
    "What is the rank sum statistic based on Blakeman's ranks? That is, what is the sum of the Colts' ranks as assigned by Blakeman?"
   ]
  },
  {
   "cell_type": "markdown",
   "metadata": {
    "#solution": false,
    "#staff": false,
    "#student": true
   },
   "source": [
    "it is 2 + 1 + 4 + 3 = 10"
   ]
  },
  {
   "cell_type": "markdown",
   "metadata": {
    "#solution": false,
    "#staff": false,
    "#student": false
   },
   "source": [
    "How many sets of four can be formed from among the numbers 1 through 15? Remember that `special.comb(n, k)` evaluates to ${n \\choose k}$."
   ]
  },
  {
   "cell_type": "code",
   "execution_count": 53,
   "metadata": {
    "#solution": false,
    "#staff": false,
    "#student": true
   },
   "outputs": [
    {
     "data": {
      "text/plain": [
       "1365.0"
      ]
     },
     "execution_count": 53,
     "metadata": {},
     "output_type": "execute_result"
    }
   ],
   "source": [
    "\n",
    "total_samples = special.comb(15, 4)\n",
    "total_samples"
   ]
  },
  {
   "cell_type": "markdown",
   "metadata": {
    "#solution": false,
    "#staff": false,
    "#student": false
   },
   "source": [
    "What is the smallest possible sum that you can get from a subset of four numbers from chosen from the integers 1 through 15? How many subsets have this sum? "
   ]
  },
  {
   "cell_type": "markdown",
   "metadata": {
    "#solution": false,
    "#staff": false,
    "#student": true
   },
   "source": [
    "the smallest possible sum is 10 as 1+2+3+4. There is 4! = 4 * 3 * 2 * 1 = 24 subsets of this sum. "
   ]
  },
  {
   "cell_type": "markdown",
   "metadata": {
    "#solution": false,
    "#staff": false,
    "#student": false
   },
   "source": [
    "Based on the value of Blakeman's rank sum, should you conclude that the Colts' ranks are like a random sample of four ranks? Explain briefly."
   ]
  },
  {
   "cell_type": "markdown",
   "metadata": {
    "#solution": false,
    "#staff": false,
    "#student": true
   },
   "source": [
    "Not exactly, the chance of having the rank sum is 24/1365, which is rather a low probabilty. Hence we can not conclude that colts' rank are like a random sample of four ranks."
   ]
  },
  {
   "cell_type": "markdown",
   "metadata": {
    "#solution": false,
    "#staff": false,
    "#student": false
   },
   "source": [
    "### 2b) Prioleau's Rank Sum ###\n",
    "Now turn to Prioleau's ranks."
   ]
  },
  {
   "cell_type": "code",
   "execution_count": 54,
   "metadata": {
    "#solution": false,
    "#staff": false,
    "#student": false
   },
   "outputs": [
    {
     "data": {
      "text/html": [
       "<table border=\"1\" class=\"dataframe\">\n",
       "    <thead>\n",
       "        <tr>\n",
       "            <th>Team</th> <th>Prioleau Ranks</th>\n",
       "        </tr>\n",
       "    </thead>\n",
       "    <tbody>\n",
       "        <tr>\n",
       "            <td>Patriots</td> <td>5             </td>\n",
       "        </tr>\n",
       "        <tr>\n",
       "            <td>Patriots</td> <td>13            </td>\n",
       "        </tr>\n",
       "        <tr>\n",
       "            <td>Patriots</td> <td>9             </td>\n",
       "        </tr>\n",
       "        <tr>\n",
       "            <td>Patriots</td> <td>14            </td>\n",
       "        </tr>\n",
       "        <tr>\n",
       "            <td>Patriots</td> <td>10            </td>\n",
       "        </tr>\n",
       "        <tr>\n",
       "            <td>Patriots</td> <td>3             </td>\n",
       "        </tr>\n",
       "        <tr>\n",
       "            <td>Patriots</td> <td>2             </td>\n",
       "        </tr>\n",
       "        <tr>\n",
       "            <td>Patriots</td> <td>8             </td>\n",
       "        </tr>\n",
       "        <tr>\n",
       "            <td>Patriots</td> <td>11            </td>\n",
       "        </tr>\n",
       "        <tr>\n",
       "            <td>Patriots</td> <td>15            </td>\n",
       "        </tr>\n",
       "        <tr>\n",
       "            <td>Patriots</td> <td>12            </td>\n",
       "        </tr>\n",
       "        <tr>\n",
       "            <td>Colts   </td> <td>4             </td>\n",
       "        </tr>\n",
       "        <tr>\n",
       "            <td>Colts   </td> <td>6             </td>\n",
       "        </tr>\n",
       "        <tr>\n",
       "            <td>Colts   </td> <td>1             </td>\n",
       "        </tr>\n",
       "        <tr>\n",
       "            <td>Colts   </td> <td>7             </td>\n",
       "        </tr>\n",
       "    </tbody>\n",
       "</table>"
      ],
      "text/plain": [
       "<IPython.core.display.HTML object>"
      ]
     },
     "metadata": {},
     "output_type": "display_data"
    }
   ],
   "source": [
    "prioleau = drops.select(0, 4)\n",
    "prioleau.show()"
   ]
  },
  {
   "cell_type": "markdown",
   "metadata": {
    "#solution": false,
    "#staff": false,
    "#student": false
   },
   "source": [
    "You can of course calculate Prioleau's rank sum mentally, but for further applications it is useful to be able to do this using Python.\n",
    "\n",
    "Use `group` to find Prioleau's rank sum for both teams. Refer to the [Data 8 Python reference](http://data8.org/sp18/python-reference.html) if necessary. The table `both_sums` should contain both the rank sums, and `prioleau_colts_sum` should be the observed value of Prioleau's statistic."
   ]
  },
  {
   "cell_type": "code",
   "execution_count": 55,
   "metadata": {
    "#solution": false,
    "#staff": false,
    "#student": true
   },
   "outputs": [
    {
     "data": {
      "text/html": [
       "<table border=\"1\" class=\"dataframe\">\n",
       "    <thead>\n",
       "        <tr>\n",
       "            <th>Team</th> <th>Prioleau Ranks sum</th>\n",
       "        </tr>\n",
       "    </thead>\n",
       "    <tbody>\n",
       "        <tr>\n",
       "            <td>Colts   </td> <td>18                </td>\n",
       "        </tr>\n",
       "        <tr>\n",
       "            <td>Patriots</td> <td>102               </td>\n",
       "        </tr>\n",
       "    </tbody>\n",
       "</table>"
      ],
      "text/plain": [
       "Team     | Prioleau Ranks sum\n",
       "Colts    | 18\n",
       "Patriots | 102"
      ]
     },
     "execution_count": 55,
     "metadata": {},
     "output_type": "execute_result"
    }
   ],
   "source": [
    "\n",
    "both_sums = prioleau.group(0, sum)\n",
    "prioleau_colts_sum = both_sums[1].item(0)\n",
    "\n",
    "both_sums"
   ]
  },
  {
   "cell_type": "markdown",
   "metadata": {
    "#solution": false,
    "#staff": false,
    "#student": false
   },
   "source": [
    "Use the cell below to show why the total of all the ranks is 120. Fill in the comment as an explanation, and then compute the sum **not by brute force but by using an appropriate formula that can easily be applied when the sample is larger.**"
   ]
  },
  {
   "cell_type": "code",
   "execution_count": 56,
   "metadata": {
    "#solution": false,
    "#staff": false,
    "#student": true
   },
   "outputs": [
    {
     "data": {
      "text/plain": [
       "120.0"
      ]
     },
     "execution_count": 56,
     "metadata": {},
     "output_type": "execute_result"
    }
   ],
   "source": [
    "\n",
    "# The total of the ranks is the sum of 1 to 15\n",
    "\n",
    "(1+15)*(15/2)\n"
   ]
  },
  {
   "cell_type": "markdown",
   "metadata": {
    "#solution": false,
    "#staff": false,
    "#student": false
   },
   "source": [
    "### 2c) All Possible Rank Sums ###\n",
    "The `combinations` function of `itertools` has been imported and is used as below to display all the subsets of four out the 15 ranks. These are all the possible samples of ranks that the Colts' could have. Check that the table has the right number of rows."
   ]
  },
  {
   "cell_type": "code",
   "execution_count": 57,
   "metadata": {
    "#solution": false,
    "#staff": false,
    "#student": false
   },
   "outputs": [
    {
     "data": {
      "text/html": [
       "<table border=\"1\" class=\"dataframe\">\n",
       "    <thead>\n",
       "        <tr>\n",
       "            <th>Ranks</th>\n",
       "        </tr>\n",
       "    </thead>\n",
       "    <tbody>\n",
       "        <tr>\n",
       "            <td>[1 2 3 4]    </td>\n",
       "        </tr>\n",
       "        <tr>\n",
       "            <td>[1 2 3 5]    </td>\n",
       "        </tr>\n",
       "        <tr>\n",
       "            <td>[1 2 3 6]    </td>\n",
       "        </tr>\n",
       "        <tr>\n",
       "            <td>[1 2 3 7]    </td>\n",
       "        </tr>\n",
       "        <tr>\n",
       "            <td>[1 2 3 8]    </td>\n",
       "        </tr>\n",
       "        <tr>\n",
       "            <td>[1 2 3 9]    </td>\n",
       "        </tr>\n",
       "        <tr>\n",
       "            <td>[ 1  2  3 10]</td>\n",
       "        </tr>\n",
       "        <tr>\n",
       "            <td>[ 1  2  3 11]</td>\n",
       "        </tr>\n",
       "        <tr>\n",
       "            <td>[ 1  2  3 12]</td>\n",
       "        </tr>\n",
       "        <tr>\n",
       "            <td>[ 1  2  3 13]</td>\n",
       "        </tr>\n",
       "    </tbody>\n",
       "</table>\n",
       "<p>... (1355 rows omitted)</p>"
      ],
      "text/plain": [
       "Ranks\n",
       "[1 2 3 4]\n",
       "[1 2 3 5]\n",
       "[1 2 3 6]\n",
       "[1 2 3 7]\n",
       "[1 2 3 8]\n",
       "[1 2 3 9]\n",
       "[ 1  2  3 10]\n",
       "[ 1  2  3 11]\n",
       "[ 1  2  3 12]\n",
       "[ 1  2  3 13]\n",
       "... (1355 rows omitted)"
      ]
     },
     "execution_count": 57,
     "metadata": {},
     "output_type": "execute_result"
    }
   ],
   "source": [
    "population = np.arange(1, 16)\n",
    "\n",
    "all_samples = Table().with_column(\n",
    "    'Ranks', list(combinations(population, 4))\n",
    ")\n",
    "\n",
    "all_samples"
   ]
  },
  {
   "cell_type": "markdown",
   "metadata": {
    "#solution": false,
    "#staff": false,
    "#student": false
   },
   "source": [
    "Construct an array `rank_sums` consisting of the sums of the ranks in all the samples, and augment the table `all_samples` with a column `Rank Sum` containing the rank sums."
   ]
  },
  {
   "cell_type": "code",
   "execution_count": 58,
   "metadata": {
    "#solution": false,
    "#staff": false,
    "#student": true
   },
   "outputs": [
    {
     "data": {
      "text/html": [
       "<table border=\"1\" class=\"dataframe\">\n",
       "    <thead>\n",
       "        <tr>\n",
       "            <th>Ranks</th> <th>Rank Sum</th>\n",
       "        </tr>\n",
       "    </thead>\n",
       "    <tbody>\n",
       "        <tr>\n",
       "            <td>[1 2 3 4]    </td> <td>10      </td>\n",
       "        </tr>\n",
       "        <tr>\n",
       "            <td>[1 2 3 5]    </td> <td>11      </td>\n",
       "        </tr>\n",
       "        <tr>\n",
       "            <td>[1 2 3 6]    </td> <td>12      </td>\n",
       "        </tr>\n",
       "        <tr>\n",
       "            <td>[1 2 3 7]    </td> <td>13      </td>\n",
       "        </tr>\n",
       "        <tr>\n",
       "            <td>[1 2 3 8]    </td> <td>14      </td>\n",
       "        </tr>\n",
       "        <tr>\n",
       "            <td>[1 2 3 9]    </td> <td>15      </td>\n",
       "        </tr>\n",
       "        <tr>\n",
       "            <td>[ 1  2  3 10]</td> <td>16      </td>\n",
       "        </tr>\n",
       "        <tr>\n",
       "            <td>[ 1  2  3 11]</td> <td>17      </td>\n",
       "        </tr>\n",
       "        <tr>\n",
       "            <td>[ 1  2  3 12]</td> <td>18      </td>\n",
       "        </tr>\n",
       "        <tr>\n",
       "            <td>[ 1  2  3 13]</td> <td>19      </td>\n",
       "        </tr>\n",
       "    </tbody>\n",
       "</table>\n",
       "<p>... (1355 rows omitted)</p>"
      ],
      "text/plain": [
       "Ranks         | Rank Sum\n",
       "[1 2 3 4]     | 10\n",
       "[1 2 3 5]     | 11\n",
       "[1 2 3 6]     | 12\n",
       "[1 2 3 7]     | 13\n",
       "[1 2 3 8]     | 14\n",
       "[1 2 3 9]     | 15\n",
       "[ 1  2  3 10] | 16\n",
       "[ 1  2  3 11] | 17\n",
       "[ 1  2  3 12] | 18\n",
       "[ 1  2  3 13] | 19\n",
       "... (1355 rows omitted)"
      ]
     },
     "execution_count": 58,
     "metadata": {},
     "output_type": "execute_result"
    }
   ],
   "source": [
    "\n",
    "rank_sums = all_samples.apply(sum, 0)\n",
    "\n",
    "all_samples = all_samples.with_column('Rank Sum', rank_sums)\n",
    "\n",
    "all_samples"
   ]
  },
  {
   "cell_type": "markdown",
   "metadata": {
    "#solution": false,
    "#staff": false,
    "#student": false
   },
   "source": [
    "### 2d) Probability Distribution of the Rank Sum ###\n",
    "What is the smallest and largest the rank sum can be? You should not need to use `sort`."
   ]
  },
  {
   "cell_type": "code",
   "execution_count": 59,
   "metadata": {
    "#solution": false,
    "#staff": false,
    "#student": true
   },
   "outputs": [
    {
     "data": {
      "text/plain": [
       "(10, 54)"
      ]
     },
     "execution_count": 59,
     "metadata": {},
     "output_type": "execute_result"
    }
   ],
   "source": [
    "\n",
    "smallest = 10\n",
    "largest = 12+13+14+15\n",
    "\n",
    "smallest, largest"
   ]
  },
  {
   "cell_type": "markdown",
   "metadata": {
    "#solution": false,
    "#staff": false,
    "#student": false
   },
   "source": [
    "Draw a histogram of the rank sums, using bins of width 1 centered on each possible value of the rank sum. As this histogram is based on every possible sample, it displays the *sampling distribution* or equivalently the exact probability distribution of the rank sum statistic under the null hypothesis of random selection.\n",
    "\n",
    "Note that you will need to offset your bins by 0.5 to ensure that the bars are centered properly.\n",
    "\n",
    "The additional line of code plots the observed rank sum on the horizontal axis."
   ]
  },
  {
   "cell_type": "code",
   "execution_count": 60,
   "metadata": {
    "#solution": false,
    "#staff": false,
    "#student": true
   },
   "outputs": [
    {
     "data": {
      "image/png": "[encoded data removed]",
      "text/plain": [
       "<Figure size 432x288 with 1 Axes>"
      ]
     },
     "metadata": {},
     "output_type": "display_data"
    }
   ],
   "source": [
    "\n",
    "all_samples.hist(1, bins = np.arange(9, 52)-0.5)\n",
    "plt.scatter(prioleau_colts_sum, 0, color='red', s=40);"
   ]
  },
  {
   "cell_type": "markdown",
   "metadata": {
    "#solution": false,
    "#staff": false,
    "#student": false
   },
   "source": [
    "### 2e) The Decision ###\n",
    "Compute the $P$-value of the test. This is an exact $P$-value, not an empirical or numerical approximation.\n",
    "\n",
    "Recall that the $P$-value is the probability, assuming the null hypothesis is true, of observing a statistic that is equal to the one in our sample or even more in the direction of the alternative."
   ]
  },
  {
   "cell_type": "code",
   "execution_count": 61,
   "metadata": {
    "#solution": false,
    "#staff": false,
    "#student": true
   },
   "outputs": [
    {
     "data": {
      "text/plain": [
       "0.03882783882783883"
      ]
     },
     "execution_count": 61,
     "metadata": {},
     "output_type": "execute_result"
    }
   ],
   "source": [
    "sum(all_samples[1] <= 18) / len(all_samples[1])"
   ]
  },
  {
   "cell_type": "markdown",
   "metadata": {
    "#solution": false,
    "#staff": false,
    "#student": false
   },
   "source": [
    "What is your decision, based on the test? Which of the two hypotheses do you think is better supported by the data?"
   ]
  },
  {
   "cell_type": "markdown",
   "metadata": {
    "#solution": false,
    "#staff": false,
    "#student": true
   },
   "source": [
    "If we use the P-value test of 0.05, our observed p-value is less than 0.05. Hence we should reject the null hypothesis. The hypothesis that the balls were inflated intentionally is better supported."
   ]
  },
  {
   "cell_type": "markdown",
   "metadata": {
    "#solution": false,
    "#staff": false,
    "#student": false
   },
   "source": [
    "#newpage\n",
    "\n",
    "## Part 3: Normal Curves ##\n",
    "The probability distribution of the rank sum statistic looks very much like the normal curve, but not exactly. For example, look at the peak of the curve. You will see two flat bits on either side. \n",
    "\n",
    "Still, the distribution doesn't look too far from normal, so it is worth reminding ourselves about the normal curve. This part of the lab takes you quickly through some code that you can use to display normal curves and areas under them, and also to find numerical values of the areas."
   ]
  },
  {
   "cell_type": "markdown",
   "metadata": {
    "#solution": false,
    "#staff": false,
    "#student": false
   },
   "source": [
    "### 3a) Plotting the Curve ###\n",
    "The equation of this curve is one of the greatest hits of probability theory, mathematics, and statistics. Here it is, though you will not need it for the lab. Of course we will have a lot to do with it later in Prob 140.\n",
    "\n",
    "The parameters of the curve are a \"center\" $\\mu$ that can be any number, and a \"spread\" $\\sigma$ that is a positive number. The equation is\n",
    "\n",
    "$$\n",
    "f(x) ~ = ~ \\frac{1}{\\sqrt{2\\pi}\\sigma} e^{-\\frac{1}{2}\\big{(}\\frac{x-\\mu}{\\sigma}\\big{)}^2}, ~~~~~~~ -\\infty < x < \\infty\n",
    "$$\n",
    "\n",
    "The relation of $\\mu$ and $\\sigma$ to the expectations and variances that we have been studying in class will become more evident as you go through the lab.\n",
    "\n",
    "To plot the curve, use the `prob140` function `Plot_norm` with three arguments:\n",
    "- the interval of values of $x$ over which to plot the curve\n",
    "- the \"center\" of the curve, which is $\\mu$\n",
    "- the \"spread\" of the curve, which is $\\sigma$\n",
    "\n",
    "The curve corresponding to $\\mu = 0$ and $\\sigma = 1$ is called the *standard normal curve*."
   ]
  },
  {
   "cell_type": "code",
   "execution_count": 62,
   "metadata": {
    "#solution": false,
    "#staff": false,
    "#student": false
   },
   "outputs": [
    {
     "data": {
      "image/png": "[encoded data removed]",
      "text/plain": [
       "<Figure size 432x288 with 1 Axes>"
      ]
     },
     "metadata": {},
     "output_type": "display_data"
    }
   ],
   "source": [
    "Plot_norm((-4, 4), 0, 1)"
   ]
  },
  {
   "cell_type": "code",
   "execution_count": 63,
   "metadata": {
    "#solution": false,
    "#staff": false,
    "#student": false
   },
   "outputs": [
    {
     "data": {
      "image/png": "[encoded data removed]",
      "text/plain": [
       "<Figure size 432x288 with 1 Axes>"
      ]
     },
     "metadata": {},
     "output_type": "display_data"
    }
   ],
   "source": [
    "Plot_norm((56, 80), 68, 3)"
   ]
  },
  {
   "cell_type": "markdown",
   "metadata": {
    "#solution": false,
    "#staff": false,
    "#student": false
   },
   "source": [
    "You can see that the two are just the same curve, apart from labels on the axes. \n",
    "\n",
    "We will prove later in the term that the total area under the normal curve is 100%. You can therefore think of the curve as a continuous approximation to a discrete histogram."
   ]
  },
  {
   "cell_type": "markdown",
   "metadata": {
    "#solution": false,
    "#staff": false,
    "#student": false
   },
   "source": [
    "### 3b) Areas Under the Curve ###\n",
    "As you know, for a discrete random variable the cumulative distribution function (cdf) at a point is the area under the probability histogram to the left of that point. The cdf of the normal curve is defined analogously.\n",
    "\n",
    "The gold area below is the value of the cdf of the standard normal curve at the point $x = 2$. Notice the use of `right_end = 2` to color the area; when the left end is not specified, it is assumed to be the leftmost value on the horizontal axis."
   ]
  },
  {
   "cell_type": "code",
   "execution_count": 64,
   "metadata": {
    "#solution": false,
    "#staff": false,
    "#student": false
   },
   "outputs": [
    {
     "data": {
      "image/png": "[encoded data removed]",
      "text/plain": [
       "<Figure size 432x288 with 1 Axes>"
      ]
     },
     "metadata": {},
     "output_type": "display_data"
    }
   ],
   "source": [
    "Plot_norm((-4, 4), 0, 1, right_end = 2)"
   ]
  },
  {
   "cell_type": "markdown",
   "metadata": {
    "#solution": false,
    "#staff": false,
    "#student": false
   },
   "source": [
    "The numerical value of the area is found by `stats.norm.cdf` with the arguments $x$, $\\mu$, and $\\sigma$."
   ]
  },
  {
   "cell_type": "code",
   "execution_count": 65,
   "metadata": {
    "#solution": false,
    "#staff": false,
    "#student": false
   },
   "outputs": [
    {
     "data": {
      "text/plain": [
       "0.9772498680518208"
      ]
     },
     "execution_count": 65,
     "metadata": {},
     "output_type": "execute_result"
    }
   ],
   "source": [
    "stats.norm.cdf(2, 0, 1)"
   ]
  },
  {
   "cell_type": "markdown",
   "metadata": {
    "#solution": false,
    "#staff": false,
    "#student": false
   },
   "source": [
    "Find the numerical value of the area below."
   ]
  },
  {
   "cell_type": "code",
   "execution_count": 66,
   "metadata": {
    "#solution": false,
    "#staff": false,
    "#student": false
   },
   "outputs": [
    {
     "data": {
      "image/png": "[encoded data removed]",
      "text/plain": [
       "<Figure size 432x288 with 1 Axes>"
      ]
     },
     "metadata": {},
     "output_type": "display_data"
    }
   ],
   "source": [
    "Plot_norm((56, 80), 68, 3, left_end = 65, right_end = 71)"
   ]
  },
  {
   "cell_type": "code",
   "execution_count": 67,
   "metadata": {
    "#solution": false,
    "#staff": false,
    "#student": true
   },
   "outputs": [
    {
     "data": {
      "text/plain": [
       "0.6826894921370859"
      ]
     },
     "execution_count": 67,
     "metadata": {},
     "output_type": "execute_result"
    }
   ],
   "source": [
    "stats.norm.cdf(71, 68, 3 ) - stats.norm.cdf(65, 68, 3)"
   ]
  },
  {
   "cell_type": "markdown",
   "metadata": {
    "#solution": false,
    "#staff": false,
    "#student": false
   },
   "source": [
    "#newpage\n",
    "\n",
    "## Part 4: Normal Approximation ##\n",
    "To use a normal curve to approximate a distribution, you must first identify the two parameters of the curve. For reasons that are not surprising and will become precise later in the course, the right parameters are the expectation and SD of the distribution being approximated.\n",
    "\n",
    "Let's find the normal curve that approximates the distribution of the rank sum statistic in Part 2. Why approximate a distribution we already know exactly? The answer is that we will need the method of approximation when the sample sizes are too large for us to be able to enumerate all possible samples. Finding the approximation in a case where we know the exact answer helps us see that the approximation is good."
   ]
  },
  {
   "cell_type": "markdown",
   "metadata": {
    "#solution": false,
    "#staff": false,
    "#student": false
   },
   "source": [
    "### 4a) Expectation and SD Under the Null ###\n",
    "Under the null hypothesis of random selection, the distribution of our rank sum statistic is the distribution of the sum of a simple random sample of size 4 from the population of integers 1 through 15.\n",
    "\n",
    "In general, let $W$ be the sum of  $n$ ranks drawn at random without replacement from the integers 1 through $N$.\n",
    "\n",
    "Refer to [Sections 12.1](http://prob140.org/textbook/chapters/Chapter_12/01_Definition) and [13.3](http://prob140.org/textbook/chapters/Chapter_13/03_Sums_of_Simple_Random_Samples) of the textbook for the formulas that you need in order to define the functions below. \n",
    "\n",
    "Define a function `ev_ranksum` that takes $n$ and $N$ as its arguments and returns $E(W)$. **Do not** use arrays or `np.average` in your definition. Use the formulas derived in class."
   ]
  },
  {
   "cell_type": "code",
   "execution_count": 68,
   "metadata": {
    "#solution": false,
    "#staff": false,
    "#student": true
   },
   "outputs": [
    {
     "data": {
      "text/plain": [
       "32.0"
      ]
     },
     "execution_count": 68,
     "metadata": {},
     "output_type": "execute_result"
    }
   ],
   "source": [
    "\n",
    "def ev_ranksum(n, N):\n",
    "    return (1+N)/2 * n\n",
    "\n",
    "null_expectation = ev_ranksum(4, 15)\n",
    "null_expectation"
   ]
  },
  {
   "cell_type": "markdown",
   "metadata": {
    "#solution": false,
    "#staff": false,
    "#student": false
   },
   "source": [
    "Now define a function `sd_ranksum` that takes $n$ and $N$ as arguments and returns $SD(W)$. **Do not** use arrays or `np.std` in your definition."
   ]
  },
  {
   "cell_type": "code",
   "execution_count": 69,
   "metadata": {
    "#solution": false,
    "#staff": false,
    "#student": true
   },
   "outputs": [
    {
     "data": {
      "text/plain": [
       "7.659416862050705"
      ]
     },
     "execution_count": 69,
     "metadata": {},
     "output_type": "execute_result"
    }
   ],
   "source": [
    "\n",
    "def sd_ranksum(n, N):\n",
    "    return (n*((N**2-1)/12)*(N-n)/(N-1))**(0.5)\n",
    "\n",
    "null_sd = sd_ranksum(4, 15)\n",
    "null_sd"
   ]
  },
  {
   "cell_type": "markdown",
   "metadata": {
    "#solution": false,
    "#staff": false,
    "#student": false
   },
   "source": [
    "To check your numerical answers, remember that you enumerated every possible sample and hence every possible rank sum. Run the cell below and confirm that its output is the same as the values returned by your functions."
   ]
  },
  {
   "cell_type": "code",
   "execution_count": 70,
   "metadata": {
    "#solution": false,
    "#staff": false,
    "#student": false
   },
   "outputs": [
    {
     "data": {
      "text/plain": [
       "(32.0, 7.659416862050705)"
      ]
     },
     "execution_count": 70,
     "metadata": {},
     "output_type": "execute_result"
    }
   ],
   "source": [
    "np.average(rank_sums), np.std(rank_sums)"
   ]
  },
  {
   "cell_type": "markdown",
   "metadata": {
    "#solution": false,
    "#staff": false,
    "#student": false
   },
   "source": [
    "### 4b) Superposing the Approximating Curve ###\n",
    "Re-use both lines of code in the last cell of 2d, and use Plot_norm appropriately to superpose the approximating normal curve over the histogram. Ignore the last line in the cell. It just sets a vertical scale so you can see all the different aspects of the figure."
   ]
  },
  {
   "cell_type": "code",
   "execution_count": 71,
   "metadata": {
    "#solution": false,
    "#staff": false,
    "#student": true
   },
   "outputs": [
    {
     "data": {
      "image/png": "[encoded data removed]",
      "text/plain": [
       "<Figure size 432x288 with 1 Axes>"
      ]
     },
     "metadata": {},
     "output_type": "display_data"
    }
   ],
   "source": [
    "all_samples.hist(1, bins = np.arange(9, 52)-0.5)\n",
    "plt.scatter(prioleau_colts_sum, 0, color='red', s=40)\n",
    "\n",
    "Plot_norm((8,52), null_expectation, null_sd)\n",
    "plt.ylim(-0.01, 0.06);"
   ]
  },
  {
   "cell_type": "markdown",
   "metadata": {
    "#solution": false,
    "#staff": false,
    "#student": false
   },
   "source": [
    "You can see that the curve overestimates near the center, then underestimates on both sides, and then overestimates again in the tails. But it's not bad. The approximation typically improves when the sample sizes get larger."
   ]
  },
  {
   "cell_type": "markdown",
   "metadata": {
    "#solution": false,
    "#staff": false,
    "#student": false
   },
   "source": [
    "#newpage\n",
    "\n",
    "## Part 5: Continuity Correction ##"
   ]
  },
  {
   "cell_type": "markdown",
   "metadata": {
    "#solution": false,
    "#staff": false,
    "#student": false
   },
   "source": [
    "In **2e** you found the exact $P$-value of the test of whether the four Colts ranks are too low to resemble a random sample of ranks. The graph above indicates that it should be possible to find an approximation to that chance using the normal curve."
   ]
  },
  {
   "cell_type": "markdown",
   "metadata": {
    "#solution": false,
    "#staff": false,
    "#student": false
   },
   "source": [
    "### 5a) Normal Approximation, First Attempt ###\n",
    "Use `stats.norm.cdf` to approximate the $P$-value. You will need quantities you defined in Part 4 as well as `prioleau_colts_sum` from Part 2."
   ]
  },
  {
   "cell_type": "code",
   "execution_count": 72,
   "metadata": {
    "#solution": false,
    "#staff": false,
    "#student": false
   },
   "outputs": [
    {
     "data": {
      "text/plain": [
       "0.03378863152793527"
      ]
     },
     "execution_count": 72,
     "metadata": {},
     "output_type": "execute_result"
    }
   ],
   "source": [
    "stats.norm.cdf(prioleau_colts_sum,\n",
    "               null_expectation,\n",
    "               null_sd)"
   ]
  },
  {
   "cell_type": "markdown",
   "metadata": {
    "#solution": false,
    "#staff": false,
    "#student": false
   },
   "source": [
    "Notice that the answer isn't quite what you got in **2e**. A common recommendation for small samples is that you either get an exact $P$-value as you did in Part 2 or use the normal approximation *with continuity correction*. The correction takes into account the fact that you are using a continuous curve to approximate a histogram consisting of rectangular bars."
   ]
  },
  {
   "cell_type": "markdown",
   "metadata": {
    "#solution": false,
    "#staff": false,
    "#student": false
   },
   "source": [
    "### 5b) Continuity Correction ###\n",
    "The correction is easier to see in the context of the binomial $(100, 1/2)$ histogram, that is, the distribution of the number of heads in 100 tosses of a coin. \n",
    "\n",
    "Look up [Section 13.2](http://prob140.org/textbook/chapters/Chapter_13/02_Sums_of_IID_Samples) of the textbook for the expectation and SD of the number of heads. Enter them below to draw the normal curve superposed on the binomial histogram."
   ]
  },
  {
   "cell_type": "code",
   "execution_count": 73,
   "metadata": {
    "#solution": false,
    "#staff": false,
    "#student": true
   },
   "outputs": [
    {
     "data": {
      "image/png": "[encoded data removed]",
      "text/plain": [
       "<Figure size 432x288 with 1 Axes>"
      ]
     },
     "metadata": {},
     "output_type": "display_data"
    }
   ],
   "source": [
    "\n",
    "b100 = stats.binom.pmf(np.arange(101), 100, 0.5)\n",
    "coins100 = Table().values(range(101)).probabilities(b100)\n",
    "\n",
    "Plot(coins100, edges=True)\n",
    "Plot_norm((34.5, 65.5), 50, 5)\n",
    "plt.xlim(34.5, 65.5);"
   ]
  },
  {
   "cell_type": "markdown",
   "metadata": {
    "#solution": false,
    "#staff": false,
    "#student": false
   },
   "source": [
    "The normal approximation is excellent and doesn't systematically overestimate or underestimate. The exact chances, of course are the areas of the bars of the histogram.\n",
    "\n",
    "Let $X$ be the number of heads in 100 tosses. The blue area below is the exact value of $P(45 \\le X \\le 55)$."
   ]
  },
  {
   "cell_type": "code",
   "execution_count": 74,
   "metadata": {
    "#solution": false,
    "#staff": false,
    "#student": false
   },
   "outputs": [
    {
     "data": {
      "image/png": "[encoded data removed]",
      "text/plain": [
       "<Figure size 432x288 with 1 Axes>"
      ]
     },
     "metadata": {},
     "output_type": "display_data"
    }
   ],
   "source": [
    "Plot(coins100, edges=True)\n",
    "plt.xlim(44.5, 55.5);"
   ]
  },
  {
   "cell_type": "markdown",
   "metadata": {
    "#solution": false,
    "#staff": false,
    "#student": false
   },
   "source": [
    "Find the numerical value of $P(45 \\le X \\le 55)$."
   ]
  },
  {
   "cell_type": "code",
   "execution_count": 75,
   "metadata": {
    "#solution": false,
    "#staff": false,
    "#student": true
   },
   "outputs": [
    {
     "data": {
      "text/plain": [
       "0.728746975926143"
      ]
     },
     "execution_count": 75,
     "metadata": {},
     "output_type": "execute_result"
    }
   ],
   "source": [
    "\n",
    "sum(stats.binom.pmf(np.arange(45, 56), 100, 0.5))"
   ]
  },
  {
   "cell_type": "markdown",
   "metadata": {
    "#solution": false,
    "#staff": false,
    "#student": false
   },
   "source": [
    "Here is the area again, but this time we have superposed the normal curve and colored the area under the curve between 45 and 55. The color is gold, as you can see between the bars and the curve. The purplish shade is due to the overlap between the gold and the blue."
   ]
  },
  {
   "cell_type": "code",
   "execution_count": 76,
   "metadata": {
    "#solution": false,
    "#staff": false,
    "#student": false
   },
   "outputs": [
    {
     "data": {
      "image/png": "[encoded data removed]",
      "text/plain": [
       "<Figure size 432x288 with 1 Axes>"
      ]
     },
     "metadata": {},
     "output_type": "display_data"
    }
   ],
   "source": [
    "Plot(coins100, edges=True)\n",
    "Plot_norm((43.5, 56.5), 50, 5, left_end=45, right_end=55)\n",
    "plt.xlim(44.5, 55.5);"
   ]
  },
  {
   "cell_type": "markdown",
   "metadata": {
    "#solution": false,
    "#staff": false,
    "#student": false
   },
   "source": [
    "Is the colored area under the curve (purple plus gold) a good approximation to $P(45 \\le X \\le 55)$? If not, what is the main problem with it?"
   ]
  },
  {
   "cell_type": "markdown",
   "metadata": {
    "#solution": false,
    "#staff": false,
    "#student": true
   },
   "source": [
    "No, it leaves out the area the both end that is below the graph. The area before 45 and after 55 is left out. "
   ]
  },
  {
   "cell_type": "markdown",
   "metadata": {
    "#solution": false,
    "#staff": false,
    "#student": false
   },
   "source": [
    "Correct the problem, that is, make the *continuity correction*, by completing the cell below. Make sure to only edit `left_end` and `right_end`."
   ]
  },
  {
   "cell_type": "code",
   "execution_count": 77,
   "metadata": {
    "#solution": false,
    "#staff": false,
    "#student": true
   },
   "outputs": [
    {
     "data": {
      "image/png": "[encoded data removed]",
      "text/plain": [
       "<Figure size 432x288 with 1 Axes>"
      ]
     },
     "metadata": {},
     "output_type": "display_data"
    }
   ],
   "source": [
    "\n",
    "Plot(coins100, edges=True)\n",
    "Plot_norm((43.5, 56.5), 50, 5, left_end = 44.5, right_end = 55.5)\n",
    "plt.xlim(44.5, 55.5);"
   ]
  },
  {
   "cell_type": "markdown",
   "metadata": {
    "#solution": false,
    "#staff": false,
    "#student": false
   },
   "source": [
    "Use `stats.norm.cdf` to find the colored area under the normal curve above, and compare with the exact answer you got earlier in this exercise."
   ]
  },
  {
   "cell_type": "code",
   "execution_count": 106,
   "metadata": {
    "#solution": false,
    "#staff": false,
    "#student": true
   },
   "outputs": [
    {
     "data": {
      "text/plain": [
       "0.7286678781072347"
      ]
     },
     "execution_count": 106,
     "metadata": {},
     "output_type": "execute_result"
    }
   ],
   "source": [
    "stats.norm.cdf(55.5, 50, 5) - stats.norm.cdf(44.5, 50, 5)"
   ]
  },
  {
   "cell_type": "markdown",
   "metadata": {
    "#solution": false,
    "#staff": false,
    "#student": false
   },
   "source": [
    "### 5c) Normal Approximation with Continuity Correction ###\n",
    "Now revisit **5a** and **2e**, and use the continuity correction in the normal approximation to the $P$-value. Compare with the exact value."
   ]
  },
  {
   "cell_type": "code",
   "execution_count": 84,
   "metadata": {
    "#solution": false,
    "#staff": false,
    "#student": true
   },
   "outputs": [
    {
     "data": {
      "text/plain": [
       "(0.0389893672505451, 0.03882783882783883)"
      ]
     },
     "execution_count": 84,
     "metadata": {},
     "output_type": "execute_result"
    }
   ],
   "source": [
    "\n",
    "(stats.norm.cdf(prioleau_colts_sum+0.5,\n",
    "               null_expectation,\n",
    "               null_sd), \n",
    " sum(all_samples[1] <= 18) / len(all_samples[1]))"
   ]
  },
  {
   "cell_type": "markdown",
   "metadata": {
    "#solution": false,
    "#staff": false,
    "#student": false
   },
   "source": [
    "Look again at the graph in **4b**. The normal curve won't do a good job at approximating probabilities of intervals around the center, with or without continuity correction. Indeed, you can easily find intervals where using the continuity correction is worse than not using it. \n",
    "\n",
    "We have the exact distribution of the statistic, so we should just use that. The normal approximation is better when the samples are large, which is also when it is intractable to find the exact distribution."
   ]
  },
  {
   "cell_type": "markdown",
   "metadata": {
    "#solution": false,
    "#staff": false,
    "#student": false
   },
   "source": [
    "#newpage\n",
    "\n",
    "## Part 6: Large Sample Analysis ##\n",
    "The beauty of the rank-based method is that it extends easily to large samples. Here is a sample of the ages of 231 men and women, part of a larger data set that included other attributes as well. The code for gender was 0 for female and 1 for male; no other categories were recorded. The ages include fractional parts of a year, which is why the decimals aren't pretty."
   ]
  },
  {
   "cell_type": "code",
   "execution_count": 85,
   "metadata": {
    "#solution": false,
    "#staff": false,
    "#student": false
   },
   "outputs": [],
   "source": [
    "ages = Table.read_table('Lab06_data/ages.csv')"
   ]
  },
  {
   "cell_type": "code",
   "execution_count": 86,
   "metadata": {
    "#solution": false,
    "#staff": false,
    "#student": false
   },
   "outputs": [
    {
     "data": {
      "text/html": [
       "<table border=\"1\" class=\"dataframe\">\n",
       "    <thead>\n",
       "        <tr>\n",
       "            <th>Gender</th> <th>Age</th>\n",
       "        </tr>\n",
       "    </thead>\n",
       "    <tbody>\n",
       "        <tr>\n",
       "            <td>0     </td> <td>41.7623</td>\n",
       "        </tr>\n",
       "        <tr>\n",
       "            <td>0     </td> <td>29.6858</td>\n",
       "        </tr>\n",
       "        <tr>\n",
       "            <td>0     </td> <td>34.5601</td>\n",
       "        </tr>\n",
       "        <tr>\n",
       "            <td>0     </td> <td>45.4809</td>\n",
       "        </tr>\n",
       "        <tr>\n",
       "            <td>0     </td> <td>35.5164</td>\n",
       "        </tr>\n",
       "        <tr>\n",
       "            <td>0     </td> <td>45.2568</td>\n",
       "        </tr>\n",
       "        <tr>\n",
       "            <td>0     </td> <td>49.4317</td>\n",
       "        </tr>\n",
       "        <tr>\n",
       "            <td>0     </td> <td>42.9481</td>\n",
       "        </tr>\n",
       "        <tr>\n",
       "            <td>0     </td> <td>46.4235</td>\n",
       "        </tr>\n",
       "        <tr>\n",
       "            <td>0     </td> <td>45.6257</td>\n",
       "        </tr>\n",
       "    </tbody>\n",
       "</table>\n",
       "<p>... (221 rows omitted)</p>"
      ],
      "text/plain": [
       "Gender | Age\n",
       "0      | 41.7623\n",
       "0      | 29.6858\n",
       "0      | 34.5601\n",
       "0      | 45.4809\n",
       "0      | 35.5164\n",
       "0      | 45.2568\n",
       "0      | 49.4317\n",
       "0      | 42.9481\n",
       "0      | 46.4235\n",
       "0      | 45.6257\n",
       "... (221 rows omitted)"
      ]
     },
     "execution_count": 86,
     "metadata": {},
     "output_type": "execute_result"
    }
   ],
   "source": [
    "ages"
   ]
  },
  {
   "cell_type": "markdown",
   "metadata": {
    "#solution": false,
    "#staff": false,
    "#student": false
   },
   "source": [
    "Use `group` to count the number of people of each gender."
   ]
  },
  {
   "cell_type": "code",
   "execution_count": 87,
   "metadata": {
    "#solution": false,
    "#staff": false,
    "#student": true
   },
   "outputs": [
    {
     "data": {
      "text/html": [
       "<table border=\"1\" class=\"dataframe\">\n",
       "    <thead>\n",
       "        <tr>\n",
       "            <th>Gender</th> <th>count</th>\n",
       "        </tr>\n",
       "    </thead>\n",
       "    <tbody>\n",
       "        <tr>\n",
       "            <td>0     </td> <td>177  </td>\n",
       "        </tr>\n",
       "        <tr>\n",
       "            <td>1     </td> <td>54   </td>\n",
       "        </tr>\n",
       "    </tbody>\n",
       "</table>"
      ],
      "text/plain": [
       "Gender | count\n",
       "0      | 177\n",
       "1      | 54"
      ]
     },
     "execution_count": 87,
     "metadata": {},
     "output_type": "execute_result"
    }
   ],
   "source": [
    "\n",
    "ages.group(0)"
   ]
  },
  {
   "cell_type": "markdown",
   "metadata": {
    "#solution": false,
    "#staff": false,
    "#student": false
   },
   "source": [
    "Using the `group` option with `hist` results in overlaid histograms of the two groups. It looks as though the men are a little younger than the women, on the whole, but it's hard to say. "
   ]
  },
  {
   "cell_type": "code",
   "execution_count": 88,
   "metadata": {
    "#solution": false,
    "#staff": false,
    "#student": false
   },
   "outputs": [
    {
     "data": {
      "image/png": "[encoded data removed]",
      "text/plain": [
       "<Figure size 432x288 with 1 Axes>"
      ]
     },
     "metadata": {},
     "output_type": "display_data"
    }
   ],
   "source": [
    "ages.hist('Age', group='Gender')"
   ]
  },
  {
   "cell_type": "markdown",
   "metadata": {
    "#solution": false,
    "#staff": false,
    "#student": false
   },
   "source": [
    "Use the Wilcoxon Rank Sum test to see whether the ages of the men look like random draws from the combined sample, or whether the men are younger.\n",
    "\n",
    "Start by ranking all the ages, and remember `method='ordinal'`. In the next line, create a table consisting of two columns:\n",
    "\n",
    "- the `Gender` column of `ages` \n",
    "- a column called `Age Rank` containing the ranks of the ages"
   ]
  },
  {
   "cell_type": "code",
   "execution_count": 97,
   "metadata": {
    "#solution": false,
    "#staff": false,
    "#student": true
   },
   "outputs": [
    {
     "data": {
      "text/html": [
       "<table border=\"1\" class=\"dataframe\">\n",
       "    <thead>\n",
       "        <tr>\n",
       "            <th>Gender</th> <th>Age Rank</th>\n",
       "        </tr>\n",
       "    </thead>\n",
       "    <tbody>\n",
       "        <tr>\n",
       "            <td>0     </td> <td>130     </td>\n",
       "        </tr>\n",
       "        <tr>\n",
       "            <td>0     </td> <td>49      </td>\n",
       "        </tr>\n",
       "        <tr>\n",
       "            <td>0     </td> <td>80      </td>\n",
       "        </tr>\n",
       "        <tr>\n",
       "            <td>0     </td> <td>152     </td>\n",
       "        </tr>\n",
       "        <tr>\n",
       "            <td>0     </td> <td>90      </td>\n",
       "        </tr>\n",
       "        <tr>\n",
       "            <td>0     </td> <td>151     </td>\n",
       "        </tr>\n",
       "        <tr>\n",
       "            <td>0     </td> <td>177     </td>\n",
       "        </tr>\n",
       "        <tr>\n",
       "            <td>0     </td> <td>136     </td>\n",
       "        </tr>\n",
       "        <tr>\n",
       "            <td>0     </td> <td>158     </td>\n",
       "        </tr>\n",
       "        <tr>\n",
       "            <td>0     </td> <td>154     </td>\n",
       "        </tr>\n",
       "    </tbody>\n",
       "</table>\n",
       "<p>... (221 rows omitted)</p>"
      ],
      "text/plain": [
       "Gender | Age Rank\n",
       "0      | 130\n",
       "0      | 49\n",
       "0      | 80\n",
       "0      | 152\n",
       "0      | 90\n",
       "0      | 151\n",
       "0      | 177\n",
       "0      | 136\n",
       "0      | 158\n",
       "0      | 154\n",
       "... (221 rows omitted)"
      ]
     },
     "execution_count": 97,
     "metadata": {},
     "output_type": "execute_result"
    }
   ],
   "source": [
    "\n",
    "age_ranks = stats.rankdata(ages[1], method = 'ordinal')\n",
    "ranked = ages.with_column('Age Rank', age_ranks).select(0,2)\n",
    "ranked"
   ]
  },
  {
   "cell_type": "markdown",
   "metadata": {
    "#solution": false,
    "#staff": false,
    "#student": false
   },
   "source": [
    "Find the rank sum of the men. It's fine to display it as part of a table."
   ]
  },
  {
   "cell_type": "code",
   "execution_count": 102,
   "metadata": {
    "#solution": false,
    "#staff": false,
    "#student": true
   },
   "outputs": [
    {
     "data": {
      "text/html": [
       "<table border=\"1\" class=\"dataframe\">\n",
       "    <thead>\n",
       "        <tr>\n",
       "            <th>Gender</th> <th>Age Rank sum</th>\n",
       "        </tr>\n",
       "    </thead>\n",
       "    <tbody>\n",
       "        <tr>\n",
       "            <td>0     </td> <td>20815       </td>\n",
       "        </tr>\n",
       "        <tr>\n",
       "            <td>1     </td> <td>5981        </td>\n",
       "        </tr>\n",
       "    </tbody>\n",
       "</table>"
      ],
      "text/plain": [
       "Gender | Age Rank sum\n",
       "0      | 20815\n",
       "1      | 5981"
      ]
     },
     "execution_count": 102,
     "metadata": {},
     "output_type": "execute_result"
    }
   ],
   "source": [
    "ranked.group(0, sum)"
   ]
  },
  {
   "cell_type": "markdown",
   "metadata": {
    "#solution": false,
    "#staff": false,
    "#student": false
   },
   "source": [
    "Let $W$ be the rank sum statistic. Under the null hypothesis of random selection, find $E(W)$ and $SD(W)$ by using the functions you defined in Part 4."
   ]
  },
  {
   "cell_type": "code",
   "execution_count": 103,
   "metadata": {
    "#solution": false,
    "#staff": false,
    "#student": true
   },
   "outputs": [
    {
     "data": {
      "text/plain": [
       "(6264.0, 429.8697477143513)"
      ]
     },
     "execution_count": 103,
     "metadata": {},
     "output_type": "execute_result"
    }
   ],
   "source": [
    "\n",
    "exp_W = ev_ranksum(54, 231)\n",
    "sd_W = sd_ranksum(54, 231)\n",
    "\n",
    "exp_W, sd_W"
   ]
  },
  {
   "cell_type": "markdown",
   "metadata": {
    "#solution": false,
    "#staff": false,
    "#student": false
   },
   "source": [
    "Based on these numbers and the observed value of the statistic, can you decide whether you think the ranks of the men look like a simple random sample of all 231 ranks?"
   ]
  },
  {
   "cell_type": "markdown",
   "metadata": {
    "#solution": false,
    "#staff": false,
    "#student": true
   },
   "source": [
    "Our observed sum of the male ranks is within one standard deviation from the mean, hence the probabilty of getting the observed sum is greater than 0.05 which is our typical p-value. So I would decide that the ranks of men look like a simple random sample of all 231 ranks. "
   ]
  },
  {
   "cell_type": "markdown",
   "metadata": {
    "#solution": false,
    "#staff": false,
    "#student": false
   },
   "source": [
    "Confirm your conclusion by finding a normal approximation to the $P$-value. Continuity correction won't make much difference."
   ]
  },
  {
   "cell_type": "code",
   "execution_count": 108,
   "metadata": {
    "#solution": false,
    "#staff": false,
    "#student": true
   },
   "outputs": [
    {
     "data": {
      "text/plain": [
       "0.2551601762650195"
      ]
     },
     "execution_count": 108,
     "metadata": {},
     "output_type": "execute_result"
    }
   ],
   "source": [
    "stats.norm.cdf(5981, exp_W, sd_W)"
   ]
  },
  {
   "cell_type": "markdown",
   "metadata": {
    "#solution": false,
    "#staff": false,
    "#student": false
   },
   "source": [
    "## Conclusion ##\n",
    "What you have learned:\n",
    "- A rank-based method for inference\n",
    "- How to enumerate all possible simple random samples to get the sampling distribution of a statistic\n",
    "- Applications of expectation and SD formulas derived in class, for comparing two samples\n",
    "- Mechanics of the normal approximation to discrete distributions"
   ]
  },
  {
   "cell_type": "markdown",
   "metadata": {
    "#solution": false,
    "#staff": false,
    "#student": false
   },
   "source": [
    "## Submission Instructions ##\n",
    "\n",
    "Many assignments throughout the course will have a written portion and a code portion. Please follow the directions below to properly submit both portions.\n",
    "\n",
    "### Written Portion ###\n",
    "*  Scan all the pages into a PDF. You can use any scanner or a phone using applications such as CamScanner. Please **DO NOT** simply take pictures using your phone. \n",
    "* Please start a new page for each question. If you have already written multiple questions on the same page, you can crop the image in CamScanner or fold your page over (the old-fashioned way). This helps expedite grading.\n",
    "* It is your responsibility to check that all the work on all the scanned pages is legible.\n",
    "\n",
    "### Code Portion ###\n",
    "* Save your notebook using File > Save and Checkpoint.\n",
    "* Run the cell below to generate a PDF file.\n",
    "* Download the PDF file and confirm that none of your work is missing or cut off.  If the link leads you to a blank page, use [Command]+[S] or [Ctrl]+[S] to download your work.   \n",
    "\n",
    "### Submitting ###\n",
    "* Combine the PDFs from the written and code portions into one PDF.  [Here](https://smallpdf.com/merge-pdf) is a useful tool for doing so.  \n",
    "* Submit the assignment to Lab6 on Gradescope. \n",
    "* **Make sure to assign each page of your pdf to the correct question.**\n",
    "\n",
    "\n",
    "\n",
    "### **We will not grade assignments which do not have pages selected for each question or were submitted after the deadline.** "
   ]
  },
  {
   "cell_type": "code",
   "execution_count": 109,
   "metadata": {
    "#solution": false,
    "#staff": false,
    "#student": false
   },
   "outputs": [
    {
     "name": "stdout",
     "output_type": "stream",
     "text": [
      "Processing Lab_06.ipynb\n",
      "Generated notebook and autograded\n",
      "Attempting to compile LaTeX\n",
      "Finished generating PDF\n"
     ]
    },
    {
     "data": {
      "text/html": [
       "<h1><a href=\"Lab_06_submission.pdf\" download> Download this and submit to gradescope!</a></h1>"
      ],
      "text/plain": [
       "<IPython.core.display.HTML object>"
      ]
     },
     "metadata": {},
     "output_type": "display_data"
    }
   ],
   "source": [
    "import gsExport\n",
    "gsExport.generateSubmission(\"Lab_06.ipynb\")"
   ]
  },
  {
   "cell_type": "code",
   "execution_count": null,
   "metadata": {},
   "outputs": [],
   "source": []
  }
 ],
 "metadata": {
  "anaconda-cloud": {},
  "checksums": [
   "36d6125272e38841d377985b31e7a672",
   "50a07c14da72c6c483f10d47657ed98d",
   "4e6ac3341fdb4d23b63daaa0446b4e03",
   "20f029ea2325e1ec1ebc0b17b381276e",
   "518c84f8a1f148dbd174743a2ce02a06",
   "83c98b8ef6c91b4b59dcc386d0218537",
   "d5328f3113daf33ffd299119f32cb124",
   "6295b23dbaf751cb29ea9b92e1279348",
   "ceba9b895d874739554c04e75ac0f158",
   "b632a396eaad335105e52d833a50dd06",
   "c0383a53f086be33a25cf05004424e28",
   "47e82ade0793d076800618c1b0fac378",
   "778c3347cc29fcaa51e5b6c9debcc26a",
   "ba9abad2f9276f1a09777cbe3161e0b5",
   "d9c521f97f84c0a1adce153a07fb7e9f",
   "59adc2539c59f06dd3b31ac388fdb197",
   "91fd0556b2b58c1591a20c1c4454f949",
   "c20e2f4c4e155c0910908f0501f97331",
   "06e6273d635548cb1acb14f0cb877830",
   "7580e157277642310de11f21b3f4a2aa",
   "b32b48c0ebcbcc4b7a9b62e87ca7dd70",
   "59b1297ff44ebf1a000a547aec1110ab",
   "ef6b41e3f5eb75103f8a8082e926b0b6",
   "3a76d7cce4e9ecdb4fe70737e7879960",
   "eaf3202cab97c787d5e74402770b56f4",
   "4fab593303c486a23410bff5b8c8eeff",
   "bc0a2735f52fe3ff5d96d5574ab815d7",
   "3a76d7cce4e9ecdb4fe70737e7879960",
   "fe344393784a08713ce88aa02baafcaf",
   "c8217143b8008b7b193b616e5425f8a6",
   "30e10b65c029f0ef85e0fad01ed13e9c",
   "3a76d7cce4e9ecdb4fe70737e7879960",
   "400d1f48c28c18836b9f0e2a826c5a5f",
   "3a76d7cce4e9ecdb4fe70737e7879960",
   "fa18736546b3251060c88573c05ddc86",
   "9b6f9970f1c3fa2feebbaad5f7c04358",
   "b06dcfed229ebacf5c2f63cf69eaa7c1",
   "923b836f44407a1daa6a3a356e2cd13c",
   "8ec599a5a74924b9215af74742625e49",
   "88b436150facb84a21b4137cf028c4cc",
   "da4dfbfc1cb97bc4f16f819c735fd4ff",
   "e3b216a45ea521dc2d2e12074fbfaecb",
   "1c7cd2431e1a95d1778371daa800f3df",
   "99747f3be2369a794b8d5b6f4622d7db",
   "ac5d63fd97e55780b39d53ae44b31977",
   "e4699c22cb5ba6e3bea407fb0e5369bf",
   "7a8a66650c8c03b13f81c7a33c72f13c",
   "5a6fb3fd47e24e04faa1935129400d22",
   "84e3f129d2facf258856470f2df8680d",
   "2f43b42fd833d1e77420a8dae7419000",
   "101908f928367c553d43260893bc385e",
   "3a76d7cce4e9ecdb4fe70737e7879960",
   "68e17f22a6b85756a6a3fc14059fa660",
   "7bb515af8465ea4134ee8634d3b7fc99",
   "64d0d78fb3d67bc0b84e2e147215e08c",
   "17145de266a5be501cd5a69080aae537",
   "2f0c718408414a5a3d676b8f834b192d",
   "091204ef93a98c9dc350e9e7c5d9a889",
   "7368a874359fc4bc3dce15e2cec52bb1",
   "158551049de3937a05ab48a3042467bc",
   "b72077b2742b15ebdce9806413a84391",
   "42e5733ac5e255c212442e34ebaee9d9",
   "cff3fc401edc86f60cc9901efbbbd1ef",
   "2f43b42fd833d1e77420a8dae7419000",
   "2dcbf4a841420f2b5268a5810834f2a1",
   "0444f14c21182ad8bc5e11fff7ca155b",
   "5c31207bc52b57ec1385fb8de2f904a2",
   "35676a73987dbfdd360049d60008899b",
   "ba53744a20f40a756dff2f5478a60177",
   "f863bd360de62a1a4c7b1e1befd77cb6",
   "adf1106410441d2233370f59f9c5883c",
   "daf2c7c732a5e83b6d256b0c809ad7e2",
   "d71a4d62086c93387f6a9279ade17b2a",
   "c845e51f2354c3bff150f224f07740b3",
   "cf3db7ad30da7cb65818d5a7ae6b3ab8",
   "69ccae2a33990d5efc956142b3a90557",
   "9fe17d864503edbfb0c244b84696e824",
   "059af1c41f3f21da94f58f2e7c86a9da",
   "47d071f12ec5866f36d1a63a3f726b92",
   "c9b5c9a6ec3d6ba4207ef59b6dfc4f65",
   "db1b520be6bbf970e98551d9773a3346",
   "6914070cae66cb049f9fe4fab81d2a6d",
   "a17faffcf8067dee60735153de7293ad",
   "0c7246824d519c52de1043447f24f897",
   "424f7f7df843772d36b0cdb610054d87",
   "0463166824014f6fbb4bc07c3736d0ac",
   "998dd5ce2980adf517ca993e42c3d965",
   "75fd00abac5701d1d5a6a1adf6c89013",
   "3a76d7cce4e9ecdb4fe70737e7879960",
   "c3cd1927f4be9d5787994c7545159e70",
   "cf11ea263021d7007f178f07d657e149",
   "54e5c75bf21e767282ceb82c5402761d",
   "2f43b42fd833d1e77420a8dae7419000",
   "17f64fbb22e6edea8681381d2d5a2440",
   "2f43b42fd833d1e77420a8dae7419000",
   "396345d0af525f363c500f4d50e6850b",
   "02d60c172636065b68b1f2d85b3e0859",
   "af3fabed0bf47589645c668c86aea401",
   "2d84e4500b62a08c55f18766a403ba99",
   "887c3cbf09f7bbbf6d9c26b76442d703",
   "6fcde81407d4811fee22d730bc35e86a",
   "8f01eb8cf292e0659d042c76030a3d47",
   "6a73da20019dadb920595401ca012fe4",
   "0104a0e7a038bb7b09f9f3fa40d80c05",
   "b66aa527b819540580b51fc93566973e",
   "d6b7e5a9f547fe2c52d5bed65efe7800",
   "2f43b42fd833d1e77420a8dae7419000",
   "a1ddad1822fbbc3fd6ff7771b39bfea7",
   "bddcf133abbe860c41ffff80111c2e06",
   "20493a4f010c9acbd7322e4dcefa92f6",
   "3e4e798bebee02accabb5a87e5bbf985",
   "6d0277dd10936b1a6ff3be97f7074777",
   "2f43b42fd833d1e77420a8dae7419000",
   "f9bd54f7f5343e073421186aa18770ce",
   "a00c994589135259bb775c2cd500e525",
   "afbf1e724c2e69e5031f7566f373598c"
  ],
  "kernelspec": {
   "display_name": "Python 3",
   "language": "python",
   "name": "python3"
  },
  "language_info": {
   "codemirror_mode": {
    "name": "ipython",
    "version": 3
   },
   "file_extension": ".py",
   "mimetype": "text/x-python",
   "name": "python",
   "nbconvert_exporter": "python",
   "pygments_lexer": "ipython3",
   "version": "3.6.7"
  },
  "number_of_pagebreaks": 6
 },
 "nbformat": 4,
 "nbformat_minor": 1
}
